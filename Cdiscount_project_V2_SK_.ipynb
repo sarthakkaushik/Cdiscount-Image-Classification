{
  "nbformat": 4,
  "nbformat_minor": 0,
  "metadata": {
    "colab": {
      "name": "Cdiscount_project_V1_SK .ipynb",
      "provenance": [],
      "machine_shape": "hm",
      "include_colab_link": true
    },
    "kernelspec": {
      "name": "python3",
      "display_name": "Python 3"
    },
    "language_info": {
      "name": "python"
    },
    "accelerator": "GPU"
  },
  "cells": [
    {
      "cell_type": "markdown",
      "metadata": {
        "id": "view-in-github",
        "colab_type": "text"
      },
      "source": [
        "<a href=\"https://colab.research.google.com/github/sarthakkaushik/Cdiscount-Image-Classification/blob/main/Cdiscount_project_V2_SK_.ipynb\" target=\"_parent\"><img src=\"https://colab.research.google.com/assets/colab-badge.svg\" alt=\"Open In Colab\"/></a>"
      ]
    },
    {
      "cell_type": "markdown",
      "source": [
        "#Initial Setup"
      ],
      "metadata": {
        "id": "PMmnAdZXHWrl"
      }
    },
    {
      "cell_type": "code",
      "metadata": {
        "colab": {
          "base_uri": "https://localhost:8080/"
        },
        "id": "cUgxjaMV3_i2",
        "outputId": "ae6e06ee-a036-41ea-9dfc-8b8e24675455"
      },
      "source": [
        "# Code to mount google drive in case you are loading the data from your google drive\n",
        "from google.colab import drive\n",
        "drive.mount('/gdrive')\n",
        "%cd /gdrive"
      ],
      "execution_count": 1,
      "outputs": [
        {
          "output_type": "stream",
          "name": "stdout",
          "text": [
            "Mounted at /gdrive\n",
            "/gdrive\n"
          ]
        }
      ]
    },
    {
      "cell_type": "code",
      "source": [
        "# Are we using a GPU? (if not & you're using Google Colab, go to Runtime -> Change Runtime Type -> Harware Accelerator: GPU )\n",
        "!nvidia-smi"
      ],
      "metadata": {
        "colab": {
          "base_uri": "https://localhost:8080/"
        },
        "id": "VnpqLRJlorX2",
        "outputId": "5d1317bd-69fe-43af-e482-2c3760500edd"
      },
      "execution_count": 2,
      "outputs": [
        {
          "output_type": "stream",
          "name": "stdout",
          "text": [
            "Wed Jan 12 00:46:22 2022       \n",
            "+-----------------------------------------------------------------------------+\n",
            "| NVIDIA-SMI 495.46       Driver Version: 460.32.03    CUDA Version: 11.2     |\n",
            "|-------------------------------+----------------------+----------------------+\n",
            "| GPU  Name        Persistence-M| Bus-Id        Disp.A | Volatile Uncorr. ECC |\n",
            "| Fan  Temp  Perf  Pwr:Usage/Cap|         Memory-Usage | GPU-Util  Compute M. |\n",
            "|                               |                      |               MIG M. |\n",
            "|===============================+======================+======================|\n",
            "|   0  Tesla P100-PCIE...  Off  | 00000000:00:04.0 Off |                    0 |\n",
            "| N/A   33C    P0    27W / 250W |      0MiB / 16280MiB |      0%      Default |\n",
            "|                               |                      |                  N/A |\n",
            "+-------------------------------+----------------------+----------------------+\n",
            "                                                                               \n",
            "+-----------------------------------------------------------------------------+\n",
            "| Processes:                                                                  |\n",
            "|  GPU   GI   CI        PID   Type   Process name                  GPU Memory |\n",
            "|        ID   ID                                                   Usage      |\n",
            "|=============================================================================|\n",
            "|  No running processes found                                                 |\n",
            "+-----------------------------------------------------------------------------+\n"
          ]
        }
      ]
    },
    {
      "cell_type": "code",
      "metadata": {
        "id": "7mMwclxn4MgO"
      },
      "source": [
        "data_path = '/gdrive/MyDrive/UOH Assignment Dataset/cdiscount'"
      ],
      "execution_count": 3,
      "outputs": []
    },
    {
      "cell_type": "code",
      "metadata": {
        "colab": {
          "base_uri": "https://localhost:8080/"
        },
        "id": "zCeeEYNw4Pzs",
        "outputId": "ce252916-41ae-4ccf-9266-2d865321922f"
      },
      "source": [
        "import os \n",
        "data_path = '/gdrive/MyDrive/UOH Assignment Dataset/cdiscount'\n",
        "os.chdir(data_path)\n",
        "print(os.getcwd())"
      ],
      "execution_count": 4,
      "outputs": [
        {
          "output_type": "stream",
          "name": "stdout",
          "text": [
            "/gdrive/MyDrive/UOH Assignment Dataset/cdiscount\n"
          ]
        }
      ]
    },
    {
      "cell_type": "code",
      "metadata": {
        "colab": {
          "base_uri": "https://localhost:8080/"
        },
        "id": "W-G0-rP1USWi",
        "outputId": "f80230cd-0354-48df-c205-21e79f33b67d"
      },
      "source": [
        "import os, sys, math, io\n",
        "import numpy as np\n",
        "import pandas as pd\n",
        "import multiprocessing as mp\n",
        "import bson\n",
        "import struct\n",
        "\n",
        "%matplotlib inline\n",
        "import matplotlib.pyplot as plt\n",
        "\n",
        "import keras\n",
        "from keras.preprocessing.image import load_img, img_to_array\n",
        "import tensorflow as tf\n",
        "\n",
        "from collections import defaultdict\n",
        "from tqdm import *\n",
        "\n",
        "# Input data files are available in the \"../input/\" directory.\n",
        "# For example, running this (by clicking run or pressing Shift+Enter) will list the files in the input directory\n",
        "\n",
        "from subprocess import check_output\n",
        "print(check_output([\"ls\", \"../cdiscount\"]).decode(\"utf8\"))\n",
        "# Any results you write to the current directory are saved as output."
      ],
      "execution_count": 5,
      "outputs": [
        {
          "output_type": "stream",
          "name": "stdout",
          "text": [
            "categories.csv\n",
            "category_names.csv\n",
            "CheckPoints\n",
            "file.h5\n",
            "helper.py\n",
            "helper.py.1\n",
            "helper.py.2\n",
            "helper.py.3\n",
            "__pycache__\n",
            "sample_submission.csv\n",
            "Tensorboard\n",
            "test.bson\n",
            "train.bson\n",
            "train_example.bson\n",
            "train_images.csv\n",
            "train_offsets.csv\n",
            "train_TFrecords.tfrecords\n",
            "val_images.csv\n",
            "\n"
          ]
        }
      ]
    },
    {
      "cell_type": "code",
      "metadata": {
        "id": "beOjLrdFU7hw"
      },
      "source": [
        "data_dir = \"../cdiscount/\"\n",
        "\n",
        "train_bson_path = os.path.join(data_dir, \"train.bson\")\n",
        "num_train_products = 7069896\n",
        "\n",
        "# train_bson_path = os.path.join(data_dir, \"train_example.bson\")\n",
        "# num_train_products = 82\n",
        "\n",
        "test_bson_path = os.path.join(data_dir, \"test.bson\")\n",
        "num_test_products = 1768182"
      ],
      "execution_count": 6,
      "outputs": []
    },
    {
      "cell_type": "markdown",
      "metadata": {
        "id": "6acWRPNzVOhI"
      },
      "source": [
        "# Create lookup tables"
      ]
    },
    {
      "cell_type": "code",
      "metadata": {
        "colab": {
          "base_uri": "https://localhost:8080/",
          "height": 238
        },
        "id": "m06dgAMhVSOl",
        "outputId": "da32b9b0-7fc1-4351-95d7-fbe4b8547e44"
      },
      "source": [
        "#The generator uses several lookup tables that describe the layout of the BSON file, which products and images are part of the training/validation sets, and so on.\n",
        "\n",
        "#You only need to generate these tables once, as they get saved to CSV files.\n",
        "\n",
        "#Lookup table for categories\n",
        "categories_path = os.path.join(data_dir, \"category_names.csv\")\n",
        "categories_df = pd.read_csv(categories_path, index_col=\"category_id\")\n",
        "\n",
        "# Maps the category_id to an integer index. This is what we'll use to\n",
        "# one-hot encode the labels.\n",
        "categories_df[\"category_idx\"] = pd.Series(range(len(categories_df)), index=categories_df.index)\n",
        "\n",
        "# categories_df.to_csv(\"categories.csv\")\n",
        "categories_df.head()"
      ],
      "execution_count": 7,
      "outputs": [
        {
          "output_type": "execute_result",
          "data": {
            "text/html": [
              "\n",
              "  <div id=\"df-8567b708-9f87-44b8-adea-21a0714f5fc5\">\n",
              "    <div class=\"colab-df-container\">\n",
              "      <div>\n",
              "<style scoped>\n",
              "    .dataframe tbody tr th:only-of-type {\n",
              "        vertical-align: middle;\n",
              "    }\n",
              "\n",
              "    .dataframe tbody tr th {\n",
              "        vertical-align: top;\n",
              "    }\n",
              "\n",
              "    .dataframe thead th {\n",
              "        text-align: right;\n",
              "    }\n",
              "</style>\n",
              "<table border=\"1\" class=\"dataframe\">\n",
              "  <thead>\n",
              "    <tr style=\"text-align: right;\">\n",
              "      <th></th>\n",
              "      <th>category_level1</th>\n",
              "      <th>category_level2</th>\n",
              "      <th>category_level3</th>\n",
              "      <th>category_idx</th>\n",
              "    </tr>\n",
              "    <tr>\n",
              "      <th>category_id</th>\n",
              "      <th></th>\n",
              "      <th></th>\n",
              "      <th></th>\n",
              "      <th></th>\n",
              "    </tr>\n",
              "  </thead>\n",
              "  <tbody>\n",
              "    <tr>\n",
              "      <th>1000021794</th>\n",
              "      <td>ABONNEMENT / SERVICES</td>\n",
              "      <td>CARTE PREPAYEE</td>\n",
              "      <td>CARTE PREPAYEE MULTIMEDIA</td>\n",
              "      <td>0</td>\n",
              "    </tr>\n",
              "    <tr>\n",
              "      <th>1000012764</th>\n",
              "      <td>AMENAGEMENT URBAIN - VOIRIE</td>\n",
              "      <td>AMENAGEMENT URBAIN</td>\n",
              "      <td>ABRI FUMEUR</td>\n",
              "      <td>1</td>\n",
              "    </tr>\n",
              "    <tr>\n",
              "      <th>1000012776</th>\n",
              "      <td>AMENAGEMENT URBAIN - VOIRIE</td>\n",
              "      <td>AMENAGEMENT URBAIN</td>\n",
              "      <td>ABRI VELO - ABRI MOTO</td>\n",
              "      <td>2</td>\n",
              "    </tr>\n",
              "    <tr>\n",
              "      <th>1000012768</th>\n",
              "      <td>AMENAGEMENT URBAIN - VOIRIE</td>\n",
              "      <td>AMENAGEMENT URBAIN</td>\n",
              "      <td>FONTAINE A EAU</td>\n",
              "      <td>3</td>\n",
              "    </tr>\n",
              "    <tr>\n",
              "      <th>1000012755</th>\n",
              "      <td>AMENAGEMENT URBAIN - VOIRIE</td>\n",
              "      <td>SIGNALETIQUE</td>\n",
              "      <td>PANNEAU D'INFORMATION EXTERIEUR</td>\n",
              "      <td>4</td>\n",
              "    </tr>\n",
              "  </tbody>\n",
              "</table>\n",
              "</div>\n",
              "      <button class=\"colab-df-convert\" onclick=\"convertToInteractive('df-8567b708-9f87-44b8-adea-21a0714f5fc5')\"\n",
              "              title=\"Convert this dataframe to an interactive table.\"\n",
              "              style=\"display:none;\">\n",
              "        \n",
              "  <svg xmlns=\"http://www.w3.org/2000/svg\" height=\"24px\"viewBox=\"0 0 24 24\"\n",
              "       width=\"24px\">\n",
              "    <path d=\"M0 0h24v24H0V0z\" fill=\"none\"/>\n",
              "    <path d=\"M18.56 5.44l.94 2.06.94-2.06 2.06-.94-2.06-.94-.94-2.06-.94 2.06-2.06.94zm-11 1L8.5 8.5l.94-2.06 2.06-.94-2.06-.94L8.5 2.5l-.94 2.06-2.06.94zm10 10l.94 2.06.94-2.06 2.06-.94-2.06-.94-.94-2.06-.94 2.06-2.06.94z\"/><path d=\"M17.41 7.96l-1.37-1.37c-.4-.4-.92-.59-1.43-.59-.52 0-1.04.2-1.43.59L10.3 9.45l-7.72 7.72c-.78.78-.78 2.05 0 2.83L4 21.41c.39.39.9.59 1.41.59.51 0 1.02-.2 1.41-.59l7.78-7.78 2.81-2.81c.8-.78.8-2.07 0-2.86zM5.41 20L4 18.59l7.72-7.72 1.47 1.35L5.41 20z\"/>\n",
              "  </svg>\n",
              "      </button>\n",
              "      \n",
              "  <style>\n",
              "    .colab-df-container {\n",
              "      display:flex;\n",
              "      flex-wrap:wrap;\n",
              "      gap: 12px;\n",
              "    }\n",
              "\n",
              "    .colab-df-convert {\n",
              "      background-color: #E8F0FE;\n",
              "      border: none;\n",
              "      border-radius: 50%;\n",
              "      cursor: pointer;\n",
              "      display: none;\n",
              "      fill: #1967D2;\n",
              "      height: 32px;\n",
              "      padding: 0 0 0 0;\n",
              "      width: 32px;\n",
              "    }\n",
              "\n",
              "    .colab-df-convert:hover {\n",
              "      background-color: #E2EBFA;\n",
              "      box-shadow: 0px 1px 2px rgba(60, 64, 67, 0.3), 0px 1px 3px 1px rgba(60, 64, 67, 0.15);\n",
              "      fill: #174EA6;\n",
              "    }\n",
              "\n",
              "    [theme=dark] .colab-df-convert {\n",
              "      background-color: #3B4455;\n",
              "      fill: #D2E3FC;\n",
              "    }\n",
              "\n",
              "    [theme=dark] .colab-df-convert:hover {\n",
              "      background-color: #434B5C;\n",
              "      box-shadow: 0px 1px 3px 1px rgba(0, 0, 0, 0.15);\n",
              "      filter: drop-shadow(0px 1px 2px rgba(0, 0, 0, 0.3));\n",
              "      fill: #FFFFFF;\n",
              "    }\n",
              "  </style>\n",
              "\n",
              "      <script>\n",
              "        const buttonEl =\n",
              "          document.querySelector('#df-8567b708-9f87-44b8-adea-21a0714f5fc5 button.colab-df-convert');\n",
              "        buttonEl.style.display =\n",
              "          google.colab.kernel.accessAllowed ? 'block' : 'none';\n",
              "\n",
              "        async function convertToInteractive(key) {\n",
              "          const element = document.querySelector('#df-8567b708-9f87-44b8-adea-21a0714f5fc5');\n",
              "          const dataTable =\n",
              "            await google.colab.kernel.invokeFunction('convertToInteractive',\n",
              "                                                     [key], {});\n",
              "          if (!dataTable) return;\n",
              "\n",
              "          const docLinkHtml = 'Like what you see? Visit the ' +\n",
              "            '<a target=\"_blank\" href=https://colab.research.google.com/notebooks/data_table.ipynb>data table notebook</a>'\n",
              "            + ' to learn more about interactive tables.';\n",
              "          element.innerHTML = '';\n",
              "          dataTable['output_type'] = 'display_data';\n",
              "          await google.colab.output.renderOutput(dataTable, element);\n",
              "          const docLink = document.createElement('div');\n",
              "          docLink.innerHTML = docLinkHtml;\n",
              "          element.appendChild(docLink);\n",
              "        }\n",
              "      </script>\n",
              "    </div>\n",
              "  </div>\n",
              "  "
            ],
            "text/plain": [
              "                         category_level1  ... category_idx\n",
              "category_id                               ...             \n",
              "1000021794         ABONNEMENT / SERVICES  ...            0\n",
              "1000012764   AMENAGEMENT URBAIN - VOIRIE  ...            1\n",
              "1000012776   AMENAGEMENT URBAIN - VOIRIE  ...            2\n",
              "1000012768   AMENAGEMENT URBAIN - VOIRIE  ...            3\n",
              "1000012755   AMENAGEMENT URBAIN - VOIRIE  ...            4\n",
              "\n",
              "[5 rows x 4 columns]"
            ]
          },
          "metadata": {},
          "execution_count": 7
        }
      ]
    },
    {
      "cell_type": "code",
      "metadata": {
        "id": "UwiPdlqsVwcK"
      },
      "source": [
        "#Create dictionaries for quick lookup of category_id to category_idx mapping.\n",
        "def make_category_tables():\n",
        "    cat2idx = {}\n",
        "    idx2cat = {}\n",
        "    i=0\n",
        "    for ir in categories_df.itertuples():\n",
        "            \n",
        "        category_id = ir[0]\n",
        "        category_idx = ir[4]\n",
        "        cat2idx[category_id] = category_idx\n",
        "        idx2cat[category_idx] = category_id\n",
        "      \n",
        "    return cat2idx, idx2cat"
      ],
      "execution_count": 8,
      "outputs": []
    },
    {
      "cell_type": "code",
      "metadata": {
        "id": "H5NigDwAWJnb"
      },
      "source": [
        "\n",
        "cat2idx, idx2cat = make_category_tables()"
      ],
      "execution_count": 9,
      "outputs": []
    },
    {
      "cell_type": "code",
      "metadata": {
        "colab": {
          "base_uri": "https://localhost:8080/"
        },
        "id": "vHZQapeMWNa5",
        "outputId": "36a2f74d-0d8e-440e-db62-b9ca2845f5d0"
      },
      "source": [
        "# Test if it works:\n",
        "cat2idx[1000012755], idx2cat[4]"
      ],
      "execution_count": 10,
      "outputs": [
        {
          "output_type": "execute_result",
          "data": {
            "text/plain": [
              "(4, 1000012755)"
            ]
          },
          "metadata": {},
          "execution_count": 10
        }
      ]
    },
    {
      "cell_type": "markdown",
      "source": [
        "#One time File Creation"
      ],
      "metadata": {
        "id": "NmheDqasHiZ1"
      }
    },
    {
      "cell_type": "code",
      "metadata": {
        "id": "cXUH3VXjWn4M"
      },
      "source": [
        "#this takes a few minutes to execute, but we only have to do it once (we'll save the table to a CSV file afterwards).\n",
        "def read_bson(bson_path, num_records, with_categories):\n",
        "    rows = {}\n",
        "    with open(bson_path, \"rb\") as f, tqdm(total=num_records) as pbar:\n",
        "        offset = 0\n",
        "        while True:\n",
        "            item_length_bytes = f.read(4)\n",
        "            if len(item_length_bytes) == 0:\n",
        "                break\n",
        "\n",
        "            length = struct.unpack(\"<i\", item_length_bytes)[0]\n",
        "\n",
        "            f.seek(offset)\n",
        "            item_data = f.read(length)\n",
        "            assert len(item_data) == length\n",
        "\n",
        "            item = bson.BSON.decode(item_data)\n",
        "            product_id = item[\"_id\"]\n",
        "            num_imgs = len(item[\"imgs\"])\n",
        "\n",
        "            row = [num_imgs, offset, length]\n",
        "            if with_categories:\n",
        "                row += [item[\"category_id\"]]\n",
        "            rows[product_id] = row\n",
        "\n",
        "            offset += length\n",
        "            f.seek(offset)\n",
        "            pbar.update()\n",
        "\n",
        "    columns = [\"num_imgs\", \"offset\", \"length\"]\n",
        "    if with_categories:\n",
        "        columns += [\"category_id\"]\n",
        "\n",
        "    df = pd.DataFrame.from_dict(rows, orient=\"index\")\n",
        "    df.index.name = \"product_id\"\n",
        "    df.columns = columns\n",
        "    df.sort_index(inplace=True)\n",
        "    return df"
      ],
      "execution_count": 12,
      "outputs": []
    },
    {
      "cell_type": "code",
      "metadata": {
        "id": "N7JP19l6W505"
      },
      "source": [
        "%time train_offsets_df = read_bson(train_bson_path, num_records=num_train_products, with_categories=True)"
      ],
      "execution_count": null,
      "outputs": []
    },
    {
      "cell_type": "code",
      "metadata": {
        "id": "yzzV-XRibjqN"
      },
      "source": [
        "train_offsets_df.columns"
      ],
      "execution_count": null,
      "outputs": []
    },
    {
      "cell_type": "code",
      "metadata": {
        "id": "yRDImQORb3_N"
      },
      "source": [
        "train_offsets_df.head()"
      ],
      "execution_count": null,
      "outputs": []
    },
    {
      "cell_type": "code",
      "metadata": {
        "id": "KzqWjJx3bsB9"
      },
      "source": [
        "train_offsets_df['category_id'].value_counts()"
      ],
      "execution_count": null,
      "outputs": []
    },
    {
      "cell_type": "code",
      "metadata": {
        "id": "_g7cnQaCcGoj"
      },
      "source": [
        "train_offsets_df['num_imgs'].value_counts()"
      ],
      "execution_count": null,
      "outputs": []
    },
    {
      "cell_type": "code",
      "metadata": {
        "id": "g5a9QV8jdVMJ"
      },
      "source": [
        "train_offsets_df.to_csv(\"train_offsets.csv\")"
      ],
      "execution_count": null,
      "outputs": []
    },
    {
      "cell_type": "markdown",
      "metadata": {
        "id": "RT-nR9sph9dq"
      },
      "source": [
        "##Create a random train/validation split\n",
        "We split on products, not on individual images. Since some of the categories only have a few products, we do the split separately for each category.\n",
        "\n",
        "This creates two new tables, one for the training images and one for the validation images. There is a row for every single image, so if a product has more than one image it occurs more than once in the table."
      ]
    },
    {
      "cell_type": "code",
      "metadata": {
        "id": "8TqA6V3Yh85A"
      },
      "source": [
        "def make_val_set(df, split_percentage=0.2, drop_percentage=0.):\n",
        "    # Find the product_ids for each category.\n",
        "    category_dict = defaultdict(list)\n",
        "    for ir in tqdm(df.itertuples()):\n",
        "        category_dict[ir[4]].append(ir[0])\n",
        "\n",
        "    train_list = []\n",
        "    val_list = []\n",
        "    with tqdm(total=len(df)) as pbar:\n",
        "        for category_id, product_ids in category_dict.items():\n",
        "            category_idx = cat2idx[category_id]\n",
        "\n",
        "            # Randomly remove products to make the dataset smaller.\n",
        "            keep_size = int(len(product_ids) * (1. - drop_percentage))\n",
        "            if keep_size < len(product_ids):\n",
        "                product_ids = np.random.choice(product_ids, keep_size, replace=False)\n",
        "\n",
        "            # Randomly choose the products that become part of the validation set.\n",
        "            val_size = int(len(product_ids) * split_percentage)\n",
        "            if val_size > 0:\n",
        "                val_ids = np.random.choice(product_ids, val_size, replace=False)\n",
        "            else:\n",
        "                val_ids = []\n",
        "\n",
        "            # Create a new row for each image.\n",
        "            for product_id in product_ids:\n",
        "                row = [product_id, category_idx]\n",
        "                for img_idx in range(df.loc[product_id, \"num_imgs\"]):\n",
        "                    if product_id in val_ids:\n",
        "                        val_list.append(row + [img_idx])\n",
        "                    else:\n",
        "                        train_list.append(row + [img_idx])\n",
        "                pbar.update()\n",
        "                \n",
        "    columns = [\"product_id\", \"category_idx\", \"img_idx\"]\n",
        "    train_df = pd.DataFrame(train_list, columns=columns)\n",
        "    val_df = pd.DataFrame(val_list, columns=columns)   \n",
        "    return train_df, val_df"
      ],
      "execution_count": 11,
      "outputs": []
    },
    {
      "cell_type": "code",
      "metadata": {
        "id": "4yxrrJLxiI03"
      },
      "source": [
        "train_images_df, val_images_df = make_val_set(train_offsets_df, split_percentage=0.2, \n",
        "                                              drop_percentage=0.9)"
      ],
      "execution_count": null,
      "outputs": []
    },
    {
      "cell_type": "code",
      "metadata": {
        "id": "kbNnWKYsiN4Q"
      },
      "source": [
        "train_images_df.head()"
      ],
      "execution_count": null,
      "outputs": []
    },
    {
      "cell_type": "code",
      "metadata": {
        "id": "1Nkti314iPk9"
      },
      "source": [
        "val_images_df.head()"
      ],
      "execution_count": null,
      "outputs": []
    },
    {
      "cell_type": "code",
      "metadata": {
        "id": "6J284w4qiRjD"
      },
      "source": [
        "print(\"Number of training images:\", len(train_images_df))\n",
        "print(\"Number of validation images:\", len(val_images_df))\n",
        "print(\"Total images:\", len(train_images_df) + len(val_images_df))"
      ],
      "execution_count": null,
      "outputs": []
    },
    {
      "cell_type": "code",
      "metadata": {
        "id": "hPsENxNyiX8M"
      },
      "source": [
        "len(train_images_df[\"category_idx\"].unique()), len(val_images_df[\"category_idx\"].unique())"
      ],
      "execution_count": null,
      "outputs": []
    },
    {
      "cell_type": "code",
      "metadata": {
        "id": "3KX3hEyYib_C"
      },
      "source": [
        "train_images_df.to_csv(\"train_images.csv\")\n",
        "val_images_df.to_csv(\"val_images.csv\")"
      ],
      "execution_count": null,
      "outputs": []
    },
    {
      "cell_type": "markdown",
      "metadata": {
        "id": "prrddIqvifSA"
      },
      "source": [
        "##Part 2: The generator"
      ]
    },
    {
      "cell_type": "code",
      "metadata": {
        "colab": {
          "base_uri": "https://localhost:8080/"
        },
        "id": "U8TsWUl7igRB",
        "outputId": "fef38b46-31de-412d-cdc5-9d517793cbcf"
      },
      "source": [
        "#First load the lookup tables from the CSV files (you don't need to do this if you just did all the steps from part 1).\n",
        "\n",
        "categories_df = pd.read_csv(\"categories.csv\", index_col=0)\n",
        "cat2idx, idx2cat = make_category_tables()\n",
        "\n",
        "train_offsets_df = pd.read_csv(\"train_offsets.csv\", index_col=0)\n",
        "train_images_df = pd.read_csv(\"train_images.csv\", index_col=0)\n",
        "val_images_df = pd.read_csv(\"val_images.csv\", index_col=0)\n"
      ],
      "execution_count": 11,
      "outputs": [
        {
          "output_type": "stream",
          "name": "stderr",
          "text": [
            "/usr/local/lib/python3.7/dist-packages/numpy/lib/arraysetops.py:580: FutureWarning: elementwise comparison failed; returning scalar instead, but in the future will perform elementwise comparison\n",
            "  mask |= (ar1 == a)\n"
          ]
        }
      ]
    },
    {
      "cell_type": "code",
      "source": [
        "from keras.preprocessing.image import Iterator\n",
        "from keras.preprocessing.image import ImageDataGenerator\n",
        "from keras import backend as K\n",
        "from PIL import Image\n",
        "\n",
        "class BSONIterator(Iterator):\n",
        "    def __init__(self, bson_file, images_df, offsets_df, num_class,\n",
        "                 image_data_generator, lock, target_size=(180, 180), \n",
        "                 with_labels=True, batch_size=32, shuffle=False, seed=None):\n",
        "\n",
        "        self.file = bson_file\n",
        "        self.images_df = images_df\n",
        "        self.offsets_df = offsets_df\n",
        "        self.with_labels = with_labels\n",
        "        self.samples = len(images_df)\n",
        "        self.num_class = num_class\n",
        "        self.image_data_generator = image_data_generator\n",
        "        self.target_size = tuple(target_size)\n",
        "        self.image_shape = self.target_size + (3,)\n",
        "\n",
        "        print(\"Found %d images belonging to %d classes.\" % (self.samples, self.num_class))\n",
        "\n",
        "        super(BSONIterator, self).__init__(self.samples, batch_size, shuffle, seed)\n",
        "        self.lock = lock\n",
        "\n",
        "    def _get_batches_of_transformed_samples(self, index_array):\n",
        "        batch_x = np.zeros((len(index_array),) + self.image_shape, dtype=K.floatx())\n",
        "        if self.with_labels:\n",
        "            batch_y = np.zeros((len(batch_x), self.num_class), dtype=K.floatx())\n",
        "\n",
        "        for i, j in enumerate(index_array):\n",
        "            # Protect file and dataframe access with a lock.\n",
        "            with self.lock:\n",
        "                image_row = self.images_df.iloc[j]\n",
        "                product_id = image_row[\"product_id\"]\n",
        "                offset_row = self.offsets_df.loc[product_id]\n",
        "\n",
        "                # Read this product's data from the BSON file.\n",
        "                self.file.seek(offset_row[\"offset\"])\n",
        "                item_data = self.file.read(offset_row[\"length\"])\n",
        "\n",
        "            # Grab the image from the product.\n",
        "            item = bson.BSON.decode(item_data)\n",
        "            img_idx = image_row[\"img_idx\"]\n",
        "            bson_img = item[\"imgs\"][img_idx][\"picture\"]\n",
        "\n",
        "            # Load the image.\n",
        "            #img = load_img(io.BytesIO(bson_img), target_size=self.target_size)\n",
        "            #print(type(bson_img))\n",
        "            #img  = load_img(bson_img, target_size =self.target_size)\n",
        "            # Converting Keras Preprocessing Image load to Pillow Based loading\n",
        "            # After loading convert to RGB optional as PIL loads in default RGGB\n",
        "            # And resize is a necessary operation - to self.target_size\n",
        "            \n",
        "            img = Image.open(io.BytesIO(bson_img))\n",
        "            img = img.convert('RGB')\n",
        "            img = img.resize(self.target_size, Image.NEAREST)\n",
        "            # Preprocess the image.\n",
        "            x = img_to_array(img)\n",
        "            x = self.image_data_generator.random_transform(x)\n",
        "            x = self.image_data_generator.standardize(x)\n",
        "\n",
        "            # Add the image and the label to the batch (one-hot encoded).\n",
        "            batch_x[i] = x\n",
        "            if self.with_labels:\n",
        "                batch_y[i, image_row[\"category_idx\"]] = 1\n",
        "\n",
        "        if self.with_labels:\n",
        "            return batch_x, batch_y\n",
        "        else:\n",
        "            return batch_x\n",
        "\n",
        "    def next(self):\n",
        "        with self.lock:\n",
        "            index_array = next(self.index_generator)\n",
        "        return self._get_batches_of_transformed_samples(index_array)"
      ],
      "metadata": {
        "id": "kyvrVR_4gsw9"
      },
      "execution_count": 12,
      "outputs": []
    },
    {
      "cell_type": "code",
      "source": [
        "train_bson_file = open(train_bson_path, \"rb\")"
      ],
      "metadata": {
        "id": "fPloGSFwgwKu"
      },
      "execution_count": 13,
      "outputs": []
    },
    {
      "cell_type": "markdown",
      "source": [
        "#Create a generator for training and a generator for validation."
      ],
      "metadata": {
        "id": "CCXpWrCvg23K"
      }
    },
    {
      "cell_type": "code",
      "source": [
        "#Because the training and validation generators read from the same BSON file, they need to use the same lock to protect it.\n",
        "import threading\n",
        "lock = threading.Lock()"
      ],
      "metadata": {
        "id": "Pce1ryXpg-Pi"
      },
      "execution_count": 14,
      "outputs": []
    },
    {
      "cell_type": "code",
      "source": [
        "num_classes = 5270\n",
        "num_train_images = len(train_images_df)\n",
        "num_val_images = len(val_images_df)\n",
        "batch_size = 128\n",
        "\n",
        "# Tip: use ImageDataGenerator for data augmentation and preprocessing.\n",
        "train_datagen = ImageDataGenerator()\n",
        "train_gen = BSONIterator(train_bson_file, train_images_df, train_offsets_df, \n",
        "                         num_classes, train_datagen, lock,\n",
        "                         batch_size=batch_size, shuffle=True)\n",
        "\n",
        "val_datagen = ImageDataGenerator()\n",
        "val_gen = BSONIterator(train_bson_file, val_images_df, train_offsets_df,\n",
        "                       num_classes, val_datagen, lock,\n",
        "                       batch_size=batch_size, shuffle=True)"
      ],
      "metadata": {
        "colab": {
          "base_uri": "https://localhost:8080/"
        },
        "id": "VjAHcuGRg0mu",
        "outputId": "5fc7570a-d68f-461a-fc36-d0a192e98f01"
      },
      "execution_count": 15,
      "outputs": [
        {
          "output_type": "stream",
          "name": "stdout",
          "text": [
            "Found 989921 images belonging to 5270 classes.\n",
            "Found 242366 images belonging to 5270 classes.\n"
          ]
        }
      ]
    },
    {
      "cell_type": "code",
      "source": [
        "next(train_gen)  # warm-up\n",
        "\n",
        "%time bx, by = next(train_gen)"
      ],
      "metadata": {
        "colab": {
          "base_uri": "https://localhost:8080/"
        },
        "id": "2MlDyePshKlh",
        "outputId": "6e60efc0-c1c0-4cb3-f388-daeca9736e92"
      },
      "execution_count": 21,
      "outputs": [
        {
          "output_type": "stream",
          "name": "stdout",
          "text": [
            "CPU times: user 861 ms, sys: 111 ms, total: 971 ms\n",
            "Wall time: 2min 29s\n"
          ]
        }
      ]
    },
    {
      "cell_type": "code",
      "source": [
        "plt.imshow(bx[-1].astype(np.uint8))"
      ],
      "metadata": {
        "id": "V_0cRKzdoE2g",
        "colab": {
          "base_uri": "https://localhost:8080/",
          "height": 286
        },
        "outputId": "cfddb827-38dc-4099-8d62-af29ecb86797"
      },
      "execution_count": 22,
      "outputs": [
        {
          "output_type": "execute_result",
          "data": {
            "text/plain": [
              "<matplotlib.image.AxesImage at 0x7f03a0308610>"
            ]
          },
          "metadata": {},
          "execution_count": 22
        },
        {
          "output_type": "display_data",
          "data": {
            "image/png": "[encoded data removed]",
            "text/plain": [
              "<Figure size 432x288 with 1 Axes>"
            ]
          },
          "metadata": {
            "needs_background": "light"
          }
        }
      ]
    },
    {
      "cell_type": "code",
      "source": [
        "cat_idx = np.argmax(by[-1])\n",
        "cat_id = idx2cat[cat_idx]\n",
        "print(categories_df.loc[cat_id])\n",
        "\n",
        "bx, by = next(val_gen)\n",
        "\n",
        "plt.imshow(bx[-1].astype(np.uint8))\n",
        "\n",
        "cat_idx = np.argmax(by[-1])\n",
        "cat_id = idx2cat[cat_idx]\n",
        "print(categories_df.loc[cat_id])"
      ],
      "metadata": {
        "id": "ZO0-HFplJBkF",
        "outputId": "45d05aae-cb5e-4a1b-88a0-37379b2dea3f",
        "colab": {
          "base_uri": "https://localhost:8080/",
          "height": 443
        }
      },
      "execution_count": 23,
      "outputs": [
        {
          "output_type": "stream",
          "name": "stdout",
          "text": [
            "category_level1                            INFORMATIQUE\n",
            "category_level2              CONNECTIQUE - ALIMENTATION\n",
            "category_level3    BATTERIE D'ALIMENTATION INFORMATIQUE\n",
            "category_idx                                       2522\n",
            "Name: 1000004085, dtype: object\n",
            "category_level1              LIBRAIRIE\n",
            "category_level2               MEDECINE\n",
            "category_level3    OUVRAGE PATHOLOGIE \n",
            "category_idx                      3353\n",
            "Name: 1000014233, dtype: object\n"
          ]
        },
        {
          "output_type": "display_data",
          "data": {
            "image/png": "[encoded data removed]",
            "text/plain": [
              "<Figure size 432x288 with 1 Axes>"
            ]
          },
          "metadata": {
            "needs_background": "light"
          }
        }
      ]
    },
    {
      "cell_type": "code",
      "source": [
        "#Importing packages\n",
        "import tensorflow as tf\n",
        "from tensorflow.keras import layers\n",
        "from tensorflow.keras.models import Sequential\n",
        "from tensorflow.keras.layers import Dense, Conv2D, Flatten, Dropout, MaxPooling2D,BatchNormalization,Dense, GlobalAveragePooling2D\n",
        "from tensorflow.keras.layers.experimental import preprocessing"
      ],
      "metadata": {
        "id": "LOU3xDFMLd_m"
      },
      "execution_count": 17,
      "outputs": []
    },
    {
      "cell_type": "code",
      "source": [
        "# Get helper_functions.py script from course GitHub\n",
        "!wget https://raw.githubusercontent.com/sarthakkaushik/Cdiscount-Image-Classification/main/helper.py\n",
        "\n",
        "# Import helper functions we're going to use\n",
        "from helper import create_tensorboard_callback, plot_loss_curves, unzip_data, walk_through_dir"
      ],
      "metadata": {
        "colab": {
          "base_uri": "https://localhost:8080/"
        },
        "id": "3Wv3B04Rpygp",
        "outputId": "97ddb1aa-09f3-4573-9b91-a3cb01e5b2a1"
      },
      "execution_count": 18,
      "outputs": [
        {
          "output_type": "stream",
          "name": "stdout",
          "text": [
            "--2022-01-12 00:48:03--  https://raw.githubusercontent.com/sarthakkaushik/Cdiscount-Image-Classification/main/helper.py\n",
            "Resolving raw.githubusercontent.com (raw.githubusercontent.com)... 185.199.111.133, 185.199.109.133, 185.199.108.133, ...\n",
            "Connecting to raw.githubusercontent.com (raw.githubusercontent.com)|185.199.111.133|:443... connected.\n",
            "HTTP request sent, awaiting response... 200 OK\n",
            "Length: 10510 (10K) [text/plain]\n",
            "Saving to: ‘helper.py.4’\n",
            "\n",
            "helper.py.4         100%[===================>]  10.26K  --.-KB/s    in 0.001s  \n",
            "\n",
            "2022-01-12 00:48:28 (7.47 MB/s) - ‘helper.py.4’ saved [10510/10510]\n",
            "\n"
          ]
        }
      ]
    },
    {
      "cell_type": "markdown",
      "source": [
        "#Model-1-Xception"
      ],
      "metadata": {
        "id": "Jf2q4zXqCqaS"
      }
    },
    {
      "cell_type": "code",
      "source": [
        "#Define callbacks\n",
        "\n",
        "import datetime\n",
        "\n",
        "\n",
        "dir_name = '/gdrive/MyDrive/UOH Assignment Dataset/cdiscount/Tensorboard'\n",
        "def create_tensorboard_callback(experiment_name):\n",
        "  log_dir = dir_name + \"/\" + experiment_name + \"/\" + datetime.datetime.now().strftime(\"%Y%m%d-%H%M%S\")\n",
        "  tensorboard_callback = tf.keras.callbacks.TensorBoard(\n",
        "      log_dir=log_dir\n",
        "  )\n",
        "  print(f\"Saving TensorBoard log files to: {log_dir}\")\n",
        "  return tensorboard_callback\n",
        "\n",
        "# Setup checkpoint path\n",
        "checkpoint_path = '/gdrive/MyDrive/UOH Assignment Dataset/cdiscount/CheckPoints/Xception/checkpoint.ckpt' # note: remember saving directly to Colab is temporary\n",
        "\n",
        "# Create a ModelCheckpoint callback that saves the model's weights only\n",
        "checkpoint_callback = tf.keras.callbacks.ModelCheckpoint(filepath=checkpoint_path,\n",
        "                                                         save_weights_only=True, # set to False to save the entire model\n",
        "                                                         save_best_only=False, # set to True to save only the best model instead of a model every epoch \n",
        "                                                         save_freq=\"epoch\", # save every epoch\n",
        "                                                         verbose=1)\n",
        "\n",
        "\n",
        "\n",
        "###------------------------Base Model----------------------------------###\n",
        "\n",
        "base_model_XCP=tf.keras.applications.xception.Xception(include_top=False)\n",
        "base_model_XCP.trainable =False\n",
        "\n",
        "#Setup Model architecture\n",
        "\n",
        "inputs= layers.Input(shape=(180,180,3), name=\"input_layers\")\n",
        "x=base_model_XCP(inputs,training=False)\n",
        "x=layers.GlobalAveragePooling2D(name=\"GlobalAveragePooling2D_layers\")(x)\n",
        "outputs=layers.Dense(num_classes, activation=\"softmax\", name=\"output_layers\")(x)\n",
        "model_1=tf.keras.Model(inputs,outputs)\n",
        "\n",
        "\n",
        "\n",
        "\n",
        "\n",
        "\n",
        "#Getting the summary of the model we created\n",
        "model_1.summary()\n",
        "\n",
        "\n",
        "#Defining f1 score\n",
        "\n",
        "from keras import backend as K\n",
        "\n",
        "def recall_m(y_true, y_pred):\n",
        "    true_positives = K.sum(K.round(K.clip(y_true * y_pred, 0, 1)))\n",
        "    possible_positives = K.sum(K.round(K.clip(y_true, 0, 1)))\n",
        "    recall = true_positives / (possible_positives + K.epsilon())\n",
        "    return recall\n",
        "\n",
        "def precision_m(y_true, y_pred):\n",
        "    true_positives = K.sum(K.round(K.clip(y_true * y_pred, 0, 1)))\n",
        "    predicted_positives = K.sum(K.round(K.clip(y_pred, 0, 1)))\n",
        "    precision = true_positives / (predicted_positives + K.epsilon())\n",
        "    return precision\n",
        "\n",
        "def f1_m(y_true, y_pred):\n",
        "    precision = precision_m(y_true, y_pred)\n",
        "    recall = recall_m(y_true, y_pred)\n",
        "    return 2*((precision*recall)/(precision+recall+K.epsilon()))\n",
        "\n",
        "\n",
        "\n",
        "\n",
        "\n",
        "#Compile the model\n",
        "model_1.compile(loss='categorical_crossentropy',\n",
        "              optimizer=\"adam\",\n",
        "              metrics=['accuracy',f1_m])\n",
        "\n",
        "#Fit the model\n",
        "\n",
        "history_1=model_1.fit(\n",
        "    train_gen,\n",
        "    # steps_per_epoch=np.ceil(float(num_train_images) // float(batch_size)),   #num_train_images // batch_size,\n",
        "    epochs = 3,\n",
        "    validation_data = val_gen,\n",
        "    # validation_steps=np.ceil(0.25*(float(num_train_images) // float(batch_size))),  #25% of #num_val_images // batch_size,\n",
        "    callbacks=[checkpoint_callback,create_tensorboard_callback(\"TranferLearning_XceptionNet\")],    \n",
        "    verbose=2                \n",
        "    # workers = 4\n",
        "    )"
      ],
      "metadata": {
        "id": "905TNFmt1XQA",
        "colab": {
          "base_uri": "https://localhost:8080/"
        },
        "outputId": "a37662cb-1f6f-4b4c-f9ee-f3b04f5b5ae0"
      },
      "execution_count": null,
      "outputs": [
        {
          "output_type": "stream",
          "name": "stdout",
          "text": [
            "Downloading data from https://storage.googleapis.com/tensorflow/keras-applications/xception/xception_weights_tf_dim_ordering_tf_kernels_notop.h5\n",
            "83689472/83683744 [==============================] - 1s 0us/step\n",
            "83697664/83683744 [==============================] - 1s 0us/step\n",
            "Model: \"model\"\n",
            "_________________________________________________________________\n",
            " Layer (type)                Output Shape              Param #   \n",
            "=================================================================\n",
            " input_layers (InputLayer)   [(None, 180, 180, 3)]     0         \n",
            "                                                                 \n",
            " xception (Functional)       (None, None, None, 2048)  20861480  \n",
            "                                                                 \n",
            " GlobalAveragePooling2D_laye  (None, 2048)             0         \n",
            " rs (GlobalAveragePooling2D)                                     \n",
            "                                                                 \n",
            " output_layers (Dense)       (None, 5270)              10798230  \n",
            "                                                                 \n",
            "=================================================================\n",
            "Total params: 31,659,710\n",
            "Trainable params: 10,798,230\n",
            "Non-trainable params: 20,861,480\n",
            "_________________________________________________________________\n",
            "Saving TensorBoard log files to: /gdrive/MyDrive/UOH Assignment Dataset/cdiscount/Tensorboard/TranferLearning_XceptionNet/20220111-173608\n"
          ]
        },
        {
          "output_type": "stream",
          "name": "stderr",
          "text": [
            "/usr/local/lib/python3.7/dist-packages/keras/engine/functional.py:1410: CustomMaskWarning: Custom mask layers require a config and must override get_config. When loading, the custom mask layer must be passed to the custom_objects argument.\n",
            "  layer_config = serialize_layer_fn(layer)\n"
          ]
        },
        {
          "output_type": "stream",
          "name": "stdout",
          "text": [
            "Epoch 1/3\n",
            "\n",
            "Epoch 00001: saving model to /gdrive/MyDrive/UOH Assignment Dataset/cdiscount/CheckPoints/Xception/checkpoint.ckpt\n",
            "7734/7734 - 4981s - loss: 40.7634 - accuracy: 0.1212 - f1_m: 0.1299 - val_loss: 35.1418 - val_accuracy: 0.1455 - val_f1_m: 0.1554 - 4981s/epoch - 644ms/step\n",
            "Epoch 2/3\n",
            "\n",
            "Epoch 00002: saving model to /gdrive/MyDrive/UOH Assignment Dataset/cdiscount/CheckPoints/Xception/checkpoint.ckpt\n",
            "7734/7734 - 4039s - loss: 37.3173 - accuracy: 0.1593 - f1_m: 0.1699 - val_loss: 36.2342 - val_accuracy: 0.1658 - val_f1_m: 0.1750 - 4039s/epoch - 522ms/step\n",
            "Epoch 3/3\n"
          ]
        }
      ]
    },
    {
      "cell_type": "code",
      "source": [
        "# evaluate the model\n",
        "loss, accuracy, f1_score = model_2.evaluate(val_gen, verbose=0)\n",
        "loss, accuracy, f1_score"
      ],
      "metadata": {
        "id": "5KPH7FI-5rp4",
        "outputId": "fbcfce00-50aa-410c-efff-f9d51a3e2353",
        "colab": {
          "base_uri": "https://localhost:8080/"
        }
      },
      "execution_count": 47,
      "outputs": [
        {
          "output_type": "stream",
          "name": "stdout",
          "text": [
            "Model: \"model\"\n",
            "_________________________________________________________________\n",
            " Layer (type)                Output Shape              Param #   \n",
            "=================================================================\n",
            " input_layers (InputLayer)   [(None, 180, 180, 3)]     0         \n",
            "                                                                 \n",
            " efficientnetb7 (Functional)  (None, None, None, 2560)  64097687 \n",
            "                                                                 \n",
            " GlobalAveragePooling2D_laye  (None, 2560)             0         \n",
            " rs (GlobalAveragePooling2D)                                     \n",
            "                                                                 \n",
            " output_layers (Dense)       (None, 5270)              13496470  \n",
            "                                                                 \n",
            "=================================================================\n",
            "Total params: 77,594,157\n",
            "Trainable params: 13,496,470\n",
            "Non-trainable params: 64,097,687\n",
            "_________________________________________________________________\n"
          ]
        }
      ]
    },
    {
      "cell_type": "code",
      "source": [
        ""
      ],
      "metadata": {
        "id": "nfDGjs3n6Drl",
        "outputId": "6bd5d870-ab33-42f0-aa79-ca4bafd1a13d",
        "colab": {
          "base_uri": "https://localhost:8080/"
        }
      },
      "execution_count": null,
      "outputs": [
        {
          "output_type": "stream",
          "name": "stdout",
          "text": [
            "Epoch 1/3\n",
            "10/10 [==============================] - 628s 19s/step - loss: 8.2958 - accuracy: 0.0258 - val_loss: 7.9056 - val_accuracy: 0.0758\n",
            "Epoch 2/3\n",
            "10/10 [==============================] - 70s 4s/step - loss: 7.5471 - accuracy: 0.1156 - val_loss: 7.1722 - val_accuracy: 0.1211\n",
            "Epoch 3/3\n",
            "10/10 [==============================] - 51s 4s/step - loss: 6.9738 - accuracy: 0.1375 - val_loss: 6.7788 - val_accuracy: 0.1500\n"
          ]
        },
        {
          "output_type": "execute_result",
          "data": {
            "text/plain": [
              "<keras.callbacks.History at 0x7f8bc8f2e550>"
            ]
          },
          "metadata": {},
          "execution_count": 22
        }
      ]
    },
    {
      "cell_type": "markdown",
      "source": [
        "#Model-2"
      ],
      "metadata": {
        "id": "JZo2xEBOCmsq"
      }
    },
    {
      "cell_type": "code",
      "source": [
        "###------------------------Model-2----------------------------------###\n",
        "checkpoint_path = '/gdrive/MyDrive/UOH Assignment Dataset/cdiscount/CheckPoints/checkpoint_ResNet50.ckpt'\n",
        "\n",
        "\n",
        "tf.keras.applications.resnet50.ResNet50(\n",
        "    include_top=False)\n",
        "\n",
        "base_model_res20=tf.keras.applications.resnet50.ResNet50(include_top=False)\n",
        "base_model_res20.trainable =False\n",
        "\n",
        "#Setup Model architecture\n",
        "\n",
        "inputs= layers.Input(shape=(180,180,3), name=\"input_layers\")\n",
        "x=base_model_res20(inputs,training=False)\n",
        "x=layers.GlobalAveragePooling2D(name=\"GlobalAveragePooling2D_layers\")(x)\n",
        "outputs=layers.Dense(num_classes, activation=\"softmax\", name=\"output_layers\")(x)\n",
        "model_2=tf.keras.Model(inputs,outputs)\n"
      ],
      "metadata": {
        "id": "yBX55G0c_dNE"
      },
      "execution_count": 40,
      "outputs": []
    },
    {
      "cell_type": "code",
      "source": [
        "#Getting the summary of the model we created\n",
        "model_2.summary()"
      ],
      "metadata": {
        "id": "ZygA_pC7_03C",
        "outputId": "0ab90543-d309-40c2-de02-d0bc9810e6e5",
        "colab": {
          "base_uri": "https://localhost:8080/"
        }
      },
      "execution_count": 41,
      "outputs": [
        {
          "output_type": "stream",
          "name": "stdout",
          "text": [
            "Model: \"model_2\"\n",
            "_________________________________________________________________\n",
            " Layer (type)                Output Shape              Param #   \n",
            "=================================================================\n",
            " input_layers (InputLayer)   [(None, 180, 180, 3)]     0         \n",
            "                                                                 \n",
            " resnet50 (Functional)       (None, None, None, 2048)  23587712  \n",
            "                                                                 \n",
            " GlobalAveragePooling2D_laye  (None, 2048)             0         \n",
            " rs (GlobalAveragePooling2D)                                     \n",
            "                                                                 \n",
            " output_layers (Dense)       (None, 5270)              10798230  \n",
            "                                                                 \n",
            "=================================================================\n",
            "Total params: 34,385,942\n",
            "Trainable params: 10,798,230\n",
            "Non-trainable params: 23,587,712\n",
            "_________________________________________________________________\n"
          ]
        }
      ]
    },
    {
      "cell_type": "code",
      "source": [
        "#Compile the model\n",
        "model_2.compile(loss='categorical_crossentropy',\n",
        "              optimizer=\"adam\",\n",
        "              metrics=['accuracy'])\n",
        "\n",
        "#Fit the model\n",
        "\n",
        "history_2=model_2.fit(\n",
        "    train_gen,\n",
        "    steps_per_epoch=np.ceil(float(num_train_images) // float(batch_size)),   #num_train_images // batch_size,\n",
        "    epochs = 3,\n",
        "    validation_data = val_gen,\n",
        "    validation_steps=np.ceil(0.25*(float(num_train_images) // float(batch_size))),  #25% of #num_val_images // batch_size,\n",
        "    callbacks=[checkpoint_callback,create_tensorboard_callback(\"TranferLearning_ResNet50\")],    \n",
        "    verbose=2                \n",
        "    # workers = 4\n",
        "    )"
      ],
      "metadata": {
        "id": "ImGGm5vRACCQ",
        "outputId": "5aa63259-de60-4074-9d93-13fed92b3dc1",
        "colab": {
          "base_uri": "https://localhost:8080/"
        }
      },
      "execution_count": 43,
      "outputs": [
        {
          "output_type": "stream",
          "name": "stdout",
          "text": [
            "Saving TensorBoard log files to: /gdrive/MyDrive/UOH Assignment Dataset/cdiscount/Tensorboard/TranferLearning_ResNet50/20220111-133822\n"
          ]
        },
        {
          "output_type": "stream",
          "name": "stderr",
          "text": [
            "/usr/local/lib/python3.7/dist-packages/keras/engine/functional.py:1410: CustomMaskWarning: Custom mask layers require a config and must override get_config. When loading, the custom mask layer must be passed to the custom_objects argument.\n",
            "  layer_config = serialize_layer_fn(layer)\n"
          ]
        },
        {
          "output_type": "stream",
          "name": "stdout",
          "text": [
            "Epoch 1/3\n",
            "WARNING:tensorflow:Your input ran out of data; interrupting training. Make sure that your dataset or generator can generate at least `steps_per_epoch * epochs` batches (in this case, 1934.0 batches). You may need to use the repeat() function when building your dataset.\n",
            "\n",
            "Epoch 00001: saving model to /gdrive/MyDrive/UOH Assignment Dataset/cdiscount/CheckPoints/checkpoint.ckpt\n",
            "7733/7733 - 3931s - loss: 4.0268 - accuracy: 0.3882 - val_loss: 3.8485 - val_accuracy: 0.4231 - 3931s/epoch - 508ms/step\n",
            "Epoch 2/3\n",
            "\n",
            "Epoch 00002: saving model to /gdrive/MyDrive/UOH Assignment Dataset/cdiscount/CheckPoints/checkpoint.ckpt\n",
            "7733/7733 - 3261s - loss: 2.9469 - accuracy: 0.4755 - 3261s/epoch - 422ms/step\n",
            "Epoch 3/3\n",
            "\n",
            "Epoch 00003: saving model to /gdrive/MyDrive/UOH Assignment Dataset/cdiscount/CheckPoints/checkpoint.ckpt\n",
            "7733/7733 - 3222s - loss: 2.5416 - accuracy: 0.5175 - 3222s/epoch - 417ms/step\n"
          ]
        }
      ]
    },
    {
      "cell_type": "code",
      "source": [
        "# Evaluate on the test data\n",
        "results_histor_2 = model_2.evaluate(val_gen)\n",
        "results_histor_2"
      ],
      "metadata": {
        "colab": {
          "base_uri": "https://localhost:8080/"
        },
        "id": "3oe-FUh6_n_E",
        "outputId": "42beaf1d-71e8-4186-92ad-68be444b2355"
      },
      "execution_count": 46,
      "outputs": [
        {
          "output_type": "stream",
          "name": "stdout",
          "text": [
            "1894/1894 [==============================] - 679s 359ms/step - loss: 4.0856 - accuracy: 0.4414\n"
          ]
        },
        {
          "output_type": "execute_result",
          "data": {
            "text/plain": [
              "[4.085598945617676, 0.4413779079914093]"
            ]
          },
          "metadata": {},
          "execution_count": 46
        }
      ]
    },
    {
      "cell_type": "markdown",
      "source": [
        "#Model-3"
      ],
      "metadata": {
        "id": "n6l3MUe1BfnI"
      }
    },
    {
      "cell_type": "code",
      "source": [
        "#Define callbacks\n",
        "\n",
        "import datetime\n",
        "\n",
        "\n",
        "dir_name = '/gdrive/MyDrive/UOH Assignment Dataset/cdiscount/Tensorboard'\n",
        "def create_tensorboard_callback(experiment_name):\n",
        "  log_dir = dir_name + \"/\" + experiment_name + \"/\" + datetime.datetime.now().strftime(\"%Y%m%d-%H%M%S\")\n",
        "  tensorboard_callback = tf.keras.callbacks.TensorBoard(\n",
        "      log_dir=log_dir\n",
        "  )\n",
        "  print(f\"Saving TensorBoard log files to: {log_dir}\")\n",
        "  return tensorboard_callback\n",
        "\n",
        "# Setup checkpoint path\n",
        "checkpoint_path = '/gdrive/MyDrive/UOH Assignment Dataset/cdiscount/CheckPoints/EfficientNet/checkpoint.ckpt' # note: remember saving directly to Colab is temporary\n",
        "\n",
        "# Create a ModelCheckpoint callback that saves the model's weights only\n",
        "checkpoint_callback = tf.keras.callbacks.ModelCheckpoint(filepath=checkpoint_path,\n",
        "                                                         save_weights_only=True, # set to False to save the entire model\n",
        "                                                         save_best_only=False, # set to True to save only the best model instead of a model every epoch \n",
        "                                                         save_freq=\"epoch\", # save every epoch\n",
        "                                                         verbose=1)\n",
        "\n",
        "\n",
        "\n",
        "\n",
        "###------------------------Base Model----------------------------------\n",
        "\n",
        "base_model=tf.keras.applications.EfficientNetB7(include_top=False)\n",
        "base_model.trainable =False\n",
        "\n",
        "#Setup Model architecture\n",
        "\n",
        "inputs= layers.Input(shape=(180,180,3), name=\"input_layers\")\n",
        "x=base_model(inputs,training=False)\n",
        "print(f\"Shape after base_model: {x.shape}\")\n",
        "x=layers.GlobalAveragePooling2D(name=\"GlobalAveragePooling2D_layers\")(x)\n",
        "print(f\"After GlobalAveragePooling2D(): {x.shape}\")\n",
        "outputs=layers.Dense(num_classes, activation=\"softmax\", name=\"output_layers\")(x)\n",
        "model=tf.keras.Model(inputs,outputs)\n",
        "\n",
        "\n",
        "#Getting the summary of the model we created\n",
        "model.summary()\n",
        "\n",
        "#Compile the model\n",
        "model.compile(loss='categorical_crossentropy',\n",
        "              optimizer=\"adam\",\n",
        "              metrics=['accuracy'])\n",
        "\n",
        "#Fit the model\n",
        "\n",
        "history_3=model.fit(\n",
        "    train_gen,\n",
        "    # steps_per_epoch=np.ceil(float(num_train_images) // float(batch_size)),   #num_train_images // batch_size,\n",
        "    epochs = 3,\n",
        "    validation_data = val_gen,\n",
        "    # validation_steps=np.ceil(0.25*(float(num_train_images) // float(batch_size))),  #25% of #num_val_images // batch_size,\n",
        "    callbacks=[checkpoint_callback,create_tensorboard_callback(\"TranferLearning_EfficientNetB7\")],    \n",
        "    verbose=2                \n",
        "    # workers = 4\n",
        "    )\n",
        "\n",
        "\n"
      ],
      "metadata": {
        "id": "NnxXM3UwBhBj",
        "outputId": "9ffb5335-7107-4543-f920-05b723a9b87c",
        "colab": {
          "base_uri": "https://localhost:8080/"
        }
      },
      "execution_count": 19,
      "outputs": [
        {
          "output_type": "stream",
          "name": "stdout",
          "text": [
            "Shape after base_model: (None, 5, 5, 2560)\n",
            "After GlobalAveragePooling2D(): (None, 2560)\n",
            "Model: \"model\"\n",
            "_________________________________________________________________\n",
            " Layer (type)                Output Shape              Param #   \n",
            "=================================================================\n",
            " input_layers (InputLayer)   [(None, 180, 180, 3)]     0         \n",
            "                                                                 \n",
            " efficientnetb7 (Functional)  (None, None, None, 2560)  64097687 \n",
            "                                                                 \n",
            " GlobalAveragePooling2D_laye  (None, 2560)             0         \n",
            " rs (GlobalAveragePooling2D)                                     \n",
            "                                                                 \n",
            " output_layers (Dense)       (None, 5270)              13496470  \n",
            "                                                                 \n",
            "=================================================================\n",
            "Total params: 77,594,157\n",
            "Trainable params: 13,496,470\n",
            "Non-trainable params: 64,097,687\n",
            "_________________________________________________________________\n",
            "Saving TensorBoard log files to: /gdrive/MyDrive/UOH Assignment Dataset/cdiscount/Tensorboard/TranferLearning_EfficientNetB7/20220112-004846\n"
          ]
        },
        {
          "output_type": "stream",
          "name": "stderr",
          "text": [
            "/usr/local/lib/python3.7/dist-packages/keras/engine/functional.py:1410: CustomMaskWarning: Custom mask layers require a config and must override get_config. When loading, the custom mask layer must be passed to the custom_objects argument.\n",
            "  layer_config = serialize_layer_fn(layer)\n"
          ]
        },
        {
          "output_type": "stream",
          "name": "stdout",
          "text": [
            "Epoch 1/3\n",
            "\n",
            "Epoch 00001: saving model to /gdrive/MyDrive/UOH Assignment Dataset/cdiscount/CheckPoints/EfficientNet/checkpoint.ckpt\n",
            "7734/7734 - 5758s - loss: 3.3011 - accuracy: 0.4234 - val_loss: 3.0107 - val_accuracy: 0.4606 - 5758s/epoch - 744ms/step\n",
            "Epoch 2/3\n",
            "\n",
            "Epoch 00002: saving model to /gdrive/MyDrive/UOH Assignment Dataset/cdiscount/CheckPoints/EfficientNet/checkpoint.ckpt\n",
            "7734/7734 - 4831s - loss: 2.4507 - accuracy: 0.5101 - val_loss: 2.9550 - val_accuracy: 0.4768 - 4831s/epoch - 625ms/step\n",
            "Epoch 3/3\n",
            "\n",
            "Epoch 00003: saving model to /gdrive/MyDrive/UOH Assignment Dataset/cdiscount/CheckPoints/EfficientNet/checkpoint.ckpt\n",
            "7734/7734 - 4832s - loss: 2.1231 - accuracy: 0.5532 - val_loss: 2.9524 - val_accuracy: 0.4858 - 4832s/epoch - 625ms/step\n"
          ]
        }
      ]
    },
    {
      "cell_type": "code",
      "source": [
        "# Evaluate on the test data\n",
        "results_histor_3 = model.evaluate(val_gen)\n",
        "results_histor_3"
      ],
      "metadata": {
        "colab": {
          "base_uri": "https://localhost:8080/"
        },
        "id": "lhvTghCrqkSX",
        "outputId": "1547f7cd-588f-429e-bbf9-ef5586ab3ed9"
      },
      "execution_count": 20,
      "outputs": [
        {
          "output_type": "stream",
          "name": "stdout",
          "text": [
            "1894/1894 [==============================] - 958s 506ms/step - loss: 2.9524 - accuracy: 0.4858\n"
          ]
        },
        {
          "output_type": "execute_result",
          "data": {
            "text/plain": [
              "[2.9524197578430176, 0.48579421639442444]"
            ]
          },
          "metadata": {},
          "execution_count": 20
        }
      ]
    },
    {
      "cell_type": "code",
      "source": [
        "results_histor_3"
      ],
      "metadata": {
        "colab": {
          "base_uri": "https://localhost:8080/"
        },
        "id": "B5YagPWIUi-p",
        "outputId": "6d10377d-2bfd-4d02-df7d-66c32281da09"
      },
      "execution_count": 30,
      "outputs": [
        {
          "output_type": "execute_result",
          "data": {
            "text/plain": [
              "[3.015165328979492, 0.496476411819458]"
            ]
          },
          "metadata": {},
          "execution_count": 30
        }
      ]
    },
    {
      "cell_type": "code",
      "source": [
        "# Plot model loss curves\n",
        "plot_loss_curves(history_3)"
      ],
      "metadata": {
        "colab": {
          "base_uri": "https://localhost:8080/",
          "height": 573
        },
        "id": "Emog67iEqYF6",
        "outputId": "3077ac2a-a9b3-469b-c000-c4a000e3c4f4"
      },
      "execution_count": 21,
      "outputs": [
        {
          "output_type": "display_data",
          "data": {
            "image/png": "[encoded data removed]",
            "text/plain": [
              "<Figure size 432x288 with 1 Axes>"
            ]
          },
          "metadata": {
            "needs_background": "light"
          }
        },
        {
          "output_type": "display_data",
          "data": {
            "image/png": "[encoded data removed]",
            "text/plain": [
              "<Figure size 432x288 with 1 Axes>"
            ]
          },
          "metadata": {
            "needs_background": "light"
          }
        }
      ]
    },
    {
      "cell_type": "markdown",
      "source": [
        "#Model3- FIne Tuning "
      ],
      "metadata": {
        "id": "9eVYH43YiU6Z"
      }
    },
    {
      "cell_type": "code",
      "source": [
        "# Load in saved model weights and evaluate model\n",
        "model.load_weights(checkpoint_path)\n",
        "# loaded_weights_model_results = model.evaluate(val_gen)"
      ],
      "metadata": {
        "colab": {
          "base_uri": "https://localhost:8080/"
        },
        "id": "pjYaqHm_iXid",
        "outputId": "b323e315-99ce-4783-badf-46b20c4ee4d2"
      },
      "execution_count": 43,
      "outputs": [
        {
          "output_type": "execute_result",
          "data": {
            "text/plain": [
              "<tensorflow.python.training.tracking.util.CheckpointLoadStatus at 0x7fa1d6341590>"
            ]
          },
          "metadata": {},
          "execution_count": 43
        }
      ]
    },
    {
      "cell_type": "code",
      "source": [
        "# Check to see if loaded model results are very close to native model results (should output True)\n",
        "np.isclose(np.array(results_histor_3), np.array(loaded_weights_model_results))"
      ],
      "metadata": {
        "id": "G1msYUiLxCKx",
        "outputId": "ac1fa803-2c53-4bb1-e4ab-06631944ca01",
        "colab": {
          "base_uri": "https://localhost:8080/"
        }
      },
      "execution_count": 26,
      "outputs": [
        {
          "output_type": "execute_result",
          "data": {
            "text/plain": [
              "array([ True,  True])"
            ]
          },
          "metadata": {},
          "execution_count": 26
        }
      ]
    },
    {
      "cell_type": "code",
      "source": [
        "# Layers in loaded model\n",
        "model.layers"
      ],
      "metadata": {
        "colab": {
          "base_uri": "https://localhost:8080/"
        },
        "id": "dZ_kpnn_itCI",
        "outputId": "fd2de612-78b6-4f2c-9cac-769479795431"
      },
      "execution_count": 44,
      "outputs": [
        {
          "output_type": "execute_result",
          "data": {
            "text/plain": [
              "[<keras.engine.input_layer.InputLayer at 0x7fa1d6829390>,\n",
              " <keras.engine.functional.Functional at 0x7fa1b7986d50>,\n",
              " <keras.layers.pooling.GlobalAveragePooling2D at 0x7fa1d68292d0>,\n",
              " <keras.layers.core.dense.Dense at 0x7fa1b7076f10>]"
            ]
          },
          "metadata": {},
          "execution_count": 44
        }
      ]
    },
    {
      "cell_type": "code",
      "source": [
        "for layer in model.layers:\n",
        "  print(layer.trainable)"
      ],
      "metadata": {
        "colab": {
          "base_uri": "https://localhost:8080/"
        },
        "id": "P5U3wjDHivzE",
        "outputId": "640a8e64-5d58-4de0-a828-1e465d22ad8f"
      },
      "execution_count": 45,
      "outputs": [
        {
          "output_type": "stream",
          "name": "stdout",
          "text": [
            "True\n",
            "True\n",
            "True\n",
            "True\n"
          ]
        }
      ]
    },
    {
      "cell_type": "code",
      "source": [
        "model.summary()"
      ],
      "metadata": {
        "colab": {
          "base_uri": "https://localhost:8080/"
        },
        "id": "mMT_vfjqiyOV",
        "outputId": "b1f11b02-2a70-4ea4-d9c8-9910059a6f1a"
      },
      "execution_count": 46,
      "outputs": [
        {
          "output_type": "stream",
          "name": "stdout",
          "text": [
            "Model: \"model\"\n",
            "_________________________________________________________________\n",
            " Layer (type)                Output Shape              Param #   \n",
            "=================================================================\n",
            " input_layers (InputLayer)   [(None, 180, 180, 3)]     0         \n",
            "                                                                 \n",
            " efficientnetb7 (Functional)  (None, None, None, 2560)  64097687 \n",
            "                                                                 \n",
            " GlobalAveragePooling2D_laye  (None, 2560)             0         \n",
            " rs (GlobalAveragePooling2D)                                     \n",
            "                                                                 \n",
            " output_layers (Dense)       (None, 5270)              13496470  \n",
            "                                                                 \n",
            "=================================================================\n",
            "Total params: 77,594,157\n",
            "Trainable params: 18,831,670\n",
            "Non-trainable params: 58,762,487\n",
            "_________________________________________________________________\n"
          ]
        }
      ]
    },
    {
      "cell_type": "code",
      "source": [
        "print(len(model.layers[1].trainable_variables))"
      ],
      "metadata": {
        "id": "2gjcfLa-2-9v",
        "outputId": "b6bcd3dd-b128-4846-f968-4b96fe34ff4b",
        "colab": {
          "base_uri": "https://localhost:8080/"
        }
      },
      "execution_count": 48,
      "outputs": [
        {
          "output_type": "stream",
          "name": "stdout",
          "text": [
            "10\n"
          ]
        }
      ]
    },
    {
      "cell_type": "code",
      "source": [
        "# How many layers are trainable in our base model?\n",
        "print(len(model.layers[2].trainable_variables)) # layer at index 2 is the EfficientNetB7 layer (the base model)\n",
        "print(len(base_model.trainable_variables))"
      ],
      "metadata": {
        "colab": {
          "base_uri": "https://localhost:8080/"
        },
        "id": "U-CfywYfi1Qw",
        "outputId": "3920dda2-f4de-4038-f879-7e5a261e4716"
      },
      "execution_count": 30,
      "outputs": [
        {
          "output_type": "stream",
          "name": "stdout",
          "text": [
            "0\n",
            "0\n"
          ]
        }
      ]
    },
    {
      "cell_type": "code",
      "source": [
        "# Check which layers are tuneable (trainable)\n",
        "for layer_number, layer in enumerate(base_model.layers):\n",
        "  print(layer_number, layer.name, layer.trainable)"
      ],
      "metadata": {
        "colab": {
          "base_uri": "https://localhost:8080/"
        },
        "id": "iRHaCe4wjBJ_",
        "outputId": "9858b955-1cb3-4829-ccbc-9c6f3cdd6329"
      },
      "execution_count": 49,
      "outputs": [
        {
          "output_type": "stream",
          "name": "stdout",
          "text": [
            "0 input_2 False\n",
            "1 rescaling_1 False\n",
            "2 normalization_1 False\n",
            "3 stem_conv_pad False\n",
            "4 stem_conv False\n",
            "5 stem_bn False\n",
            "6 stem_activation False\n",
            "7 block1a_dwconv False\n",
            "8 block1a_bn False\n",
            "9 block1a_activation False\n",
            "10 block1a_se_squeeze False\n",
            "11 block1a_se_reshape False\n",
            "12 block1a_se_reduce False\n",
            "13 block1a_se_expand False\n",
            "14 block1a_se_excite False\n",
            "15 block1a_project_conv False\n",
            "16 block1a_project_bn False\n",
            "17 block1b_dwconv False\n",
            "18 block1b_bn False\n",
            "19 block1b_activation False\n",
            "20 block1b_se_squeeze False\n",
            "21 block1b_se_reshape False\n",
            "22 block1b_se_reduce False\n",
            "23 block1b_se_expand False\n",
            "24 block1b_se_excite False\n",
            "25 block1b_project_conv False\n",
            "26 block1b_project_bn False\n",
            "27 block1b_drop False\n",
            "28 block1b_add False\n",
            "29 block1c_dwconv False\n",
            "30 block1c_bn False\n",
            "31 block1c_activation False\n",
            "32 block1c_se_squeeze False\n",
            "33 block1c_se_reshape False\n",
            "34 block1c_se_reduce False\n",
            "35 block1c_se_expand False\n",
            "36 block1c_se_excite False\n",
            "37 block1c_project_conv False\n",
            "38 block1c_project_bn False\n",
            "39 block1c_drop False\n",
            "40 block1c_add False\n",
            "41 block1d_dwconv False\n",
            "42 block1d_bn False\n",
            "43 block1d_activation False\n",
            "44 block1d_se_squeeze False\n",
            "45 block1d_se_reshape False\n",
            "46 block1d_se_reduce False\n",
            "47 block1d_se_expand False\n",
            "48 block1d_se_excite False\n",
            "49 block1d_project_conv False\n",
            "50 block1d_project_bn False\n",
            "51 block1d_drop False\n",
            "52 block1d_add False\n",
            "53 block2a_expand_conv False\n",
            "54 block2a_expand_bn False\n",
            "55 block2a_expand_activation False\n",
            "56 block2a_dwconv_pad False\n",
            "57 block2a_dwconv False\n",
            "58 block2a_bn False\n",
            "59 block2a_activation False\n",
            "60 block2a_se_squeeze False\n",
            "61 block2a_se_reshape False\n",
            "62 block2a_se_reduce False\n",
            "63 block2a_se_expand False\n",
            "64 block2a_se_excite False\n",
            "65 block2a_project_conv False\n",
            "66 block2a_project_bn False\n",
            "67 block2b_expand_conv False\n",
            "68 block2b_expand_bn False\n",
            "69 block2b_expand_activation False\n",
            "70 block2b_dwconv False\n",
            "71 block2b_bn False\n",
            "72 block2b_activation False\n",
            "73 block2b_se_squeeze False\n",
            "74 block2b_se_reshape False\n",
            "75 block2b_se_reduce False\n",
            "76 block2b_se_expand False\n",
            "77 block2b_se_excite False\n",
            "78 block2b_project_conv False\n",
            "79 block2b_project_bn False\n",
            "80 block2b_drop False\n",
            "81 block2b_add False\n",
            "82 block2c_expand_conv False\n",
            "83 block2c_expand_bn False\n",
            "84 block2c_expand_activation False\n",
            "85 block2c_dwconv False\n",
            "86 block2c_bn False\n",
            "87 block2c_activation False\n",
            "88 block2c_se_squeeze False\n",
            "89 block2c_se_reshape False\n",
            "90 block2c_se_reduce False\n",
            "91 block2c_se_expand False\n",
            "92 block2c_se_excite False\n",
            "93 block2c_project_conv False\n",
            "94 block2c_project_bn False\n",
            "95 block2c_drop False\n",
            "96 block2c_add False\n",
            "97 block2d_expand_conv False\n",
            "98 block2d_expand_bn False\n",
            "99 block2d_expand_activation False\n",
            "100 block2d_dwconv False\n",
            "101 block2d_bn False\n",
            "102 block2d_activation False\n",
            "103 block2d_se_squeeze False\n",
            "104 block2d_se_reshape False\n",
            "105 block2d_se_reduce False\n",
            "106 block2d_se_expand False\n",
            "107 block2d_se_excite False\n",
            "108 block2d_project_conv False\n",
            "109 block2d_project_bn False\n",
            "110 block2d_drop False\n",
            "111 block2d_add False\n",
            "112 block2e_expand_conv False\n",
            "113 block2e_expand_bn False\n",
            "114 block2e_expand_activation False\n",
            "115 block2e_dwconv False\n",
            "116 block2e_bn False\n",
            "117 block2e_activation False\n",
            "118 block2e_se_squeeze False\n",
            "119 block2e_se_reshape False\n",
            "120 block2e_se_reduce False\n",
            "121 block2e_se_expand False\n",
            "122 block2e_se_excite False\n",
            "123 block2e_project_conv False\n",
            "124 block2e_project_bn False\n",
            "125 block2e_drop False\n",
            "126 block2e_add False\n",
            "127 block2f_expand_conv False\n",
            "128 block2f_expand_bn False\n",
            "129 block2f_expand_activation False\n",
            "130 block2f_dwconv False\n",
            "131 block2f_bn False\n",
            "132 block2f_activation False\n",
            "133 block2f_se_squeeze False\n",
            "134 block2f_se_reshape False\n",
            "135 block2f_se_reduce False\n",
            "136 block2f_se_expand False\n",
            "137 block2f_se_excite False\n",
            "138 block2f_project_conv False\n",
            "139 block2f_project_bn False\n",
            "140 block2f_drop False\n",
            "141 block2f_add False\n",
            "142 block2g_expand_conv False\n",
            "143 block2g_expand_bn False\n",
            "144 block2g_expand_activation False\n",
            "145 block2g_dwconv False\n",
            "146 block2g_bn False\n",
            "147 block2g_activation False\n",
            "148 block2g_se_squeeze False\n",
            "149 block2g_se_reshape False\n",
            "150 block2g_se_reduce False\n",
            "151 block2g_se_expand False\n",
            "152 block2g_se_excite False\n",
            "153 block2g_project_conv False\n",
            "154 block2g_project_bn False\n",
            "155 block2g_drop False\n",
            "156 block2g_add False\n",
            "157 block3a_expand_conv False\n",
            "158 block3a_expand_bn False\n",
            "159 block3a_expand_activation False\n",
            "160 block3a_dwconv_pad False\n",
            "161 block3a_dwconv False\n",
            "162 block3a_bn False\n",
            "163 block3a_activation False\n",
            "164 block3a_se_squeeze False\n",
            "165 block3a_se_reshape False\n",
            "166 block3a_se_reduce False\n",
            "167 block3a_se_expand False\n",
            "168 block3a_se_excite False\n",
            "169 block3a_project_conv False\n",
            "170 block3a_project_bn False\n",
            "171 block3b_expand_conv False\n",
            "172 block3b_expand_bn False\n",
            "173 block3b_expand_activation False\n",
            "174 block3b_dwconv False\n",
            "175 block3b_bn False\n",
            "176 block3b_activation False\n",
            "177 block3b_se_squeeze False\n",
            "178 block3b_se_reshape False\n",
            "179 block3b_se_reduce False\n",
            "180 block3b_se_expand False\n",
            "181 block3b_se_excite False\n",
            "182 block3b_project_conv False\n",
            "183 block3b_project_bn False\n",
            "184 block3b_drop False\n",
            "185 block3b_add False\n",
            "186 block3c_expand_conv False\n",
            "187 block3c_expand_bn False\n",
            "188 block3c_expand_activation False\n",
            "189 block3c_dwconv False\n",
            "190 block3c_bn False\n",
            "191 block3c_activation False\n",
            "192 block3c_se_squeeze False\n",
            "193 block3c_se_reshape False\n",
            "194 block3c_se_reduce False\n",
            "195 block3c_se_expand False\n",
            "196 block3c_se_excite False\n",
            "197 block3c_project_conv False\n",
            "198 block3c_project_bn False\n",
            "199 block3c_drop False\n",
            "200 block3c_add False\n",
            "201 block3d_expand_conv False\n",
            "202 block3d_expand_bn False\n",
            "203 block3d_expand_activation False\n",
            "204 block3d_dwconv False\n",
            "205 block3d_bn False\n",
            "206 block3d_activation False\n",
            "207 block3d_se_squeeze False\n",
            "208 block3d_se_reshape False\n",
            "209 block3d_se_reduce False\n",
            "210 block3d_se_expand False\n",
            "211 block3d_se_excite False\n",
            "212 block3d_project_conv False\n",
            "213 block3d_project_bn False\n",
            "214 block3d_drop False\n",
            "215 block3d_add False\n",
            "216 block3e_expand_conv False\n",
            "217 block3e_expand_bn False\n",
            "218 block3e_expand_activation False\n",
            "219 block3e_dwconv False\n",
            "220 block3e_bn False\n",
            "221 block3e_activation False\n",
            "222 block3e_se_squeeze False\n",
            "223 block3e_se_reshape False\n",
            "224 block3e_se_reduce False\n",
            "225 block3e_se_expand False\n",
            "226 block3e_se_excite False\n",
            "227 block3e_project_conv False\n",
            "228 block3e_project_bn False\n",
            "229 block3e_drop False\n",
            "230 block3e_add False\n",
            "231 block3f_expand_conv False\n",
            "232 block3f_expand_bn False\n",
            "233 block3f_expand_activation False\n",
            "234 block3f_dwconv False\n",
            "235 block3f_bn False\n",
            "236 block3f_activation False\n",
            "237 block3f_se_squeeze False\n",
            "238 block3f_se_reshape False\n",
            "239 block3f_se_reduce False\n",
            "240 block3f_se_expand False\n",
            "241 block3f_se_excite False\n",
            "242 block3f_project_conv False\n",
            "243 block3f_project_bn False\n",
            "244 block3f_drop False\n",
            "245 block3f_add False\n",
            "246 block3g_expand_conv False\n",
            "247 block3g_expand_bn False\n",
            "248 block3g_expand_activation False\n",
            "249 block3g_dwconv False\n",
            "250 block3g_bn False\n",
            "251 block3g_activation False\n",
            "252 block3g_se_squeeze False\n",
            "253 block3g_se_reshape False\n",
            "254 block3g_se_reduce False\n",
            "255 block3g_se_expand False\n",
            "256 block3g_se_excite False\n",
            "257 block3g_project_conv False\n",
            "258 block3g_project_bn False\n",
            "259 block3g_drop False\n",
            "260 block3g_add False\n",
            "261 block4a_expand_conv False\n",
            "262 block4a_expand_bn False\n",
            "263 block4a_expand_activation False\n",
            "264 block4a_dwconv_pad False\n",
            "265 block4a_dwconv False\n",
            "266 block4a_bn False\n",
            "267 block4a_activation False\n",
            "268 block4a_se_squeeze False\n",
            "269 block4a_se_reshape False\n",
            "270 block4a_se_reduce False\n",
            "271 block4a_se_expand False\n",
            "272 block4a_se_excite False\n",
            "273 block4a_project_conv False\n",
            "274 block4a_project_bn False\n",
            "275 block4b_expand_conv False\n",
            "276 block4b_expand_bn False\n",
            "277 block4b_expand_activation False\n",
            "278 block4b_dwconv False\n",
            "279 block4b_bn False\n",
            "280 block4b_activation False\n",
            "281 block4b_se_squeeze False\n",
            "282 block4b_se_reshape False\n",
            "283 block4b_se_reduce False\n",
            "284 block4b_se_expand False\n",
            "285 block4b_se_excite False\n",
            "286 block4b_project_conv False\n",
            "287 block4b_project_bn False\n",
            "288 block4b_drop False\n",
            "289 block4b_add False\n",
            "290 block4c_expand_conv False\n",
            "291 block4c_expand_bn False\n",
            "292 block4c_expand_activation False\n",
            "293 block4c_dwconv False\n",
            "294 block4c_bn False\n",
            "295 block4c_activation False\n",
            "296 block4c_se_squeeze False\n",
            "297 block4c_se_reshape False\n",
            "298 block4c_se_reduce False\n",
            "299 block4c_se_expand False\n",
            "300 block4c_se_excite False\n",
            "301 block4c_project_conv False\n",
            "302 block4c_project_bn False\n",
            "303 block4c_drop False\n",
            "304 block4c_add False\n",
            "305 block4d_expand_conv False\n",
            "306 block4d_expand_bn False\n",
            "307 block4d_expand_activation False\n",
            "308 block4d_dwconv False\n",
            "309 block4d_bn False\n",
            "310 block4d_activation False\n",
            "311 block4d_se_squeeze False\n",
            "312 block4d_se_reshape False\n",
            "313 block4d_se_reduce False\n",
            "314 block4d_se_expand False\n",
            "315 block4d_se_excite False\n",
            "316 block4d_project_conv False\n",
            "317 block4d_project_bn False\n",
            "318 block4d_drop False\n",
            "319 block4d_add False\n",
            "320 block4e_expand_conv False\n",
            "321 block4e_expand_bn False\n",
            "322 block4e_expand_activation False\n",
            "323 block4e_dwconv False\n",
            "324 block4e_bn False\n",
            "325 block4e_activation False\n",
            "326 block4e_se_squeeze False\n",
            "327 block4e_se_reshape False\n",
            "328 block4e_se_reduce False\n",
            "329 block4e_se_expand False\n",
            "330 block4e_se_excite False\n",
            "331 block4e_project_conv False\n",
            "332 block4e_project_bn False\n",
            "333 block4e_drop False\n",
            "334 block4e_add False\n",
            "335 block4f_expand_conv False\n",
            "336 block4f_expand_bn False\n",
            "337 block4f_expand_activation False\n",
            "338 block4f_dwconv False\n",
            "339 block4f_bn False\n",
            "340 block4f_activation False\n",
            "341 block4f_se_squeeze False\n",
            "342 block4f_se_reshape False\n",
            "343 block4f_se_reduce False\n",
            "344 block4f_se_expand False\n",
            "345 block4f_se_excite False\n",
            "346 block4f_project_conv False\n",
            "347 block4f_project_bn False\n",
            "348 block4f_drop False\n",
            "349 block4f_add False\n",
            "350 block4g_expand_conv False\n",
            "351 block4g_expand_bn False\n",
            "352 block4g_expand_activation False\n",
            "353 block4g_dwconv False\n",
            "354 block4g_bn False\n",
            "355 block4g_activation False\n",
            "356 block4g_se_squeeze False\n",
            "357 block4g_se_reshape False\n",
            "358 block4g_se_reduce False\n",
            "359 block4g_se_expand False\n",
            "360 block4g_se_excite False\n",
            "361 block4g_project_conv False\n",
            "362 block4g_project_bn False\n",
            "363 block4g_drop False\n",
            "364 block4g_add False\n",
            "365 block4h_expand_conv False\n",
            "366 block4h_expand_bn False\n",
            "367 block4h_expand_activation False\n",
            "368 block4h_dwconv False\n",
            "369 block4h_bn False\n",
            "370 block4h_activation False\n",
            "371 block4h_se_squeeze False\n",
            "372 block4h_se_reshape False\n",
            "373 block4h_se_reduce False\n",
            "374 block4h_se_expand False\n",
            "375 block4h_se_excite False\n",
            "376 block4h_project_conv False\n",
            "377 block4h_project_bn False\n",
            "378 block4h_drop False\n",
            "379 block4h_add False\n",
            "380 block4i_expand_conv False\n",
            "381 block4i_expand_bn False\n",
            "382 block4i_expand_activation False\n",
            "383 block4i_dwconv False\n",
            "384 block4i_bn False\n",
            "385 block4i_activation False\n",
            "386 block4i_se_squeeze False\n",
            "387 block4i_se_reshape False\n",
            "388 block4i_se_reduce False\n",
            "389 block4i_se_expand False\n",
            "390 block4i_se_excite False\n",
            "391 block4i_project_conv False\n",
            "392 block4i_project_bn False\n",
            "393 block4i_drop False\n",
            "394 block4i_add False\n",
            "395 block4j_expand_conv False\n",
            "396 block4j_expand_bn False\n",
            "397 block4j_expand_activation False\n",
            "398 block4j_dwconv False\n",
            "399 block4j_bn False\n",
            "400 block4j_activation False\n",
            "401 block4j_se_squeeze False\n",
            "402 block4j_se_reshape False\n",
            "403 block4j_se_reduce False\n",
            "404 block4j_se_expand False\n",
            "405 block4j_se_excite False\n",
            "406 block4j_project_conv False\n",
            "407 block4j_project_bn False\n",
            "408 block4j_drop False\n",
            "409 block4j_add False\n",
            "410 block5a_expand_conv False\n",
            "411 block5a_expand_bn False\n",
            "412 block5a_expand_activation False\n",
            "413 block5a_dwconv False\n",
            "414 block5a_bn False\n",
            "415 block5a_activation False\n",
            "416 block5a_se_squeeze False\n",
            "417 block5a_se_reshape False\n",
            "418 block5a_se_reduce False\n",
            "419 block5a_se_expand False\n",
            "420 block5a_se_excite False\n",
            "421 block5a_project_conv False\n",
            "422 block5a_project_bn False\n",
            "423 block5b_expand_conv False\n",
            "424 block5b_expand_bn False\n",
            "425 block5b_expand_activation False\n",
            "426 block5b_dwconv False\n",
            "427 block5b_bn False\n",
            "428 block5b_activation False\n",
            "429 block5b_se_squeeze False\n",
            "430 block5b_se_reshape False\n",
            "431 block5b_se_reduce False\n",
            "432 block5b_se_expand False\n",
            "433 block5b_se_excite False\n",
            "434 block5b_project_conv False\n",
            "435 block5b_project_bn False\n",
            "436 block5b_drop False\n",
            "437 block5b_add False\n",
            "438 block5c_expand_conv False\n",
            "439 block5c_expand_bn False\n",
            "440 block5c_expand_activation False\n",
            "441 block5c_dwconv False\n",
            "442 block5c_bn False\n",
            "443 block5c_activation False\n",
            "444 block5c_se_squeeze False\n",
            "445 block5c_se_reshape False\n",
            "446 block5c_se_reduce False\n",
            "447 block5c_se_expand False\n",
            "448 block5c_se_excite False\n",
            "449 block5c_project_conv False\n",
            "450 block5c_project_bn False\n",
            "451 block5c_drop False\n",
            "452 block5c_add False\n",
            "453 block5d_expand_conv False\n",
            "454 block5d_expand_bn False\n",
            "455 block5d_expand_activation False\n",
            "456 block5d_dwconv False\n",
            "457 block5d_bn False\n",
            "458 block5d_activation False\n",
            "459 block5d_se_squeeze False\n",
            "460 block5d_se_reshape False\n",
            "461 block5d_se_reduce False\n",
            "462 block5d_se_expand False\n",
            "463 block5d_se_excite False\n",
            "464 block5d_project_conv False\n",
            "465 block5d_project_bn False\n",
            "466 block5d_drop False\n",
            "467 block5d_add False\n",
            "468 block5e_expand_conv False\n",
            "469 block5e_expand_bn False\n",
            "470 block5e_expand_activation False\n",
            "471 block5e_dwconv False\n",
            "472 block5e_bn False\n",
            "473 block5e_activation False\n",
            "474 block5e_se_squeeze False\n",
            "475 block5e_se_reshape False\n",
            "476 block5e_se_reduce False\n",
            "477 block5e_se_expand False\n",
            "478 block5e_se_excite False\n",
            "479 block5e_project_conv False\n",
            "480 block5e_project_bn False\n",
            "481 block5e_drop False\n",
            "482 block5e_add False\n",
            "483 block5f_expand_conv False\n",
            "484 block5f_expand_bn False\n",
            "485 block5f_expand_activation False\n",
            "486 block5f_dwconv False\n",
            "487 block5f_bn False\n",
            "488 block5f_activation False\n",
            "489 block5f_se_squeeze False\n",
            "490 block5f_se_reshape False\n",
            "491 block5f_se_reduce False\n",
            "492 block5f_se_expand False\n",
            "493 block5f_se_excite False\n",
            "494 block5f_project_conv False\n",
            "495 block5f_project_bn False\n",
            "496 block5f_drop False\n",
            "497 block5f_add False\n",
            "498 block5g_expand_conv False\n",
            "499 block5g_expand_bn False\n",
            "500 block5g_expand_activation False\n",
            "501 block5g_dwconv False\n",
            "502 block5g_bn False\n",
            "503 block5g_activation False\n",
            "504 block5g_se_squeeze False\n",
            "505 block5g_se_reshape False\n",
            "506 block5g_se_reduce False\n",
            "507 block5g_se_expand False\n",
            "508 block5g_se_excite False\n",
            "509 block5g_project_conv False\n",
            "510 block5g_project_bn False\n",
            "511 block5g_drop False\n",
            "512 block5g_add False\n",
            "513 block5h_expand_conv False\n",
            "514 block5h_expand_bn False\n",
            "515 block5h_expand_activation False\n",
            "516 block5h_dwconv False\n",
            "517 block5h_bn False\n",
            "518 block5h_activation False\n",
            "519 block5h_se_squeeze False\n",
            "520 block5h_se_reshape False\n",
            "521 block5h_se_reduce False\n",
            "522 block5h_se_expand False\n",
            "523 block5h_se_excite False\n",
            "524 block5h_project_conv False\n",
            "525 block5h_project_bn False\n",
            "526 block5h_drop False\n",
            "527 block5h_add False\n",
            "528 block5i_expand_conv False\n",
            "529 block5i_expand_bn False\n",
            "530 block5i_expand_activation False\n",
            "531 block5i_dwconv False\n",
            "532 block5i_bn False\n",
            "533 block5i_activation False\n",
            "534 block5i_se_squeeze False\n",
            "535 block5i_se_reshape False\n",
            "536 block5i_se_reduce False\n",
            "537 block5i_se_expand False\n",
            "538 block5i_se_excite False\n",
            "539 block5i_project_conv False\n",
            "540 block5i_project_bn False\n",
            "541 block5i_drop False\n",
            "542 block5i_add False\n",
            "543 block5j_expand_conv False\n",
            "544 block5j_expand_bn False\n",
            "545 block5j_expand_activation False\n",
            "546 block5j_dwconv False\n",
            "547 block5j_bn False\n",
            "548 block5j_activation False\n",
            "549 block5j_se_squeeze False\n",
            "550 block5j_se_reshape False\n",
            "551 block5j_se_reduce False\n",
            "552 block5j_se_expand False\n",
            "553 block5j_se_excite False\n",
            "554 block5j_project_conv False\n",
            "555 block5j_project_bn False\n",
            "556 block5j_drop False\n",
            "557 block5j_add False\n",
            "558 block6a_expand_conv False\n",
            "559 block6a_expand_bn False\n",
            "560 block6a_expand_activation False\n",
            "561 block6a_dwconv_pad False\n",
            "562 block6a_dwconv False\n",
            "563 block6a_bn False\n",
            "564 block6a_activation False\n",
            "565 block6a_se_squeeze False\n",
            "566 block6a_se_reshape False\n",
            "567 block6a_se_reduce False\n",
            "568 block6a_se_expand False\n",
            "569 block6a_se_excite False\n",
            "570 block6a_project_conv False\n",
            "571 block6a_project_bn False\n",
            "572 block6b_expand_conv False\n",
            "573 block6b_expand_bn False\n",
            "574 block6b_expand_activation False\n",
            "575 block6b_dwconv False\n",
            "576 block6b_bn False\n",
            "577 block6b_activation False\n",
            "578 block6b_se_squeeze False\n",
            "579 block6b_se_reshape False\n",
            "580 block6b_se_reduce False\n",
            "581 block6b_se_expand False\n",
            "582 block6b_se_excite False\n",
            "583 block6b_project_conv False\n",
            "584 block6b_project_bn False\n",
            "585 block6b_drop False\n",
            "586 block6b_add False\n",
            "587 block6c_expand_conv False\n",
            "588 block6c_expand_bn False\n",
            "589 block6c_expand_activation False\n",
            "590 block6c_dwconv False\n",
            "591 block6c_bn False\n",
            "592 block6c_activation False\n",
            "593 block6c_se_squeeze False\n",
            "594 block6c_se_reshape False\n",
            "595 block6c_se_reduce False\n",
            "596 block6c_se_expand False\n",
            "597 block6c_se_excite False\n",
            "598 block6c_project_conv False\n",
            "599 block6c_project_bn False\n",
            "600 block6c_drop False\n",
            "601 block6c_add False\n",
            "602 block6d_expand_conv False\n",
            "603 block6d_expand_bn False\n",
            "604 block6d_expand_activation False\n",
            "605 block6d_dwconv False\n",
            "606 block6d_bn False\n",
            "607 block6d_activation False\n",
            "608 block6d_se_squeeze False\n",
            "609 block6d_se_reshape False\n",
            "610 block6d_se_reduce False\n",
            "611 block6d_se_expand False\n",
            "612 block6d_se_excite False\n",
            "613 block6d_project_conv False\n",
            "614 block6d_project_bn False\n",
            "615 block6d_drop False\n",
            "616 block6d_add False\n",
            "617 block6e_expand_conv False\n",
            "618 block6e_expand_bn False\n",
            "619 block6e_expand_activation False\n",
            "620 block6e_dwconv False\n",
            "621 block6e_bn False\n",
            "622 block6e_activation False\n",
            "623 block6e_se_squeeze False\n",
            "624 block6e_se_reshape False\n",
            "625 block6e_se_reduce False\n",
            "626 block6e_se_expand False\n",
            "627 block6e_se_excite False\n",
            "628 block6e_project_conv False\n",
            "629 block6e_project_bn False\n",
            "630 block6e_drop False\n",
            "631 block6e_add False\n",
            "632 block6f_expand_conv False\n",
            "633 block6f_expand_bn False\n",
            "634 block6f_expand_activation False\n",
            "635 block6f_dwconv False\n",
            "636 block6f_bn False\n",
            "637 block6f_activation False\n",
            "638 block6f_se_squeeze False\n",
            "639 block6f_se_reshape False\n",
            "640 block6f_se_reduce False\n",
            "641 block6f_se_expand False\n",
            "642 block6f_se_excite False\n",
            "643 block6f_project_conv False\n",
            "644 block6f_project_bn False\n",
            "645 block6f_drop False\n",
            "646 block6f_add False\n",
            "647 block6g_expand_conv False\n",
            "648 block6g_expand_bn False\n",
            "649 block6g_expand_activation False\n",
            "650 block6g_dwconv False\n",
            "651 block6g_bn False\n",
            "652 block6g_activation False\n",
            "653 block6g_se_squeeze False\n",
            "654 block6g_se_reshape False\n",
            "655 block6g_se_reduce False\n",
            "656 block6g_se_expand False\n",
            "657 block6g_se_excite False\n",
            "658 block6g_project_conv False\n",
            "659 block6g_project_bn False\n",
            "660 block6g_drop False\n",
            "661 block6g_add False\n",
            "662 block6h_expand_conv False\n",
            "663 block6h_expand_bn False\n",
            "664 block6h_expand_activation False\n",
            "665 block6h_dwconv False\n",
            "666 block6h_bn False\n",
            "667 block6h_activation False\n",
            "668 block6h_se_squeeze False\n",
            "669 block6h_se_reshape False\n",
            "670 block6h_se_reduce False\n",
            "671 block6h_se_expand False\n",
            "672 block6h_se_excite False\n",
            "673 block6h_project_conv False\n",
            "674 block6h_project_bn False\n",
            "675 block6h_drop False\n",
            "676 block6h_add False\n",
            "677 block6i_expand_conv False\n",
            "678 block6i_expand_bn False\n",
            "679 block6i_expand_activation False\n",
            "680 block6i_dwconv False\n",
            "681 block6i_bn False\n",
            "682 block6i_activation False\n",
            "683 block6i_se_squeeze False\n",
            "684 block6i_se_reshape False\n",
            "685 block6i_se_reduce False\n",
            "686 block6i_se_expand False\n",
            "687 block6i_se_excite False\n",
            "688 block6i_project_conv False\n",
            "689 block6i_project_bn False\n",
            "690 block6i_drop False\n",
            "691 block6i_add False\n",
            "692 block6j_expand_conv False\n",
            "693 block6j_expand_bn False\n",
            "694 block6j_expand_activation False\n",
            "695 block6j_dwconv False\n",
            "696 block6j_bn False\n",
            "697 block6j_activation False\n",
            "698 block6j_se_squeeze False\n",
            "699 block6j_se_reshape False\n",
            "700 block6j_se_reduce False\n",
            "701 block6j_se_expand False\n",
            "702 block6j_se_excite False\n",
            "703 block6j_project_conv False\n",
            "704 block6j_project_bn False\n",
            "705 block6j_drop False\n",
            "706 block6j_add False\n",
            "707 block6k_expand_conv False\n",
            "708 block6k_expand_bn False\n",
            "709 block6k_expand_activation False\n",
            "710 block6k_dwconv False\n",
            "711 block6k_bn False\n",
            "712 block6k_activation False\n",
            "713 block6k_se_squeeze False\n",
            "714 block6k_se_reshape False\n",
            "715 block6k_se_reduce False\n",
            "716 block6k_se_expand False\n",
            "717 block6k_se_excite False\n",
            "718 block6k_project_conv False\n",
            "719 block6k_project_bn False\n",
            "720 block6k_drop False\n",
            "721 block6k_add False\n",
            "722 block6l_expand_conv False\n",
            "723 block6l_expand_bn False\n",
            "724 block6l_expand_activation False\n",
            "725 block6l_dwconv False\n",
            "726 block6l_bn False\n",
            "727 block6l_activation False\n",
            "728 block6l_se_squeeze False\n",
            "729 block6l_se_reshape False\n",
            "730 block6l_se_reduce False\n",
            "731 block6l_se_expand False\n",
            "732 block6l_se_excite False\n",
            "733 block6l_project_conv False\n",
            "734 block6l_project_bn False\n",
            "735 block6l_drop False\n",
            "736 block6l_add False\n",
            "737 block6m_expand_conv False\n",
            "738 block6m_expand_bn False\n",
            "739 block6m_expand_activation False\n",
            "740 block6m_dwconv False\n",
            "741 block6m_bn False\n",
            "742 block6m_activation False\n",
            "743 block6m_se_squeeze False\n",
            "744 block6m_se_reshape False\n",
            "745 block6m_se_reduce False\n",
            "746 block6m_se_expand False\n",
            "747 block6m_se_excite False\n",
            "748 block6m_project_conv False\n",
            "749 block6m_project_bn False\n",
            "750 block6m_drop False\n",
            "751 block6m_add False\n",
            "752 block7a_expand_conv False\n",
            "753 block7a_expand_bn False\n",
            "754 block7a_expand_activation False\n",
            "755 block7a_dwconv False\n",
            "756 block7a_bn False\n",
            "757 block7a_activation False\n",
            "758 block7a_se_squeeze False\n",
            "759 block7a_se_reshape False\n",
            "760 block7a_se_reduce False\n",
            "761 block7a_se_expand False\n",
            "762 block7a_se_excite False\n",
            "763 block7a_project_conv False\n",
            "764 block7a_project_bn False\n",
            "765 block7b_expand_conv False\n",
            "766 block7b_expand_bn False\n",
            "767 block7b_expand_activation False\n",
            "768 block7b_dwconv False\n",
            "769 block7b_bn False\n",
            "770 block7b_activation False\n",
            "771 block7b_se_squeeze False\n",
            "772 block7b_se_reshape False\n",
            "773 block7b_se_reduce False\n",
            "774 block7b_se_expand False\n",
            "775 block7b_se_excite False\n",
            "776 block7b_project_conv False\n",
            "777 block7b_project_bn False\n",
            "778 block7b_drop False\n",
            "779 block7b_add False\n",
            "780 block7c_expand_conv False\n",
            "781 block7c_expand_bn False\n",
            "782 block7c_expand_activation False\n",
            "783 block7c_dwconv False\n",
            "784 block7c_bn False\n",
            "785 block7c_activation False\n",
            "786 block7c_se_squeeze False\n",
            "787 block7c_se_reshape False\n",
            "788 block7c_se_reduce False\n",
            "789 block7c_se_expand False\n",
            "790 block7c_se_excite False\n",
            "791 block7c_project_conv False\n",
            "792 block7c_project_bn False\n",
            "793 block7c_drop False\n",
            "794 block7c_add False\n",
            "795 block7d_expand_conv False\n",
            "796 block7d_expand_bn False\n",
            "797 block7d_expand_activation False\n",
            "798 block7d_dwconv False\n",
            "799 block7d_bn False\n",
            "800 block7d_activation False\n",
            "801 block7d_se_squeeze True\n",
            "802 block7d_se_reshape True\n",
            "803 block7d_se_reduce True\n",
            "804 block7d_se_expand True\n",
            "805 block7d_se_excite True\n",
            "806 block7d_project_conv True\n",
            "807 block7d_project_bn True\n",
            "808 block7d_drop True\n",
            "809 block7d_add True\n",
            "810 top_conv True\n",
            "811 top_bn True\n",
            "812 top_activation True\n"
          ]
        }
      ]
    },
    {
      "cell_type": "code",
      "source": [
        "base_model.trainable = True\n",
        "\n",
        "# Freeze all layers except for the last 12\n",
        "for layer in base_model.layers[:-12]:\n",
        "  layer.trainable = False\n",
        "\n",
        "# Recompile the model (always recompile after any adjustments to a model)\n",
        "model.compile(loss=\"categorical_crossentropy\",\n",
        "              optimizer=tf.keras.optimizers.Adam(learning_rate=0.0001), # lr is 10x lower than before for fine-tuning\n",
        "              metrics=[\"accuracy\"])"
      ],
      "metadata": {
        "id": "4PgykqBnjdfB"
      },
      "execution_count": 33,
      "outputs": []
    },
    {
      "cell_type": "code",
      "source": [
        "# Check which layers are tuneable (trainable)\n",
        "for layer_number, layer in enumerate(base_model.layers):\n",
        "  print(layer_number, layer.name, layer.trainable)"
      ],
      "metadata": {
        "colab": {
          "base_uri": "https://localhost:8080/"
        },
        "id": "3j0m3AL2jn83",
        "outputId": "1febf920-409d-4e3f-8f2b-035a2b534421"
      },
      "execution_count": 34,
      "outputs": [
        {
          "output_type": "stream",
          "name": "stdout",
          "text": [
            "0 input_2 False\n",
            "1 rescaling_1 False\n",
            "2 normalization_1 False\n",
            "3 stem_conv_pad False\n",
            "4 stem_conv False\n",
            "5 stem_bn False\n",
            "6 stem_activation False\n",
            "7 block1a_dwconv False\n",
            "8 block1a_bn False\n",
            "9 block1a_activation False\n",
            "10 block1a_se_squeeze False\n",
            "11 block1a_se_reshape False\n",
            "12 block1a_se_reduce False\n",
            "13 block1a_se_expand False\n",
            "14 block1a_se_excite False\n",
            "15 block1a_project_conv False\n",
            "16 block1a_project_bn False\n",
            "17 block1b_dwconv False\n",
            "18 block1b_bn False\n",
            "19 block1b_activation False\n",
            "20 block1b_se_squeeze False\n",
            "21 block1b_se_reshape False\n",
            "22 block1b_se_reduce False\n",
            "23 block1b_se_expand False\n",
            "24 block1b_se_excite False\n",
            "25 block1b_project_conv False\n",
            "26 block1b_project_bn False\n",
            "27 block1b_drop False\n",
            "28 block1b_add False\n",
            "29 block1c_dwconv False\n",
            "30 block1c_bn False\n",
            "31 block1c_activation False\n",
            "32 block1c_se_squeeze False\n",
            "33 block1c_se_reshape False\n",
            "34 block1c_se_reduce False\n",
            "35 block1c_se_expand False\n",
            "36 block1c_se_excite False\n",
            "37 block1c_project_conv False\n",
            "38 block1c_project_bn False\n",
            "39 block1c_drop False\n",
            "40 block1c_add False\n",
            "41 block1d_dwconv False\n",
            "42 block1d_bn False\n",
            "43 block1d_activation False\n",
            "44 block1d_se_squeeze False\n",
            "45 block1d_se_reshape False\n",
            "46 block1d_se_reduce False\n",
            "47 block1d_se_expand False\n",
            "48 block1d_se_excite False\n",
            "49 block1d_project_conv False\n",
            "50 block1d_project_bn False\n",
            "51 block1d_drop False\n",
            "52 block1d_add False\n",
            "53 block2a_expand_conv False\n",
            "54 block2a_expand_bn False\n",
            "55 block2a_expand_activation False\n",
            "56 block2a_dwconv_pad False\n",
            "57 block2a_dwconv False\n",
            "58 block2a_bn False\n",
            "59 block2a_activation False\n",
            "60 block2a_se_squeeze False\n",
            "61 block2a_se_reshape False\n",
            "62 block2a_se_reduce False\n",
            "63 block2a_se_expand False\n",
            "64 block2a_se_excite False\n",
            "65 block2a_project_conv False\n",
            "66 block2a_project_bn False\n",
            "67 block2b_expand_conv False\n",
            "68 block2b_expand_bn False\n",
            "69 block2b_expand_activation False\n",
            "70 block2b_dwconv False\n",
            "71 block2b_bn False\n",
            "72 block2b_activation False\n",
            "73 block2b_se_squeeze False\n",
            "74 block2b_se_reshape False\n",
            "75 block2b_se_reduce False\n",
            "76 block2b_se_expand False\n",
            "77 block2b_se_excite False\n",
            "78 block2b_project_conv False\n",
            "79 block2b_project_bn False\n",
            "80 block2b_drop False\n",
            "81 block2b_add False\n",
            "82 block2c_expand_conv False\n",
            "83 block2c_expand_bn False\n",
            "84 block2c_expand_activation False\n",
            "85 block2c_dwconv False\n",
            "86 block2c_bn False\n",
            "87 block2c_activation False\n",
            "88 block2c_se_squeeze False\n",
            "89 block2c_se_reshape False\n",
            "90 block2c_se_reduce False\n",
            "91 block2c_se_expand False\n",
            "92 block2c_se_excite False\n",
            "93 block2c_project_conv False\n",
            "94 block2c_project_bn False\n",
            "95 block2c_drop False\n",
            "96 block2c_add False\n",
            "97 block2d_expand_conv False\n",
            "98 block2d_expand_bn False\n",
            "99 block2d_expand_activation False\n",
            "100 block2d_dwconv False\n",
            "101 block2d_bn False\n",
            "102 block2d_activation False\n",
            "103 block2d_se_squeeze False\n",
            "104 block2d_se_reshape False\n",
            "105 block2d_se_reduce False\n",
            "106 block2d_se_expand False\n",
            "107 block2d_se_excite False\n",
            "108 block2d_project_conv False\n",
            "109 block2d_project_bn False\n",
            "110 block2d_drop False\n",
            "111 block2d_add False\n",
            "112 block2e_expand_conv False\n",
            "113 block2e_expand_bn False\n",
            "114 block2e_expand_activation False\n",
            "115 block2e_dwconv False\n",
            "116 block2e_bn False\n",
            "117 block2e_activation False\n",
            "118 block2e_se_squeeze False\n",
            "119 block2e_se_reshape False\n",
            "120 block2e_se_reduce False\n",
            "121 block2e_se_expand False\n",
            "122 block2e_se_excite False\n",
            "123 block2e_project_conv False\n",
            "124 block2e_project_bn False\n",
            "125 block2e_drop False\n",
            "126 block2e_add False\n",
            "127 block2f_expand_conv False\n",
            "128 block2f_expand_bn False\n",
            "129 block2f_expand_activation False\n",
            "130 block2f_dwconv False\n",
            "131 block2f_bn False\n",
            "132 block2f_activation False\n",
            "133 block2f_se_squeeze False\n",
            "134 block2f_se_reshape False\n",
            "135 block2f_se_reduce False\n",
            "136 block2f_se_expand False\n",
            "137 block2f_se_excite False\n",
            "138 block2f_project_conv False\n",
            "139 block2f_project_bn False\n",
            "140 block2f_drop False\n",
            "141 block2f_add False\n",
            "142 block2g_expand_conv False\n",
            "143 block2g_expand_bn False\n",
            "144 block2g_expand_activation False\n",
            "145 block2g_dwconv False\n",
            "146 block2g_bn False\n",
            "147 block2g_activation False\n",
            "148 block2g_se_squeeze False\n",
            "149 block2g_se_reshape False\n",
            "150 block2g_se_reduce False\n",
            "151 block2g_se_expand False\n",
            "152 block2g_se_excite False\n",
            "153 block2g_project_conv False\n",
            "154 block2g_project_bn False\n",
            "155 block2g_drop False\n",
            "156 block2g_add False\n",
            "157 block3a_expand_conv False\n",
            "158 block3a_expand_bn False\n",
            "159 block3a_expand_activation False\n",
            "160 block3a_dwconv_pad False\n",
            "161 block3a_dwconv False\n",
            "162 block3a_bn False\n",
            "163 block3a_activation False\n",
            "164 block3a_se_squeeze False\n",
            "165 block3a_se_reshape False\n",
            "166 block3a_se_reduce False\n",
            "167 block3a_se_expand False\n",
            "168 block3a_se_excite False\n",
            "169 block3a_project_conv False\n",
            "170 block3a_project_bn False\n",
            "171 block3b_expand_conv False\n",
            "172 block3b_expand_bn False\n",
            "173 block3b_expand_activation False\n",
            "174 block3b_dwconv False\n",
            "175 block3b_bn False\n",
            "176 block3b_activation False\n",
            "177 block3b_se_squeeze False\n",
            "178 block3b_se_reshape False\n",
            "179 block3b_se_reduce False\n",
            "180 block3b_se_expand False\n",
            "181 block3b_se_excite False\n",
            "182 block3b_project_conv False\n",
            "183 block3b_project_bn False\n",
            "184 block3b_drop False\n",
            "185 block3b_add False\n",
            "186 block3c_expand_conv False\n",
            "187 block3c_expand_bn False\n",
            "188 block3c_expand_activation False\n",
            "189 block3c_dwconv False\n",
            "190 block3c_bn False\n",
            "191 block3c_activation False\n",
            "192 block3c_se_squeeze False\n",
            "193 block3c_se_reshape False\n",
            "194 block3c_se_reduce False\n",
            "195 block3c_se_expand False\n",
            "196 block3c_se_excite False\n",
            "197 block3c_project_conv False\n",
            "198 block3c_project_bn False\n",
            "199 block3c_drop False\n",
            "200 block3c_add False\n",
            "201 block3d_expand_conv False\n",
            "202 block3d_expand_bn False\n",
            "203 block3d_expand_activation False\n",
            "204 block3d_dwconv False\n",
            "205 block3d_bn False\n",
            "206 block3d_activation False\n",
            "207 block3d_se_squeeze False\n",
            "208 block3d_se_reshape False\n",
            "209 block3d_se_reduce False\n",
            "210 block3d_se_expand False\n",
            "211 block3d_se_excite False\n",
            "212 block3d_project_conv False\n",
            "213 block3d_project_bn False\n",
            "214 block3d_drop False\n",
            "215 block3d_add False\n",
            "216 block3e_expand_conv False\n",
            "217 block3e_expand_bn False\n",
            "218 block3e_expand_activation False\n",
            "219 block3e_dwconv False\n",
            "220 block3e_bn False\n",
            "221 block3e_activation False\n",
            "222 block3e_se_squeeze False\n",
            "223 block3e_se_reshape False\n",
            "224 block3e_se_reduce False\n",
            "225 block3e_se_expand False\n",
            "226 block3e_se_excite False\n",
            "227 block3e_project_conv False\n",
            "228 block3e_project_bn False\n",
            "229 block3e_drop False\n",
            "230 block3e_add False\n",
            "231 block3f_expand_conv False\n",
            "232 block3f_expand_bn False\n",
            "233 block3f_expand_activation False\n",
            "234 block3f_dwconv False\n",
            "235 block3f_bn False\n",
            "236 block3f_activation False\n",
            "237 block3f_se_squeeze False\n",
            "238 block3f_se_reshape False\n",
            "239 block3f_se_reduce False\n",
            "240 block3f_se_expand False\n",
            "241 block3f_se_excite False\n",
            "242 block3f_project_conv False\n",
            "243 block3f_project_bn False\n",
            "244 block3f_drop False\n",
            "245 block3f_add False\n",
            "246 block3g_expand_conv False\n",
            "247 block3g_expand_bn False\n",
            "248 block3g_expand_activation False\n",
            "249 block3g_dwconv False\n",
            "250 block3g_bn False\n",
            "251 block3g_activation False\n",
            "252 block3g_se_squeeze False\n",
            "253 block3g_se_reshape False\n",
            "254 block3g_se_reduce False\n",
            "255 block3g_se_expand False\n",
            "256 block3g_se_excite False\n",
            "257 block3g_project_conv False\n",
            "258 block3g_project_bn False\n",
            "259 block3g_drop False\n",
            "260 block3g_add False\n",
            "261 block4a_expand_conv False\n",
            "262 block4a_expand_bn False\n",
            "263 block4a_expand_activation False\n",
            "264 block4a_dwconv_pad False\n",
            "265 block4a_dwconv False\n",
            "266 block4a_bn False\n",
            "267 block4a_activation False\n",
            "268 block4a_se_squeeze False\n",
            "269 block4a_se_reshape False\n",
            "270 block4a_se_reduce False\n",
            "271 block4a_se_expand False\n",
            "272 block4a_se_excite False\n",
            "273 block4a_project_conv False\n",
            "274 block4a_project_bn False\n",
            "275 block4b_expand_conv False\n",
            "276 block4b_expand_bn False\n",
            "277 block4b_expand_activation False\n",
            "278 block4b_dwconv False\n",
            "279 block4b_bn False\n",
            "280 block4b_activation False\n",
            "281 block4b_se_squeeze False\n",
            "282 block4b_se_reshape False\n",
            "283 block4b_se_reduce False\n",
            "284 block4b_se_expand False\n",
            "285 block4b_se_excite False\n",
            "286 block4b_project_conv False\n",
            "287 block4b_project_bn False\n",
            "288 block4b_drop False\n",
            "289 block4b_add False\n",
            "290 block4c_expand_conv False\n",
            "291 block4c_expand_bn False\n",
            "292 block4c_expand_activation False\n",
            "293 block4c_dwconv False\n",
            "294 block4c_bn False\n",
            "295 block4c_activation False\n",
            "296 block4c_se_squeeze False\n",
            "297 block4c_se_reshape False\n",
            "298 block4c_se_reduce False\n",
            "299 block4c_se_expand False\n",
            "300 block4c_se_excite False\n",
            "301 block4c_project_conv False\n",
            "302 block4c_project_bn False\n",
            "303 block4c_drop False\n",
            "304 block4c_add False\n",
            "305 block4d_expand_conv False\n",
            "306 block4d_expand_bn False\n",
            "307 block4d_expand_activation False\n",
            "308 block4d_dwconv False\n",
            "309 block4d_bn False\n",
            "310 block4d_activation False\n",
            "311 block4d_se_squeeze False\n",
            "312 block4d_se_reshape False\n",
            "313 block4d_se_reduce False\n",
            "314 block4d_se_expand False\n",
            "315 block4d_se_excite False\n",
            "316 block4d_project_conv False\n",
            "317 block4d_project_bn False\n",
            "318 block4d_drop False\n",
            "319 block4d_add False\n",
            "320 block4e_expand_conv False\n",
            "321 block4e_expand_bn False\n",
            "322 block4e_expand_activation False\n",
            "323 block4e_dwconv False\n",
            "324 block4e_bn False\n",
            "325 block4e_activation False\n",
            "326 block4e_se_squeeze False\n",
            "327 block4e_se_reshape False\n",
            "328 block4e_se_reduce False\n",
            "329 block4e_se_expand False\n",
            "330 block4e_se_excite False\n",
            "331 block4e_project_conv False\n",
            "332 block4e_project_bn False\n",
            "333 block4e_drop False\n",
            "334 block4e_add False\n",
            "335 block4f_expand_conv False\n",
            "336 block4f_expand_bn False\n",
            "337 block4f_expand_activation False\n",
            "338 block4f_dwconv False\n",
            "339 block4f_bn False\n",
            "340 block4f_activation False\n",
            "341 block4f_se_squeeze False\n",
            "342 block4f_se_reshape False\n",
            "343 block4f_se_reduce False\n",
            "344 block4f_se_expand False\n",
            "345 block4f_se_excite False\n",
            "346 block4f_project_conv False\n",
            "347 block4f_project_bn False\n",
            "348 block4f_drop False\n",
            "349 block4f_add False\n",
            "350 block4g_expand_conv False\n",
            "351 block4g_expand_bn False\n",
            "352 block4g_expand_activation False\n",
            "353 block4g_dwconv False\n",
            "354 block4g_bn False\n",
            "355 block4g_activation False\n",
            "356 block4g_se_squeeze False\n",
            "357 block4g_se_reshape False\n",
            "358 block4g_se_reduce False\n",
            "359 block4g_se_expand False\n",
            "360 block4g_se_excite False\n",
            "361 block4g_project_conv False\n",
            "362 block4g_project_bn False\n",
            "363 block4g_drop False\n",
            "364 block4g_add False\n",
            "365 block4h_expand_conv False\n",
            "366 block4h_expand_bn False\n",
            "367 block4h_expand_activation False\n",
            "368 block4h_dwconv False\n",
            "369 block4h_bn False\n",
            "370 block4h_activation False\n",
            "371 block4h_se_squeeze False\n",
            "372 block4h_se_reshape False\n",
            "373 block4h_se_reduce False\n",
            "374 block4h_se_expand False\n",
            "375 block4h_se_excite False\n",
            "376 block4h_project_conv False\n",
            "377 block4h_project_bn False\n",
            "378 block4h_drop False\n",
            "379 block4h_add False\n",
            "380 block4i_expand_conv False\n",
            "381 block4i_expand_bn False\n",
            "382 block4i_expand_activation False\n",
            "383 block4i_dwconv False\n",
            "384 block4i_bn False\n",
            "385 block4i_activation False\n",
            "386 block4i_se_squeeze False\n",
            "387 block4i_se_reshape False\n",
            "388 block4i_se_reduce False\n",
            "389 block4i_se_expand False\n",
            "390 block4i_se_excite False\n",
            "391 block4i_project_conv False\n",
            "392 block4i_project_bn False\n",
            "393 block4i_drop False\n",
            "394 block4i_add False\n",
            "395 block4j_expand_conv False\n",
            "396 block4j_expand_bn False\n",
            "397 block4j_expand_activation False\n",
            "398 block4j_dwconv False\n",
            "399 block4j_bn False\n",
            "400 block4j_activation False\n",
            "401 block4j_se_squeeze False\n",
            "402 block4j_se_reshape False\n",
            "403 block4j_se_reduce False\n",
            "404 block4j_se_expand False\n",
            "405 block4j_se_excite False\n",
            "406 block4j_project_conv False\n",
            "407 block4j_project_bn False\n",
            "408 block4j_drop False\n",
            "409 block4j_add False\n",
            "410 block5a_expand_conv False\n",
            "411 block5a_expand_bn False\n",
            "412 block5a_expand_activation False\n",
            "413 block5a_dwconv False\n",
            "414 block5a_bn False\n",
            "415 block5a_activation False\n",
            "416 block5a_se_squeeze False\n",
            "417 block5a_se_reshape False\n",
            "418 block5a_se_reduce False\n",
            "419 block5a_se_expand False\n",
            "420 block5a_se_excite False\n",
            "421 block5a_project_conv False\n",
            "422 block5a_project_bn False\n",
            "423 block5b_expand_conv False\n",
            "424 block5b_expand_bn False\n",
            "425 block5b_expand_activation False\n",
            "426 block5b_dwconv False\n",
            "427 block5b_bn False\n",
            "428 block5b_activation False\n",
            "429 block5b_se_squeeze False\n",
            "430 block5b_se_reshape False\n",
            "431 block5b_se_reduce False\n",
            "432 block5b_se_expand False\n",
            "433 block5b_se_excite False\n",
            "434 block5b_project_conv False\n",
            "435 block5b_project_bn False\n",
            "436 block5b_drop False\n",
            "437 block5b_add False\n",
            "438 block5c_expand_conv False\n",
            "439 block5c_expand_bn False\n",
            "440 block5c_expand_activation False\n",
            "441 block5c_dwconv False\n",
            "442 block5c_bn False\n",
            "443 block5c_activation False\n",
            "444 block5c_se_squeeze False\n",
            "445 block5c_se_reshape False\n",
            "446 block5c_se_reduce False\n",
            "447 block5c_se_expand False\n",
            "448 block5c_se_excite False\n",
            "449 block5c_project_conv False\n",
            "450 block5c_project_bn False\n",
            "451 block5c_drop False\n",
            "452 block5c_add False\n",
            "453 block5d_expand_conv False\n",
            "454 block5d_expand_bn False\n",
            "455 block5d_expand_activation False\n",
            "456 block5d_dwconv False\n",
            "457 block5d_bn False\n",
            "458 block5d_activation False\n",
            "459 block5d_se_squeeze False\n",
            "460 block5d_se_reshape False\n",
            "461 block5d_se_reduce False\n",
            "462 block5d_se_expand False\n",
            "463 block5d_se_excite False\n",
            "464 block5d_project_conv False\n",
            "465 block5d_project_bn False\n",
            "466 block5d_drop False\n",
            "467 block5d_add False\n",
            "468 block5e_expand_conv False\n",
            "469 block5e_expand_bn False\n",
            "470 block5e_expand_activation False\n",
            "471 block5e_dwconv False\n",
            "472 block5e_bn False\n",
            "473 block5e_activation False\n",
            "474 block5e_se_squeeze False\n",
            "475 block5e_se_reshape False\n",
            "476 block5e_se_reduce False\n",
            "477 block5e_se_expand False\n",
            "478 block5e_se_excite False\n",
            "479 block5e_project_conv False\n",
            "480 block5e_project_bn False\n",
            "481 block5e_drop False\n",
            "482 block5e_add False\n",
            "483 block5f_expand_conv False\n",
            "484 block5f_expand_bn False\n",
            "485 block5f_expand_activation False\n",
            "486 block5f_dwconv False\n",
            "487 block5f_bn False\n",
            "488 block5f_activation False\n",
            "489 block5f_se_squeeze False\n",
            "490 block5f_se_reshape False\n",
            "491 block5f_se_reduce False\n",
            "492 block5f_se_expand False\n",
            "493 block5f_se_excite False\n",
            "494 block5f_project_conv False\n",
            "495 block5f_project_bn False\n",
            "496 block5f_drop False\n",
            "497 block5f_add False\n",
            "498 block5g_expand_conv False\n",
            "499 block5g_expand_bn False\n",
            "500 block5g_expand_activation False\n",
            "501 block5g_dwconv False\n",
            "502 block5g_bn False\n",
            "503 block5g_activation False\n",
            "504 block5g_se_squeeze False\n",
            "505 block5g_se_reshape False\n",
            "506 block5g_se_reduce False\n",
            "507 block5g_se_expand False\n",
            "508 block5g_se_excite False\n",
            "509 block5g_project_conv False\n",
            "510 block5g_project_bn False\n",
            "511 block5g_drop False\n",
            "512 block5g_add False\n",
            "513 block5h_expand_conv False\n",
            "514 block5h_expand_bn False\n",
            "515 block5h_expand_activation False\n",
            "516 block5h_dwconv False\n",
            "517 block5h_bn False\n",
            "518 block5h_activation False\n",
            "519 block5h_se_squeeze False\n",
            "520 block5h_se_reshape False\n",
            "521 block5h_se_reduce False\n",
            "522 block5h_se_expand False\n",
            "523 block5h_se_excite False\n",
            "524 block5h_project_conv False\n",
            "525 block5h_project_bn False\n",
            "526 block5h_drop False\n",
            "527 block5h_add False\n",
            "528 block5i_expand_conv False\n",
            "529 block5i_expand_bn False\n",
            "530 block5i_expand_activation False\n",
            "531 block5i_dwconv False\n",
            "532 block5i_bn False\n",
            "533 block5i_activation False\n",
            "534 block5i_se_squeeze False\n",
            "535 block5i_se_reshape False\n",
            "536 block5i_se_reduce False\n",
            "537 block5i_se_expand False\n",
            "538 block5i_se_excite False\n",
            "539 block5i_project_conv False\n",
            "540 block5i_project_bn False\n",
            "541 block5i_drop False\n",
            "542 block5i_add False\n",
            "543 block5j_expand_conv False\n",
            "544 block5j_expand_bn False\n",
            "545 block5j_expand_activation False\n",
            "546 block5j_dwconv False\n",
            "547 block5j_bn False\n",
            "548 block5j_activation False\n",
            "549 block5j_se_squeeze False\n",
            "550 block5j_se_reshape False\n",
            "551 block5j_se_reduce False\n",
            "552 block5j_se_expand False\n",
            "553 block5j_se_excite False\n",
            "554 block5j_project_conv False\n",
            "555 block5j_project_bn False\n",
            "556 block5j_drop False\n",
            "557 block5j_add False\n",
            "558 block6a_expand_conv False\n",
            "559 block6a_expand_bn False\n",
            "560 block6a_expand_activation False\n",
            "561 block6a_dwconv_pad False\n",
            "562 block6a_dwconv False\n",
            "563 block6a_bn False\n",
            "564 block6a_activation False\n",
            "565 block6a_se_squeeze False\n",
            "566 block6a_se_reshape False\n",
            "567 block6a_se_reduce False\n",
            "568 block6a_se_expand False\n",
            "569 block6a_se_excite False\n",
            "570 block6a_project_conv False\n",
            "571 block6a_project_bn False\n",
            "572 block6b_expand_conv False\n",
            "573 block6b_expand_bn False\n",
            "574 block6b_expand_activation False\n",
            "575 block6b_dwconv False\n",
            "576 block6b_bn False\n",
            "577 block6b_activation False\n",
            "578 block6b_se_squeeze False\n",
            "579 block6b_se_reshape False\n",
            "580 block6b_se_reduce False\n",
            "581 block6b_se_expand False\n",
            "582 block6b_se_excite False\n",
            "583 block6b_project_conv False\n",
            "584 block6b_project_bn False\n",
            "585 block6b_drop False\n",
            "586 block6b_add False\n",
            "587 block6c_expand_conv False\n",
            "588 block6c_expand_bn False\n",
            "589 block6c_expand_activation False\n",
            "590 block6c_dwconv False\n",
            "591 block6c_bn False\n",
            "592 block6c_activation False\n",
            "593 block6c_se_squeeze False\n",
            "594 block6c_se_reshape False\n",
            "595 block6c_se_reduce False\n",
            "596 block6c_se_expand False\n",
            "597 block6c_se_excite False\n",
            "598 block6c_project_conv False\n",
            "599 block6c_project_bn False\n",
            "600 block6c_drop False\n",
            "601 block6c_add False\n",
            "602 block6d_expand_conv False\n",
            "603 block6d_expand_bn False\n",
            "604 block6d_expand_activation False\n",
            "605 block6d_dwconv False\n",
            "606 block6d_bn False\n",
            "607 block6d_activation False\n",
            "608 block6d_se_squeeze False\n",
            "609 block6d_se_reshape False\n",
            "610 block6d_se_reduce False\n",
            "611 block6d_se_expand False\n",
            "612 block6d_se_excite False\n",
            "613 block6d_project_conv False\n",
            "614 block6d_project_bn False\n",
            "615 block6d_drop False\n",
            "616 block6d_add False\n",
            "617 block6e_expand_conv False\n",
            "618 block6e_expand_bn False\n",
            "619 block6e_expand_activation False\n",
            "620 block6e_dwconv False\n",
            "621 block6e_bn False\n",
            "622 block6e_activation False\n",
            "623 block6e_se_squeeze False\n",
            "624 block6e_se_reshape False\n",
            "625 block6e_se_reduce False\n",
            "626 block6e_se_expand False\n",
            "627 block6e_se_excite False\n",
            "628 block6e_project_conv False\n",
            "629 block6e_project_bn False\n",
            "630 block6e_drop False\n",
            "631 block6e_add False\n",
            "632 block6f_expand_conv False\n",
            "633 block6f_expand_bn False\n",
            "634 block6f_expand_activation False\n",
            "635 block6f_dwconv False\n",
            "636 block6f_bn False\n",
            "637 block6f_activation False\n",
            "638 block6f_se_squeeze False\n",
            "639 block6f_se_reshape False\n",
            "640 block6f_se_reduce False\n",
            "641 block6f_se_expand False\n",
            "642 block6f_se_excite False\n",
            "643 block6f_project_conv False\n",
            "644 block6f_project_bn False\n",
            "645 block6f_drop False\n",
            "646 block6f_add False\n",
            "647 block6g_expand_conv False\n",
            "648 block6g_expand_bn False\n",
            "649 block6g_expand_activation False\n",
            "650 block6g_dwconv False\n",
            "651 block6g_bn False\n",
            "652 block6g_activation False\n",
            "653 block6g_se_squeeze False\n",
            "654 block6g_se_reshape False\n",
            "655 block6g_se_reduce False\n",
            "656 block6g_se_expand False\n",
            "657 block6g_se_excite False\n",
            "658 block6g_project_conv False\n",
            "659 block6g_project_bn False\n",
            "660 block6g_drop False\n",
            "661 block6g_add False\n",
            "662 block6h_expand_conv False\n",
            "663 block6h_expand_bn False\n",
            "664 block6h_expand_activation False\n",
            "665 block6h_dwconv False\n",
            "666 block6h_bn False\n",
            "667 block6h_activation False\n",
            "668 block6h_se_squeeze False\n",
            "669 block6h_se_reshape False\n",
            "670 block6h_se_reduce False\n",
            "671 block6h_se_expand False\n",
            "672 block6h_se_excite False\n",
            "673 block6h_project_conv False\n",
            "674 block6h_project_bn False\n",
            "675 block6h_drop False\n",
            "676 block6h_add False\n",
            "677 block6i_expand_conv False\n",
            "678 block6i_expand_bn False\n",
            "679 block6i_expand_activation False\n",
            "680 block6i_dwconv False\n",
            "681 block6i_bn False\n",
            "682 block6i_activation False\n",
            "683 block6i_se_squeeze False\n",
            "684 block6i_se_reshape False\n",
            "685 block6i_se_reduce False\n",
            "686 block6i_se_expand False\n",
            "687 block6i_se_excite False\n",
            "688 block6i_project_conv False\n",
            "689 block6i_project_bn False\n",
            "690 block6i_drop False\n",
            "691 block6i_add False\n",
            "692 block6j_expand_conv False\n",
            "693 block6j_expand_bn False\n",
            "694 block6j_expand_activation False\n",
            "695 block6j_dwconv False\n",
            "696 block6j_bn False\n",
            "697 block6j_activation False\n",
            "698 block6j_se_squeeze False\n",
            "699 block6j_se_reshape False\n",
            "700 block6j_se_reduce False\n",
            "701 block6j_se_expand False\n",
            "702 block6j_se_excite False\n",
            "703 block6j_project_conv False\n",
            "704 block6j_project_bn False\n",
            "705 block6j_drop False\n",
            "706 block6j_add False\n",
            "707 block6k_expand_conv False\n",
            "708 block6k_expand_bn False\n",
            "709 block6k_expand_activation False\n",
            "710 block6k_dwconv False\n",
            "711 block6k_bn False\n",
            "712 block6k_activation False\n",
            "713 block6k_se_squeeze False\n",
            "714 block6k_se_reshape False\n",
            "715 block6k_se_reduce False\n",
            "716 block6k_se_expand False\n",
            "717 block6k_se_excite False\n",
            "718 block6k_project_conv False\n",
            "719 block6k_project_bn False\n",
            "720 block6k_drop False\n",
            "721 block6k_add False\n",
            "722 block6l_expand_conv False\n",
            "723 block6l_expand_bn False\n",
            "724 block6l_expand_activation False\n",
            "725 block6l_dwconv False\n",
            "726 block6l_bn False\n",
            "727 block6l_activation False\n",
            "728 block6l_se_squeeze False\n",
            "729 block6l_se_reshape False\n",
            "730 block6l_se_reduce False\n",
            "731 block6l_se_expand False\n",
            "732 block6l_se_excite False\n",
            "733 block6l_project_conv False\n",
            "734 block6l_project_bn False\n",
            "735 block6l_drop False\n",
            "736 block6l_add False\n",
            "737 block6m_expand_conv False\n",
            "738 block6m_expand_bn False\n",
            "739 block6m_expand_activation False\n",
            "740 block6m_dwconv False\n",
            "741 block6m_bn False\n",
            "742 block6m_activation False\n",
            "743 block6m_se_squeeze False\n",
            "744 block6m_se_reshape False\n",
            "745 block6m_se_reduce False\n",
            "746 block6m_se_expand False\n",
            "747 block6m_se_excite False\n",
            "748 block6m_project_conv False\n",
            "749 block6m_project_bn False\n",
            "750 block6m_drop False\n",
            "751 block6m_add False\n",
            "752 block7a_expand_conv False\n",
            "753 block7a_expand_bn False\n",
            "754 block7a_expand_activation False\n",
            "755 block7a_dwconv False\n",
            "756 block7a_bn False\n",
            "757 block7a_activation False\n",
            "758 block7a_se_squeeze False\n",
            "759 block7a_se_reshape False\n",
            "760 block7a_se_reduce False\n",
            "761 block7a_se_expand False\n",
            "762 block7a_se_excite False\n",
            "763 block7a_project_conv False\n",
            "764 block7a_project_bn False\n",
            "765 block7b_expand_conv False\n",
            "766 block7b_expand_bn False\n",
            "767 block7b_expand_activation False\n",
            "768 block7b_dwconv False\n",
            "769 block7b_bn False\n",
            "770 block7b_activation False\n",
            "771 block7b_se_squeeze False\n",
            "772 block7b_se_reshape False\n",
            "773 block7b_se_reduce False\n",
            "774 block7b_se_expand False\n",
            "775 block7b_se_excite False\n",
            "776 block7b_project_conv False\n",
            "777 block7b_project_bn False\n",
            "778 block7b_drop False\n",
            "779 block7b_add False\n",
            "780 block7c_expand_conv False\n",
            "781 block7c_expand_bn False\n",
            "782 block7c_expand_activation False\n",
            "783 block7c_dwconv False\n",
            "784 block7c_bn False\n",
            "785 block7c_activation False\n",
            "786 block7c_se_squeeze False\n",
            "787 block7c_se_reshape False\n",
            "788 block7c_se_reduce False\n",
            "789 block7c_se_expand False\n",
            "790 block7c_se_excite False\n",
            "791 block7c_project_conv False\n",
            "792 block7c_project_bn False\n",
            "793 block7c_drop False\n",
            "794 block7c_add False\n",
            "795 block7d_expand_conv False\n",
            "796 block7d_expand_bn False\n",
            "797 block7d_expand_activation False\n",
            "798 block7d_dwconv False\n",
            "799 block7d_bn False\n",
            "800 block7d_activation False\n",
            "801 block7d_se_squeeze True\n",
            "802 block7d_se_reshape True\n",
            "803 block7d_se_reduce True\n",
            "804 block7d_se_expand True\n",
            "805 block7d_se_excite True\n",
            "806 block7d_project_conv True\n",
            "807 block7d_project_bn True\n",
            "808 block7d_drop True\n",
            "809 block7d_add True\n",
            "810 top_conv True\n",
            "811 top_bn True\n",
            "812 top_activation True\n"
          ]
        }
      ]
    },
    {
      "cell_type": "code",
      "source": [
        "#No of trainable layers\n",
        "print(len(model.trainable_variables))"
      ],
      "metadata": {
        "colab": {
          "base_uri": "https://localhost:8080/"
        },
        "id": "0Tzd19pwj0gy",
        "outputId": "7593d0f9-a38f-426f-f89a-5d5a4c920d97"
      },
      "execution_count": 35,
      "outputs": [
        {
          "output_type": "stream",
          "name": "stdout",
          "text": [
            "12\n"
          ]
        }
      ]
    },
    {
      "cell_type": "code",
      "source": [
        "#Define callbacks\n",
        "\n",
        "import datetime\n",
        "\n",
        "\n",
        "dir_name = '/gdrive/MyDrive/UOH Assignment Dataset/cdiscount/Tensorboard'\n",
        "def create_tensorboard_callback(experiment_name):\n",
        "  log_dir = dir_name + \"/\" + experiment_name + \"/\" + datetime.datetime.now().strftime(\"%Y%m%d-%H%M%S\")\n",
        "  tensorboard_callback = tf.keras.callbacks.TensorBoard(\n",
        "      log_dir=log_dir\n",
        "  )\n",
        "  print(f\"Saving TensorBoard log files to: {log_dir}\")\n",
        "  return tensorboard_callback\n",
        "\n",
        "# Setup checkpoint path\n",
        "checkpoint_path = '/gdrive/MyDrive/UOH Assignment Dataset/cdiscount/CheckPoints/EfficientNet_FineTune/checkpoint.ckpt' # note: remember saving directly to Colab is temporary\n",
        "\n",
        "# Create a ModelCheckpoint callback that saves the model's weights only\n",
        "checkpoint_callback = tf.keras.callbacks.ModelCheckpoint(filepath=checkpoint_path,\n",
        "                                                         save_weights_only=True, # set to False to save the entire model\n",
        "                                                         save_best_only=False, # set to True to save only the best model instead of a model every epoch \n",
        "                                                         save_freq=\"epoch\", # save every epoch\n",
        "                                                         verbose=1)\n",
        "\n",
        "\n",
        "# Fine tune for another 5 epochs\n",
        "initial_epochs=3\n",
        "fine_tune_epochs = initial_epochs + 3\n",
        "\n",
        "# Refit the model (same as 'model' except with more trainable layers)\n",
        "history_fine_10_model_3 = model.fit(train_gen,\n",
        "                                               epochs=fine_tune_epochs,\n",
        "                                               validation_data=val_gen,\n",
        "                                               initial_epoch=history_3.epoch[-1], # start from previous last epoch\n",
        "                                               \n",
        "                                               callbacks=[checkpoint_callback,create_tensorboard_callback(\"TranferLearning_EfficientNetB7_FineTune_10\")], # name experim\n",
        "                                              verbose=2 \n",
        ")\n",
        "\n",
        "\n",
        "\n"
      ],
      "metadata": {
        "colab": {
          "base_uri": "https://localhost:8080/"
        },
        "id": "8d9gbLBVj78j",
        "outputId": "30e90aee-180d-4f45-954a-f0b64f022644"
      },
      "execution_count": 50,
      "outputs": [
        {
          "output_type": "stream",
          "name": "stdout",
          "text": [
            "Saving TensorBoard log files to: /gdrive/MyDrive/UOH Assignment Dataset/cdiscount/Tensorboard/TranferLearning_EfficientNetB7_FineTune_10/20220112-060224\n"
          ]
        },
        {
          "output_type": "stream",
          "name": "stderr",
          "text": [
            "/usr/local/lib/python3.7/dist-packages/keras/engine/functional.py:1410: CustomMaskWarning: Custom mask layers require a config and must override get_config. When loading, the custom mask layer must be passed to the custom_objects argument.\n",
            "  layer_config = serialize_layer_fn(layer)\n"
          ]
        },
        {
          "output_type": "stream",
          "name": "stdout",
          "text": [
            "Epoch 3/6\n",
            "\n",
            "Epoch 00003: saving model to /gdrive/MyDrive/UOH Assignment Dataset/cdiscount/CheckPoints/EfficientNet_FineTune/checkpoint.ckpt\n",
            "7734/7734 - 4955s - loss: 2.1587 - accuracy: 0.5444 - val_loss: 2.8086 - val_accuracy: 0.5052 - 4955s/epoch - 641ms/step\n",
            "Epoch 4/6\n",
            "\n",
            "Epoch 00004: saving model to /gdrive/MyDrive/UOH Assignment Dataset/cdiscount/CheckPoints/EfficientNet_FineTune/checkpoint.ckpt\n",
            "7734/7734 - 4930s - loss: 1.5383 - accuracy: 0.6463 - val_loss: 2.8833 - val_accuracy: 0.5138 - 4930s/epoch - 637ms/step\n",
            "Epoch 5/6\n",
            "\n",
            "Epoch 00005: saving model to /gdrive/MyDrive/UOH Assignment Dataset/cdiscount/CheckPoints/EfficientNet_FineTune/checkpoint.ckpt\n",
            "7734/7734 - 4930s - loss: 1.1832 - accuracy: 0.7106 - val_loss: 3.0557 - val_accuracy: 0.5193 - 4930s/epoch - 637ms/step\n",
            "Epoch 6/6\n",
            "\n",
            "Epoch 00006: saving model to /gdrive/MyDrive/UOH Assignment Dataset/cdiscount/CheckPoints/EfficientNet_FineTune/checkpoint.ckpt\n",
            "7734/7734 - 4929s - loss: 0.9424 - accuracy: 0.7594 - val_loss: 3.2505 - val_accuracy: 0.5199 - 4929s/epoch - 637ms/step\n"
          ]
        }
      ]
    },
    {
      "cell_type": "code",
      "source": [
        "def compare_historys(original_history, new_history, initial_epochs=5):\n",
        "    \"\"\"\n",
        "    Compares two model history objects.\n",
        "    \"\"\"\n",
        "    # Get original history measurements\n",
        "    acc = original_history.history[\"accuracy\"]\n",
        "    loss = original_history.history[\"loss\"]\n",
        "\n",
        "    print(len(acc))\n",
        "\n",
        "    val_acc = original_history.history[\"val_accuracy\"]\n",
        "    val_loss = original_history.history[\"val_loss\"]\n",
        "\n",
        "    # Combine original history with new history\n",
        "    total_acc = acc + new_history.history[\"accuracy\"]\n",
        "    total_loss = loss + new_history.history[\"loss\"]\n",
        "\n",
        "    total_val_acc = val_acc + new_history.history[\"val_accuracy\"]\n",
        "    total_val_loss = val_loss + new_history.history[\"val_loss\"]\n",
        "\n",
        "    print(len(total_acc))\n",
        "    print(total_acc)\n",
        "\n",
        "    # Make plots\n",
        "    plt.figure(figsize=(8, 8))\n",
        "    plt.subplot(2, 1, 1)\n",
        "    plt.plot(total_acc, label='Training Accuracy')\n",
        "    plt.plot(total_val_acc, label='Validation Accuracy')\n",
        "    plt.plot([initial_epochs-1, initial_epochs-1],\n",
        "              plt.ylim(), label='Start Fine Tuning') # reshift plot around epochs\n",
        "    plt.legend(loc='lower right')\n",
        "    plt.title('Training and Validation Accuracy')\n",
        "\n",
        "    plt.subplot(2, 1, 2)\n",
        "    plt.plot(total_loss, label='Training Loss')\n",
        "    plt.plot(total_val_loss, label='Validation Loss')\n",
        "    plt.plot([initial_epochs-1, initial_epochs-1],\n",
        "              plt.ylim(), label='Start Fine Tuning') # reshift plot around epochs\n",
        "    plt.legend(loc='upper right')\n",
        "    plt.title('Training and Validation Loss')\n",
        "    plt.xlabel('epoch')\n",
        "    plt.show()"
      ],
      "metadata": {
        "id": "I8BB8KFJnX3P"
      },
      "execution_count": 51,
      "outputs": []
    },
    {
      "cell_type": "code",
      "source": [
        "compare_historys(original_history=history_3, \n",
        "                 new_history=history_fine_10_model_3, \n",
        "                 initial_epochs=3)"
      ],
      "metadata": {
        "colab": {
          "base_uri": "https://localhost:8080/",
          "height": 565
        },
        "id": "6ASkS1uUndrQ",
        "outputId": "032cd258-0749-440d-b0e6-3be94d2c467f"
      },
      "execution_count": 52,
      "outputs": [
        {
          "output_type": "stream",
          "name": "stdout",
          "text": [
            "3\n",
            "7\n",
            "[0.42338934540748596, 0.510116457939148, 0.5532461404800415, 0.5443747639656067, 0.6462798714637756, 0.7106122374534607, 0.7593989968299866]\n"
          ]
        },
        {
          "output_type": "display_data",
          "data": {
            "image/png": "[encoded data removed]",
            "text/plain": [
              "<Figure size 576x576 with 2 Axes>"
            ]
          },
          "metadata": {
            "needs_background": "light"
          }
        }
      ]
    }
  ]
}