{
  "nbformat": 4,
  "nbformat_minor": 0,
  "metadata": {
    "colab": {
      "name": "Reading- Tfrecord File.ipynb",
      "provenance": [],
      "collapsed_sections": [],
      "machine_shape": "hm",
      "authorship_tag": "ABX9TyP+Kmv6m7bwlmqSME6EIy/C",
      "include_colab_link": true
    },
    "kernelspec": {
      "name": "python3",
      "display_name": "Python 3"
    },
    "language_info": {
      "name": "python"
    },
    "accelerator": "GPU"
  },
  "cells": [
    {
      "cell_type": "markdown",
      "metadata": {
        "id": "view-in-github",
        "colab_type": "text"
      },
      "source": [
        "<a href=\"https://colab.research.google.com/github/sarthakkaushik/Cdiscount-Image-Classification/blob/main/Modeling%20with-%20Tfrecord%20File.ipynb\" target=\"_parent\"><img src=\"https://colab.research.google.com/assets/colab-badge.svg\" alt=\"Open In Colab\"/></a>"
      ]
    },
    {
      "cell_type": "code",
      "source": [
        "!nvidia-smi"
      ],
      "metadata": {
        "id": "m4RzjsSUdfhl",
        "outputId": "7a50a8c2-112e-4dfe-8030-cb4ae63f0a51",
        "colab": {
          "base_uri": "https://localhost:8080/"
        }
      },
      "execution_count": 1,
      "outputs": [
        {
          "output_type": "stream",
          "name": "stdout",
          "text": [
            "Sun Jan 16 03:07:49 2022       \n",
            "+-----------------------------------------------------------------------------+\n",
            "| NVIDIA-SMI 495.46       Driver Version: 460.32.03    CUDA Version: 11.2     |\n",
            "|-------------------------------+----------------------+----------------------+\n",
            "| GPU  Name        Persistence-M| Bus-Id        Disp.A | Volatile Uncorr. ECC |\n",
            "| Fan  Temp  Perf  Pwr:Usage/Cap|         Memory-Usage | GPU-Util  Compute M. |\n",
            "|                               |                      |               MIG M. |\n",
            "|===============================+======================+======================|\n",
            "|   0  Tesla P100-PCIE...  Off  | 00000000:00:04.0 Off |                    0 |\n",
            "| N/A   41C    P0    28W / 250W |      0MiB / 16280MiB |      0%      Default |\n",
            "|                               |                      |                  N/A |\n",
            "+-------------------------------+----------------------+----------------------+\n",
            "                                                                               \n",
            "+-----------------------------------------------------------------------------+\n",
            "| Processes:                                                                  |\n",
            "|  GPU   GI   CI        PID   Type   Process name                  GPU Memory |\n",
            "|        ID   ID                                                   Usage      |\n",
            "|=============================================================================|\n",
            "|  No running processes found                                                 |\n",
            "+-----------------------------------------------------------------------------+\n"
          ]
        }
      ]
    },
    {
      "cell_type": "code",
      "execution_count": 2,
      "metadata": {
        "colab": {
          "base_uri": "https://localhost:8080/"
        },
        "id": "q0U2Q4JK0zak",
        "outputId": "e5322205-5434-448f-a289-0641e812cb9c"
      },
      "outputs": [
        {
          "output_type": "stream",
          "name": "stdout",
          "text": [
            "Drive already mounted at /gdrive; to attempt to forcibly remount, call drive.mount(\"/gdrive\", force_remount=True).\n",
            "/gdrive\n"
          ]
        }
      ],
      "source": [
        "# Code to mount google drive in case you are loading the data from your google drive\n",
        "from google.colab import drive\n",
        "drive.mount('/gdrive')\n",
        "%cd /gdrive"
      ]
    },
    {
      "cell_type": "code",
      "source": [
        "import os \n",
        "data_path = '/gdrive/MyDrive/UOH Assignment Dataset/cdiscount'\n",
        "os.chdir(data_path)\n",
        "print(os.getcwd())"
      ],
      "metadata": {
        "colab": {
          "base_uri": "https://localhost:8080/"
        },
        "id": "HyZm7UQO05Aq",
        "outputId": "6d472884-6059-4d3e-a30b-1cf1ed5eb224"
      },
      "execution_count": 3,
      "outputs": [
        {
          "output_type": "stream",
          "name": "stdout",
          "text": [
            "/gdrive/MyDrive/UOH Assignment Dataset/cdiscount\n"
          ]
        }
      ]
    },
    {
      "cell_type": "code",
      "source": [
        "import os, sys, math, io\n",
        "import numpy as np\n",
        "import pandas as pd\n",
        "import multiprocessing as mp\n",
        "import bson\n",
        "import struct\n",
        "import datetime\n",
        "\n",
        "%matplotlib inline\n",
        "import matplotlib.pyplot as plt\n",
        "from skimage.io import imread \n",
        "\n",
        "import keras\n",
        "from keras.preprocessing.image import load_img, img_to_array\n",
        "import tensorflow as tf\n",
        "\n",
        "from collections import defaultdict\n",
        "from tqdm import *\n",
        "from tensorflow.python.data.experimental import AUTOTUNE\n",
        "# Input data files are available in the \"../input/\" directory.\n",
        "# For example, running this (by clicking run or pressing Shift+Enter) will list the files in the input directory\n",
        "\n",
        "from subprocess import check_output\n",
        "print(check_output([\"ls\", \"../cdiscount\"]).decode(\"utf8\"))\n",
        "# Any results you write to the current directory are saved as output."
      ],
      "metadata": {
        "colab": {
          "base_uri": "https://localhost:8080/"
        },
        "id": "NcgbCYmS0-TN",
        "outputId": "48182a40-aa76-4c6c-e184-9f48e988a111"
      },
      "execution_count": 4,
      "outputs": [
        {
          "output_type": "stream",
          "name": "stdout",
          "text": [
            "categories.csv\n",
            "category_names.csv\n",
            "CheckPoints\n",
            "file.h5\n",
            "helper.py\n",
            "helper.py.1\n",
            "helper.py.10\n",
            "helper.py.2\n",
            "helper.py.3\n",
            "helper.py.4\n",
            "helper.py.5\n",
            "helper.py.6\n",
            "helper.py.7\n",
            "helper.py.8\n",
            "helper.py.9\n",
            "output_data\n",
            "__pycache__\n",
            "sample_submission.csv\n",
            "Tensorboard\n",
            "test.bson\n",
            "train.bson\n",
            "train_example.bson\n",
            "train_images.csv\n",
            "training_logs\n",
            "train_offsets.csv\n",
            "train_TFrecords.tfrecords\n",
            "val_images.csv\n",
            "\n"
          ]
        }
      ]
    },
    {
      "cell_type": "code",
      "source": [
        "#Reading Tfrecord file\n",
        "import IPython.display as display\n",
        "\n",
        "data_dir = \"../cdiscount/\"\n",
        "\n",
        "train_tfrecord_path = os.path.join(data_dir, \"train_TFrecords.tfrecords\")\n",
        "\n",
        "\n",
        "raw_dataset = tf.data.TFRecordDataset(train_tfrecord_path)\n",
        "\n",
        "print(raw_dataset)\n",
        "\n",
        "for raw_record in raw_dataset.take(1):\n",
        "  print(raw_record)"
      ],
      "metadata": {
        "colab": {
          "base_uri": "https://localhost:8080/"
        },
        "id": "GNuPdGkR2uu3",
        "outputId": "fb3d8c51-891b-4a81-fb6b-21ecbbcbdac0"
      },
      "execution_count": 5,
      "outputs": [
        {
          "output_type": "stream",
          "name": "stdout",
          "text": [
            "<TFRecordDatasetV2 shapes: (), types: tf.string>\n",
            "tf.Tensor(b'\\n\\x817\\n\\x13\\n\\nproduct_id\\x12\\x05\\x1a\\x03\\n\\x01\\x00\\n\\x10\\n\\x06height\\x12\\x06\\x1a\\x04\\n\\x02\\xb4\\x01\\n\\x9c6\\n\\x07img_raw\\x12\\x906\\n\\x8d6\\n\\x8a6\\x08\\x07\\x12\\x00B\\x836\\xff\\xd8\\xff\\xe0\\x00\\x10JFIF\\x00\\x01\\x01\\x00\\x00\\x01\\x00\\x01\\x00\\x00\\xff\\xdb\\x00C\\x00\\x08\\x06\\x06\\x07\\x06\\x05\\x08\\x07\\x07\\x07\\t\\t\\x08\\n\\x0c\\x14\\r\\x0c\\x0b\\x0b\\x0c\\x19\\x12\\x13\\x0f\\x14\\x1d\\x1a\\x1f\\x1e\\x1d\\x1a\\x1c\\x1c $.\\' \",#\\x1c\\x1c(7),01444\\x1f\\'9=82<.342\\xff\\xdb\\x00C\\x01\\t\\t\\t\\x0c\\x0b\\x0c\\x18\\r\\r\\x182!\\x1c!22222222222222222222222222222222222222222222222222\\xff\\xc0\\x00\\x11\\x08\\x00\\xb4\\x00\\xb4\\x03\\x01\"\\x00\\x02\\x11\\x01\\x03\\x11\\x01\\xff\\xc4\\x00\\x1f\\x00\\x00\\x01\\x05\\x01\\x01\\x01\\x01\\x01\\x01\\x00\\x00\\x00\\x00\\x00\\x00\\x00\\x00\\x01\\x02\\x03\\x04\\x05\\x06\\x07\\x08\\t\\n\\x0b\\xff\\xc4\\x00\\xb5\\x10\\x00\\x02\\x01\\x03\\x03\\x02\\x04\\x03\\x05\\x05\\x04\\x04\\x00\\x00\\x01}\\x01\\x02\\x03\\x00\\x04\\x11\\x05\\x12!1A\\x06\\x13Qa\\x07\"q\\x142\\x81\\x91\\xa1\\x08#B\\xb1\\xc1\\x15R\\xd1\\xf0$3br\\x82\\t\\n\\x16\\x17\\x18\\x19\\x1a%&\\'()*456789:CDEFGHIJSTUVWXYZcdefghijstuvwxyz\\x83\\x84\\x85\\x86\\x87\\x88\\x89\\x8a\\x92\\x93\\x94\\x95\\x96\\x97\\x98\\x99\\x9a\\xa2\\xa3\\xa4\\xa5\\xa6\\xa7\\xa8\\xa9\\xaa\\xb2\\xb3\\xb4\\xb5\\xb6\\xb7\\xb8\\xb9\\xba\\xc2\\xc3\\xc4\\xc5\\xc6\\xc7\\xc8\\xc9\\xca\\xd2\\xd3\\xd4\\xd5\\xd6\\xd7\\xd8\\xd9\\xda\\xe1\\xe2\\xe3\\xe4\\xe5\\xe6\\xe7\\xe8\\xe9\\xea\\xf1\\xf2\\xf3\\xf4\\xf5\\xf6\\xf7\\xf8\\xf9\\xfa\\xff\\xc4\\x00\\x1f\\x01\\x00\\x03\\x01\\x01\\x01\\x01\\x01\\x01\\x01\\x01\\x01\\x00\\x00\\x00\\x00\\x00\\x00\\x01\\x02\\x03\\x04\\x05\\x06\\x07\\x08\\t\\n\\x0b\\xff\\xc4\\x00\\xb5\\x11\\x00\\x02\\x01\\x02\\x04\\x04\\x03\\x04\\x07\\x05\\x04\\x04\\x00\\x01\\x02w\\x00\\x01\\x02\\x03\\x11\\x04\\x05!1\\x06\\x12AQ\\x07aq\\x13\"2\\x81\\x08\\x14B\\x91\\xa1\\xb1\\xc1\\t#3R\\xf0\\x15br\\xd1\\n\\x16$4\\xe1%\\xf1\\x17\\x18\\x19\\x1a&\\'()*56789:CDEFGHIJSTUVWXYZcdefghijstuvwxyz\\x82\\x83\\x84\\x85\\x86\\x87\\x88\\x89\\x8a\\x92\\x93\\x94\\x95\\x96\\x97\\x98\\x99\\x9a\\xa2\\xa3\\xa4\\xa5\\xa6\\xa7\\xa8\\xa9\\xaa\\xb2\\xb3\\xb4\\xb5\\xb6\\xb7\\xb8\\xb9\\xba\\xc2\\xc3\\xc4\\xc5\\xc6\\xc7\\xc8\\xc9\\xca\\xd2\\xd3\\xd4\\xd5\\xd6\\xd7\\xd8\\xd9\\xda\\xe2\\xe3\\xe4\\xe5\\xe6\\xe7\\xe8\\xe9\\xea\\xf2\\xf3\\xf4\\xf5\\xf6\\xf7\\xf8\\xf9\\xfa\\xff\\xda\\x00\\x0c\\x03\\x01\\x00\\x02\\x11\\x03\\x11\\x00?\\x00\\xf7\\xfa(\\xa2\\x80\\n(\\xa2\\x80\\n(\\xac\\xfd{Pm\\'\\xc3\\xfa\\x8e\\xa2\\xab\\xb9\\xadm\\xa4\\x98/\\xa9U$\\x0f\\xd2\\x809\\xdf\\x13\\xfc@\\x83E\\xd5\\x17E\\xd2\\xf4\\xf9\\xf5\\x9dm\\x93y\\xb4\\xb7`\\x04K\\xfd\\xe9\\x1c\\xf0\\xa3\\xf5\\xac\\xa1\\xe2\\xff\\x00\\x1f\\xe3\\xfeD\\xcd;\\xff\\x00\\x06\\xeb\\xff\\x00\\xc4\\xd6\\x1e\\x83%\\x9f\\x83\\xfe\\x1d\\xcb\\xe2\\x8d@\\x9b\\x8b\\xdb\\xd8V\\xfe\\xf2l|\\xf3\\xc9&\\n\\xa6}2\\xc0\\x0f\\xc4\\xd7\\x9dK\\xe3?\\x1aj\\xae\\xba\\x84\\xbe\"\\x8fE\\xb5\\x9f&\\x08c\\x8c\\x90@88UVb\\x01\\xe3q\\xef\\x9cP=:\\x9e\\xc5\\xff\\x00\\tw\\x8f\\xff\\x00\\xe8L\\xd3\\xbf\\xf0p\\xbf\\xfcM\\x03\\xc5\\xbf\\x10\\x0f\\xfc\\xc9zw\\xfe\\x0e\\x17\\xff\\x00\\x89\\xaf\\r\\xbe\\xf1\\x7f\\x8e\\xb4\\xf7\\x8f\\x7f\\x8a.$\\x8aU\\xdd\\x14\\xd1\\x15d\\x90\\x03\\x83\\x83\\x8e\\xa0\\xf0A\\xc1\\x15\\x7f\\xc3\\xbf\\x16\\xbcE\\xa4\\xea\\x10\\xb6\\xafzu=8\\xb7\\xef\\xd6D_1T\\xff\\x00\\x12\\xb0\\x1d\\xba\\xe0\\xd0=\\x0fd\\xff\\x00\\x84\\xb3\\xe2\\x07\\xfd\\tzw\\xfe\\x0e\\x17\\xff\\x00\\x89\\xa3\\xfe\\x12\\xcf\\x88\\x1f\\xf4%\\xe9\\xdf\\xf88_\\xfe&\\xbaX$\\x8e\\xe6\\xde9\\xe1p\\xf1J\\x81\\xd1\\xc7FR2\\x0f\\xe5O+S\\'b\\xd4\\x11\\xcb\\x7f\\xc2[\\xf1\\x03\\xfe\\x84\\xbd;\\xff\\x00\\x06\\xeb\\xff\\x00\\xc4\\xd1\\xff\\x00\\tw\\x8f\\xff\\x00\\xe8K\\xd3\\xbf\\xf0n\\xbf\\xfcMt\\xe5i\\xa5k\\x9eu\\xa4\\xb65Tbs?\\xf0\\x97\\xf8\\xfb\\xfe\\x84\\xcd?\\xff\\x00\\x06\\xeb\\xff\\x00\\xc4\\xd4r|B\\xf1N\\x95\\x8b\\x9dk\\xc1dX/\\xfa\\xd9t\\xfb\\xd5\\xb8x\\xc7\\xf7\\xb6`dWNV\\x9aV\\xb0\\xfa\\xd4\\xd3\\xd8\\xaf\\xab\\xc1\\x9a\\xfa6\\xb5\\xa7\\xf8\\x83J\\x83S\\xd3.R\\xe2\\xd2u\\xdc\\x8e\\xbf\\xa8#\\xb1\\x1d\\xc1\\xab\\xf5\\xe6^\\x1a\\xb4o\\r|M\\x9bN\\xb1\\x02=+X\\xb3\\x92\\xf0\\xdb\\xaf\\x0b\\x1c\\xf1\\xb2\\xab2\\x8e\\xdb\\x83\\x0c\\xd7\\xa6\\xd7|$\\xa7\\x15$r\\xca<\\xae\\xcc(\\xa2\\x8a\\xa2B\\x8a(\\xa0\\x02\\x8a(\\xa0\\x02\\x8a(\\xa0\\x02\\x8a(\\xa0\\x02\\xb0\\xbck\\xff\\x00\"6\\xbd\\xff\\x00`\\xf9\\xff\\x00\\xf4\\x03[\\xb5\\x85\\xe3_\\xf9\\x11\\xb5\\xef\\xfb\\x07\\xcf\\xff\\x00\\xa0\\x1a\\x00\\xf1\\xaf\\x145\\xd5\\xe7\\xc0\\x9bV6\\xc5!\\xb7\\x86\\xcb\\xe6\\xef\\x80\\x14\\x16\\xfar9\\xf7\\xaf>[;\\xadB\\xce\\xda\\xea\\xc9$\\xba\\x8cB\\x90\\xc8\\xb1.\\xf6\\x85\\x97#iQ\\xc8\\x07\\xa8=\\x0e}k\\xd9\\xfc,n/l\\xf4M2\\xfe\\xde&\\xd3\\xa7\\xd0\\xe3\\x057nY\\x14\\xa2\\x03\\xbb\\xd0\\xf4\\xfaW)\\x17\\xc1+mJY\\xae\\xf4/\\x12Mkg\\xe6\\xba$s[ot\\xc1\\xc1\\x1b\\x83\\x0c\\x8a\\xca\\x9dNm:\\xea\\x0eJOk\\x1ey\\xaa\\xa3X\\xda\\xdaZ\\xdc\\x1f\\xf4\\x813O%\\xbf\\x19\\x88\\x10\\x00\\r\\xe8\\xcd\\x8c\\xe3\\xb0\\x03=j?\\x13\\xea\\xf6\\xda\\xb3C%\\xbc/\\x18\\x8a\\xdf\\xcbvuU.\\x7f\\xe0<W\\xa4\\x0f\\xd9\\xf6\\xef\\xfe\\x86\\xb4\\xff\\x00\\xc0\\x0f\\xfe\\xce\\xb6\\xbc5\\xf06\\xcbJ\\xd5b\\xbd\\xd5\\xf5f\\xd5\\x16\\x16\\x0f\\x1d\\xb8\\x83\\xcaB\\xc3\\xa6\\xeeNG\\xb5j\\t\\x1d\\xd7\\x84-f\\xb4\\xf0f\\x89op\\x08\\x9a;\\x18U\\xc1\\xeb\\x9d\\xa2\\xb6\\xf6\\x1fJ\\x93o4\\xecT\\xc8\\xd9h@c8\\xa6\\xf9d\\xd5\\x9d\\xb4\\x85k\\x9aQ\\xb9\\xa2\\x91P\\xa50\\xad\\\\d\\x06\\xa1e\\xc5s\\xca\\x06\\x8aG6\\x06>)\\xe8\\x7f\\xf6\\x0b\\xbc\\xff\\x00\\xd0\\xe1\\xae\\xfa\\xb86\\x18\\xf8\\xa9\\xa1\\x7f\\xd8.\\xf7\\xff\\x00C\\x86\\xbb\\xca\\xee\\xa2\\xadM\\x1c\\xb5u\\x9b\\n(\\xa2\\xb53\\n(\\xa2\\x80\\n(\\xa2\\x80\\n(\\xa2\\x80\\n(\\xa2\\x80\\n\\xc2\\xf1\\xaf\\xfc\\x88\\xda\\xf7\\xfd\\x83\\xe7\\xff\\x00\\xd0\\rn\\xd6\\x17\\x8d\\x7f\\xe4F\\xd7\\xbf\\xec\\x1f?\\xfe\\x80h\\x03\\x83\\xf0D\\xff\\x00i\\xf0\\x8e\\x8c\\x88\\xa8.\\xed\\xac\\xd1\\x15\\xc9\\xe4\\x82\\xa3\\x8f\\xa61\\xf9\\n\\xebl\\xaf\\xe3\\xb5\\xba]9\\xad\\xde4\\x08\\\\:/\\xc8\\xa79`}\\xf2I\\xaf1\\xd2\\xaf\\x9a\\xdb\\xc0\\xdaI\\x80\\xc9\\r\\xdcv\\xf1\\xb1h\\xcf\\x12\\xa1Q\\xc1\\xef[^\\x06\\xd4e\\xd4o\\xee\\x13SL\\xe2&ky%|\\x186\\xe3\\x00z\\x13\\x9f\\xaf\\x15\\xc5K\\x14\\x9b\\xf6ik\\xdc\\xea\\x9c\\'Q\\xb9S\\x85\\xa3\\xbd\\xfa\\x1dn\\x93\\xe2\\x84\\xbe\\xd5&\\xd3n\"\\xf2\\xee\\x16v\\x8d\\n\\xf2\\xa4\\x01\\x91\\xf8\\xd7I\\x8a\\xf3]&\\x0b\\xb9|h\\xba\\x84v\\xc9q1\\x06Y\"G\\x11\\xa88\\n[\\x9f\\xaf\\x03\\xd6\\xba!\\xae\\xea\\x03\\xc6\\xbfcUW\\xd3\\xe4\\xb5\\xf3\\x11N\\x15\\xb2\\x08\\x07\\x1f\\xed\\x03\\xbb+\\xedJ\\x85w\\xc9y\\xeb\\xad\\x8e~I\\xc2\\\\\\x92\\xd5\\x9dHZ6\\xd4Q\\xde\\xda\\xca\\xe5\\x16t\\xde:\\xa18#\\xf04\\xc9\\xef\\xe2\\x82\\xee;V?\\xbd\\x91IQ\\xfe~\\x95\\xd1*\\xb0\\xb5\\xeej\\xa3+\\xda\\xc5\\x8c\\x1aLUm7PMB\\xd9\\xa5\\x0b\\xb7k`\\xfaR\\xdaj\\x16\\xf7\\xf7\\x17\\x11\\xdb:\\xca\\x90\\x10\\x8f\"\\x9c\\x8d\\xfdv\\x8f\\xa0\\xfeu\\x9cg\\x19\\xc5J;1\\xb8\\xca-\\xa6\\xb6\\'\"\\xa3|b\\xa7\"\\xa1a\\x83S!\\xc4\\xe6%\\x18\\xf8\\xa9\\xa1\\x7f\\xd8.\\xf7\\xff\\x00C\\x86\\xbb\\xaa\\xe1\\xa6\\xff\\x00\\x92\\xa9\\xa1\\x7f\\xd8.\\xf7\\xff\\x00C\\x86\\xbb\\x9a\\xe8\\xa5\\xf0#\\x1a\\x9f\\x13\\n(\\xa2\\xb4 (\\xa2\\x8a\\x00(\\xa2\\x8a\\x00(\\xa2\\x8a\\x00(\\xa2\\x8a\\x00+\\x0b\\xc6\\xbf\\xf2\"\\xeb\\xdf\\xf6\\x0f\\x9f\\xff\\x00@5\\xbbX^5\\xff\\x00\\x91\\x17^\\xff\\x00\\xb0|\\xff\\x00\\xfa\\x01\\xa0\\x0f\\x18\\xd3-\\xae/t\\x8d\\x0e\\x0bv\\xf9\\xda\\xd2\\x15\\xda\\xc7\\x00\\x8d\\x83\\xf9W\\xa1\\xf8cM\\xb6\\xd0\\xed\\'\\x8a}\\xb71\\xdc\\xfc\\xd3\\x16L2\\xa8\\xe0|\\xbd\\xd4s\\x9cr:\\xf4\\xe9\\xe7\\x1a|\\x97\\xda~\\x89\\xa0\\xea\\x11\\xac>Z\\xdbF\\x7fx\\xa4\\xee\\x021\\xc8\\x19\\xf5=kB]GU\\xd6\\xe0\\x8aK\\xb3\\xb6\\x14\\x93q\\x95\\x17k\\x80{\\x0f@+\\xc8\\xc3\\xca\\x9d8\\xb9K\\xe2\\xbb>\\x97\\x1d\\x1a\\xf50\\xca\\x14~\\x14\\x96\\x9egQt48...lu\\x1b\\x95+\\xb7\\x06\\xdeV\\x8d\\xe3\\x00\\x1c\\xa0\\xcf\\xde\\x07\\xa8\\xceFT\\x03\\xd4W<<C|5\\t\\xad\\xeeg\\x86\\xfa\\xde\\xe0n/2m\\x95v\\xfd\\xd6\\x0c\\xb8\\xf9\\xb9\\xebX\\xd7\\x92\\\\\\x16\\xf2 G\\xf2\\xd78rI\\x1f\\\\\\xe0f\\xa8\\xe9\\xd63\\xcb\\xa8\\xa8\\xe3;J\\x86`I\\\\\\xe3\\xa7\\xe5X:\\xf5&\\x9a\\xd1-O\\x9fX\\x0c}d\\xeb\\xa4\\xd7/\\xc9\\x9d\\xbd\\xbf\\x89 \\xbc?d\\xd5\\xe13\\xc6\\x06\\x12\\xe1\\x0e%O\\xf8\\x17\\x7f\\xc6\\xa9\\xd9\\xdd\\xea\\x03Y\\x99R\\xe1\\xe6\\xb7\\xb5\\x07m\\xcc\\xa7\\n\\xab\\x83\\xb7$\\xfdzR\\xcf\\xa2Eej&\\xf3K\\x95P\\x1b\\x1c\\x02\\xdd\\xcdY\\xb9\\xd3n\\xed\\x98Ei\\xbaI\\x15Vh\\x99\\xa1\\xde\\x9b\\x88\\xc8\\xca\\x1e\\x0e3Y\\xc6\\x12\\xb2Z\\xbf\\xcc\\xed\\xa1\\x8b\\xad\\x83\\x82U\\xa2\\xa5\\x19+]t\\xff\\x00\\x83\\xfdjiK\\xa9\\xddK\\xa5\\x8d7LI#\\xb4\\t\\xb5\\xe6\\xdawK\\x9e\\xa7>\\xfc\\xd58#\\xbe\\xd34\\xf9-\\xac\\xa7{x\\x98\\xe5\\x82\\x1c\\x1c\\xfdz\\xd4:N\\xb7p\\xe6A<(&Rx\\x1fp}\\x07Q\\xf4\\xad\\xa4\\x92!b\\xcd&\\x0b\\xb9\\xcbm=)\\xb9\\xb4\\xdd\\xa5\\xb6\\xc7\\xa7\\xcf(Z\\x1c\\x8a\\xcfW\\xd4\\xd8\\xf0n\\xa5}\\xa8X\\\\-\\xeb\\x99\\x0c\\x12\\x04I\\x08\\xe5\\x86;\\xfa\\x9a\\xe8\\x1cUm\\x1a\\x0bX\\xb4\\xa8Z\\xcd\\n\\xc5 \\xdf\\x96\\xfb\\xccOsV\\xdcq^\\xaaO\\x91\\\\\\xf1\\xebN2\\xab\\'\\x15es\\x95\\x97\\xfeJ\\xa6\\x85\\xff\\x00`\\xbb\\xdf\\xfd\\x0e\\x1a\\xeek\\x87\\x9cc\\xe2\\xae\\x83\\xff\\x00`\\xbb\\xdf\\xfd\\x0e\\x1a\\xee+\\xa2\\x97\\xc0\\x8eY\\xfcL(\\xa2\\x8a\\xd0\\x80\\xa2\\x8a(\\x00\\xa2\\x8a(\\x00\\xa2\\x8a(\\x00\\xa2\\x8a(\\x00\\xac/\\x1a\\xff\\x00\\xc8\\x8d\\xaf\\x7f\\xd8>\\x7f\\xfd\\x00\\xd6\\xedax\\xd7\\xfeDm{\\xfe\\xc1\\xf3\\xff\\x00\\xe8\\x06\\x80<SO\\xb3\\x9e\\xff\\x00\\xc26\\xb7\\x17RyqC\\xa7G\\xb4\\x93\\xf2\\xe0(#\\xf9t\\xf55\\xadk~E\\x82\\x14\\xb6f\\x0e\\xa4\\xa6\\xd1\\xf7\\xd3\\xa9#\\xf0\\xaev)-n<3\\xa4C-\\xec\\xc4\\x0bh\\x83Z\\xc6\\xfcI\\xf2\\x8c\\xe4v\\x03\\xf35\\xbdc4i\\xa5\\x0b{tH_hT\\xe3\"2{\\x81\\xed\\x93_7U\\xdb~\\xef\\xee>\\xa2\\x0e\\xac\\xa0\\xd4c\\xa2J\\xc5}\\x03U\\x8b\\\\\\x92\\xe9M\\xb3A\\x0c\\x03y$g\\x8e\\xc3\\xda\\xa5\\xbaP\\x81n L!P\\xcawm\\xf5\\xe2\\x93E\\xd1\\xf4\\xeb\\tn\\x9ex\\xe4wF\\xdb\\x1c\\x8e\\xe7,\\xa4rx\\xf7\\xa4\\xd45\\x08\\xacb\\x8d\\x17\\xe6\\x88\\x0c \\'\\xb7\\xf5\\xac\\xe7({_\\xdc\\xad\\x0ezx\\xaa\\xf4):\\x98\\x87h\\xfe-\\x9dN\\x8f\\x1c\\xd7>L\\xf2\\xcf\\x15\\xcd\\xab\\xc4\\xac\\x9b\\x90\\xab)\\xf7\\x07\\x8c\\x8e\\x99\\xad\\xb1\\x14\\xcb\\xab)L\\x98\\xf8<\\x8f\\x94\\x8e\\xe7>\\xb5\\xe6z7\\x8e/t\\xcb\\xd6\\xc6\\x8b\\xa9j\\xb6L\\xb9\\xd9g\\x1eLlO\\x078<\\x10\\x0f\\x15\\xe8\\xb6>!\\x8bZ\\xb470\\xda\\xdfi\\xe5>Y-\\xaf\\xe1\\xf2\\xdcw\\xcf\\xb8\\xf7\\x06\\xbe\\xa3\\x04\\xe3\\xec\\xa3\\x18\\xab7\\xb9\\xe4\\xacS\\xad\\xab\\xeaqZ\\xce\\x93}\\xa6\\xea:\\x85\\xcd\\xb3<\\x96\\xcf(\\x92$\\x07$n\\xce@\\x1dx8\\xfc\\xfe\\xb4\\xdbmNG\\xb77\\',\\x89&\\xd9!l\\x80\\xd8\\xc6@#\\xf2\\xae\\xaa[)\\xb5\\xab\\xd9\\xf5\\x1d\\x1a\\xe9Z\\xce%\\x0b\\xbaD*\\xaf(\\x1c\\xa4g\\xf8\\x86p3\\xd0\\x13\\x8c\\x9e\\xdc$\\x97s\\xebwM\\xa7ZY\\xbd\\xcc\\xd3\\x87O%\\x08\\x07$\\x11\\x9c\\xf4\\x18\\'9\\xed\\x8a\\xf1\\xb14_\\xb7\\xf7c\\xd7s\\xdb\\xc0\\xca.\\x83I\\xddE6\\xfb\\xfa\\x1e\\xe7\\xa7]A{\\xa6[]\\xdb\\x02 \\x9a%x\\xc1\\x18\\xc2\\x91\\xc0\\xa9[\\xa5q\\xff\\x00\\ruY\\xaf|#\\x16\\x9f|\\x82-OIccw\\x17B\\x19>\\xebc\\xd1\\x86\\x0e{\\xf3]k5z\\x12\\xd3C\\xc2Vn\\xe8\\xe6n\\x7f\\xe4\\xaa\\xe8?\\xf6\\x0b\\xbd\\xff\\x00\\xd0\\xe1\\xae\\xde\\xb8\\x8b\\x83\\x9f\\x8a\\x9a\\x0f\\xfd\\x82\\xef\\x7f\\xf48k\\xb7\\xad\\xa9\\xfc(\\xc6\\x7f\\x13\\n(\\xa2\\xac\\x90\\xa2\\x8a(\\x00\\xa2\\x8a(\\x00\\xa2\\x8a(\\x00\\xa2\\x8a(\\x00\\xac/\\x1a\\xff\\x00\\xc8\\x8d\\xaf\\x7f\\xd8>\\x7f\\xfd\\x00\\xd6\\xedax\\xd7\\xfeDm{\\xfe\\xc1\\xf3\\xff\\x00\\xe8\\x06\\x80<\\x03O\\xd2\\x9aM\\x0bO\\x95I\\x0c\\xd6\\xd1\\x90\\xc3\\xb7\\xca+\\xb1\\xf0\\'\\x85\\x0e\\xb4/\\x9a\\xea\\xeaH\\xc5\\xb0U\\x88*\\x8d\\xa5\\x98\\x1e[\\xd7\\x18\\x07\\x15\\x9f\\xe0l\\xea>\\x0e\\xb6\\x9ed \\xc5\\nD\\xa7n\\x06\\xd01\\xf8\\xe6\\xb4\\xb4\\x0b\\xddB\\xd7]\\x8bK\\x96\\xf0Gg{3 \\x8a\\x13\\xb0\\xefn\\x85\\x9b\\xab\\x00\\xa0\\x8c\\x03^%\\x19\\x7f\\xb4:u\\x0f\\xa9\\xc4cgS\\x05\\xfb\\x95\\xae\\x9f$\\x8c\\x1b\\xeb=n\\xd6\\xfc\\xd9\\xa5\\xa4\\xd3\\xc9\\x82c1)a2s\\x86_c\\x8c\\xd4\\xdaF\\xa7qo\\x03\\xc4tk\\x1b\\xe9$\\xc2H\\xd7\\xa0\\x9d\\xa3vx\\x00\\xe3\\x03\\xf3>\\xa2\\xbd\\xd2\\xe2\\x1bx\\xe0y\\xbc\\xa8\\xd5\\x92\\x16P\\xd8\\xc1\\x0b\\x8e\\x99\\xec+\\xc2\\xfc0\\xd2]\\xe8BIa{[\\x81\\x11\\xc8\\x910\\xaaG~\\xbd+LD>\\xac\\xb9\\xe0\\x96\\xe7=\\x1cR\\xc7\\xc1\\xc7\\x12\\xbe\\x15\\xa5\\xb4\\xf9\\xfa\\x9az\\x9e\\xbb\\xe2\\x01h-m\\xae^ \\xc4(\\xfb$\"\\x05\\x03\\x18\\xc9\\x0b\\xd0c\\xa0$\\xfdkC\\xc0:\\xc6\\xad&\\xbc4k\\xf9^\\xf2\\xc6X[\\x0bq\\xf3\\xf9{G\\x18\\xcfc\\xd0\\xfe\\x15\\xcc\\xf8SW\\xbb\\xd4\\xaf.F\\xa0\\x1eH\\xf2|\\xa6\\x8e#\\xb3#\\xa9\\xce1\\xd3\\x15b\\xe3R\\xba\\xf0\\xfe\\xaf\\xfd\\xadgtc1\\xae\\x1a7Q\\xb3o\\xf1g\\xbfO\\xe4*)\\xd6\\xab\\x0cB\\x8dV*\\x14)U\\xa1S\\xd9GW\\xb5\\xfa[\\xfa\\xf9\\x9e\\xbd\\xaej:^\\x97\\xa7\\xff\\x00\\xc4\\xcaE\\xb7\\xb5\\xf2\\xdc\\xab\\xed;Sj\\x93\\xd5z\\x1c\\x02GN\\x87\\x15\\xe1#\\xe3M\\xc7\\xdaZ\\xcfG\\xb2K\\x99e\\x89\\xe0\\x8a\\xea\\xe2\\x14\\x86l\\xff\\x00\\x03\\x12\\x84\\x0cz\\xaf\\x1d\\xb9\\xcd{E\\xcbE\\xe2\\xbf\\x04N$\\x8d\\xa2\\x87R\\xb1\\x7f\\x95\\xba\\x85e8?\\x96\\r|_\\x83\\x1b\\x9c\\x1eT\\xf5\\x15\\xebE^\\xe7\\x85{=Oh\\xb4\\xd7u\\x9bQ\\x16\\xa9\\xaf-\\xc5\\xa5\\xc6\\xff\\x00)\\xef,\\xe4f\\x99\\x01\\xe1HV\\'w\\xcd\\x8c\\xa7*\\xc0\\xf4\\x07\\x9a\\xf6\\xed\\x0e}F}\\x02\\xc2]^$\\x8bRx\\x15\\xae#A\\x80\\xaf\\xdf\\x8e\\xde\\xe3\\xb1\\xcdx^\\x93\\xab(\\xf0Cj\\x9a\\x8d\\xc3^y\\x88\\x8d\\xe5y[\\x99\\x1d\\x0e\\xdc\\xfe\\x80\\xfe}\\xeb\\xde-.V\\xe2\\xd2\\x19\\xc4\\x81\\xc4\\x91\\xab\\x87\\x1f\\xc5\\x90\\x0ek\\x87\\xda\\xc9\\xddK\\xa3\\xdc\\xf4*\\xd2\\x82\\xe5p\\xd2\\xebn\\xbe\\xbf3\"S\\x9f\\x8a\\x9a\\x17\\xfd\\x82\\xef\\x7f\\xf48k\\xb9\\xae\\r\\x8e~*h_\\xf6\\x0b\\xbc\\xff\\x00\\xd0\\xe1\\xae\\xf2\\xbb\\xa9;\\xc1\\x1e}Ei0\\xa2\\x8a+B\\x02\\x8a(\\xa0\\x02\\x8a(\\xa0\\x02\\x8a(\\xa0\\x02\\x8a(\\xa0\\x02\\xb0\\xbck\\xff\\x00\"6\\xbd\\xff\\x00`\\xf9\\xff\\x00\\xf4\\x03[\\xb5\\x85\\xe3_\\xf9\\x11\\xb5\\xef\\xfb\\x07\\xcf\\xff\\x00\\xa0\\x1a\\x00\\xf2?\\x08Xi\\xdaw\\x85,\\'\\x84~\\xfe\\xe2\\xda\\'\\x94\\xe7 \\xb6\\xdfC\\xd3\\xaf\\xe9Z:-\\xa5\\xbe\\xbd\\xe2U\\xb3\\x98\\xb3F\\xa8\\xfb\\x80\\x1c\\xa9(\\xc0\\x1c\\xf6\\xc7\\x04W\\x1d\\xa5\\xeaS\\r#L\\xb6\\x8e3$\\x8d\\x04+\\x12\\x06\\x03{\\x15\\x00\\x0c\\x9e+\\xd9\\xcd\\x84>\\x1f\\xd3L\\xda>\\x9a\\x86\\xe7r\\xbbD\\\\\\xe5\\xff\\x00\\xbc7\\x1c\\x9e\\x84\\xd7\\x8bG\\x0f)\\xd5\\x95i\\xea\\x91\\xefc\\xe4\\xb0\\x98eF;\\xc9k\\xe9\\xff\\x00\\x04m\\xee\\x89\\x7f\\xa5x#Q\\xb0\\xd2\\xeeg\\xb9\\xba\\x91\\tBO\\xcc3\\x8d\\xc1s\\xed\\x9a\\xf2\\xed\\x1e[\\x9b\\xad0\\xcb\\r\\x9c\\xf7\\x16\\xee\\xacC*\\x1d\\x8c\\x17\\x93\\x96<c\\x00\\xe75\\xedV\\xb7\\x12\\xdd\\xe9\\xd1\\xbd\\xd4>D\\x92\\xc7\\xfb\\xc8\\x83\\xe7n{\\x02+\\x82\\x1f\\x0b--\\xa7\\xbbk\\x0f\\x13x\\x82\\xce\\xde\\xe8\\xb1\\x9a\\xda\\x1b\\x85\\xd8\\xdb\\xbe\\xf0<s\\x9c\\x9a\\xef\\xab\\x85\\xa7V)tG\\x06\\x0b\\x1f,59S\\x8cS\\xb9\\x90\\x9a\\xc4\\x16\\xb0H\\xb6\\xfbQ%>f\\x14`n\\xff\\x00\\xf5V\\x8e\\x93\\xe0\\xdb?\\x13\\xdb\\xdbjz\\x9d\\xc1\\x9a\\xc5\\x9bz\\xda *$*q\\xf3\\x93\\xce2:\\x0e\\xbe\\xb4\\xfd?\\xc0Z[xn\\xf2\\xd1|\\xeb\\x8b\\xc8\\xe6\\xb8\\x8a+\\x89\\xa7f,U\\x98&\\xeeq\\x8e\\x00<z\\xd7S\\xa0j\\xb1\\xea\\xba\\x15\\xad\\xd4v\\x92Y\\xfc\\xbe[[H\\x9bL,\\xa7k\\'\\xd0\\x11\\xc1\\xf4\\xc5sQ\\xc1F\\x8c\\x9c\\xdb\\xbb:\\xf1\\x18\\xf8\\xce\\x9a\\xa7Er\\xdfq\\xfe$\\xd4SO\\xf0\\xf6\\xa0c!e\\x16S\\xb4H\\x07\\xf7#\\'\\x8f\\xa7\\x15\\xf1\\x8a\\x86f\\x01A$\\xf6\\x02\\xbe\\xd2\\xbb\\xb5\\xb7\\xbd\\x08\\'@\\xfb\\t\\xc7=\\x8a\\x95a\\xf4 \\x90Ey\\xd4\\x7f\\x08tM>\\xcbP\\x16\\xa8\\xb772H\\x1e\\xd5\\xaeA>R\\x8f\\xf9g\\x9c\\xfd~n\\x0fJ\\xeb\\x8dX\\xc7s\\xcc\\x956\\xf63~\\x16\\xf8^\\xc3V\\xf0d\\xd1j\\xb6\\xd20b\\x01Vb\\xb8\\x07,\\x08\\xc7 \\xf7\\xe0\\xd7i\\xa3\\xdb\\xdcxoX\\x8fC\\x13\\xbc\\xda<\\xd6\\xe5\\xac<\\xd3\\x97\\xb7d\\xc6\\xe8\\x8bwR\\x0e\\xe5\\xcfL\\x11Y\\xb6\\x97\\x91\\xfc>\\xf8q\\x15\\xcd\\xe5\\xac\\xac\\xf0\\x15I\\xd4\\x1c\\xb1%\\xf6\\x82I\\xec\\x06) \\xf15\\x97\\x88\\xf5\\xdd\\x07\\xfb*\\xe8\\xdc\\x85\\x9a{\\x89\\xd7h\\ro\\x18\\x88\\xa8\\x0c\\x07L\\xb3.3\\xd6\\xb9\\xa6\\xdc\\x9b}5:#\\xd2\\xfb\\x9d\\n0o\\x8aZ\\x1f\\xfd\\x82\\xef?\\xf48k\\xd0+\\xce\\xed\\x8e~)h\\xbf\\xf6\\x0c\\xbc\\xff\\x00\\xd0\\xe1\\xafD\\xae\\xbc3\\xbd$\\xceZ\\xea\\xd5\\x18QE\\x15\\xb9\\x90QE\\x14\\x00QE\\x14\\x00QE\\x14\\x00QE\\x14\\x00V\\x17\\x8d\\x7f\\xe4F\\xd7\\xbf\\xec\\x1f?\\xfe\\x80kv\\xb0\\xbck\\xff\\x00\"6\\xbd\\xff\\x00`\\xf9\\xff\\x00\\xf4\\x03@\\x1e-\\xf0\\xda]:5\\xfb]\\xe0\\x89\\xe5\\xb2\\xb5\\x80\\xc4\\xd38DFe\\xc7S\\xd5\\xb6\\xf6\\xc1\\xeb]\\x1e\\xb3\\xe2\\xb9sq-\\x85\\xdc\\xb7\\x88\\xe4\\xaf\\xcd\\x84\\x8e\\x05 \\x8c*\\xf5f \\x9eO\\x03\\xafZ\\xf37\\xd1<A\\xa6\\xf8\\x7fH\\xb8Xb\\x9e;\\xc8\\xa3pw\\xed\\x11\\xab(\\xd8\\xa5\\xb8\\xf9\\x8f<\\x0e@Z\\xf4=4[\\x8d\\n\\xcd\\xe5\\x8e\\xd9|\\xb8\\x80\\x95a\\\\/\\x99\\xeb\\xcf_\\xc6\\xbc\\xea\\xd3\\x954\\x92\\xd1\\xdf\\xef=\\xba\\xdfW\\xafR5$\\xdc\\xadk\\xf4I%\\xb7\\x99b\\xcf\\xe2\\x84\\xb0\\x91\\x1e\\xa5\\xa4\\x90\\x81~Ym\\xa6\\x07\\'\\xdd\\x18\\x0c~f\\xa9\\xea_\\x18tK\\xa7\\x1ajG\\xa9\\xd9\\xc7rZ\\xdek\\xf6A\\x1f\\xd9K)\\xc3\\x0eNH\\xe0\\xfd9\\xaa\\xba\\xbe\\x9fd-\\x85\\xc4n\\xa9\\x19R\\xc4\\x1e6\\x8frzW\\x97\\xc3q\\x06\\xb1\\'\\x89,\\xa2\\x1edf\\xcc\\\\B\\xc0g\\xe7\\x80\\x83\\xb8{\\x15.?\\x1a\\xd7\\x0f^u\\x1b\\x8c\\x96\\xc76*\\x8d\\x08\\xd3\\x8c\\xe9=_C\\xe8\\xdd\\x06\\xde\\xcfE\\xd0\\xac\\xb4\\xdb[\\x8f>\\x18bP\\'\\xce\\xef0\\xb1?1#\\x8c\\x93\\x93\\xf8\\xd6\\x9bK\\xdc\\x9f\\xce\\xbeh\\xf8y\\xe3\\xe9|-#\\xd8\\xbc&kk\\x99\\xe3s\\x87\\xc1\\x18\\x04\\x103\\xc79\\x1fB+\\xdaO\\x89\\x96\\xf2\\xd3NT\\xb5\\x9eG\\xd6Z[[h\\x95\\x80\\xdb,e\\x84\\x80\\xb7a\\xc5i8K\\xa1\\xcb\\t\\xc6\\xda\\x9d\\x1d\\xfd\\xccp\\xd8K4\\xb7\\x0b\\x04*\\xbb\\x9ef8\\x08\\xbd\\xce\\x7f\\x97\\xe1Xw\\x9e+\\x0bg7\\xf6L_\\xda\\xd7P\\xda=\\xcc\\x82&\\x0b\\xb1T\\x85%\\x97\\xaerrTs\\x80}\\xab\\xcf.u\\x0b\\xef\\x10_xgR\\xba@m&\\x8a[y\\x90)\\x0bis\\x14\\x9b\\x88p:}\\xd4\\xf7*q\\xd7\\xaf\\xa7\\x7f\\xc2Q\\xa1\\xb6\\xbfiy`\\x02j\\x93@b\\x92\\xd9\\xc6\\xc7\\x99\\xe4\\xdb\\xb5\\x08\\xc6I\\x1e^w\\x0e098\"\\xa3\\xd8\\xa5\\xac\\x98\\xfd\\xab\\x7f\\n\\x19w\\xe1\\x8dj\\xec\\xc1\\xa7\\xcb}k.\\x93\\xa8\\xb1i\\xee\\xad\\xad\\xf0\\xe8J\\xee\\x0b\\xb1\\xcb.\\xc6 r?,\\x9c\\xd4\\xf66\\xb3i\\x93\\xddi\\xf72E,\\xb08\\xdb*.\\x19\\xe2#+\\xbb\\xbe~\\xf0\\xe4\\x9e\\x9dOZ\\xa3t\\x9e/\\xbeH\\xa1\\xd3\\x9fR\\xb7\\x81]\\x91\\x16\\xdd`\\xb6X\\x9a>1\\xf3\\x06f\\\\\\xe4\\x00x\\'\\xbe*{\\x14\\x97\\xcc\\x92\\xea\\xe6{\\xd9\\xeegU\\xcc\\x97\\x88\\xa8\\xfb\\x01m\\xa0\\x05\\x00\\x00\\tn\\xd9\\xfd+\\x1c_$ih\\xack\\x87\\xe6u5c\\xac\\x8e~(\\xe8\\xdf\\xf6\\x0c\\xbc\\xff\\x00\\xd0\\xe1\\xafG\\xaf5\\xd3\\xce~(\\xe8\\xdf\\xf6\\x0c\\xbc\\xff\\x00\\xd0\\xe1\\xafJ\\xad\\xf0n\\xf4#\\xfdu0\\xc4\\xabU\\x90QE\\x15\\xd4`\\x14QE\\x00\\x14QE\\x00\\x14QE\\x00\\x14QE\\x00\\x15\\x85\\xe3_\\xf9\\x11u\\xef\\xfb\\x07\\xcf\\xff\\x00\\xa0\\x1a\\xdd\\xac/\\x1a\\xff\\x00\\xc8\\x8b\\xaf\\xff\\x00\\xd8>\\x7f\\xfd\\x00\\xd0\\x07\\x99\\xe8\\x1ag\\xdb\\xbc\\x07g\\x9b\\xbb\\x9b\\x89!\\xb1\\x8eX\\xe3b\\x08S\\xe5\\x8f\\x94\\x0fLp+#C\\xd4\\x05\\xc0\\x0c\\x9b\\x162pA^\\x18\\x0e\\xb9\\x15\\xda\\xf8I \\xb6\\xf0\\x86\\x90\\xdb\\xf7Jt\\xeb\\x7f\\xbc>\\xe81\\xa9?\\x85f\\x8f\\x0ci\\x900\\xf2s\\x0c~s\\xcacN\\x9f7;G\\xa0\\xceO\\xe3\\\\\\xf8\\xbc\\x1cf\\x94\\xe3\\xa3=,-H\\xd3\\x93\\x8c\\xbe\\x07\\xd3\\xcc\\xe7|E\\xaa[\\xdbiw\\x13\\x98\\x17\\xc8\\x85q${w\\x0ez/<`\\xd7\\x92x6{\\x8bMo\\xed\\xd0\\xdb=\\xcd\\xba#\\xa5\\xdd\\xbc\\\\\\xb9\\x81\\xc1W!z\\x90\\x01\\xed\\xd3\\x02\\xbd\\xb7\\xc6\\x1a5\\xb6\\xa5`\\x04q\"\\x07O\\xb2\\xc9\\x91\\xc6\\xd6\\xfb\\x8c}\\xd5\\xf6\\x9c\\xfa\\x16\\xf5\\xaf-\\xf0\\x8f\\x86\\'K\\xebV\\xbb\\x92\\xe3N\\x9a\\xe8o\\xd3\\xb5\\x18y\\x11\\xcc\\xa4\\x83\\x1bv\\xe7\\x04`\\xfa{\\xd4\\xd0\\xa4\\xa8\\xc5\\xa6\\xefs\\x1cMOi5\\xca\\xac\\x91\\xcc^\\xe9o\\xa2\\xea\\xd1\\x92\\xf1Mj\\xcd\\xbe\\xde\\xe5\\xb2b\\x95;\\x1e9\\xfa\\x8e\\xa0\\xf0k\\xbc\\xd1\\xf5}^\\xe6\\xd3O\\xd3l\\xfcK\\xe1\\xbbC\\xa5\\xc9-\\xfcWR\\xb4\\x83cH\\xd8o\\x99\\x93\\x03\\x1b\\xce\\x14\\x0e\\xfd\\xfbw7\\xad}\\xfd\\x9a\\xd6w\\x0b\\xe1\\xe9\\xaf\\xc1\\xde\\xf1O\\x81\\x1d\\xc8\\xf5\\xdayF\\xf7\\xe4W\\x9c\\xea\\x9a\\xfe\\x9d\\xa5\\xdc\\x18\\xb5O\\x87:|R\\x9e\\x8c$`\\xad\\xee\\x08\\x18?\\x85k\\x1a\\x8d\\xec\\x8ceJ\\xddN\\xff\\x00\\xc2\\xa9\\xe1\\x9f\\x0e\\x1d\\xfa\\x97\\x8d_S\\x93T\\x8aK\\xc3\\x1c0\\x85\\x80\\x88\\xc9iz\\x8f\\xe2*\\xc0t\\xce\\x0f\\x1d+\\xa6\\x97\\xe2?\\x83\\xed.\\x17\\xfb:\\x08\\r\\xc4\\xfaI\\xbf\\xb7p\\x14\\xfc\\xc3; \\x00d\\x87\\'?(\\xaf\\x08\\x97\\xc6\\xfaF\\xd5\\x16\\xfe\\x0b\\xd2P\\xa8\\xc2\\xf9\\x8e\\xf2\\x01\\xf8\\x13U\\xff\\x00\\xe1=\\xd4\\x1d\\xc4qGm\\xa5\\xdb\\x1e\\x1f\\xfb.\\xd9\"\\x90\\x8ff<\\xfe\\xb4\\xf5\\xdd\"t\\xd9\\xb3\\xdbt\\xff\\x00\\x88\\x9e86\\x02}GH\\xd1-ey\\x84\\x89\\x15\\xc5\\xf7\\xd9\\xd8\\xc4G\\xdd\\xdarA\\xe8r\\x7f*\\xd2\\xb2\\xf1\\x05\\xfe\\xaf2\\xae\\xa9\\xf6U\\xba14\\x82;m\\xc4$~c(\\xcb\\x1e\\xbe\\x80\\x8e\\xa0f\\xbcB\\xd7\\xc5~\\x1f\\xb5\\x0b\\x1d\\x8f\\x87\\xe1\\x9e\\xe6C\\x99o\\xb5\\xa9|\\xe2O\\xa9\\x00\\x7f*\\xf4\\x7f\\x0cj\\x96:\\x96\\xa1\\x05\\xdd\\x9c\\xf6O\\'\\xd8\\x85\\xb5\\xcc\\x16\\x84\\xed\\x84\\xab\\x96B\\xa0\\x80v\\x9c\\xb0\\xe9\\xc7\\x15\\xc1\\x8c\\x95GM\\xa9-\\x0e\\xdc,i\\xf3\\xa6\\xb7:\\xcd(\\xe7\\xe2\\x8e\\x8f\\xff\\x00`\\xcb\\xcf\\xfd\\x0e*\\xf4\\xea\\xf2\\xed\\x19\\xb7|P\\xd20r?\\xb3.\\xff\\x00\\xf48\\xab\\xd4k\\xa3\\x01\\xfe\\xef\\x1f\\xeb\\xa9\\xcf\\x8b\\xfe4\\xbf\\xae\\x81E\\x14WY\\xcc\\x14QE\\x00\\x14QE\\x00\\x14QE\\x00\\x14QE\\x00\\x15\\x85\\xe3_\\xf9\\x11u\\xff\\x00\\xfb\\x07\\xcf\\xff\\x00\\xa0\\x1a\\xdd\\xac/\\x1a\\xff\\x00\\xc8\\x8b\\xaf\\xff\\x00\\xd8>\\x7f\\xfd\\x00\\xd0\\x07\\x0f\\xe1\\x9b\\x92\\xde\\r\\xd1\\x10\\xf2V\\xc2\\x01\\x93\\xe9\\xb0V\\x81e\\xef\\xb6\\xb0\\xfc2\\xc0\\xf8SG\\xc1\\xff\\x00\\x97\\x18{\\xff\\x00\\xb0+I\\xe3V\\xf653\\x9bz\\x1d\\x91Z\\r\\xbf\\x9a\\xda;\\x1b\\x89.\\n\\x88Q\\x0b\\xb9\\x038\\x0b\\xce\\x7fJ\\xe4\\x12\\xd3ZM~+]:\\xe2\\x0f\\xecAj\\xb2\\xc8.!\\xf3\\x12FyY\\x8e\\xdc\\x7f\\x16\\x08\\xe7>\\x95\\xd3\\xc8\\xa0nF\\xc3\\x020A\\xe4\\x11X\\xdf\\xf0\\x8di^_\\x93\\xe5\\xdc\\x0b\\x7f\\xf9\\xf6\\x172\\x08\\xbe\\x9b7c\\x1e\\xdd+\\x96SKsNF\\xf62\\xbcI\\xae\\xf8?R\\xf3lu(\\xe1\\xbb\\xb9\\x87\\x81\\x1b0\\x8d\\xff\\x00\\xe0\\x12\\x13\\x8c\\xfbdW\\x8ek\\xd0ZA~V\\xc6\\xd2\\xfa\\xd6\\x03\\xc8K\\xb6\\x0c~\\xa0\\x80\\x06??\\xad}\\x0b\\x1e\\x9b\\xa7E\\x07\\x90\\x9a}\\xa2\\xc3\\x8cl\\x10.1\\xf4\\xc5f\\xdc\\xf8CG\\x9dYa\\x85\\xedCuX\\x1b\\t\\xff\\x00|\\x1c\\xaf\\xe9Q\\x0cD!\\xa6\\xa3\\xa9\\x87\\x9c\\xfb\\x1f<)\\n\\xc0\\x91\\x91\\x9eG\\xadI;G,\\xcc\\xd0\\xc5\\xe5\\xa1\\xe8\\x9b\\xb7c\\xf15\\xeb\\xb7\\xbf\\x0c\\x12V-owh\\xc3\\xb2\\xcdi\\xb3\\xf5\\x8d\\x87\\xf2\\xaa\\xf6\\xff\\x00\\x0e/\\xed\\xa4\\x05a\\xd0Xz\\xc9\\x1c\\xcf\\xfa\\x16\\xc5k\\xf5\\xca6\\xbd\\xce\\x7f\\xaaU\\xbd\\xacy\\xde\\x89\\xe1\\xfb\\xddrr\\xb0(\\x8e\\xde>g\\xba\\x90\\xed\\x8e\\x15\\xeeY\\xbf\\xa7Z\\xee\\xfc\\x1d\\x06\\x8d\\xe1\\x8dz\\xefS\\x97Z\\x81\\xe3Thm\\xed\\xe1-$\\xb2\\x82G$\\x01\\xd4\\xe38\\xf7\\xf6\\xae\\xbe\\xdb\\xc2rJ!McP\\x17V\\xd0\\xb0t\\xb2\\xb7\\x81`\\xb7\\x0c:\\x12\\xa3\\x96\\xfck\\xa8\\xdc3\\x9c\\x0c\\xf4\\xcdy\\xb8\\xac\\xc6-8-S\\xed\\xff\\x00\\x0cw\\xe1\\xf0-5\\'\\xba2\\xfe\\x1e\\xcdsq\\xe3=\\x12[\\xbbim\\xe4k\\x0b\\xf6X\\xe5?>\\xc34eK{\\xe0\\xd7\\xb5\\xd7\\x94x|\\xe7\\xe2\\x86\\x95\\xff\\x00`\\xcb\\xbf\\xfd\\x0e*\\xf5z\\xf4p3\\xe7\\xa1\\x19Z\\xd7\\xbf\\xe6\\xce\\x0c\\\\yk5\\xe9\\xf9\\x05\\x14Q]g0QE\\x14\\x00QE\\x14\\x00QE\\x14\\x00QE\\x14\\x00V\\x17\\x8dy\\xf06\\xbc\\x07\\xfd\\x03\\xe7\\xff\\x00\\xd0\\rn\\xd4s\\xc4\\x93\\xc1$2(h\\xddJ\\xb2\\x9e\\xe0\\xf0E\\x00x\\xc7\\x87P?\\x85t\\x86C\\x83\\xf6(y\\x1d\\xfeAW\\x84\\xf2/\\x1b\\x8ek\\x9f\\xc4\\xbf\\x0e\\xf5w\\xf0\\xee\\xb0\\x1d4\\xa6\\x90\\x9d3Qq\\xfb\\xb6Bs\\xe5\\xb3t\\x0c9\\xff\\x00\\xf5b\\xb4f\\xd5\\xf4\\xc2\\xe1\\x92\\xfe\\xd4\\xe4s\\x89\\x97\\xf3\\xeb\\\\\\xf3\\xba;\\xe98\\xb8\\x97\\xbc\\xc2\\xc4\\x92ri7f\\xa8.\\xad\\xa7\\x81\\xcd\\xf5\\xa9>\\xber\\xff\\x00\\x8d \\xd5l?\\xe7\\xfa\\xd7\\xfe\\xff\\x00/\\xf8\\xd7-K\\x9d\\x10\\xb1\\xa3\\xba\\x94\\x1a\\xcf\\x1a\\xad\\x87\\xfc\\xff\\x00Z\\xff\\x00\\xdf\\xe5\\xff\\x00\\x1ap\\xd5l?\\xe7\\xfe\\xd7\\xfe\\xff\\x00/\\xf8\\xd7\\x1c\\xe2\\xfb\\x1b\\xc5\\xae\\xe5\\xec\\xd2\\xe6\\xa8\\xff\\x00ji\\xff\\x00\\xf3\\xff\\x00k\\xff\\x00\\x7f\\x97\\xfci\\xc3T\\xd3\\xff\\x00\\xe7\\xfe\\xd7\\xfe\\xff\\x00\\xaf\\xf8\\xd7$\\xe3.\\xc6\\xf1\\x92\\xee]\\xcd\\x19\\xaa\\x7f\\xda\\x9a\\x7f\\xfc\\xff\\x00\\xda\\xff\\x00\\xdf\\xf5\\xff\\x00\\x1a\\xa9\\xa8x\\x97H\\xd3m\\xcc\\xb3_B\\xecxH\\xa1p\\xef!\\xec\\x15GS\\\\\\x92\\xa59;$\\xcd\\x95HE]\\xb3c\\xc3\\x8c\\x0f\\xc5\\x1d,ddi\\x97G\\x1f\\xf08\\xab\\xd6\\xab\\xcd\\xfe\\x1bxcQ\\x8e\\xf2\\xe7\\xc5z\\xf4?g\\xbf\\xbc\\x88Ckhz\\xdbA\\x9c\\xe1\\xbf\\xdac\\x82k\\xd2+\\xea\\xf0teF\\x84i\\xcbt|\\xde*\\xa2\\xabZS\\x8e\\xc1E\\x14WI\\x80QE\\x14\\x00QE\\x14\\x00QE\\x14\\x00QE\\x14\\x00QE\\x14\\x01^\\xf6\\xc6\\xd3P\\xb6k{\\xdbhn`o\\xbd\\x14\\xc8\\x1dO\\xe0k\\'\\xfe\\x10\\xbf\\n\\xff\\x00\\xd0\\xb7\\xa4\\x7f\\xe0\\x14\\x7f\\xe1E\\x14\\x00\\x7f\\xc2\\x15\\xe1_\\xfa\\x16\\xf4\\x8f\\xfc\\x02\\x8f\\xfc)?\\xe1\\n\\xf0\\xaf\\xfd\\x0bZG\\xfe\\x01G\\xfe\\x14Q@\\x0b\\xff\\x00\\x08W\\x85\\x7f\\xe8[\\xd2?\\xf0\\n?\\xf0\\xa3\\xfe\\x10\\xaf\\n\\xff\\x00\\xd0\\xb7\\xa4\\x7f\\xe0\\x14\\x7f\\xe1E\\x14\\x00\\x7f\\xc2\\x15\\xe1_\\xfa\\x16\\xf4\\x8f\\xfc\\x02\\x8f\\xfc(\\xff\\x00\\x84+\\xc2\\xbf\\xf4-\\xe9\\x1f\\xf8\\x05\\x1f\\xf8QE\\x00\\x1f\\xf0\\x85xW\\xfe\\x85\\xbd#\\xff\\x00\\x00\\xa3\\xff\\x00\\n\\x9a\\xd3\\xc2\\xde\\x1e\\xb0\\xb9K\\x8b=\\x0fM\\xb7\\x9d\\x0eVH\\xadQY~\\x84\\n(\\xa0\\r\\x8e\\x94QE\\x00\\x14QE\\x00\\x14QE\\x00\\x14QE\\x00\\x7f\\xff\\xd9\\n\\x0f\\n\\x05width\\x12\\x06\\x1a\\x04\\n\\x02\\xb4\\x01\\n\\x18\\n\\x0bcategory_id\\x12\\t\\x1a\\x07\\n\\x05\\x9d\\xe7\\xeb\\xdc\\x03\\n\\x0e\\n\\x05depth\\x12\\x05\\x1a\\x03\\n\\x01\\x03', shape=(), dtype=string)\n"
          ]
        }
      ]
    },
    {
      "cell_type": "code",
      "source": [
        "for raw_record in raw_dataset.take(1):\n",
        "  example = tf.train.Example()\n",
        "  example.ParseFromString(raw_record.numpy())\n",
        "  print(example)\n",
        "  # print(example.features.feature['img_raw'].numpy())"
      ],
      "metadata": {
        "colab": {
          "base_uri": "https://localhost:8080/"
        },
        "id": "IdJZY48p41Uw",
        "outputId": "597042e6-4b41-45b1-f1fb-a78c55742f97"
      },
      "execution_count": 6,
      "outputs": [
        {
          "output_type": "stream",
          "name": "stdout",
          "text": [
            "features {\n",
            "  feature {\n",
            "    key: \"category_id\"\n",
            "    value {\n",
            "      int64_list {\n",
            "        value: 1000010653\n",
            "      }\n",
            "    }\n",
            "  }\n",
            "  feature {\n",
            "    key: \"depth\"\n",
            "    value {\n",
            "      int64_list {\n",
            "        value: 3\n",
            "      }\n",
            "    }\n",
            "  }\n",
            "  feature {\n",
            "    key: \"height\"\n",
            "    value {\n",
            "      int64_list {\n",
            "        value: 180\n",
            "      }\n",
            "    }\n",
            "  }\n",
            "  feature {\n",
            "    key: \"img_raw\"\n",
            "    value {\n",
            "      bytes_list {\n",
            "        value: \"\\010\\007\\022\\000B\\2036\\377\\330\\377\\340\\000\\020JFIF\\000\\001\\001\\000\\000\\001\\000\\001\\000\\000\\377\\333\\000C\\000\\010\\006\\006\\007\\006\\005\\010\\007\\007\\007\\t\\t\\010\\n\\014\\024\\r\\014\\013\\013\\014\\031\\022\\023\\017\\024\\035\\032\\037\\036\\035\\032\\034\\034 $.\\' \\\",#\\034\\034(7),01444\\037\\'9=82<.342\\377\\333\\000C\\001\\t\\t\\t\\014\\013\\014\\030\\r\\r\\0302!\\034!22222222222222222222222222222222222222222222222222\\377\\300\\000\\021\\010\\000\\264\\000\\264\\003\\001\\\"\\000\\002\\021\\001\\003\\021\\001\\377\\304\\000\\037\\000\\000\\001\\005\\001\\001\\001\\001\\001\\001\\000\\000\\000\\000\\000\\000\\000\\000\\001\\002\\003\\004\\005\\006\\007\\010\\t\\n\\013\\377\\304\\000\\265\\020\\000\\002\\001\\003\\003\\002\\004\\003\\005\\005\\004\\004\\000\\000\\001}\\001\\002\\003\\000\\004\\021\\005\\022!1A\\006\\023Qa\\007\\\"q\\0242\\201\\221\\241\\010#B\\261\\301\\025R\\321\\360$3br\\202\\t\\n\\026\\027\\030\\031\\032%&\\'()*456789:CDEFGHIJSTUVWXYZcdefghijstuvwxyz\\203\\204\\205\\206\\207\\210\\211\\212\\222\\223\\224\\225\\226\\227\\230\\231\\232\\242\\243\\244\\245\\246\\247\\250\\251\\252\\262\\263\\264\\265\\266\\267\\270\\271\\272\\302\\303\\304\\305\\306\\307\\310\\311\\312\\322\\323\\324\\325\\326\\327\\330\\331\\332\\341\\342\\343\\344\\345\\346\\347\\350\\351\\352\\361\\362\\363\\364\\365\\366\\367\\370\\371\\372\\377\\304\\000\\037\\001\\000\\003\\001\\001\\001\\001\\001\\001\\001\\001\\001\\000\\000\\000\\000\\000\\000\\001\\002\\003\\004\\005\\006\\007\\010\\t\\n\\013\\377\\304\\000\\265\\021\\000\\002\\001\\002\\004\\004\\003\\004\\007\\005\\004\\004\\000\\001\\002w\\000\\001\\002\\003\\021\\004\\005!1\\006\\022AQ\\007aq\\023\\\"2\\201\\010\\024B\\221\\241\\261\\301\\t#3R\\360\\025br\\321\\n\\026$4\\341%\\361\\027\\030\\031\\032&\\'()*56789:CDEFGHIJSTUVWXYZcdefghijstuvwxyz\\202\\203\\204\\205\\206\\207\\210\\211\\212\\222\\223\\224\\225\\226\\227\\230\\231\\232\\242\\243\\244\\245\\246\\247\\250\\251\\252\\262\\263\\264\\265\\266\\267\\270\\271\\272\\302\\303\\304\\305\\306\\307\\310\\311\\312\\322\\323\\324\\325\\326\\327\\330\\331\\332\\342\\343\\344\\345\\346\\347\\350\\351\\352\\362\\363\\364\\365\\366\\367\\370\\371\\372\\377\\332\\000\\014\\003\\001\\000\\002\\021\\003\\021\\000?\\000\\367\\372(\\242\\200\\n(\\242\\200\\n(\\254\\375{Pm\\'\\303\\372\\216\\242\\253\\271\\255m\\244\\230/\\251U$\\017\\322\\2009\\337\\023\\374@\\203E\\325\\027E\\322\\364\\371\\365\\235m\\223y\\264\\267`\\004K\\375\\351\\034\\360\\243\\365\\254\\241\\342\\377\\000\\037\\343\\376D\\315;\\377\\000\\006\\353\\377\\000\\304\\326\\036\\203%\\237\\203\\376\\035\\313\\342\\215@\\233\\213\\333\\330V\\376\\362l|\\363\\311&\\n\\246}2\\300\\017\\304\\327\\235K\\343?\\032j\\256\\272\\204\\276\\\"\\217E\\265\\237&\\010c\\214\\220@88UVb\\001\\343q\\357\\234P=:\\236\\305\\377\\000\\tw\\217\\377\\000\\350L\\323\\277\\360p\\277\\374M\\003\\305\\277\\020\\017\\374\\311zw\\376\\016\\027\\377\\000\\211\\257\\r\\276\\361\\177\\216\\264\\367\\217\\177\\212.$\\212U\\335\\024\\321\\025d\\220\\003\\203\\203\\216\\240\\360A\\301\\025\\177\\303\\277\\026\\274E\\244\\352\\020\\266\\257zu=8\\267\\357\\326D_1T\\377\\000\\022\\260\\035\\272\\340\\320=\\017d\\377\\000\\204\\263\\342\\007\\375\\tzw\\376\\016\\027\\377\\000\\211\\243\\376\\022\\317\\210\\037\\364%\\351\\337\\3708_\\376&\\272X$\\216\\346\\3369\\341p\\361J\\201\\321\\307FR2\\017\\345O+S\\'b\\324\\021\\313\\177\\302[\\361\\003\\376\\204\\275;\\377\\000\\006\\353\\377\\000\\304\\321\\377\\000\\tw\\217\\377\\000\\350K\\323\\277\\360n\\277\\374Mt\\345i\\245k\\236u\\244\\2665Tbs?\\360\\227\\370\\373\\376\\204\\315?\\377\\000\\006\\353\\377\\000\\304\\324r|B\\361N\\225\\213\\235k\\301dX/\\372\\331t\\373\\325\\270x\\307\\367\\266`dWNV\\232V\\260\\372\\324\\323\\330\\257\\253\\301\\232\\3726\\265\\247\\370\\203J\\203S\\323.R\\342\\322u\\334\\216\\277\\250#\\261\\035\\301\\253\\365\\346^\\032\\264o\\r|M\\233N\\261\\002=+X\\263\\222\\360\\333\\257\\013\\034\\361\\262\\2532\\216\\333\\203\\014\\327\\246\\327|$\\247\\025$r\\312<\\256\\314(\\242\\212\\242B\\212(\\240\\002\\212(\\240\\002\\212(\\240\\002\\212(\\240\\002\\260\\274k\\377\\000\\\"6\\275\\377\\000`\\371\\377\\000\\364\\003[\\265\\205\\343_\\371\\021\\265\\357\\373\\007\\317\\377\\000\\240\\032\\000\\361\\257\\0245\\325\\347\\300\\233V6\\305!\\267\\206\\313\\346\\357\\200\\024\\026\\372r9\\367\\257>[;\\255B\\316\\332\\352\\311$\\272\\214B\\220\\310\\261.\\366\\205\\227#iQ\\310\\007\\250=\\016}k\\331\\374,n/l\\364M2\\376\\336&\\323\\247\\320\\343\\0057nY\\024\\242\\003\\273\\320\\364\\372W)\\027\\301+mJY\\256\\364/\\022Mkg\\346\\272$s[ot\\301\\301\\033\\203\\014\\212\\312\\235Nm:\\352\\016JOk\\036y\\252\\243X\\332\\332Z\\334\\037\\364\\2013O%\\277\\031\\210\\020\\000\\r\\350\\315\\214\\343\\260\\003=j?\\023\\352\\366\\332\\263C%\\274/\\030\\212\\337\\313vuU.\\177\\340<W\\244\\017\\331\\366\\357\\376\\206\\264\\377\\000\\300\\017\\376\\316\\266\\2745\\3606\\313J\\325b\\275\\325\\365f\\325\\026\\026\\017\\035\\270\\203\\312B\\303\\246\\356NG\\265j\\t\\035\\327\\204-f\\264\\360f\\211op\\010\\232;\\030U\\301\\353\\235\\242\\266\\366\\037J\\223o4\\354T\\310\\331h@c8\\246\\371d\\325\\235\\264\\205k\\232Q\\271\\242\\221P\\2450\\255\\\\d\\006\\241e\\305s\\312\\006\\212G6\\006>)\\350\\177\\366\\013\\274\\377\\000\\320\\341\\256\\372\\2706\\030\\370\\251\\241\\177\\330.\\367\\377\\000C\\206\\273\\312\\356\\242\\255M\\034\\265u\\233\\n(\\242\\2653\\n(\\242\\200\\n(\\242\\200\\n(\\242\\200\\n(\\242\\200\\n\\302\\361\\257\\374\\210\\332\\367\\375\\203\\347\\377\\000\\320\\rn\\326\\027\\215\\177\\344F\\327\\277\\354\\037?\\376\\200h\\003\\203\\360D\\377\\000i\\360\\216\\214\\210\\250.\\355\\254\\321\\025\\311\\344\\202\\243\\217\\2461\\371\\n\\353l\\257\\343\\265\\272]9\\255\\3364\\010\\\\:/\\310\\2479`}\\362I\\2571\\322\\257\\232\\333\\300\\332I\\200\\311\\r\\334v\\361\\261h\\317\\022\\241Q\\301\\357[^\\006\\324e\\324o\\356\\023SL\\342&ky%|\\0306\\343\\000z\\023\\237\\257\\025\\305K\\024\\233\\366ik\\334\\352\\234\\'Q\\271S\\205\\243\\275\\372\\035n\\223\\342\\204\\276\\325&\\323n\\\"\\362\\356\\026v\\215\\n\\362\\244\\001\\221\\370\\327I\\212\\363]&\\013\\271|h\\272\\204v\\311q1\\006Y\\\"G\\021\\2508\\n[\\237\\257\\003\\326\\272!\\256\\352\\003\\306\\277cUW\\323\\344\\265\\363\\021N\\025\\262\\010\\007\\037\\355\\003\\273+\\355J\\205w\\311y\\353\\255\\216~I\\302\\\\\\222\\325\\235HZ6\\324Q\\336\\332\\312\\345\\026t\\336:\\2418#\\3604\\311\\357\\342\\202\\356;V?\\275\\221IQ\\376~\\225\\321*\\260\\265\\356j\\243+\\332\\305\\214\\032LUm7PMB\\331\\245\\013\\267k`\\372R\\332j\\026\\367\\367\\027\\021\\333:\\312\\220\\020\\217\\\"\\234\\215\\375v\\217\\240\\376u\\234g\\031\\305J;1\\270\\312-\\246\\266\\'\\\"\\243|b\\247\\\"\\241a\\203S!\\304\\346%\\030\\370\\251\\241\\177\\330.\\367\\377\\000C\\206\\273\\252\\341\\246\\377\\000\\222\\251\\241\\177\\330.\\367\\377\\000C\\206\\273\\232\\350\\245\\360#\\032\\237\\023\\n(\\242\\264 (\\242\\212\\000(\\242\\212\\000(\\242\\212\\000(\\242\\212\\000+\\013\\306\\277\\362\\\"\\353\\337\\366\\017\\237\\377\\000@5\\273X^5\\377\\000\\221\\027^\\377\\000\\260|\\377\\000\\372\\001\\240\\017\\030\\323-\\256/t\\215\\016\\013v\\371\\332\\322\\025\\332\\307\\000\\215\\203\\371W\\241\\370cM\\266\\320\\355\\'\\212}\\2671\\334\\374\\323\\026L2\\250\\340|\\275\\324s\\234r:\\364\\351\\347\\032|\\227\\332~\\211\\240\\352\\021\\254>Z\\333F\\177x\\244\\356\\0021\\310\\031\\365=kB]GU\\326\\340\\212K\\263\\266\\024\\223q\\225\\027k\\200{\\017@+\\310\\303\\312\\2358\\271K\\342\\273>\\227\\035\\032\\3650\\312\\024~\\024\\226\\236gQt48...lu\\033\\225+\\267\\006\\336V\\215\\343\\000\\034\\240\\317\\336\\007\\250\\316FT\\003\\324W<<C|5\\t\\255\\356g\\206\\372\\336\\340n/2m\\225v\\375\\326\\014\\270\\371\\271\\353X\\327\\222\\\\\\026\\362 G\\362\\3278rI\\037\\\\\\340f\\250\\351\\3263\\313\\250\\250\\343;J\\206`I\\\\\\343\\247\\345X:\\365&\\232\\321-O\\237X\\014}d\\353\\244\\327/\\311\\235\\275\\277\\211 \\274?d\\325\\3413\\306\\006\\022\\341\\016%O\\370\\027\\177\\306\\251\\331\\335\\352\\003Y\\231R\\341\\346\\267\\265\\007m\\314\\247\\n\\253\\203\\267$\\375zR\\317\\242Eej&\\363K\\225P\\033\\034\\002\\335\\315Y\\271\\323n\\355\\230Ei\\272I\\025Vh\\231\\241\\336\\233\\210\\310\\312\\036\\0163Y\\306\\022\\262Z\\277\\314\\355\\241\\213\\255\\203\\202U\\242\\245\\031+]t\\377\\000\\203\\375jiK\\251\\335K\\245\\2157LI#\\264\\t\\265\\346\\332wK\\236\\247>\\374\\3258#\\276\\3234\\371-\\254\\247{x\\230\\345\\202\\034\\034\\375z\\324:N\\267p\\346A<(&Rx\\037p}\\007Q\\364\\255\\244\\222!b\\315&\\013\\271\\313m=)\\271\\264\\335\\245\\266\\307\\247\\317(Z\\034\\212\\317W\\324\\330\\360n\\245}\\250X\\\\-\\353\\231\\014\\022\\004I\\010\\345\\206;\\372\\232\\350\\034Um\\032\\013X\\264\\250Z\\315\\n\\305 \\337\\226\\373\\314OsV\\334q^\\252O\\221\\\\\\361\\353N2\\253\\'\\025es\\225\\227\\376J\\246\\205\\377\\000`\\273\\337\\375\\016\\032\\356k\\207\\234c\\342\\256\\203\\377\\000`\\273\\337\\375\\016\\032\\356+\\242\\227\\300\\216Y\\374L(\\242\\212\\320\\200\\242\\212(\\000\\242\\212(\\000\\242\\212(\\000\\242\\212(\\000\\254/\\032\\377\\000\\310\\215\\257\\177\\330>\\177\\375\\000\\326\\355ax\\327\\376Dm{\\376\\301\\363\\377\\000\\350\\006\\200<SO\\263\\236\\377\\000\\3026\\267\\027RyqC\\247G\\264\\223\\362\\340(#\\371t\\3655\\255k~E\\202\\024\\266f\\016\\244\\246\\321\\367\\323\\251#\\360\\256v)-n<3\\244C-\\354\\304\\013h\\203Z\\306\\374I\\362\\214\\344v\\003\\3635\\275c4i\\245\\013{tH_hT\\343\\\"2{\\201\\355\\223_7U\\333~\\357\\356>\\242\\016\\254\\240\\324c\\242J\\305}\\003U\\213\\\\\\222\\351M\\263A\\014\\003y$g\\216\\303\\332\\245\\272P\\201n L!P\\312wm\\365\\342\\223E\\321\\364\\353\\tn\\236x\\344wF\\333\\034\\216\\347,\\244rx\\367\\244\\3245\\010\\254b\\215\\027\\346\\210\\014 \\'\\267\\365\\254\\347({_\\334\\255\\016zx\\252\\364):\\230\\207h\\376-\\235N\\217\\034\\327>L\\362\\317\\025\\315\\253\\304\\254\\233\\220\\253)\\367\\007\\214\\216\\231\\255\\261\\024\\313\\253)L\\230\\370<\\217\\224\\216\\347>\\265\\346z7\\216/t\\313\\326\\306\\213\\251j\\266L\\271\\331g\\036LlO\\0078<\\020\\017\\025\\350\\266>!\\213Z\\26470\\332\\337i\\345>Y-\\257\\341\\362\\334w\\317\\270\\367\\006\\276\\243\\004\\343\\354\\243\\030\\2537\\271\\344\\254S\\255\\253\\352qZ\\316\\223}\\246\\352:\\205\\315\\263<\\226\\317(\\222$\\007$n\\316@\\035x8\\374\\376\\264\\333mNG\\2677\\',\\211&\\331!l\\200\\330\\306@#\\362\\256\\252[)\\265\\253\\331\\365\\035\\032\\351Z\\316%\\013\\272D*\\257(\\034\\244g\\370\\206p3\\320\\023\\214\\236\\334$\\227s\\353wM\\247ZY\\275\\314\\323\\207O%\\010\\007$\\021\\234\\364\\030\\'9\\355\\212\\361\\2614_\\267\\367c\\327s\\333\\300\\312.\\203I\\335E6\\373\\372\\036\\347\\247]A{\\246[]\\333\\002 \\232%x\\301\\030\\302\\221\\300\\251[\\245q\\377\\000\\ruY\\257|#\\026\\237|\\202-OIccw\\027B\\031>\\353c\\321\\206\\016{\\363]k5z\\022\\323C\\302Vn\\350\\346n\\177\\344\\252\\350?\\366\\013\\275\\377\\000\\320\\341\\256\\336\\270\\213\\203\\237\\212\\232\\017\\375\\202\\357\\177\\3648k\\267\\255\\251\\374(\\306\\177\\023\\n(\\242\\254\\220\\242\\212(\\000\\242\\212(\\000\\242\\212(\\000\\242\\212(\\000\\254/\\032\\377\\000\\310\\215\\257\\177\\330>\\177\\375\\000\\326\\355ax\\327\\376Dm{\\376\\301\\363\\377\\000\\350\\006\\200<\\003O\\322\\232M\\013O\\225I\\014\\326\\321\\220\\303\\267\\312+\\261\\360\\'\\205\\016\\264/\\232\\352\\352H\\305\\260U\\210*\\215\\245\\230\\036[\\327\\030\\007\\025\\237\\340l\\352>\\016\\266\\236d \\305\\nD\\247n\\006\\3201\\370\\346\\264\\264\\013\\335B\\327]\\213K\\226\\360Gg{3 \\212\\023\\260\\357n\\205\\233\\253\\000\\240\\214\\003^%\\031\\177\\264:u\\017\\251\\304cgS\\005\\373\\225\\256\\237$\\214\\033\\353=n\\326\\374\\331\\245\\244\\323\\311\\202c1)a2s\\206_c\\214\\324\\332F\\247qo\\003\\304tk\\033\\351$\\302H\\327\\240\\235\\243vx\\000\\343\\003\\363>\\242\\275\\322\\342\\033x\\340y\\274\\250\\325\\222\\026P\\330\\301\\013\\216\\231\\354+\\302\\3740\\322]\\350BIa{[\\201\\021\\310\\2210\\252G~\\275+LD>\\254\\271\\340\\226\\347=\\034R\\307\\301\\307\\022\\276\\025\\245\\264\\371\\372\\232z\\236\\273\\342\\001h-m\\256^ \\304(\\373$\\\"\\005\\003\\030\\311\\013\\320c\\240$\\375kC\\300:\\306\\255&\\2744k\\371^\\362\\306X[\\013q\\363\\371{G\\030\\317c\\320\\376\\025\\314\\370SW\\273\\324\\257.F\\240\\036H\\362|\\246\\216#\\263#\\251\\3161\\323\\025b\\343R\\272\\360\\376\\257\\375\\255gtc1\\256\\0327Q\\263o\\361g\\277O\\344*)\\326\\253\\014B\\215V*\\024)U\\241S\\331GW\\265\\372[\\372\\371\\236\\275\\256j:^\\227\\247\\377\\000\\304\\312E\\267\\265\\362\\334\\253\\355;Sj\\223\\325z\\034\\002GN\\207\\025\\341#\\343M\\307\\332Z\\317G\\262K\\231e\\211\\340\\212\\352\\342\\024\\206l\\377\\000\\003\\022\\204\\014z\\257\\035\\271\\315{E\\313E\\342\\277\\004N$\\215\\242\\207R\\261\\177\\225\\272\\205e8?\\226\\r|_\\203\\033\\234\\036T\\365\\025\\353E^\\347\\205{=Oh\\264\\327u\\233Q\\026\\251\\257-\\305\\245\\306\\377\\000)\\357,\\344f\\231\\001\\341HV\\'w\\315\\214\\247*\\300\\364\\007\\232\\366\\355\\016}F}\\002\\302]^$\\213Rx\\025\\256#A\\200\\257\\337\\216\\336\\343\\261\\315x^\\223\\253(\\360Cj\\232\\215\\303^y\\210\\215\\345y[\\231\\035\\016\\334\\376\\200\\376}\\353\\336-.V\\342\\322\\031\\304\\201\\304\\221\\253\\207\\037\\305\\220\\016k\\207\\332\\311\\335K\\243\\334\\364*\\322\\202\\345p\\322\\353n\\276\\2773\\\"S\\237\\212\\232\\027\\375\\202\\357\\177\\3648k\\271\\256\\r\\216~*h_\\366\\013\\274\\377\\000\\320\\341\\256\\362\\273\\251;\\301\\036}Ei0\\242\\212+B\\002\\212(\\240\\002\\212(\\240\\002\\212(\\240\\002\\212(\\240\\002\\260\\274k\\377\\000\\\"6\\275\\377\\000`\\371\\377\\000\\364\\003[\\265\\205\\343_\\371\\021\\265\\357\\373\\007\\317\\377\\000\\240\\032\\000\\362?\\010Xi\\332w\\205,\\'\\204~\\376\\342\\332\\'\\224\\347 \\266\\337C\\323\\257\\351Z:-\\245\\276\\275\\342U\\263\\230\\263F\\250\\373\\200\\034\\251(\\300\\034\\366\\307\\004W\\035\\245\\352S\\r#L\\266\\2163$\\215\\004+\\022\\006\\003{\\025\\000\\014\\236+\\331\\315\\204>\\037\\323L\\332>\\232\\206\\347r\\273D\\\\\\345\\377\\000\\2747\\034\\236\\204\\327\\213G\\017)\\325\\225i\\352\\221\\357c\\344\\260\\230eF;\\311k\\351\\377\\000\\004m\\356\\211\\177\\245x#Q\\260\\322\\356g\\271\\272\\221\\tBO\\3143\\215\\301s\\355\\232\\362\\355\\036[\\233\\2550\\313\\r\\234\\367\\026\\356\\254C*\\035\\214\\027\\223\\226<c\\000\\3475\\355V\\267\\022\\335\\351\\321\\275\\324>D\\222\\307\\373\\310\\203\\347n{\\002+\\202\\037\\013--\\247\\273k\\017\\023x\\202\\316\\336\\350\\261\\232\\332\\033\\205\\330\\333\\276\\360<s\\234\\232\\357\\253\\205\\247V)tG\\006\\013\\037,59S\\214S\\271\\220\\232\\304\\026\\260H\\266\\373Q%>f\\024`n\\377\\000\\365V\\216\\223\\340\\333?\\023\\333\\333jz\\235\\301\\232\\305\\233z\\332 *$*q\\363\\223\\3162:\\016\\276\\264\\375?\\300Z[xn\\362\\321|\\353\\213\\310\\346\\270\\212+\\211\\247f,U\\230&\\356q\\216\\000<z\\327S\\240j\\261\\352\\272\\025\\255\\324v\\222Y\\374\\276[[H\\233L,\\247k\\'\\320\\021\\301\\364\\305sQ\\301F\\214\\234\\333\\273:\\361\\030\\370\\316\\232\\247Er\\337q\\376$\\324SO\\360\\366\\240c!e\\026S\\264H\\007\\367#\\'\\217\\247\\025\\361\\212\\206f\\001A$\\366\\002\\276\\322\\273\\265\\267\\275\\010\\'@\\373\\t\\307=\\212\\225a\\364 \\220Ey\\324\\177\\010tM>\\313P\\026\\250\\26772H\\036\\325\\256A>R\\217\\371g\\234\\375~n\\017J\\353\\215X\\307s\\314\\2256\\3663~\\026\\370^\\303V\\360d\\321j\\266\\3220b\\001Vb\\270\\007,\\010\\307 \\367\\340\\327i\\243\\333\\334xoX\\217C\\023\\274\\332<\\326\\345\\254<\\323\\227\\267d\\306\\350\\213wR\\016\\345\\317L\\021Y\\266\\227\\221\\374>\\370q\\025\\315\\345\\254\\254\\360\\025I\\324\\034\\261%\\366\\202I\\354\\006) \\3615\\227\\210\\365\\335\\007\\373*\\350\\334\\205\\232{\\211\\327h\\ro\\030\\210\\250\\014\\007L\\263.3\\326\\271\\246\\334\\233}5:#\\322\\373\\235\\n0o\\212Z\\037\\375\\202\\357?\\3648k\\320+\\316\\355\\216~)h\\277\\366\\014\\274\\377\\000\\320\\341\\257D\\256\\2743\\275$\\316Z\\352\\325\\030QE\\025\\271\\220QE\\024\\000QE\\024\\000QE\\024\\000QE\\024\\000V\\027\\215\\177\\344F\\327\\277\\354\\037?\\376\\200kv\\260\\274k\\377\\000\\\"6\\275\\377\\000`\\371\\377\\000\\364\\003@\\036-\\360\\332]:5\\373]\\340\\211\\345\\262\\265\\200\\304\\3238DFe\\307S\\325\\266\\366\\301\\353]\\036\\263\\342\\271sq-\\205\\334\\267\\210\\344\\257\\315\\204\\216\\005 \\214*\\365f \\236O\\003\\257Z\\3637\\321<A\\246\\370\\177H\\270Xb\\236;\\310\\243pw\\355\\021\\253(\\330\\245\\270\\371\\217<\\016@Z\\364=4[\\215\\n\\315\\345\\216\\331|\\270\\200\\225a\\\\/\\231\\353\\317_\\306\\274\\352\\323\\2254\\222\\321\\337\\357=\\272\\337W\\257R5$\\334\\255k\\364I%\\267\\231b\\317\\342\\204\\260\\221\\036\\245\\244\\220\\201~Ym\\246\\007\\'\\335\\030\\014~f\\251\\352_\\030tK\\247\\032jG\\251\\331\\307rZ\\336k\\366A\\037\\331K)\\303\\016NH\\340\\3759\\252\\272\\276\\237d-\\205\\304n\\251\\031R\\304\\0366\\217rzW\\227\\303q\\006\\261\\'\\211,\\242\\036df\\314\\\\B\\300g\\347\\200\\203\\270{\\025.?\\032\\327\\017^u\\033\\214\\226\\3076*\\215\\010\\323\\214\\351=_C\\350\\335\\006\\336\\317E\\320\\254\\264\\333[\\217>\\030bP\\'\\316\\3570\\261?1#\\214\\223\\223\\370\\326\\233K\\334\\237\\316\\276h\\370y\\343\\351|-#\\330\\274&kk\\231\\343s\\207\\301\\030\\004\\0203\\3079\\037B+\\332O\\211\\226\\362\\323NT\\265\\236G\\326Z[[h\\225\\200\\333,e\\204\\200\\267a\\305i8K\\241\\313\\t\\306\\332\\235\\035\\375\\314p\\330K4\\267\\013\\004*\\273\\236f8\\010\\275\\316\\177\\227\\341Xw\\236+\\013g7\\366L_\\332\\327P\\332=\\314\\202&\\013\\261T\\205%\\227\\256rrTs\\200}\\253\\317.u\\013\\357\\020_xgR\\272@m&\\212[y\\220)\\013is\\024\\233\\210p:}\\324\\367*q\\327\\257\\247\\177\\302Q\\241\\266\\277iy`\\002j\\223@b\\222\\331\\306\\307\\231\\344\\333\\265\\010\\306I\\036^w\\016098\\\"\\243\\330\\245\\254\\230\\375\\253\\177\\n\\031w\\341\\215j\\354\\301\\247\\313}k.\\223\\250\\261i\\356\\255\\255\\360\\350J\\356\\013\\261\\313.\\306 r?,\\234\\324\\3666\\263i\\223\\335i\\3672E,\\2608\\333*.\\031\\342#+\\273\\276~\\360\\344\\236\\235OZ\\243t\\236/\\276H\\241\\323\\237R\\267\\201]\\221\\026\\335`\\266X\\232>1\\363\\006f\\\\\\344\\000x\\'\\276*{\\024\\227\\314\\222\\352\\346{\\331\\356gU\\314\\227\\210\\250\\373\\001m\\240\\005\\000\\000\\tn\\331\\375+\\034_$ih\\254k\\207\\346u5c\\254\\216~(\\350\\337\\366\\014\\274\\377\\000\\320\\341\\257G\\2575\\323\\316~(\\350\\337\\366\\014\\274\\377\\000\\320\\341\\257J\\255\\360n\\364#\\375u0\\304\\253U\\220QE\\025\\324`\\024QE\\000\\024QE\\000\\024QE\\000\\024QE\\000\\025\\205\\343_\\371\\021u\\357\\373\\007\\317\\377\\000\\240\\032\\335\\254/\\032\\377\\000\\310\\213\\257\\377\\000\\330>\\177\\375\\000\\320\\007\\231\\350\\032g\\333\\274\\007g\\233\\273\\233\\211!\\261\\216X\\343b\\010S\\345\\217\\224\\017Lp+#C\\324\\005\\300\\014\\233\\0262pA^\\030\\016\\271\\025\\332\\370I \\266\\360\\206\\220\\333\\367Jt\\353\\177\\274>\\3501\\251?\\205f\\217\\014i\\2200\\362s\\014~s\\312cN\\2377;G\\240\\316O\\343\\\\\\370\\274\\034f\\224\\343\\243=,-H\\323\\223\\214\\276\\007\\323\\314\\347|E\\252[\\333iw\\023\\230\\027\\310\\205q${w\\016z/<`\\327\\222x6{\\213Mo\\355\\320\\333=\\315\\272#\\245\\335\\274\\\\\\271\\201\\301W!z\\220\\001\\355\\323\\002\\275\\267\\306\\0325\\266\\245`\\004q\\\"\\007O\\262\\311\\221\\306\\326\\373\\214}\\325\\366\\234\\372\\026\\365\\257-\\360\\217\\206\\'K\\353V\\273\\222\\343N\\232\\350o\\323\\265\\030y\\021\\314\\244\\203\\033v\\347\\004`\\372{\\324\\320\\244\\250\\305\\246\\357s\\034MOi5\\312\\254\\221\\314^\\351o\\242\\352\\321\\222\\361Mj\\315\\276\\336\\345\\262b\\225;\\0369\\372\\216\\240\\360k\\274\\321\\365}^\\346\\323O\\323l\\374K\\341\\273C\\245\\311-\\374WR\\264\\203cH\\330o\\231\\223\\003\\033\\316\\024\\016\\375\\373w7\\255}\\375\\232\\326w\\013\\341\\351\\257\\301\\336\\361O\\201\\035\\310\\365\\332yF\\367\\344W\\234\\352\\232\\376\\235\\245\\334\\030\\265O\\207:|R\\236\\214$`\\255\\356\\010\\030?\\205k\\032\\215\\354\\214eJ\\335N\\377\\000\\302\\251\\341\\237\\016\\035\\372\\227\\215_S\\223T\\212K\\303\\0340\\205\\200\\210\\311iz\\217\\342*\\300t\\316\\017\\035+\\246\\227\\342?\\203\\355.\\027\\373:\\010\\r\\304\\372I\\277\\267p\\024\\374\\303; \\000d\\207\\'?(\\257\\010\\227\\306\\372F\\325\\026\\376\\013\\322P\\250\\302\\371\\216\\362\\001\\370\\023U\\377\\000\\341=\\324\\035\\304qGm\\245\\333\\036\\037\\373.\\331\\\"\\220\\217f<\\376\\264\\365\\335\\\"t\\331\\263\\333t\\377\\000\\210\\23686\\002}GH\\321-ey\\204\\211\\025\\305\\367\\331\\330\\304G\\335\\332rA\\350r\\177*\\322\\262\\361\\005\\376\\2572\\256\\251\\366U\\27214\\202;m\\304$~c(\\313\\036\\276\\200\\216\\240f\\274B\\327\\305~\\037\\265\\013\\035\\217\\207\\341\\236\\346C\\231o\\265\\251|\\342O\\251\\000\\177*\\364\\177\\014j\\226:\\226\\241\\005\\335\\234\\366O\\'\\330\\205\\265\\314\\026\\204\\355\\204\\253\\226B\\240\\200v\\234\\260\\351\\307\\025\\301\\214\\225GM\\251-\\016\\334,i\\363\\246\\267:\\315(\\347\\342\\216\\217\\377\\000`\\313\\317\\375\\016*\\364\\352\\362\\355\\031\\267|P\\3220r?\\263.\\377\\000\\3648\\253\\324k\\243\\001\\376\\357\\037\\353\\251\\317\\213\\3764\\277\\256\\201E\\024WY\\314\\024QE\\000\\024QE\\000\\024QE\\000\\024QE\\000\\025\\205\\343_\\371\\021u\\377\\000\\373\\007\\317\\377\\000\\240\\032\\335\\254/\\032\\377\\000\\310\\213\\257\\377\\000\\330>\\177\\375\\000\\320\\007\\017\\341\\233\\222\\336\\r\\321\\020\\362V\\302\\001\\223\\351\\260V\\201e\\357\\266\\260\\3742\\300\\370SG\\301\\377\\000\\227\\030{\\377\\000\\260+I\\343V\\36653\\233z\\035\\221Z\\r\\277\\232\\332;\\033\\211.\\n\\210Q\\013\\271\\0038\\013\\316\\177J\\344\\022\\323ZM~+]:\\342\\017\\354Aj\\262\\310.!\\363\\022FyY\\216\\334\\177\\026\\010\\347>\\225\\323\\310\\240nF\\303\\0020A\\344\\021X\\337\\360\\215i^_\\223\\345\\334\\013\\177\\371\\366\\0272\\010\\276\\2337c\\036\\335+\\226SKsNF\\3662\\274I\\256\\370?R\\363lu(\\341\\273\\271\\207\\201\\0330\\215\\377\\000\\340\\022\\023\\214\\373dW\\216k\\320ZA~V\\306\\322\\372\\326\\003\\310K\\266\\014~\\240\\200\\006??\\255}\\013\\036\\233\\247E\\007\\220\\232}\\242\\303\\214l\\020.1\\364\\305f\\334\\370CG\\235Ya\\205\\355CuX\\033\\t\\377\\000|\\034\\257\\351Q\\014D!\\246\\243\\251\\207\\234\\373\\037<)\\n\\300\\221\\221\\236G\\255I;G,\\314\\320\\305\\345\\241\\350\\233\\267c\\3615\\353\\267\\277\\014\\022V-owh\\303\\262\\315i\\263\\365\\215\\207\\362\\252\\366\\377\\000\\016/\\355\\244\\005a\\320Xz\\311\\034\\317\\372\\026\\305k\\365\\3126\\275\\316\\177\\252U\\275\\254y\\336\\211\\341\\373\\335rr\\260(\\216\\336>g\\272\\220\\355\\216\\025\\356Y\\277\\247Z\\356\\374\\035\\006\\215\\341\\215z\\357S\\227Z\\201\\343Thm\\355\\341-$\\262\\202G$\\001\\324\\3438\\367\\366\\256\\276\\333\\302rJ!McP\\027V\\320\\260t\\262\\267\\201`\\267\\014:\\022\\243\\226\\374k\\250\\3343\\234\\014\\364\\315y\\270\\254\\306-8-S\\355\\377\\000\\014w\\341\\360-5\\'\\2722\\376\\036\\315sq\\343=\\022[\\273im\\344k\\013\\366X\\345?>\\3034eK{\\340\\327\\265\\327\\224x|\\347\\342\\206\\225\\377\\000`\\313\\277\\375\\016*\\365z\\364p3\\347\\241\\031Z\\327\\277\\346\\316\\014\\\\yk5\\351\\371\\005\\024Q]g0QE\\024\\000QE\\024\\000QE\\024\\000QE\\024\\000V\\027\\215y\\3606\\274\\007\\375\\003\\347\\377\\000\\320\\rn\\324s\\304\\223\\301$2(h\\335J\\262\\236\\340\\360E\\000x\\307\\207P?\\205t\\206C\\203\\366(y\\035\\376AW\\204\\362/\\033\\216k\\237\\304\\277\\016\\365w\\360\\356\\260\\0354\\246\\220\\2353Qq\\373\\266Bs\\345\\263t\\0149\\377\\000\\365b\\264f\\325\\364\\302\\341\\222\\376\\324\\344s\\211\\227\\363\\353\\\\\\363\\272;\\3518\\270\\227\\274\\302\\304\\222ri7f\\250.\\255\\247\\201\\315\\365\\251>\\276r\\377\\000\\215 \\325l?\\347\\372\\327\\376\\377\\000/\\370\\327-K\\235\\020\\261\\243\\272\\224\\032\\317\\032\\255\\207\\374\\377\\000Z\\377\\000\\337\\345\\377\\000\\032p\\325l?\\347\\376\\327\\376\\377\\000/\\370\\327\\034\\342\\373\\033\\305\\256\\345\\354\\322\\346\\250\\377\\000ji\\377\\000\\363\\377\\000k\\377\\000\\177\\227\\374i\\303T\\323\\377\\000\\347\\376\\327\\376\\377\\000\\257\\370\\327$\\343.\\306\\361\\222\\356]\\315\\031\\252\\177\\332\\232\\177\\374\\377\\000\\332\\377\\000\\337\\365\\377\\000\\032\\251\\250x\\227H\\323m\\314\\263_B\\354xH\\241p\\357!\\354\\025GS\\\\\\222\\2459;$\\315\\225HE]\\263c\\303\\214\\017\\305\\035,ddi\\227G\\037\\3608\\253\\326\\253\\315\\376\\033xcQ\\216\\362\\347\\305z\\364?g\\277\\274\\210Ckhz\\333A\\234\\341\\277\\332c\\202k\\322+\\352\\360teF\\204i\\313t|\\336*\\242\\253ZS\\216\\301E\\024WI\\200QE\\024\\000QE\\024\\000QE\\024\\000QE\\024\\000QE\\024\\001^\\366\\306\\323P\\266k{\\333hn`o\\275\\024\\310\\035O\\340k\\'\\376\\020\\277\\n\\377\\000\\320\\267\\244\\177\\340\\024\\177\\341E\\024\\000\\177\\302\\025\\341_\\372\\026\\364\\217\\374\\002\\217\\374)?\\341\\n\\360\\257\\375\\013ZG\\376\\001G\\376\\024Q@\\013\\377\\000\\010W\\205\\177\\350[\\322?\\360\\n?\\360\\243\\376\\020\\257\\n\\377\\000\\320\\267\\244\\177\\340\\024\\177\\341E\\024\\000\\177\\302\\025\\341_\\372\\026\\364\\217\\374\\002\\217\\374(\\377\\000\\204+\\302\\277\\364-\\351\\037\\370\\005\\037\\370QE\\000\\037\\360\\205xW\\376\\205\\275#\\377\\000\\000\\243\\377\\000\\n\\232\\323\\302\\336\\036\\260\\271K\\213=\\017M\\267\\235\\016VH\\255QY~\\204\\n(\\240\\r\\216\\224QE\\000\\024QE\\000\\024QE\\000\\024QE\\000\\177\\377\\331\"\n",
            "      }\n",
            "    }\n",
            "  }\n",
            "  feature {\n",
            "    key: \"product_id\"\n",
            "    value {\n",
            "      int64_list {\n",
            "        value: 0\n",
            "      }\n",
            "    }\n",
            "  }\n",
            "  feature {\n",
            "    key: \"width\"\n",
            "    value {\n",
            "      int64_list {\n",
            "        value: 180\n",
            "      }\n",
            "    }\n",
            "  }\n",
            "}\n",
            "\n"
          ]
        }
      ]
    },
    {
      "cell_type": "markdown",
      "source": [
        "#Understanding the Tfrecord Data"
      ],
      "metadata": {
        "id": "d3wsDIq85Ugg"
      }
    },
    {
      "cell_type": "code",
      "source": [
        "#Reading Tfrecord file\n",
        "import IPython.display as display\n",
        "\n",
        "data_dir = \"../cdiscount/\"\n",
        "\n",
        "train_tfrecord_path = os.path.join(data_dir, \"train_TFrecords.tfrecords\")\n",
        "\n",
        "\n",
        "raw_dataset = tf.data.TFRecordDataset(train_tfrecord_path)\n",
        "\n",
        "\n",
        "\n",
        "\n",
        "\n",
        "#############################################################################################\n",
        "\n",
        "from PIL import Image\n",
        "def parse_tfr_element(element,img_shape=180):\n",
        "  #use the same structure as above; it's kinda an outline of the structure we now want to create\n",
        "  data = {\n",
        "      'height': tf.io.FixedLenFeature([], tf.int64),\n",
        "      'width':tf.io.FixedLenFeature([], tf.int64),\n",
        "      'depth':tf.io.FixedLenFeature([], tf.int64),\n",
        "      'category_id':tf.io.FixedLenFeature([], tf.int64),      \n",
        "      'product_id':tf.io.FixedLenFeature([], tf.int64),\n",
        "      'img_raw' : tf.io.FixedLenFeature([], tf.string)\n",
        "          }    \n",
        "  return tf.io.parse_single_example(element, data)  \n",
        "\n",
        "parsed_image_dataset = raw_dataset.map(parse_tfr_element)\n",
        "parsed_image_dataset\n",
        "\n",
        "\n",
        "\n",
        "\n",
        "########################################################################################\n",
        "\n",
        "for image_features in parsed_image_dataset:\n",
        "  print(\"Type of image_features\",type(image_features))\n",
        "  print(\"Type of image_features-Img_raw\",type(image_features['img_raw']),image_features['img_raw'].dtype)\n",
        "  image_raw = tf.io.parse_tensor(image_features['img_raw'],out_type=tf.string).numpy()\n",
        "\n",
        "  # print(\"\\nDtypee-\",image_features.dtype)\n",
        "  # print(\"\\nDtypee-\",image_raw.dtype())\n",
        "  print(\"Numpy_array-\",type(image_raw),image_raw)\n",
        "  display.display(display.Image(data=image_raw))\n",
        "  print(\"Category ID\",image_features['category_id'],\"\\nProduct ID-\",image_features['product_id'],\n",
        "        # \"\\nHeight-\",image_features['height'],\n",
        "        # \"\\nWeidth-\",image_features['width'],\n",
        "        # \"\\ndepth-\",image_features['depth']\n",
        "        )\n",
        "  break\n"
      ],
      "metadata": {
        "colab": {
          "base_uri": "https://localhost:8080/",
          "height": 304
        },
        "id": "F4s6VFXq5WCl",
        "outputId": "845f7f88-7515-4843-a830-cb9f8ff8b54d"
      },
      "execution_count": 16,
      "outputs": [
        {
          "output_type": "stream",
          "name": "stdout",
          "text": [
            "Type of image_features <class 'dict'>\n",
            "Type of image_features-Img_raw <class 'tensorflow.python.framework.ops.EagerTensor'> <dtype: 'string'>\n",
            "Numpy_array- <class 'bytes'> b'\\xff\\xd8\\xff\\xe0\\x00\\x10JFIF\\x00\\x01\\x01\\x00\\x00\\x01\\x00\\x01\\x00\\x00\\xff\\xdb\\x00C\\x00\\x08\\x06\\x06\\x07\\x06\\x05\\x08\\x07\\x07\\x07\\t\\t\\x08\\n\\x0c\\x14\\r\\x0c\\x0b\\x0b\\x0c\\x19\\x12\\x13\\x0f\\x14\\x1d\\x1a\\x1f\\x1e\\x1d\\x1a\\x1c\\x1c $.\\' \",#\\x1c\\x1c(7),01444\\x1f\\'9=82<.342\\xff\\xdb\\x00C\\x01\\t\\t\\t\\x0c\\x0b\\x0c\\x18\\r\\r\\x182!\\x1c!22222222222222222222222222222222222222222222222222\\xff\\xc0\\x00\\x11\\x08\\x00\\xb4\\x00\\xb4\\x03\\x01\"\\x00\\x02\\x11\\x01\\x03\\x11\\x01\\xff\\xc4\\x00\\x1f\\x00\\x00\\x01\\x05\\x01\\x01\\x01\\x01\\x01\\x01\\x00\\x00\\x00\\x00\\x00\\x00\\x00\\x00\\x01\\x02\\x03\\x04\\x05\\x06\\x07\\x08\\t\\n\\x0b\\xff\\xc4\\x00\\xb5\\x10\\x00\\x02\\x01\\x03\\x03\\x02\\x04\\x03\\x05\\x05\\x04\\x04\\x00\\x00\\x01}\\x01\\x02\\x03\\x00\\x04\\x11\\x05\\x12!1A\\x06\\x13Qa\\x07\"q\\x142\\x81\\x91\\xa1\\x08#B\\xb1\\xc1\\x15R\\xd1\\xf0$3br\\x82\\t\\n\\x16\\x17\\x18\\x19\\x1a%&\\'()*456789:CDEFGHIJSTUVWXYZcdefghijstuvwxyz\\x83\\x84\\x85\\x86\\x87\\x88\\x89\\x8a\\x92\\x93\\x94\\x95\\x96\\x97\\x98\\x99\\x9a\\xa2\\xa3\\xa4\\xa5\\xa6\\xa7\\xa8\\xa9\\xaa\\xb2\\xb3\\xb4\\xb5\\xb6\\xb7\\xb8\\xb9\\xba\\xc2\\xc3\\xc4\\xc5\\xc6\\xc7\\xc8\\xc9\\xca\\xd2\\xd3\\xd4\\xd5\\xd6\\xd7\\xd8\\xd9\\xda\\xe1\\xe2\\xe3\\xe4\\xe5\\xe6\\xe7\\xe8\\xe9\\xea\\xf1\\xf2\\xf3\\xf4\\xf5\\xf6\\xf7\\xf8\\xf9\\xfa\\xff\\xc4\\x00\\x1f\\x01\\x00\\x03\\x01\\x01\\x01\\x01\\x01\\x01\\x01\\x01\\x01\\x00\\x00\\x00\\x00\\x00\\x00\\x01\\x02\\x03\\x04\\x05\\x06\\x07\\x08\\t\\n\\x0b\\xff\\xc4\\x00\\xb5\\x11\\x00\\x02\\x01\\x02\\x04\\x04\\x03\\x04\\x07\\x05\\x04\\x04\\x00\\x01\\x02w\\x00\\x01\\x02\\x03\\x11\\x04\\x05!1\\x06\\x12AQ\\x07aq\\x13\"2\\x81\\x08\\x14B\\x91\\xa1\\xb1\\xc1\\t#3R\\xf0\\x15br\\xd1\\n\\x16$4\\xe1%\\xf1\\x17\\x18\\x19\\x1a&\\'()*56789:CDEFGHIJSTUVWXYZcdefghijstuvwxyz\\x82\\x83\\x84\\x85\\x86\\x87\\x88\\x89\\x8a\\x92\\x93\\x94\\x95\\x96\\x97\\x98\\x99\\x9a\\xa2\\xa3\\xa4\\xa5\\xa6\\xa7\\xa8\\xa9\\xaa\\xb2\\xb3\\xb4\\xb5\\xb6\\xb7\\xb8\\xb9\\xba\\xc2\\xc3\\xc4\\xc5\\xc6\\xc7\\xc8\\xc9\\xca\\xd2\\xd3\\xd4\\xd5\\xd6\\xd7\\xd8\\xd9\\xda\\xe2\\xe3\\xe4\\xe5\\xe6\\xe7\\xe8\\xe9\\xea\\xf2\\xf3\\xf4\\xf5\\xf6\\xf7\\xf8\\xf9\\xfa\\xff\\xda\\x00\\x0c\\x03\\x01\\x00\\x02\\x11\\x03\\x11\\x00?\\x00\\xf7\\xfa(\\xa2\\x80\\n(\\xa2\\x80\\n(\\xac\\xfd{Pm\\'\\xc3\\xfa\\x8e\\xa2\\xab\\xb9\\xadm\\xa4\\x98/\\xa9U$\\x0f\\xd2\\x809\\xdf\\x13\\xfc@\\x83E\\xd5\\x17E\\xd2\\xf4\\xf9\\xf5\\x9dm\\x93y\\xb4\\xb7`\\x04K\\xfd\\xe9\\x1c\\xf0\\xa3\\xf5\\xac\\xa1\\xe2\\xff\\x00\\x1f\\xe3\\xfeD\\xcd;\\xff\\x00\\x06\\xeb\\xff\\x00\\xc4\\xd6\\x1e\\x83%\\x9f\\x83\\xfe\\x1d\\xcb\\xe2\\x8d@\\x9b\\x8b\\xdb\\xd8V\\xfe\\xf2l|\\xf3\\xc9&\\n\\xa6}2\\xc0\\x0f\\xc4\\xd7\\x9dK\\xe3?\\x1aj\\xae\\xba\\x84\\xbe\"\\x8fE\\xb5\\x9f&\\x08c\\x8c\\x90@88UVb\\x01\\xe3q\\xef\\x9cP=:\\x9e\\xc5\\xff\\x00\\tw\\x8f\\xff\\x00\\xe8L\\xd3\\xbf\\xf0p\\xbf\\xfcM\\x03\\xc5\\xbf\\x10\\x0f\\xfc\\xc9zw\\xfe\\x0e\\x17\\xff\\x00\\x89\\xaf\\r\\xbe\\xf1\\x7f\\x8e\\xb4\\xf7\\x8f\\x7f\\x8a.$\\x8aU\\xdd\\x14\\xd1\\x15d\\x90\\x03\\x83\\x83\\x8e\\xa0\\xf0A\\xc1\\x15\\x7f\\xc3\\xbf\\x16\\xbcE\\xa4\\xea\\x10\\xb6\\xafzu=8\\xb7\\xef\\xd6D_1T\\xff\\x00\\x12\\xb0\\x1d\\xba\\xe0\\xd0=\\x0fd\\xff\\x00\\x84\\xb3\\xe2\\x07\\xfd\\tzw\\xfe\\x0e\\x17\\xff\\x00\\x89\\xa3\\xfe\\x12\\xcf\\x88\\x1f\\xf4%\\xe9\\xdf\\xf88_\\xfe&\\xbaX$\\x8e\\xe6\\xde9\\xe1p\\xf1J\\x81\\xd1\\xc7FR2\\x0f\\xe5O+S\\'b\\xd4\\x11\\xcb\\x7f\\xc2[\\xf1\\x03\\xfe\\x84\\xbd;\\xff\\x00\\x06\\xeb\\xff\\x00\\xc4\\xd1\\xff\\x00\\tw\\x8f\\xff\\x00\\xe8K\\xd3\\xbf\\xf0n\\xbf\\xfcMt\\xe5i\\xa5k\\x9eu\\xa4\\xb65Tbs?\\xf0\\x97\\xf8\\xfb\\xfe\\x84\\xcd?\\xff\\x00\\x06\\xeb\\xff\\x00\\xc4\\xd4r|B\\xf1N\\x95\\x8b\\x9dk\\xc1dX/\\xfa\\xd9t\\xfb\\xd5\\xb8x\\xc7\\xf7\\xb6`dWNV\\x9aV\\xb0\\xfa\\xd4\\xd3\\xd8\\xaf\\xab\\xc1\\x9a\\xfa6\\xb5\\xa7\\xf8\\x83J\\x83S\\xd3.R\\xe2\\xd2u\\xdc\\x8e\\xbf\\xa8#\\xb1\\x1d\\xc1\\xab\\xf5\\xe6^\\x1a\\xb4o\\r|M\\x9bN\\xb1\\x02=+X\\xb3\\x92\\xf0\\xdb\\xaf\\x0b\\x1c\\xf1\\xb2\\xab2\\x8e\\xdb\\x83\\x0c\\xd7\\xa6\\xd7|$\\xa7\\x15$r\\xca<\\xae\\xcc(\\xa2\\x8a\\xa2B\\x8a(\\xa0\\x02\\x8a(\\xa0\\x02\\x8a(\\xa0\\x02\\x8a(\\xa0\\x02\\xb0\\xbck\\xff\\x00\"6\\xbd\\xff\\x00`\\xf9\\xff\\x00\\xf4\\x03[\\xb5\\x85\\xe3_\\xf9\\x11\\xb5\\xef\\xfb\\x07\\xcf\\xff\\x00\\xa0\\x1a\\x00\\xf1\\xaf\\x145\\xd5\\xe7\\xc0\\x9bV6\\xc5!\\xb7\\x86\\xcb\\xe6\\xef\\x80\\x14\\x16\\xfar9\\xf7\\xaf>[;\\xadB\\xce\\xda\\xea\\xc9$\\xba\\x8cB\\x90\\xc8\\xb1.\\xf6\\x85\\x97#iQ\\xc8\\x07\\xa8=\\x0e}k\\xd9\\xfc,n/l\\xf4M2\\xfe\\xde&\\xd3\\xa7\\xd0\\xe3\\x057nY\\x14\\xa2\\x03\\xbb\\xd0\\xf4\\xfaW)\\x17\\xc1+mJY\\xae\\xf4/\\x12Mkg\\xe6\\xba$s[ot\\xc1\\xc1\\x1b\\x83\\x0c\\x8a\\xca\\x9dNm:\\xea\\x0eJOk\\x1ey\\xaa\\xa3X\\xda\\xdaZ\\xdc\\x1f\\xf4\\x813O%\\xbf\\x19\\x88\\x10\\x00\\r\\xe8\\xcd\\x8c\\xe3\\xb0\\x03=j?\\x13\\xea\\xf6\\xda\\xb3C%\\xbc/\\x18\\x8a\\xdf\\xcbvuU.\\x7f\\xe0<W\\xa4\\x0f\\xd9\\xf6\\xef\\xfe\\x86\\xb4\\xff\\x00\\xc0\\x0f\\xfe\\xce\\xb6\\xbc5\\xf06\\xcbJ\\xd5b\\xbd\\xd5\\xf5f\\xd5\\x16\\x16\\x0f\\x1d\\xb8\\x83\\xcaB\\xc3\\xa6\\xeeNG\\xb5j\\t\\x1d\\xd7\\x84-f\\xb4\\xf0f\\x89op\\x08\\x9a;\\x18U\\xc1\\xeb\\x9d\\xa2\\xb6\\xf6\\x1fJ\\x93o4\\xecT\\xc8\\xd9h@c8\\xa6\\xf9d\\xd5\\x9d\\xb4\\x85k\\x9aQ\\xb9\\xa2\\x91P\\xa50\\xad\\\\d\\x06\\xa1e\\xc5s\\xca\\x06\\x8aG6\\x06>)\\xe8\\x7f\\xf6\\x0b\\xbc\\xff\\x00\\xd0\\xe1\\xae\\xfa\\xb86\\x18\\xf8\\xa9\\xa1\\x7f\\xd8.\\xf7\\xff\\x00C\\x86\\xbb\\xca\\xee\\xa2\\xadM\\x1c\\xb5u\\x9b\\n(\\xa2\\xb53\\n(\\xa2\\x80\\n(\\xa2\\x80\\n(\\xa2\\x80\\n(\\xa2\\x80\\n\\xc2\\xf1\\xaf\\xfc\\x88\\xda\\xf7\\xfd\\x83\\xe7\\xff\\x00\\xd0\\rn\\xd6\\x17\\x8d\\x7f\\xe4F\\xd7\\xbf\\xec\\x1f?\\xfe\\x80h\\x03\\x83\\xf0D\\xff\\x00i\\xf0\\x8e\\x8c\\x88\\xa8.\\xed\\xac\\xd1\\x15\\xc9\\xe4\\x82\\xa3\\x8f\\xa61\\xf9\\n\\xebl\\xaf\\xe3\\xb5\\xba]9\\xad\\xde4\\x08\\\\:/\\xc8\\xa79`}\\xf2I\\xaf1\\xd2\\xaf\\x9a\\xdb\\xc0\\xdaI\\x80\\xc9\\r\\xdcv\\xf1\\xb1h\\xcf\\x12\\xa1Q\\xc1\\xef[^\\x06\\xd4e\\xd4o\\xee\\x13SL\\xe2&ky%|\\x186\\xe3\\x00z\\x13\\x9f\\xaf\\x15\\xc5K\\x14\\x9b\\xf6ik\\xdc\\xea\\x9c\\'Q\\xb9S\\x85\\xa3\\xbd\\xfa\\x1dn\\x93\\xe2\\x84\\xbe\\xd5&\\xd3n\"\\xf2\\xee\\x16v\\x8d\\n\\xf2\\xa4\\x01\\x91\\xf8\\xd7I\\x8a\\xf3]&\\x0b\\xb9|h\\xba\\x84v\\xc9q1\\x06Y\"G\\x11\\xa88\\n[\\x9f\\xaf\\x03\\xd6\\xba!\\xae\\xea\\x03\\xc6\\xbfcUW\\xd3\\xe4\\xb5\\xf3\\x11N\\x15\\xb2\\x08\\x07\\x1f\\xed\\x03\\xbb+\\xedJ\\x85w\\xc9y\\xeb\\xad\\x8e~I\\xc2\\\\\\x92\\xd5\\x9dHZ6\\xd4Q\\xde\\xda\\xca\\xe5\\x16t\\xde:\\xa18#\\xf04\\xc9\\xef\\xe2\\x82\\xee;V?\\xbd\\x91IQ\\xfe~\\x95\\xd1*\\xb0\\xb5\\xeej\\xa3+\\xda\\xc5\\x8c\\x1aLUm7PMB\\xd9\\xa5\\x0b\\xb7k`\\xfaR\\xdaj\\x16\\xf7\\xf7\\x17\\x11\\xdb:\\xca\\x90\\x10\\x8f\"\\x9c\\x8d\\xfdv\\x8f\\xa0\\xfeu\\x9cg\\x19\\xc5J;1\\xb8\\xca-\\xa6\\xb6\\'\"\\xa3|b\\xa7\"\\xa1a\\x83S!\\xc4\\xe6%\\x18\\xf8\\xa9\\xa1\\x7f\\xd8.\\xf7\\xff\\x00C\\x86\\xbb\\xaa\\xe1\\xa6\\xff\\x00\\x92\\xa9\\xa1\\x7f\\xd8.\\xf7\\xff\\x00C\\x86\\xbb\\x9a\\xe8\\xa5\\xf0#\\x1a\\x9f\\x13\\n(\\xa2\\xb4 (\\xa2\\x8a\\x00(\\xa2\\x8a\\x00(\\xa2\\x8a\\x00(\\xa2\\x8a\\x00+\\x0b\\xc6\\xbf\\xf2\"\\xeb\\xdf\\xf6\\x0f\\x9f\\xff\\x00@5\\xbbX^5\\xff\\x00\\x91\\x17^\\xff\\x00\\xb0|\\xff\\x00\\xfa\\x01\\xa0\\x0f\\x18\\xd3-\\xae/t\\x8d\\x0e\\x0bv\\xf9\\xda\\xd2\\x15\\xda\\xc7\\x00\\x8d\\x83\\xf9W\\xa1\\xf8cM\\xb6\\xd0\\xed\\'\\x8a}\\xb71\\xdc\\xfc\\xd3\\x16L2\\xa8\\xe0|\\xbd\\xd4s\\x9cr:\\xf4\\xe9\\xe7\\x1a|\\x97\\xda~\\x89\\xa0\\xea\\x11\\xac>Z\\xdbF\\x7fx\\xa4\\xee\\x021\\xc8\\x19\\xf5=kB]GU\\xd6\\xe0\\x8aK\\xb3\\xb6\\x14\\x93q\\x95\\x17k\\x80{\\x0f@+\\xc8\\xc3\\xca\\x9d8\\xb9K\\xe2\\xbb>\\x97\\x1d\\x1a\\xf50\\xca\\x14~\\x14\\x96\\x9egQt48...lu\\x1b\\x95+\\xb7\\x06\\xdeV\\x8d\\xe3\\x00\\x1c\\xa0\\xcf\\xde\\x07\\xa8\\xceFT\\x03\\xd4W<<C|5\\t\\xad\\xeeg\\x86\\xfa\\xde\\xe0n/2m\\x95v\\xfd\\xd6\\x0c\\xb8\\xf9\\xb9\\xebX\\xd7\\x92\\\\\\x16\\xf2 G\\xf2\\xd78rI\\x1f\\\\\\xe0f\\xa8\\xe9\\xd63\\xcb\\xa8\\xa8\\xe3;J\\x86`I\\\\\\xe3\\xa7\\xe5X:\\xf5&\\x9a\\xd1-O\\x9fX\\x0c}d\\xeb\\xa4\\xd7/\\xc9\\x9d\\xbd\\xbf\\x89 \\xbc?d\\xd5\\xe13\\xc6\\x06\\x12\\xe1\\x0e%O\\xf8\\x17\\x7f\\xc6\\xa9\\xd9\\xdd\\xea\\x03Y\\x99R\\xe1\\xe6\\xb7\\xb5\\x07m\\xcc\\xa7\\n\\xab\\x83\\xb7$\\xfdzR\\xcf\\xa2Eej&\\xf3K\\x95P\\x1b\\x1c\\x02\\xdd\\xcdY\\xb9\\xd3n\\xed\\x98Ei\\xbaI\\x15Vh\\x99\\xa1\\xde\\x9b\\x88\\xc8\\xca\\x1e\\x0e3Y\\xc6\\x12\\xb2Z\\xbf\\xcc\\xed\\xa1\\x8b\\xad\\x83\\x82U\\xa2\\xa5\\x19+]t\\xff\\x00\\x83\\xfdjiK\\xa9\\xddK\\xa5\\x8d7LI#\\xb4\\t\\xb5\\xe6\\xdawK\\x9e\\xa7>\\xfc\\xd58#\\xbe\\xd34\\xf9-\\xac\\xa7{x\\x98\\xe5\\x82\\x1c\\x1c\\xfdz\\xd4:N\\xb7p\\xe6A<(&Rx\\x1fp}\\x07Q\\xf4\\xad\\xa4\\x92!b\\xcd&\\x0b\\xb9\\xcbm=)\\xb9\\xb4\\xdd\\xa5\\xb6\\xc7\\xa7\\xcf(Z\\x1c\\x8a\\xcfW\\xd4\\xd8\\xf0n\\xa5}\\xa8X\\\\-\\xeb\\x99\\x0c\\x12\\x04I\\x08\\xe5\\x86;\\xfa\\x9a\\xe8\\x1cUm\\x1a\\x0bX\\xb4\\xa8Z\\xcd\\n\\xc5 \\xdf\\x96\\xfb\\xccOsV\\xdcq^\\xaaO\\x91\\\\\\xf1\\xebN2\\xab\\'\\x15es\\x95\\x97\\xfeJ\\xa6\\x85\\xff\\x00`\\xbb\\xdf\\xfd\\x0e\\x1a\\xeek\\x87\\x9cc\\xe2\\xae\\x83\\xff\\x00`\\xbb\\xdf\\xfd\\x0e\\x1a\\xee+\\xa2\\x97\\xc0\\x8eY\\xfcL(\\xa2\\x8a\\xd0\\x80\\xa2\\x8a(\\x00\\xa2\\x8a(\\x00\\xa2\\x8a(\\x00\\xa2\\x8a(\\x00\\xac/\\x1a\\xff\\x00\\xc8\\x8d\\xaf\\x7f\\xd8>\\x7f\\xfd\\x00\\xd6\\xedax\\xd7\\xfeDm{\\xfe\\xc1\\xf3\\xff\\x00\\xe8\\x06\\x80<SO\\xb3\\x9e\\xff\\x00\\xc26\\xb7\\x17RyqC\\xa7G\\xb4\\x93\\xf2\\xe0(#\\xf9t\\xf55\\xadk~E\\x82\\x14\\xb6f\\x0e\\xa4\\xa6\\xd1\\xf7\\xd3\\xa9#\\xf0\\xaev)-n<3\\xa4C-\\xec\\xc4\\x0bh\\x83Z\\xc6\\xfcI\\xf2\\x8c\\xe4v\\x03\\xf35\\xbdc4i\\xa5\\x0b{tH_hT\\xe3\"2{\\x81\\xed\\x93_7U\\xdb~\\xef\\xee>\\xa2\\x0e\\xac\\xa0\\xd4c\\xa2J\\xc5}\\x03U\\x8b\\\\\\x92\\xe9M\\xb3A\\x0c\\x03y$g\\x8e\\xc3\\xda\\xa5\\xbaP\\x81n L!P\\xcawm\\xf5\\xe2\\x93E\\xd1\\xf4\\xeb\\tn\\x9ex\\xe4wF\\xdb\\x1c\\x8e\\xe7,\\xa4rx\\xf7\\xa4\\xd45\\x08\\xacb\\x8d\\x17\\xe6\\x88\\x0c \\'\\xb7\\xf5\\xac\\xe7({_\\xdc\\xad\\x0ezx\\xaa\\xf4):\\x98\\x87h\\xfe-\\x9dN\\x8f\\x1c\\xd7>L\\xf2\\xcf\\x15\\xcd\\xab\\xc4\\xac\\x9b\\x90\\xab)\\xf7\\x07\\x8c\\x8e\\x99\\xad\\xb1\\x14\\xcb\\xab)L\\x98\\xf8<\\x8f\\x94\\x8e\\xe7>\\xb5\\xe6z7\\x8e/t\\xcb\\xd6\\xc6\\x8b\\xa9j\\xb6L\\xb9\\xd9g\\x1eLlO\\x078<\\x10\\x0f\\x15\\xe8\\xb6>!\\x8bZ\\xb470\\xda\\xdfi\\xe5>Y-\\xaf\\xe1\\xf2\\xdcw\\xcf\\xb8\\xf7\\x06\\xbe\\xa3\\x04\\xe3\\xec\\xa3\\x18\\xab7\\xb9\\xe4\\xacS\\xad\\xab\\xeaqZ\\xce\\x93}\\xa6\\xea:\\x85\\xcd\\xb3<\\x96\\xcf(\\x92$\\x07$n\\xce@\\x1dx8\\xfc\\xfe\\xb4\\xdbmNG\\xb77\\',\\x89&\\xd9!l\\x80\\xd8\\xc6@#\\xf2\\xae\\xaa[)\\xb5\\xab\\xd9\\xf5\\x1d\\x1a\\xe9Z\\xce%\\x0b\\xbaD*\\xaf(\\x1c\\xa4g\\xf8\\x86p3\\xd0\\x13\\x8c\\x9e\\xdc$\\x97s\\xebwM\\xa7ZY\\xbd\\xcc\\xd3\\x87O%\\x08\\x07$\\x11\\x9c\\xf4\\x18\\'9\\xed\\x8a\\xf1\\xb14_\\xb7\\xf7c\\xd7s\\xdb\\xc0\\xca.\\x83I\\xddE6\\xfb\\xfa\\x1e\\xe7\\xa7]A{\\xa6[]\\xdb\\x02 \\x9a%x\\xc1\\x18\\xc2\\x91\\xc0\\xa9[\\xa5q\\xff\\x00\\ruY\\xaf|#\\x16\\x9f|\\x82-OIccw\\x17B\\x19>\\xebc\\xd1\\x86\\x0e{\\xf3]k5z\\x12\\xd3C\\xc2Vn\\xe8\\xe6n\\x7f\\xe4\\xaa\\xe8?\\xf6\\x0b\\xbd\\xff\\x00\\xd0\\xe1\\xae\\xde\\xb8\\x8b\\x83\\x9f\\x8a\\x9a\\x0f\\xfd\\x82\\xef\\x7f\\xf48k\\xb7\\xad\\xa9\\xfc(\\xc6\\x7f\\x13\\n(\\xa2\\xac\\x90\\xa2\\x8a(\\x00\\xa2\\x8a(\\x00\\xa2\\x8a(\\x00\\xa2\\x8a(\\x00\\xac/\\x1a\\xff\\x00\\xc8\\x8d\\xaf\\x7f\\xd8>\\x7f\\xfd\\x00\\xd6\\xedax\\xd7\\xfeDm{\\xfe\\xc1\\xf3\\xff\\x00\\xe8\\x06\\x80<\\x03O\\xd2\\x9aM\\x0bO\\x95I\\x0c\\xd6\\xd1\\x90\\xc3\\xb7\\xca+\\xb1\\xf0\\'\\x85\\x0e\\xb4/\\x9a\\xea\\xeaH\\xc5\\xb0U\\x88*\\x8d\\xa5\\x98\\x1e[\\xd7\\x18\\x07\\x15\\x9f\\xe0l\\xea>\\x0e\\xb6\\x9ed \\xc5\\nD\\xa7n\\x06\\xd01\\xf8\\xe6\\xb4\\xb4\\x0b\\xddB\\xd7]\\x8bK\\x96\\xf0Gg{3 \\x8a\\x13\\xb0\\xefn\\x85\\x9b\\xab\\x00\\xa0\\x8c\\x03^%\\x19\\x7f\\xb4:u\\x0f\\xa9\\xc4cgS\\x05\\xfb\\x95\\xae\\x9f$\\x8c\\x1b\\xeb=n\\xd6\\xfc\\xd9\\xa5\\xa4\\xd3\\xc9\\x82c1)a2s\\x86_c\\x8c\\xd4\\xdaF\\xa7qo\\x03\\xc4tk\\x1b\\xe9$\\xc2H\\xd7\\xa0\\x9d\\xa3vx\\x00\\xe3\\x03\\xf3>\\xa2\\xbd\\xd2\\xe2\\x1bx\\xe0y\\xbc\\xa8\\xd5\\x92\\x16P\\xd8\\xc1\\x0b\\x8e\\x99\\xec+\\xc2\\xfc0\\xd2]\\xe8BIa{[\\x81\\x11\\xc8\\x910\\xaaG~\\xbd+LD>\\xac\\xb9\\xe0\\x96\\xe7=\\x1cR\\xc7\\xc1\\xc7\\x12\\xbe\\x15\\xa5\\xb4\\xf9\\xfa\\x9az\\x9e\\xbb\\xe2\\x01h-m\\xae^ \\xc4(\\xfb$\"\\x05\\x03\\x18\\xc9\\x0b\\xd0c\\xa0$\\xfdkC\\xc0:\\xc6\\xad&\\xbc4k\\xf9^\\xf2\\xc6X[\\x0bq\\xf3\\xf9{G\\x18\\xcfc\\xd0\\xfe\\x15\\xcc\\xf8SW\\xbb\\xd4\\xaf.F\\xa0\\x1eH\\xf2|\\xa6\\x8e#\\xb3#\\xa9\\xce1\\xd3\\x15b\\xe3R\\xba\\xf0\\xfe\\xaf\\xfd\\xadgtc1\\xae\\x1a7Q\\xb3o\\xf1g\\xbfO\\xe4*)\\xd6\\xab\\x0cB\\x8dV*\\x14)U\\xa1S\\xd9GW\\xb5\\xfa[\\xfa\\xf9\\x9e\\xbd\\xaej:^\\x97\\xa7\\xff\\x00\\xc4\\xcaE\\xb7\\xb5\\xf2\\xdc\\xab\\xed;Sj\\x93\\xd5z\\x1c\\x02GN\\x87\\x15\\xe1#\\xe3M\\xc7\\xdaZ\\xcfG\\xb2K\\x99e\\x89\\xe0\\x8a\\xea\\xe2\\x14\\x86l\\xff\\x00\\x03\\x12\\x84\\x0cz\\xaf\\x1d\\xb9\\xcd{E\\xcbE\\xe2\\xbf\\x04N$\\x8d\\xa2\\x87R\\xb1\\x7f\\x95\\xba\\x85e8?\\x96\\r|_\\x83\\x1b\\x9c\\x1eT\\xf5\\x15\\xebE^\\xe7\\x85{=Oh\\xb4\\xd7u\\x9bQ\\x16\\xa9\\xaf-\\xc5\\xa5\\xc6\\xff\\x00)\\xef,\\xe4f\\x99\\x01\\xe1HV\\'w\\xcd\\x8c\\xa7*\\xc0\\xf4\\x07\\x9a\\xf6\\xed\\x0e}F}\\x02\\xc2]^$\\x8bRx\\x15\\xae#A\\x80\\xaf\\xdf\\x8e\\xde\\xe3\\xb1\\xcdx^\\x93\\xab(\\xf0Cj\\x9a\\x8d\\xc3^y\\x88\\x8d\\xe5y[\\x99\\x1d\\x0e\\xdc\\xfe\\x80\\xfe}\\xeb\\xde-.V\\xe2\\xd2\\x19\\xc4\\x81\\xc4\\x91\\xab\\x87\\x1f\\xc5\\x90\\x0ek\\x87\\xda\\xc9\\xddK\\xa3\\xdc\\xf4*\\xd2\\x82\\xe5p\\xd2\\xebn\\xbe\\xbf3\"S\\x9f\\x8a\\x9a\\x17\\xfd\\x82\\xef\\x7f\\xf48k\\xb9\\xae\\r\\x8e~*h_\\xf6\\x0b\\xbc\\xff\\x00\\xd0\\xe1\\xae\\xf2\\xbb\\xa9;\\xc1\\x1e}Ei0\\xa2\\x8a+B\\x02\\x8a(\\xa0\\x02\\x8a(\\xa0\\x02\\x8a(\\xa0\\x02\\x8a(\\xa0\\x02\\xb0\\xbck\\xff\\x00\"6\\xbd\\xff\\x00`\\xf9\\xff\\x00\\xf4\\x03[\\xb5\\x85\\xe3_\\xf9\\x11\\xb5\\xef\\xfb\\x07\\xcf\\xff\\x00\\xa0\\x1a\\x00\\xf2?\\x08Xi\\xdaw\\x85,\\'\\x84~\\xfe\\xe2\\xda\\'\\x94\\xe7 \\xb6\\xdfC\\xd3\\xaf\\xe9Z:-\\xa5\\xbe\\xbd\\xe2U\\xb3\\x98\\xb3F\\xa8\\xfb\\x80\\x1c\\xa9(\\xc0\\x1c\\xf6\\xc7\\x04W\\x1d\\xa5\\xeaS\\r#L\\xb6\\x8e3$\\x8d\\x04+\\x12\\x06\\x03{\\x15\\x00\\x0c\\x9e+\\xd9\\xcd\\x84>\\x1f\\xd3L\\xda>\\x9a\\x86\\xe7r\\xbbD\\\\\\xe5\\xff\\x00\\xbc7\\x1c\\x9e\\x84\\xd7\\x8bG\\x0f)\\xd5\\x95i\\xea\\x91\\xefc\\xe4\\xb0\\x98eF;\\xc9k\\xe9\\xff\\x00\\x04m\\xee\\x89\\x7f\\xa5x#Q\\xb0\\xd2\\xeeg\\xb9\\xba\\x91\\tBO\\xcc3\\x8d\\xc1s\\xed\\x9a\\xf2\\xed\\x1e[\\x9b\\xad0\\xcb\\r\\x9c\\xf7\\x16\\xee\\xacC*\\x1d\\x8c\\x17\\x93\\x96<c\\x00\\xe75\\xedV\\xb7\\x12\\xdd\\xe9\\xd1\\xbd\\xd4>D\\x92\\xc7\\xfb\\xc8\\x83\\xe7n{\\x02+\\x82\\x1f\\x0b--\\xa7\\xbbk\\x0f\\x13x\\x82\\xce\\xde\\xe8\\xb1\\x9a\\xda\\x1b\\x85\\xd8\\xdb\\xbe\\xf0<s\\x9c\\x9a\\xef\\xab\\x85\\xa7V)tG\\x06\\x0b\\x1f,59S\\x8cS\\xb9\\x90\\x9a\\xc4\\x16\\xb0H\\xb6\\xfbQ%>f\\x14`n\\xff\\x00\\xf5V\\x8e\\x93\\xe0\\xdb?\\x13\\xdb\\xdbjz\\x9d\\xc1\\x9a\\xc5\\x9bz\\xda *$*q\\xf3\\x93\\xce2:\\x0e\\xbe\\xb4\\xfd?\\xc0Z[xn\\xf2\\xd1|\\xeb\\x8b\\xc8\\xe6\\xb8\\x8a+\\x89\\xa7f,U\\x98&\\xeeq\\x8e\\x00<z\\xd7S\\xa0j\\xb1\\xea\\xba\\x15\\xad\\xd4v\\x92Y\\xfc\\xbe[[H\\x9bL,\\xa7k\\'\\xd0\\x11\\xc1\\xf4\\xc5sQ\\xc1F\\x8c\\x9c\\xdb\\xbb:\\xf1\\x18\\xf8\\xce\\x9a\\xa7Er\\xdfq\\xfe$\\xd4SO\\xf0\\xf6\\xa0c!e\\x16S\\xb4H\\x07\\xf7#\\'\\x8f\\xa7\\x15\\xf1\\x8a\\x86f\\x01A$\\xf6\\x02\\xbe\\xd2\\xbb\\xb5\\xb7\\xbd\\x08\\'@\\xfb\\t\\xc7=\\x8a\\x95a\\xf4 \\x90Ey\\xd4\\x7f\\x08tM>\\xcbP\\x16\\xa8\\xb772H\\x1e\\xd5\\xaeA>R\\x8f\\xf9g\\x9c\\xfd~n\\x0fJ\\xeb\\x8dX\\xc7s\\xcc\\x956\\xf63~\\x16\\xf8^\\xc3V\\xf0d\\xd1j\\xb6\\xd20b\\x01Vb\\xb8\\x07,\\x08\\xc7 \\xf7\\xe0\\xd7i\\xa3\\xdb\\xdcxoX\\x8fC\\x13\\xbc\\xda<\\xd6\\xe5\\xac<\\xd3\\x97\\xb7d\\xc6\\xe8\\x8bwR\\x0e\\xe5\\xcfL\\x11Y\\xb6\\x97\\x91\\xfc>\\xf8q\\x15\\xcd\\xe5\\xac\\xac\\xf0\\x15I\\xd4\\x1c\\xb1%\\xf6\\x82I\\xec\\x06) \\xf15\\x97\\x88\\xf5\\xdd\\x07\\xfb*\\xe8\\xdc\\x85\\x9a{\\x89\\xd7h\\ro\\x18\\x88\\xa8\\x0c\\x07L\\xb3.3\\xd6\\xb9\\xa6\\xdc\\x9b}5:#\\xd2\\xfb\\x9d\\n0o\\x8aZ\\x1f\\xfd\\x82\\xef?\\xf48k\\xd0+\\xce\\xed\\x8e~)h\\xbf\\xf6\\x0c\\xbc\\xff\\x00\\xd0\\xe1\\xafD\\xae\\xbc3\\xbd$\\xceZ\\xea\\xd5\\x18QE\\x15\\xb9\\x90QE\\x14\\x00QE\\x14\\x00QE\\x14\\x00QE\\x14\\x00V\\x17\\x8d\\x7f\\xe4F\\xd7\\xbf\\xec\\x1f?\\xfe\\x80kv\\xb0\\xbck\\xff\\x00\"6\\xbd\\xff\\x00`\\xf9\\xff\\x00\\xf4\\x03@\\x1e-\\xf0\\xda]:5\\xfb]\\xe0\\x89\\xe5\\xb2\\xb5\\x80\\xc4\\xd38DFe\\xc7S\\xd5\\xb6\\xf6\\xc1\\xeb]\\x1e\\xb3\\xe2\\xb9sq-\\x85\\xdc\\xb7\\x88\\xe4\\xaf\\xcd\\x84\\x8e\\x05 \\x8c*\\xf5f \\x9eO\\x03\\xafZ\\xf37\\xd1<A\\xa6\\xf8\\x7fH\\xb8Xb\\x9e;\\xc8\\xa3pw\\xed\\x11\\xab(\\xd8\\xa5\\xb8\\xf9\\x8f<\\x0e@Z\\xf4=4[\\x8d\\n\\xcd\\xe5\\x8e\\xd9|\\xb8\\x80\\x95a\\\\/\\x99\\xeb\\xcf_\\xc6\\xbc\\xea\\xd3\\x954\\x92\\xd1\\xdf\\xef=\\xba\\xdfW\\xafR5$\\xdc\\xadk\\xf4I%\\xb7\\x99b\\xcf\\xe2\\x84\\xb0\\x91\\x1e\\xa5\\xa4\\x90\\x81~Ym\\xa6\\x07\\'\\xdd\\x18\\x0c~f\\xa9\\xea_\\x18tK\\xa7\\x1ajG\\xa9\\xd9\\xc7rZ\\xdek\\xf6A\\x1f\\xd9K)\\xc3\\x0eNH\\xe0\\xfd9\\xaa\\xba\\xbe\\x9fd-\\x85\\xc4n\\xa9\\x19R\\xc4\\x1e6\\x8frzW\\x97\\xc3q\\x06\\xb1\\'\\x89,\\xa2\\x1edf\\xcc\\\\B\\xc0g\\xe7\\x80\\x83\\xb8{\\x15.?\\x1a\\xd7\\x0f^u\\x1b\\x8c\\x96\\xc76*\\x8d\\x08\\xd3\\x8c\\xe9=_C\\xe8\\xdd\\x06\\xde\\xcfE\\xd0\\xac\\xb4\\xdb[\\x8f>\\x18bP\\'\\xce\\xef0\\xb1?1#\\x8c\\x93\\x93\\xf8\\xd6\\x9bK\\xdc\\x9f\\xce\\xbeh\\xf8y\\xe3\\xe9|-#\\xd8\\xbc&kk\\x99\\xe3s\\x87\\xc1\\x18\\x04\\x103\\xc79\\x1fB+\\xdaO\\x89\\x96\\xf2\\xd3NT\\xb5\\x9eG\\xd6Z[[h\\x95\\x80\\xdb,e\\x84\\x80\\xb7a\\xc5i8K\\xa1\\xcb\\t\\xc6\\xda\\x9d\\x1d\\xfd\\xccp\\xd8K4\\xb7\\x0b\\x04*\\xbb\\x9ef8\\x08\\xbd\\xce\\x7f\\x97\\xe1Xw\\x9e+\\x0bg7\\xf6L_\\xda\\xd7P\\xda=\\xcc\\x82&\\x0b\\xb1T\\x85%\\x97\\xaerrTs\\x80}\\xab\\xcf.u\\x0b\\xef\\x10_xgR\\xba@m&\\x8a[y\\x90)\\x0bis\\x14\\x9b\\x88p:}\\xd4\\xf7*q\\xd7\\xaf\\xa7\\x7f\\xc2Q\\xa1\\xb6\\xbfiy`\\x02j\\x93@b\\x92\\xd9\\xc6\\xc7\\x99\\xe4\\xdb\\xb5\\x08\\xc6I\\x1e^w\\x0e098\"\\xa3\\xd8\\xa5\\xac\\x98\\xfd\\xab\\x7f\\n\\x19w\\xe1\\x8dj\\xec\\xc1\\xa7\\xcb}k.\\x93\\xa8\\xb1i\\xee\\xad\\xad\\xf0\\xe8J\\xee\\x0b\\xb1\\xcb.\\xc6 r?,\\x9c\\xd4\\xf66\\xb3i\\x93\\xddi\\xf72E,\\xb08\\xdb*.\\x19\\xe2#+\\xbb\\xbe~\\xf0\\xe4\\x9e\\x9dOZ\\xa3t\\x9e/\\xbeH\\xa1\\xd3\\x9fR\\xb7\\x81]\\x91\\x16\\xdd`\\xb6X\\x9a>1\\xf3\\x06f\\\\\\xe4\\x00x\\'\\xbe*{\\x14\\x97\\xcc\\x92\\xea\\xe6{\\xd9\\xeegU\\xcc\\x97\\x88\\xa8\\xfb\\x01m\\xa0\\x05\\x00\\x00\\tn\\xd9\\xfd+\\x1c_$ih\\xack\\x87\\xe6u5c\\xac\\x8e~(\\xe8\\xdf\\xf6\\x0c\\xbc\\xff\\x00\\xd0\\xe1\\xafG\\xaf5\\xd3\\xce~(\\xe8\\xdf\\xf6\\x0c\\xbc\\xff\\x00\\xd0\\xe1\\xafJ\\xad\\xf0n\\xf4#\\xfdu0\\xc4\\xabU\\x90QE\\x15\\xd4`\\x14QE\\x00\\x14QE\\x00\\x14QE\\x00\\x14QE\\x00\\x15\\x85\\xe3_\\xf9\\x11u\\xef\\xfb\\x07\\xcf\\xff\\x00\\xa0\\x1a\\xdd\\xac/\\x1a\\xff\\x00\\xc8\\x8b\\xaf\\xff\\x00\\xd8>\\x7f\\xfd\\x00\\xd0\\x07\\x99\\xe8\\x1ag\\xdb\\xbc\\x07g\\x9b\\xbb\\x9b\\x89!\\xb1\\x8eX\\xe3b\\x08S\\xe5\\x8f\\x94\\x0fLp+#C\\xd4\\x05\\xc0\\x0c\\x9b\\x162pA^\\x18\\x0e\\xb9\\x15\\xda\\xf8I \\xb6\\xf0\\x86\\x90\\xdb\\xf7Jt\\xeb\\x7f\\xbc>\\xe81\\xa9?\\x85f\\x8f\\x0ci\\x900\\xf2s\\x0c~s\\xcacN\\x9f7;G\\xa0\\xceO\\xe3\\\\\\xf8\\xbc\\x1cf\\x94\\xe3\\xa3=,-H\\xd3\\x93\\x8c\\xbe\\x07\\xd3\\xcc\\xe7|E\\xaa[\\xdbiw\\x13\\x98\\x17\\xc8\\x85q${w\\x0ez/<`\\xd7\\x92x6{\\x8bMo\\xed\\xd0\\xdb=\\xcd\\xba#\\xa5\\xdd\\xbc\\\\\\xb9\\x81\\xc1W!z\\x90\\x01\\xed\\xd3\\x02\\xbd\\xb7\\xc6\\x1a5\\xb6\\xa5`\\x04q\"\\x07O\\xb2\\xc9\\x91\\xc6\\xd6\\xfb\\x8c}\\xd5\\xf6\\x9c\\xfa\\x16\\xf5\\xaf-\\xf0\\x8f\\x86\\'K\\xebV\\xbb\\x92\\xe3N\\x9a\\xe8o\\xd3\\xb5\\x18y\\x11\\xcc\\xa4\\x83\\x1bv\\xe7\\x04`\\xfa{\\xd4\\xd0\\xa4\\xa8\\xc5\\xa6\\xefs\\x1cMOi5\\xca\\xac\\x91\\xcc^\\xe9o\\xa2\\xea\\xd1\\x92\\xf1Mj\\xcd\\xbe\\xde\\xe5\\xb2b\\x95;\\x1e9\\xfa\\x8e\\xa0\\xf0k\\xbc\\xd1\\xf5}^\\xe6\\xd3O\\xd3l\\xfcK\\xe1\\xbbC\\xa5\\xc9-\\xfcWR\\xb4\\x83cH\\xd8o\\x99\\x93\\x03\\x1b\\xce\\x14\\x0e\\xfd\\xfbw7\\xad}\\xfd\\x9a\\xd6w\\x0b\\xe1\\xe9\\xaf\\xc1\\xde\\xf1O\\x81\\x1d\\xc8\\xf5\\xdayF\\xf7\\xe4W\\x9c\\xea\\x9a\\xfe\\x9d\\xa5\\xdc\\x18\\xb5O\\x87:|R\\x9e\\x8c$`\\xad\\xee\\x08\\x18?\\x85k\\x1a\\x8d\\xec\\x8ceJ\\xddN\\xff\\x00\\xc2\\xa9\\xe1\\x9f\\x0e\\x1d\\xfa\\x97\\x8d_S\\x93T\\x8aK\\xc3\\x1c0\\x85\\x80\\x88\\xc9iz\\x8f\\xe2*\\xc0t\\xce\\x0f\\x1d+\\xa6\\x97\\xe2?\\x83\\xed.\\x17\\xfb:\\x08\\r\\xc4\\xfaI\\xbf\\xb7p\\x14\\xfc\\xc3; \\x00d\\x87\\'?(\\xaf\\x08\\x97\\xc6\\xfaF\\xd5\\x16\\xfe\\x0b\\xd2P\\xa8\\xc2\\xf9\\x8e\\xf2\\x01\\xf8\\x13U\\xff\\x00\\xe1=\\xd4\\x1d\\xc4qGm\\xa5\\xdb\\x1e\\x1f\\xfb.\\xd9\"\\x90\\x8ff<\\xfe\\xb4\\xf5\\xdd\"t\\xd9\\xb3\\xdbt\\xff\\x00\\x88\\x9e86\\x02}GH\\xd1-ey\\x84\\x89\\x15\\xc5\\xf7\\xd9\\xd8\\xc4G\\xdd\\xdarA\\xe8r\\x7f*\\xd2\\xb2\\xf1\\x05\\xfe\\xaf2\\xae\\xa9\\xf6U\\xba14\\x82;m\\xc4$~c(\\xcb\\x1e\\xbe\\x80\\x8e\\xa0f\\xbcB\\xd7\\xc5~\\x1f\\xb5\\x0b\\x1d\\x8f\\x87\\xe1\\x9e\\xe6C\\x99o\\xb5\\xa9|\\xe2O\\xa9\\x00\\x7f*\\xf4\\x7f\\x0cj\\x96:\\x96\\xa1\\x05\\xdd\\x9c\\xf6O\\'\\xd8\\x85\\xb5\\xcc\\x16\\x84\\xed\\x84\\xab\\x96B\\xa0\\x80v\\x9c\\xb0\\xe9\\xc7\\x15\\xc1\\x8c\\x95GM\\xa9-\\x0e\\xdc,i\\xf3\\xa6\\xb7:\\xcd(\\xe7\\xe2\\x8e\\x8f\\xff\\x00`\\xcb\\xcf\\xfd\\x0e*\\xf4\\xea\\xf2\\xed\\x19\\xb7|P\\xd20r?\\xb3.\\xff\\x00\\xf48\\xab\\xd4k\\xa3\\x01\\xfe\\xef\\x1f\\xeb\\xa9\\xcf\\x8b\\xfe4\\xbf\\xae\\x81E\\x14WY\\xcc\\x14QE\\x00\\x14QE\\x00\\x14QE\\x00\\x14QE\\x00\\x15\\x85\\xe3_\\xf9\\x11u\\xff\\x00\\xfb\\x07\\xcf\\xff\\x00\\xa0\\x1a\\xdd\\xac/\\x1a\\xff\\x00\\xc8\\x8b\\xaf\\xff\\x00\\xd8>\\x7f\\xfd\\x00\\xd0\\x07\\x0f\\xe1\\x9b\\x92\\xde\\r\\xd1\\x10\\xf2V\\xc2\\x01\\x93\\xe9\\xb0V\\x81e\\xef\\xb6\\xb0\\xfc2\\xc0\\xf8SG\\xc1\\xff\\x00\\x97\\x18{\\xff\\x00\\xb0+I\\xe3V\\xf653\\x9bz\\x1d\\x91Z\\r\\xbf\\x9a\\xda;\\x1b\\x89.\\n\\x88Q\\x0b\\xb9\\x038\\x0b\\xce\\x7fJ\\xe4\\x12\\xd3ZM~+]:\\xe2\\x0f\\xecAj\\xb2\\xc8.!\\xf3\\x12FyY\\x8e\\xdc\\x7f\\x16\\x08\\xe7>\\x95\\xd3\\xc8\\xa0nF\\xc3\\x020A\\xe4\\x11X\\xdf\\xf0\\x8di^_\\x93\\xe5\\xdc\\x0b\\x7f\\xf9\\xf6\\x172\\x08\\xbe\\x9b7c\\x1e\\xdd+\\x96SKsNF\\xf62\\xbcI\\xae\\xf8?R\\xf3lu(\\xe1\\xbb\\xb9\\x87\\x81\\x1b0\\x8d\\xff\\x00\\xe0\\x12\\x13\\x8c\\xfbdW\\x8ek\\xd0ZA~V\\xc6\\xd2\\xfa\\xd6\\x03\\xc8K\\xb6\\x0c~\\xa0\\x80\\x06??\\xad}\\x0b\\x1e\\x9b\\xa7E\\x07\\x90\\x9a}\\xa2\\xc3\\x8cl\\x10.1\\xf4\\xc5f\\xdc\\xf8CG\\x9dYa\\x85\\xedCuX\\x1b\\t\\xff\\x00|\\x1c\\xaf\\xe9Q\\x0cD!\\xa6\\xa3\\xa9\\x87\\x9c\\xfb\\x1f<)\\n\\xc0\\x91\\x91\\x9eG\\xadI;G,\\xcc\\xd0\\xc5\\xe5\\xa1\\xe8\\x9b\\xb7c\\xf15\\xeb\\xb7\\xbf\\x0c\\x12V-owh\\xc3\\xb2\\xcdi\\xb3\\xf5\\x8d\\x87\\xf2\\xaa\\xf6\\xff\\x00\\x0e/\\xed\\xa4\\x05a\\xd0Xz\\xc9\\x1c\\xcf\\xfa\\x16\\xc5k\\xf5\\xca6\\xbd\\xce\\x7f\\xaaU\\xbd\\xacy\\xde\\x89\\xe1\\xfb\\xddrr\\xb0(\\x8e\\xde>g\\xba\\x90\\xed\\x8e\\x15\\xeeY\\xbf\\xa7Z\\xee\\xfc\\x1d\\x06\\x8d\\xe1\\x8dz\\xefS\\x97Z\\x81\\xe3Thm\\xed\\xe1-$\\xb2\\x82G$\\x01\\xd4\\xe38\\xf7\\xf6\\xae\\xbe\\xdb\\xc2rJ!McP\\x17V\\xd0\\xb0t\\xb2\\xb7\\x81`\\xb7\\x0c:\\x12\\xa3\\x96\\xfck\\xa8\\xdc3\\x9c\\x0c\\xf4\\xcdy\\xb8\\xac\\xc6-8-S\\xed\\xff\\x00\\x0cw\\xe1\\xf0-5\\'\\xba2\\xfe\\x1e\\xcdsq\\xe3=\\x12[\\xbbim\\xe4k\\x0b\\xf6X\\xe5?>\\xc34eK{\\xe0\\xd7\\xb5\\xd7\\x94x|\\xe7\\xe2\\x86\\x95\\xff\\x00`\\xcb\\xbf\\xfd\\x0e*\\xf5z\\xf4p3\\xe7\\xa1\\x19Z\\xd7\\xbf\\xe6\\xce\\x0c\\\\yk5\\xe9\\xf9\\x05\\x14Q]g0QE\\x14\\x00QE\\x14\\x00QE\\x14\\x00QE\\x14\\x00V\\x17\\x8dy\\xf06\\xbc\\x07\\xfd\\x03\\xe7\\xff\\x00\\xd0\\rn\\xd4s\\xc4\\x93\\xc1$2(h\\xddJ\\xb2\\x9e\\xe0\\xf0E\\x00x\\xc7\\x87P?\\x85t\\x86C\\x83\\xf6(y\\x1d\\xfeAW\\x84\\xf2/\\x1b\\x8ek\\x9f\\xc4\\xbf\\x0e\\xf5w\\xf0\\xee\\xb0\\x1d4\\xa6\\x90\\x9d3Qq\\xfb\\xb6Bs\\xe5\\xb3t\\x0c9\\xff\\x00\\xf5b\\xb4f\\xd5\\xf4\\xc2\\xe1\\x92\\xfe\\xd4\\xe4s\\x89\\x97\\xf3\\xeb\\\\\\xf3\\xba;\\xe98\\xb8\\x97\\xbc\\xc2\\xc4\\x92ri7f\\xa8.\\xad\\xa7\\x81\\xcd\\xf5\\xa9>\\xber\\xff\\x00\\x8d \\xd5l?\\xe7\\xfa\\xd7\\xfe\\xff\\x00/\\xf8\\xd7-K\\x9d\\x10\\xb1\\xa3\\xba\\x94\\x1a\\xcf\\x1a\\xad\\x87\\xfc\\xff\\x00Z\\xff\\x00\\xdf\\xe5\\xff\\x00\\x1ap\\xd5l?\\xe7\\xfe\\xd7\\xfe\\xff\\x00/\\xf8\\xd7\\x1c\\xe2\\xfb\\x1b\\xc5\\xae\\xe5\\xec\\xd2\\xe6\\xa8\\xff\\x00ji\\xff\\x00\\xf3\\xff\\x00k\\xff\\x00\\x7f\\x97\\xfci\\xc3T\\xd3\\xff\\x00\\xe7\\xfe\\xd7\\xfe\\xff\\x00\\xaf\\xf8\\xd7$\\xe3.\\xc6\\xf1\\x92\\xee]\\xcd\\x19\\xaa\\x7f\\xda\\x9a\\x7f\\xfc\\xff\\x00\\xda\\xff\\x00\\xdf\\xf5\\xff\\x00\\x1a\\xa9\\xa8x\\x97H\\xd3m\\xcc\\xb3_B\\xecxH\\xa1p\\xef!\\xec\\x15GS\\\\\\x92\\xa59;$\\xcd\\x95HE]\\xb3c\\xc3\\x8c\\x0f\\xc5\\x1d,ddi\\x97G\\x1f\\xf08\\xab\\xd6\\xab\\xcd\\xfe\\x1bxcQ\\x8e\\xf2\\xe7\\xc5z\\xf4?g\\xbf\\xbc\\x88Ckhz\\xdbA\\x9c\\xe1\\xbf\\xdac\\x82k\\xd2+\\xea\\xf0teF\\x84i\\xcbt|\\xde*\\xa2\\xabZS\\x8e\\xc1E\\x14WI\\x80QE\\x14\\x00QE\\x14\\x00QE\\x14\\x00QE\\x14\\x00QE\\x14\\x01^\\xf6\\xc6\\xd3P\\xb6k{\\xdbhn`o\\xbd\\x14\\xc8\\x1dO\\xe0k\\'\\xfe\\x10\\xbf\\n\\xff\\x00\\xd0\\xb7\\xa4\\x7f\\xe0\\x14\\x7f\\xe1E\\x14\\x00\\x7f\\xc2\\x15\\xe1_\\xfa\\x16\\xf4\\x8f\\xfc\\x02\\x8f\\xfc)?\\xe1\\n\\xf0\\xaf\\xfd\\x0bZG\\xfe\\x01G\\xfe\\x14Q@\\x0b\\xff\\x00\\x08W\\x85\\x7f\\xe8[\\xd2?\\xf0\\n?\\xf0\\xa3\\xfe\\x10\\xaf\\n\\xff\\x00\\xd0\\xb7\\xa4\\x7f\\xe0\\x14\\x7f\\xe1E\\x14\\x00\\x7f\\xc2\\x15\\xe1_\\xfa\\x16\\xf4\\x8f\\xfc\\x02\\x8f\\xfc(\\xff\\x00\\x84+\\xc2\\xbf\\xf4-\\xe9\\x1f\\xf8\\x05\\x1f\\xf8QE\\x00\\x1f\\xf0\\x85xW\\xfe\\x85\\xbd#\\xff\\x00\\x00\\xa3\\xff\\x00\\n\\x9a\\xd3\\xc2\\xde\\x1e\\xb0\\xb9K\\x8b=\\x0fM\\xb7\\x9d\\x0eVH\\xadQY~\\x84\\n(\\xa0\\r\\x8e\\x94QE\\x00\\x14QE\\x00\\x14QE\\x00\\x14QE\\x00\\x7f\\xff\\xd9'\n"
          ]
        },
        {
          "output_type": "display_data",
          "data": {
            "image/jpeg": "[encoded data removed]",
            "text/plain": [
              "<IPython.core.display.Image object>"
            ]
          },
          "metadata": {}
        },
        {
          "output_type": "stream",
          "name": "stdout",
          "text": [
            "Category ID tf.Tensor(1000010653, shape=(), dtype=int64) \n",
            "Product ID- tf.Tensor(0, shape=(), dtype=int64)\n"
          ]
        }
      ]
    },
    {
      "cell_type": "markdown",
      "source": [
        "#ROUGH WORK"
      ],
      "metadata": {
        "id": "-moA_xMUZPBM"
      }
    },
    {
      "cell_type": "code",
      "source": [
        "def decode_image(image_data):\n",
        "    image = tf.image.decode_jpeg(image_data, channels=3)\n",
        "    image = tf.cast(image, tf.float32)  # \n",
        "    image = tf.image.resize(image,[180, 180])\n",
        "    return image\n",
        "\n",
        "def read_labeled_tfrecord(example):\n",
        "    LABELED_TFREC_FORMAT = {\n",
        "        \n",
        "        ####################################################3\n",
        "        'height': tf.io.FixedLenFeature([], tf.int64),\n",
        "        'width':tf.io.FixedLenFeature([], tf.int64),\n",
        "        'depth':tf.io.FixedLenFeature([], tf.int64),\n",
        "        'category_id':tf.io.FixedLenFeature([], tf.int64),      \n",
        "        'product_id':tf.io.FixedLenFeature([], tf.int64),\n",
        "        'img_raw' : tf.io.FixedLenFeature([], tf.string)\n",
        "    }\n",
        "    example = tf.io.parse_single_example(example, LABELED_TFREC_FORMAT)\n",
        "    # image = decode_image(example['img_raw'])\n",
        "    image = tf.io.parse_tensor(image_features['img_raw'],out_type=tf.string).numpy()\n",
        "    display.display(display.Image(data=image))\n",
        "\n",
        "\n",
        "    \n",
        "    label = example['category_id']\n",
        "    return image, label # returns a dataset of (image, label) pairs\n",
        "\n",
        "\n",
        "\n",
        "def load_dataset(filenames, labeled=True, ordered=False):\n",
        "    # Read from TFRecords. For optimal performance, reading from multiple files at once and\n",
        "    # disregarding data order. Order does not matter since we will be shuffling the data anyway.\n",
        "\n",
        "    ignore_order = tf.data.Options()\n",
        "    if not ordered:\n",
        "        ignore_order.experimental_deterministic = False # disable order, increase speed\n",
        "\n",
        "    dataset = tf.data.TFRecordDataset(filenames, num_parallel_reads=tf.data.AUTOTUNE) # automatically interleaves reads from multiple files\n",
        "    dataset = dataset.with_options(ignore_order) # uses data as soon as it streams in, rather than in its original order\n",
        "    dataset = dataset.map(read_labeled_tfrecord)\n",
        "    # returns a dataset of (image, label) pairs if labeled=True or (image, id) pairs if labeled=False\n",
        "    return dataset\n",
        "\n",
        "\n",
        "data_dir = \"../cdiscount/\"\n",
        "\n",
        "train_tfrecord_path = os.path.join(data_dir, \"train_TFrecords.tfrecords\")\n",
        "\n",
        "Total_dataset = load_dataset(train_tfrecord_path)\n",
        "\n",
        "\n",
        "\n",
        "##################################################\n",
        "Total_Images=7069896\n",
        "train_split = 0.6\n",
        "validation_split = 0.2\n",
        "\n",
        "num_train_images = int(Total_Images * train_split)\n",
        "num_validation_images = int(Total_Images * validation_split)\n",
        "\n",
        "train_dataset = Total_dataset.take(num_train_images)\n",
        "validation_dataset = Total_dataset.skip(num_train_images).take(num_validation_images)\n",
        "test_dataset = Total_dataset.skip(num_train_images + num_validation_images)\n",
        "\n",
        "\n",
        "train_dataset=train_dataset.shuffle(buffer_size=1000).batch(batch_size=128).prefetch(buffer_size=tf.data.AUTOTUNE)\n",
        "validation_dataset=validation_dataset.shuffle(buffer_size=1000).batch(batch_size=128).prefetch(buffer_size=tf.data.AUTOTUNE)"
      ],
      "metadata": {
        "id": "ba1rDDH6ZSFv"
      },
      "execution_count": 21,
      "outputs": []
    },
    {
      "cell_type": "markdown",
      "source": [
        "##Testing-2"
      ],
      "metadata": {
        "id": "5i45vPTjR0Az"
      }
    },
    {
      "cell_type": "code",
      "source": [
        "#Reading Tfrecord file\n",
        "import IPython.display as display\n",
        "\n",
        "data_dir = \"../cdiscount/\"\n",
        "\n",
        "train_tfrecord_path = os.path.join(data_dir, \"train_TFrecords.tfrecords\")\n",
        "\n",
        "\n",
        "raw_dataset = tf.data.TFRecordDataset(train_tfrecord_path,num_parallel_reads=tf.data.AUTOTUNE)\n",
        "\n",
        "\n",
        "\n",
        "DATASET_SIZE=1232287\n",
        "\n",
        "\n",
        "################################################Train/Validation Split############################\n",
        "train_size = int(0.7 * DATASET_SIZE)\n",
        "val_size = int(0.15 * DATASET_SIZE)\n",
        "test_size = int(0.15 * DATASET_SIZE)\n",
        "\n",
        "full_dataset = tf.data.TFRecordDataset(train_tfrecord_path)\n",
        "print(\"Full_dataset-\",full_dataset)\n",
        "# full_dataset = full_dataset.shuffle(buffer_size=1000)\n",
        "train_dataset = full_dataset.take(train_size)\n",
        "print('TFREC-',train_dataset)\n",
        "test_dataset = full_dataset.skip(train_size)\n",
        "# val_dataset = test_dataset.skip(val_size)\n",
        "# test_dataset = test_dataset.take(test_size)\n",
        "\n",
        "#################################\n",
        "\n",
        "#############################################################################################\n",
        "\n",
        "from PIL import Image\n",
        "def parse_tfr_element(element,img_shape=180):\n",
        "  #use the same structure as above; it's kinda an outline of the structure we now want to create\n",
        "  data = {\n",
        "      'height': tf.io.FixedLenFeature([], tf.int64),\n",
        "      'width':tf.io.FixedLenFeature([], tf.int64),\n",
        "      'depth':tf.io.FixedLenFeature([], tf.int64),\n",
        "      'category_id':tf.io.FixedLenFeature([], tf.int64),      \n",
        "      'product_id':tf.io.FixedLenFeature([], tf.int64),\n",
        "      'img_raw' : tf.io.FixedLenFeature([], tf.string)\n",
        "          }    \n",
        "  \n",
        "  content = tf.io.parse_single_example(element, data) \n",
        "  \n",
        "  height = content['height']\n",
        "  width = content['width']\n",
        "  depth = content['depth']\n",
        "  label = content['category_id']\n",
        "  product_id = content['product_id']\n",
        "  img_raw = content['img_raw']\n",
        "      \n",
        "  \n",
        "  #get our 'feature'-- our image -- and reshape it appropriately\n",
        "  # image = tf.io.parse_tensor(img_raw,tf.uint8)\n",
        "  # image =tf.io.decode_raw(img_raw,tf.uint8,fixed_length=97200)\n",
        "  image = tf.io.parse_tensor(image_features['img_raw'],out_type=tf.string)\n",
        "\n",
        "  display.display(display.Image(data=image))\n",
        "\n",
        "  image = tf.cast(image, tf.float32)\n",
        "  image = tf.reshape(image, [180, 180, 3])\n",
        "  display.display(display.Image(data=image))\n",
        "\n",
        "\n",
        "  \n",
        "  return (image, label)\n",
        "\n",
        "\n",
        "\n",
        "##########################################################################################\n",
        "\n",
        "\n",
        "def get_dataset_small(filename):\n",
        "  #create the dataset\n",
        "  dataset = tf.data.TFRecordDataset(filename)\n",
        "\n",
        "  #pass every single feature through our mapping function\n",
        "  dataset = dataset.map(parse_tfr_element,num_parallel_calls=tf.data.AUTOTUNE)\n",
        "    \n",
        "  return dataset\n",
        "\n",
        "################################################################################################\n",
        "\n",
        "train_tfrecord_path = os.path.join(data_dir, \"train_TFrecords.tfrecords\")\n",
        "Total_dataset = get_dataset_small(train_tfrecord_path)\n",
        "# train_data = get_dataset_small(train_dataset)\n",
        "\n",
        "\n",
        "#Splitting the data \n",
        "\n",
        "#Total Images in train bson= 12371293\n",
        "\n",
        "Total_Images=12371293\n",
        "train_split = 0.6\n",
        "validation_split = 0.2\n",
        "\n",
        "num_train_images = int(Total_Images * train_split)\n",
        "num_validation_images = int(Total_Images * validation_split)\n",
        "\n",
        "train_dataset = Total_dataset.take(num_train_images)\n",
        "validation_dataset = Total_dataset.skip(num_train_images).take(num_validation_images)\n",
        "test_dataset = Total_dataset.skip(num_train_images + num_validation_images)\n",
        "\n",
        "\n",
        "train_dataset=train_dataset.shuffle(buffer_size=1000).batch(batch_size=128).prefetch(buffer_size=tf.data.AUTOTUNE)\n",
        "validation_dataset=validation_dataset.shuffle(buffer_size=1000).batch(batch_size=128).prefetch(buffer_size=tf.data.AUTOTUNE)\n",
        "\n",
        "# for image, label in validation_dataset.take(1):\n",
        "#   print(image[0].shape)\n",
        "#   print(image[1].shape)\n",
        "#   print(image)\n",
        "#   print(label)\n",
        "#   # print(sample[0][1])\n",
        "#   # print(sample[1][0])\n",
        "\n",
        "\n",
        "\n",
        "# for sample in Total_dataset.take(1):\n",
        "#   print(sample[0].shape)\n",
        "#   print(sample[1].shape)\n",
        "#   print(sample[0][1])\n",
        "#   print(sample[1][0])\n",
        "\n",
        "\n",
        "########################################################################################\n",
        "\n",
        "\n",
        "\n",
        "################################################################################################\n",
        "\n",
        "# train_tfrecord_path = os.path.join(data_dir, \"train_TFrecords.tfrecords\")\n",
        "# train_data = get_dataset_small(train_tfrecord_path)\n",
        "# print(\"Data before shuffle and batching- \", train_data)\n",
        "\n",
        "# print(\"\\nData before shuffle and batching-USING TAKE- \", train_data.take(1))\n",
        "\n",
        "# # train_data=train_data.shuffle(buffer_size=1000).batch(batch_size=128).prefetch(buffer_size=tf.data.AUTOTUNE)\n",
        "# # print(\"\\nData AFTER shuffle and batching- \", train_data)\n",
        "\n",
        "# for image, label in train_data.take(1):\n",
        "#   print(image[0].shape)\n",
        "#   print(image[1].shape)\n",
        "#   print(image)\n",
        "#   print(label)\n",
        "#   # print(sample[0][1])\n",
        "#   # print(sample[1][0])\n",
        "\n",
        "\n",
        "########################################################################################\n"
      ],
      "metadata": {
        "colab": {
          "base_uri": "https://localhost:8080/",
          "height": 141
        },
        "id": "LpXcZw6_Ryug",
        "outputId": "0c86ae85-dcbc-409e-d808-37eebe76d3ab"
      },
      "execution_count": 19,
      "outputs": [
        {
          "output_type": "stream",
          "name": "stdout",
          "text": [
            "Full_dataset- <TFRecordDatasetV2 shapes: (), types: tf.string>\n",
            "TFREC- <TakeDataset shapes: (), types: tf.string>\n"
          ]
        },
        {
          "output_type": "stream",
          "name": "stderr",
          "text": [
            "/usr/local/lib/python3.7/dist-packages/IPython/core/formatters.py:364: FormatterWarning: image/png formatter returned invalid type <class 'tensorflow.python.framework.ops.Tensor'> (expected (<class 'bytes'>, <class 'str'>)) for object: <IPython.core.display.Image object>\n",
            "  FormatterWarning\n"
          ]
        },
        {
          "output_type": "display_data",
          "data": {
            "text/plain": [
              "<IPython.core.display.Image object>"
            ]
          },
          "metadata": {}
        },
        {
          "output_type": "display_data",
          "data": {
            "text/plain": [
              "<IPython.core.display.Image object>"
            ]
          },
          "metadata": {}
        }
      ]
    },
    {
      "cell_type": "markdown",
      "source": [
        "# New Section"
      ],
      "metadata": {
        "id": "EAdA94pFxHvG"
      }
    },
    {
      "cell_type": "markdown",
      "source": [
        "To create a dataset out of the parse elements, we simply leverage the tf.data API. We create a TFRecordDataset by pointing it to the TFRecord file on our disk and then apply our previous parsing function to every extracted Example. This returns a dataset:"
      ],
      "metadata": {
        "id": "I-WbwXSRi9OX"
      }
    },
    {
      "cell_type": "markdown",
      "source": [
        "#Create modelling callbacks\n"
      ],
      "metadata": {
        "id": "cTSApKeXhxuC"
      }
    },
    {
      "cell_type": "code",
      "source": [
        "\n",
        "# Get helper_functions.py script from course GitHub\n",
        "!wget https://raw.githubusercontent.com/sarthakkaushik/Cdiscount-Image-Classification/main/helper.py\n",
        "\n",
        "# Import helper functions we're going to use\n",
        "from helper import create_tensorboard_callback, plot_loss_curves, unzip_data, walk_through_dir\n",
        "\n",
        "dir_name = '/gdrive/MyDrive/UOH Assignment Dataset/cdiscount/Tensorboard'\n",
        "def create_tensorboard_callback(experiment_name):\n",
        "  log_dir = dir_name + \"/\" + experiment_name + \"/\" + datetime.datetime.now().strftime(\"%Y%m%d-%H%M%S\")\n",
        "  tensorboard_callback = tf.keras.callbacks.TensorBoard(\n",
        "      log_dir=log_dir\n",
        "  )\n",
        "  print(f\"Saving TensorBoard log files to: {log_dir}\")\n",
        "  return tensorboard_callback\n",
        "\n",
        "# Setup checkpoint path\n",
        "checkpoint_path = '/gdrive/MyDrive/UOH Assignment Dataset/cdiscount/CheckPoints/EfficientNet/Efficient_Tfrecord_test.ckpt' # note: remember saving directly to Colab is temporary\n",
        "\n",
        "# Create a ModelCheckpoint callback that saves the model's weights only\n",
        "checkpoint_callback = tf.keras.callbacks.ModelCheckpoint(filepath=checkpoint_path,\n",
        "                                                         save_weights_only=True, # set to False to save the entire model\n",
        "                                                         save_best_only=False, # set to True to save only the best model instead of a model every epoch \n",
        "                                                         save_freq=\"epoch\", # save every epoch\n",
        "                                                         verbose=1)"
      ],
      "metadata": {
        "id": "iB__IfLIh4zz",
        "outputId": "75dddb23-dfd2-4160-f897-2e26ddfa1836",
        "colab": {
          "base_uri": "https://localhost:8080/"
        }
      },
      "execution_count": 11,
      "outputs": [
        {
          "output_type": "stream",
          "name": "stdout",
          "text": [
            "--2022-01-15 05:22:17--  https://raw.githubusercontent.com/sarthakkaushik/Cdiscount-Image-Classification/main/helper.py\n",
            "Resolving raw.githubusercontent.com (raw.githubusercontent.com)... 185.199.108.133, 185.199.109.133, 185.199.110.133, ...\n",
            "Connecting to raw.githubusercontent.com (raw.githubusercontent.com)|185.199.108.133|:443... connected.\n",
            "HTTP request sent, awaiting response... 200 OK\n",
            "Length: 10510 (10K) [text/plain]\n",
            "Saving to: ‘helper.py.10’\n",
            "\n",
            "\rhelper.py.10          0%[                    ]       0  --.-KB/s               \rhelper.py.10        100%[===================>]  10.26K  --.-KB/s    in 0.002s  \n",
            "\n",
            "2022-01-15 05:22:18 (4.43 MB/s) - ‘helper.py.10’ saved [10510/10510]\n",
            "\n"
          ]
        }
      ]
    },
    {
      "cell_type": "code",
      "source": [
        "# Turn on mixed precision training\n",
        "from tensorflow.keras import mixed_precision\n",
        "mixed_precision.set_global_policy(policy=\"mixed_float16\") # set global policy to mixed precision \n",
        "\n",
        "mixed_precision.global_policy() # should output \"mixed_float16\""
      ],
      "metadata": {
        "id": "VOMKHjvjh42m",
        "outputId": "754fbf2e-0c32-4dc1-e959-0312f5e72d78",
        "colab": {
          "base_uri": "https://localhost:8080/"
        }
      },
      "execution_count": 12,
      "outputs": [
        {
          "output_type": "stream",
          "name": "stdout",
          "text": [
            "WARNING:tensorflow:Mixed precision compatibility check (mixed_float16): WARNING\n",
            "Your GPU may run slowly with dtype policy mixed_float16 because it does not have compute capability of at least 7.0. Your GPU:\n",
            "  Tesla P100-PCIE-16GB, compute capability 6.0\n",
            "See https://developer.nvidia.com/cuda-gpus for a list of GPUs and their compute capabilities.\n",
            "If you will use compatible GPU(s) not attached to this host, e.g. by running a multi-worker model, you can ignore this warning. This message will only be logged once\n"
          ]
        },
        {
          "output_type": "execute_result",
          "data": {
            "text/plain": [
              "<Policy \"mixed_float16\">"
            ]
          },
          "metadata": {},
          "execution_count": 12
        }
      ]
    },
    {
      "cell_type": "markdown",
      "source": [
        "##Build feature extraction model"
      ],
      "metadata": {
        "id": "G7di2EACi-Vq"
      }
    },
    {
      "cell_type": "code",
      "source": [
        "from tensorflow.keras import layers\n",
        "from tensorflow.keras.layers.experimental import preprocessing\n",
        "\n",
        "\n",
        "num_classes = 5270\n",
        "# Create base model\n",
        "input_shape = (180, 180, 3)\n",
        "base_model = tf.keras.applications.EfficientNetB7(include_top=False)\n",
        "base_model.trainable = False # freeze base model layers\n",
        "\n",
        "# Create Functional model \n",
        "inputs = layers.Input(shape=input_shape, name=\"input_layer\", dtype=tf.float16)\n",
        "# Note: EfficientNetBX models have rescaling built-in but if your model didn't you could have a layer like below\n",
        "# x = preprocessing.Rescaling(1./255)(x)\n",
        "x = base_model(inputs, training=False) # set base_model to inference mode only\n",
        "x = layers.GlobalAveragePooling2D(name=\"pooling_layer\")(x)\n",
        "x = layers.Dense(num_classes)(x) # want one output neuron per class \n",
        "# Separate activation of output layer so we can output float32 activations\n",
        "outputs = layers.Activation(\"softmax\", dtype=tf.float32, name=\"softmax_float32\")(x) \n",
        "model = tf.keras.Model(inputs, outputs)\n",
        "\n",
        "# Compile the model\n",
        "model.compile(loss=\"sparse_categorical_crossentropy\", # Use sparse_categorical_crossentropy when labels are *not* one-hot\n",
        "              optimizer=tf.keras.optimizers.Adam(),\n",
        "              metrics=[\"accuracy\"])"
      ],
      "metadata": {
        "id": "zAhkbyqih45L",
        "outputId": "e2dbd4e2-e42e-447e-82e7-ca53df157f3e",
        "colab": {
          "base_uri": "https://localhost:8080/"
        }
      },
      "execution_count": 13,
      "outputs": [
        {
          "output_type": "stream",
          "name": "stdout",
          "text": [
            "Downloading data from https://storage.googleapis.com/keras-applications/efficientnetb7_notop.h5\n",
            "258080768/258076736 [==============================] - 2s 0us/step\n",
            "258088960/258076736 [==============================] - 2s 0us/step\n"
          ]
        }
      ]
    },
    {
      "cell_type": "code",
      "source": [
        "# Check out our model\n",
        "model.summary()"
      ],
      "metadata": {
        "id": "ZaMbOn3qh47v",
        "outputId": "f2ae2acd-6b48-43ed-9502-0a955eb9b2cc",
        "colab": {
          "base_uri": "https://localhost:8080/"
        }
      },
      "execution_count": 14,
      "outputs": [
        {
          "output_type": "stream",
          "name": "stdout",
          "text": [
            "Model: \"model\"\n",
            "_________________________________________________________________\n",
            " Layer (type)                Output Shape              Param #   \n",
            "=================================================================\n",
            " input_layer (InputLayer)    [(None, 180, 180, 3)]     0         \n",
            "                                                                 \n",
            " efficientnetb7 (Functional)  (None, None, None, 2560)  64097687 \n",
            "                                                                 \n",
            " pooling_layer (GlobalAverag  (None, 2560)             0         \n",
            " ePooling2D)                                                     \n",
            "                                                                 \n",
            " dense (Dense)               (None, 5270)              13496470  \n",
            "                                                                 \n",
            " softmax_float32 (Activation  (None, 5270)             0         \n",
            " )                                                               \n",
            "                                                                 \n",
            "=================================================================\n",
            "Total params: 77,594,157\n",
            "Trainable params: 13,496,470\n",
            "Non-trainable params: 64,097,687\n",
            "_________________________________________________________________\n"
          ]
        }
      ]
    },
    {
      "cell_type": "code",
      "source": [
        "#Checking layer dtype policies (are we using mixed precision?)\n",
        "\n",
        "# Check the dtype_policy attributes of layers in our model\n",
        "for layer in model.layers:\n",
        "  print(layer.name, layer.trainable, layer.dtype, layer.dtype_policy) # Check the dtype policy of layers"
      ],
      "metadata": {
        "id": "QqOCiccXh4-J",
        "outputId": "26692282-56df-4f73-b483-8170d6fd039f",
        "colab": {
          "base_uri": "https://localhost:8080/"
        }
      },
      "execution_count": 15,
      "outputs": [
        {
          "output_type": "stream",
          "name": "stdout",
          "text": [
            "input_layer True float16 <Policy \"float16\">\n",
            "efficientnetb7 False float32 <Policy \"mixed_float16\">\n",
            "pooling_layer True float32 <Policy \"mixed_float16\">\n",
            "dense True float32 <Policy \"mixed_float16\">\n",
            "softmax_float32 True float32 <Policy \"float32\">\n"
          ]
        }
      ]
    },
    {
      "cell_type": "code",
      "source": [
        "# Fit the model with callbacks\n",
        "tf_history_1 = model.fit(train_dataset, \n",
        "                         epochs=3,\n",
        "                         validation_data=validation_dataset,\n",
        "                         callbacks=[checkpoint_callback,create_tensorboard_callback(\"efficientnetb7_Tfrecord_feature_extract\")])"
      ],
      "metadata": {
        "id": "N0KOrv3th5AV",
        "outputId": "a36a1b8b-baa9-4dfe-f061-0cc94349cf0e",
        "colab": {
          "base_uri": "https://localhost:8080/"
        }
      },
      "execution_count": null,
      "outputs": [
        {
          "output_type": "stream",
          "name": "stdout",
          "text": [
            "Saving TensorBoard log files to: /gdrive/MyDrive/UOH Assignment Dataset/cdiscount/Tensorboard/efficientnetb7_Tfrecord_feature_extract/20220115-052435\n"
          ]
        },
        {
          "output_type": "stream",
          "name": "stderr",
          "text": [
            "/usr/local/lib/python3.7/dist-packages/keras/engine/functional.py:1410: CustomMaskWarning: Custom mask layers require a config and must override get_config. When loading, the custom mask layer must be passed to the custom_objects argument.\n",
            "  layer_config = serialize_layer_fn(layer)\n"
          ]
        },
        {
          "output_type": "stream",
          "name": "stdout",
          "text": [
            "Epoch 1/3\n",
            "    448/Unknown - 210s 393ms/step - loss: nan - accuracy: 0.0000e+00"
          ]
        }
      ]
    },
    {
      "cell_type": "code",
      "source": [
        ""
      ],
      "metadata": {
        "id": "Cl26YaIah5Ce"
      },
      "execution_count": null,
      "outputs": []
    },
    {
      "cell_type": "code",
      "source": [
        "train_one_sample=dataset.take(1)\n",
        "# Output info about our training sample\n",
        "for image, label in train_one_sample:\n",
        "  print(f\"\"\"\n",
        "  Image shape: {image.shape}\n",
        "  Image dtype: {image.dtype}\n",
        "  Target class from Food101 (tensor form): {label}\n",
        "  \n",
        "        \"\"\")\n",
        "  # print(image)\n",
        "  print(tf.reduce_min(image), tf.reduce_max(image))\n",
        "  print(tf.squeeze())\n",
        "  plt.imshow(image)\n",
        "  # plt.title(class_names[label.numpy()]) # add title to image by indexing on class_names list\n",
        "  plt.axis(False);"
      ],
      "metadata": {
        "id": "XW6x0b7VibiI",
        "outputId": "9b8cf192-8e7e-4743-d3cb-e7dff226f01d",
        "colab": {
          "base_uri": "https://localhost:8080/",
          "height": 1000
        }
      },
      "execution_count": null,
      "outputs": [
        {
          "output_type": "stream",
          "name": "stdout",
          "text": [
            "\n",
            "  Image shape: (128, 180, 180, 3)\n",
            "  Image dtype: <dtype: 'float32'>\n",
            "  Target class from Food101 (tensor form): [1000003983 1000010653 1000010653 1000007590 1000010653 1000004085\n",
            " 1000010653 1000010653 1000010667 1000010653 1000010653 1000010653\n",
            " 1000010653 1000008933 1000016258 1000018705 1000010667 1000010722\n",
            " 1000009591 1000010667 1000010653 1000004085 1000010635 1000010653\n",
            " 1000008094 1000010667 1000010653 1000010667 1000010635 1000011423\n",
            " 1000010661 1000004079 1000010653 1000010667 1000010653 1000010108\n",
            " 1000010653 1000010661 1000010661 1000004079 1000014217 1000010793\n",
            " 1000021533 1000010653 1000010136 1000004085 1000010108 1000002852\n",
            " 1000010667 1000010667 1000010653 1000004079 1000010538 1000005956\n",
            " 1000010653 1000010645 1000011566 1000010645 1000011566 1000010667\n",
            " 1000010653 1000003796 1000010653 1000010667 1000010653 1000021535\n",
            " 1000004184 1000010683 1000010653 1000005956 1000010653 1000005956\n",
            " 1000010100 1000021535 1000010653 1000016093 1000016980 1000010667\n",
            " 1000010653 1000010645 1000010667 1000010667 1000005760 1000005796\n",
            " 1000005796 1000018294 1000010653 1000010653 1000005326 1000010667\n",
            " 1000008535 1000010667 1000005910 1000010653 1000005732 1000010136\n",
            " 1000012993 1000010653 1000014287 1000010053 1000010661 1000004079\n",
            " 1000010653 1000010653 1000005796 1000010653 1000010667 1000015309\n",
            " 1000010647 1000010667 1000004141 1000010667 1000010653 1000010053\n",
            " 1000010667 1000004079 1000002615 1000010653 1000010653 1000010667\n",
            " 1000010647 1000010653 1000014219 1000015309 1000021533 1000012989\n",
            " 1000010653 1000018284]\n",
            "  \n",
            "        \n",
            "tf.Tensor(0.0, shape=(), dtype=float32) tf.Tensor(255.0, shape=(), dtype=float32)\n"
          ]
        },
        {
          "output_type": "error",
          "ename": "TypeError",
          "evalue": "ignored",
          "traceback": [
            "\u001b[0;31m---------------------------------------------------------------------------\u001b[0m",
            "\u001b[0;31mTypeError\u001b[0m                                 Traceback (most recent call last)",
            "\u001b[0;32m<ipython-input-30-7247ef7d8090>\u001b[0m in \u001b[0;36m<module>\u001b[0;34m()\u001b[0m\n\u001b[1;32m     10\u001b[0m   \u001b[0;31m# print(image)\u001b[0m\u001b[0;34m\u001b[0m\u001b[0;34m\u001b[0m\u001b[0;34m\u001b[0m\u001b[0m\n\u001b[1;32m     11\u001b[0m   \u001b[0mprint\u001b[0m\u001b[0;34m(\u001b[0m\u001b[0mtf\u001b[0m\u001b[0;34m.\u001b[0m\u001b[0mreduce_min\u001b[0m\u001b[0;34m(\u001b[0m\u001b[0mimage\u001b[0m\u001b[0;34m)\u001b[0m\u001b[0;34m,\u001b[0m \u001b[0mtf\u001b[0m\u001b[0;34m.\u001b[0m\u001b[0mreduce_max\u001b[0m\u001b[0;34m(\u001b[0m\u001b[0mimage\u001b[0m\u001b[0;34m)\u001b[0m\u001b[0;34m)\u001b[0m\u001b[0;34m\u001b[0m\u001b[0;34m\u001b[0m\u001b[0m\n\u001b[0;32m---> 12\u001b[0;31m   \u001b[0mplt\u001b[0m\u001b[0;34m.\u001b[0m\u001b[0mimshow\u001b[0m\u001b[0;34m(\u001b[0m\u001b[0mimage\u001b[0m\u001b[0;34m)\u001b[0m\u001b[0;34m\u001b[0m\u001b[0;34m\u001b[0m\u001b[0m\n\u001b[0m\u001b[1;32m     13\u001b[0m   \u001b[0;31m# plt.title(class_names[label.numpy()]) # add title to image by indexing on class_names list\u001b[0m\u001b[0;34m\u001b[0m\u001b[0;34m\u001b[0m\u001b[0;34m\u001b[0m\u001b[0m\n\u001b[1;32m     14\u001b[0m   \u001b[0mplt\u001b[0m\u001b[0;34m.\u001b[0m\u001b[0maxis\u001b[0m\u001b[0;34m(\u001b[0m\u001b[0;32mFalse\u001b[0m\u001b[0;34m)\u001b[0m\u001b[0;34m;\u001b[0m\u001b[0;34m\u001b[0m\u001b[0;34m\u001b[0m\u001b[0m\n",
            "\u001b[0;32m/usr/local/lib/python3.7/dist-packages/matplotlib/pyplot.py\u001b[0m in \u001b[0;36mimshow\u001b[0;34m(X, cmap, norm, aspect, interpolation, alpha, vmin, vmax, origin, extent, shape, filternorm, filterrad, imlim, resample, url, data, **kwargs)\u001b[0m\n\u001b[1;32m   2649\u001b[0m         \u001b[0mfilternorm\u001b[0m\u001b[0;34m=\u001b[0m\u001b[0mfilternorm\u001b[0m\u001b[0;34m,\u001b[0m \u001b[0mfilterrad\u001b[0m\u001b[0;34m=\u001b[0m\u001b[0mfilterrad\u001b[0m\u001b[0;34m,\u001b[0m \u001b[0mimlim\u001b[0m\u001b[0;34m=\u001b[0m\u001b[0mimlim\u001b[0m\u001b[0;34m,\u001b[0m\u001b[0;34m\u001b[0m\u001b[0;34m\u001b[0m\u001b[0m\n\u001b[1;32m   2650\u001b[0m         resample=resample, url=url, **({\"data\": data} if data is not\n\u001b[0;32m-> 2651\u001b[0;31m         None else {}), **kwargs)\n\u001b[0m\u001b[1;32m   2652\u001b[0m     \u001b[0msci\u001b[0m\u001b[0;34m(\u001b[0m\u001b[0m__ret\u001b[0m\u001b[0;34m)\u001b[0m\u001b[0;34m\u001b[0m\u001b[0;34m\u001b[0m\u001b[0m\n\u001b[1;32m   2653\u001b[0m     \u001b[0;32mreturn\u001b[0m \u001b[0m__ret\u001b[0m\u001b[0;34m\u001b[0m\u001b[0;34m\u001b[0m\u001b[0m\n",
            "\u001b[0;32m/usr/local/lib/python3.7/dist-packages/matplotlib/__init__.py\u001b[0m in \u001b[0;36minner\u001b[0;34m(ax, data, *args, **kwargs)\u001b[0m\n\u001b[1;32m   1563\u001b[0m     \u001b[0;32mdef\u001b[0m \u001b[0minner\u001b[0m\u001b[0;34m(\u001b[0m\u001b[0max\u001b[0m\u001b[0;34m,\u001b[0m \u001b[0;34m*\u001b[0m\u001b[0margs\u001b[0m\u001b[0;34m,\u001b[0m \u001b[0mdata\u001b[0m\u001b[0;34m=\u001b[0m\u001b[0;32mNone\u001b[0m\u001b[0;34m,\u001b[0m \u001b[0;34m**\u001b[0m\u001b[0mkwargs\u001b[0m\u001b[0;34m)\u001b[0m\u001b[0;34m:\u001b[0m\u001b[0;34m\u001b[0m\u001b[0;34m\u001b[0m\u001b[0m\n\u001b[1;32m   1564\u001b[0m         \u001b[0;32mif\u001b[0m \u001b[0mdata\u001b[0m \u001b[0;32mis\u001b[0m \u001b[0;32mNone\u001b[0m\u001b[0;34m:\u001b[0m\u001b[0;34m\u001b[0m\u001b[0;34m\u001b[0m\u001b[0m\n\u001b[0;32m-> 1565\u001b[0;31m             \u001b[0;32mreturn\u001b[0m \u001b[0mfunc\u001b[0m\u001b[0;34m(\u001b[0m\u001b[0max\u001b[0m\u001b[0;34m,\u001b[0m \u001b[0;34m*\u001b[0m\u001b[0mmap\u001b[0m\u001b[0;34m(\u001b[0m\u001b[0msanitize_sequence\u001b[0m\u001b[0;34m,\u001b[0m \u001b[0margs\u001b[0m\u001b[0;34m)\u001b[0m\u001b[0;34m,\u001b[0m \u001b[0;34m**\u001b[0m\u001b[0mkwargs\u001b[0m\u001b[0;34m)\u001b[0m\u001b[0;34m\u001b[0m\u001b[0;34m\u001b[0m\u001b[0m\n\u001b[0m\u001b[1;32m   1566\u001b[0m \u001b[0;34m\u001b[0m\u001b[0m\n\u001b[1;32m   1567\u001b[0m         \u001b[0mbound\u001b[0m \u001b[0;34m=\u001b[0m \u001b[0mnew_sig\u001b[0m\u001b[0;34m.\u001b[0m\u001b[0mbind\u001b[0m\u001b[0;34m(\u001b[0m\u001b[0max\u001b[0m\u001b[0;34m,\u001b[0m \u001b[0;34m*\u001b[0m\u001b[0margs\u001b[0m\u001b[0;34m,\u001b[0m \u001b[0;34m**\u001b[0m\u001b[0mkwargs\u001b[0m\u001b[0;34m)\u001b[0m\u001b[0;34m\u001b[0m\u001b[0;34m\u001b[0m\u001b[0m\n",
            "\u001b[0;32m/usr/local/lib/python3.7/dist-packages/matplotlib/cbook/deprecation.py\u001b[0m in \u001b[0;36mwrapper\u001b[0;34m(*args, **kwargs)\u001b[0m\n\u001b[1;32m    356\u001b[0m                 \u001b[0;34mf\"%(removal)s.  If any parameter follows {name!r}, they \"\u001b[0m\u001b[0;34m\u001b[0m\u001b[0;34m\u001b[0m\u001b[0m\n\u001b[1;32m    357\u001b[0m                 f\"should be pass as keyword, not positionally.\")\n\u001b[0;32m--> 358\u001b[0;31m         \u001b[0;32mreturn\u001b[0m \u001b[0mfunc\u001b[0m\u001b[0;34m(\u001b[0m\u001b[0;34m*\u001b[0m\u001b[0margs\u001b[0m\u001b[0;34m,\u001b[0m \u001b[0;34m**\u001b[0m\u001b[0mkwargs\u001b[0m\u001b[0;34m)\u001b[0m\u001b[0;34m\u001b[0m\u001b[0;34m\u001b[0m\u001b[0m\n\u001b[0m\u001b[1;32m    359\u001b[0m \u001b[0;34m\u001b[0m\u001b[0m\n\u001b[1;32m    360\u001b[0m     \u001b[0;32mreturn\u001b[0m \u001b[0mwrapper\u001b[0m\u001b[0;34m\u001b[0m\u001b[0;34m\u001b[0m\u001b[0m\n",
            "\u001b[0;32m/usr/local/lib/python3.7/dist-packages/matplotlib/cbook/deprecation.py\u001b[0m in \u001b[0;36mwrapper\u001b[0;34m(*args, **kwargs)\u001b[0m\n\u001b[1;32m    356\u001b[0m                 \u001b[0;34mf\"%(removal)s.  If any parameter follows {name!r}, they \"\u001b[0m\u001b[0;34m\u001b[0m\u001b[0;34m\u001b[0m\u001b[0m\n\u001b[1;32m    357\u001b[0m                 f\"should be pass as keyword, not positionally.\")\n\u001b[0;32m--> 358\u001b[0;31m         \u001b[0;32mreturn\u001b[0m \u001b[0mfunc\u001b[0m\u001b[0;34m(\u001b[0m\u001b[0;34m*\u001b[0m\u001b[0margs\u001b[0m\u001b[0;34m,\u001b[0m \u001b[0;34m**\u001b[0m\u001b[0mkwargs\u001b[0m\u001b[0;34m)\u001b[0m\u001b[0;34m\u001b[0m\u001b[0;34m\u001b[0m\u001b[0m\n\u001b[0m\u001b[1;32m    359\u001b[0m \u001b[0;34m\u001b[0m\u001b[0m\n\u001b[1;32m    360\u001b[0m     \u001b[0;32mreturn\u001b[0m \u001b[0mwrapper\u001b[0m\u001b[0;34m\u001b[0m\u001b[0;34m\u001b[0m\u001b[0m\n",
            "\u001b[0;32m/usr/local/lib/python3.7/dist-packages/matplotlib/axes/_axes.py\u001b[0m in \u001b[0;36mimshow\u001b[0;34m(self, X, cmap, norm, aspect, interpolation, alpha, vmin, vmax, origin, extent, shape, filternorm, filterrad, imlim, resample, url, **kwargs)\u001b[0m\n\u001b[1;32m   5624\u001b[0m                               resample=resample, **kwargs)\n\u001b[1;32m   5625\u001b[0m \u001b[0;34m\u001b[0m\u001b[0m\n\u001b[0;32m-> 5626\u001b[0;31m         \u001b[0mim\u001b[0m\u001b[0;34m.\u001b[0m\u001b[0mset_data\u001b[0m\u001b[0;34m(\u001b[0m\u001b[0mX\u001b[0m\u001b[0;34m)\u001b[0m\u001b[0;34m\u001b[0m\u001b[0;34m\u001b[0m\u001b[0m\n\u001b[0m\u001b[1;32m   5627\u001b[0m         \u001b[0mim\u001b[0m\u001b[0;34m.\u001b[0m\u001b[0mset_alpha\u001b[0m\u001b[0;34m(\u001b[0m\u001b[0malpha\u001b[0m\u001b[0;34m)\u001b[0m\u001b[0;34m\u001b[0m\u001b[0;34m\u001b[0m\u001b[0m\n\u001b[1;32m   5628\u001b[0m         \u001b[0;32mif\u001b[0m \u001b[0mim\u001b[0m\u001b[0;34m.\u001b[0m\u001b[0mget_clip_path\u001b[0m\u001b[0;34m(\u001b[0m\u001b[0;34m)\u001b[0m \u001b[0;32mis\u001b[0m \u001b[0;32mNone\u001b[0m\u001b[0;34m:\u001b[0m\u001b[0;34m\u001b[0m\u001b[0;34m\u001b[0m\u001b[0m\n",
            "\u001b[0;32m/usr/local/lib/python3.7/dist-packages/matplotlib/image.py\u001b[0m in \u001b[0;36mset_data\u001b[0;34m(self, A)\u001b[0m\n\u001b[1;32m    697\u001b[0m                 or self._A.ndim == 3 and self._A.shape[-1] in [3, 4]):\n\u001b[1;32m    698\u001b[0m             raise TypeError(\"Invalid shape {} for image data\"\n\u001b[0;32m--> 699\u001b[0;31m                             .format(self._A.shape))\n\u001b[0m\u001b[1;32m    700\u001b[0m \u001b[0;34m\u001b[0m\u001b[0m\n\u001b[1;32m    701\u001b[0m         \u001b[0;32mif\u001b[0m \u001b[0mself\u001b[0m\u001b[0;34m.\u001b[0m\u001b[0m_A\u001b[0m\u001b[0;34m.\u001b[0m\u001b[0mndim\u001b[0m \u001b[0;34m==\u001b[0m \u001b[0;36m3\u001b[0m\u001b[0;34m:\u001b[0m\u001b[0;34m\u001b[0m\u001b[0;34m\u001b[0m\u001b[0m\n",
            "\u001b[0;31mTypeError\u001b[0m: Invalid shape (128, 180, 180, 3) for image data"
          ]
        },
        {
          "output_type": "display_data",
          "data": {
            "image/png": "[encoded data removed]",
            "text/plain": [
              "<Figure size 432x288 with 1 Axes>"
            ]
          },
          "metadata": {
            "needs_background": "light"
          }
        }
      ]
    },
    {
      "cell_type": "markdown",
      "source": [
        "We can explore the content of our dataset by taking a single data point:\n"
      ],
      "metadata": {
        "id": "MPd60CCmjFoO"
      }
    },
    {
      "cell_type": "code",
      "source": [
        "from PIL import Image\n",
        "import io\n",
        "import IPython.display as display\n",
        "import matplotlib.pyplot as plt\n",
        "\n",
        "\n",
        "# image_data = ... # byte values of the image\n",
        "# image = Image.open(io.BytesIO(image_data))\n",
        "# image.show()\n",
        "\n",
        "\n",
        "for data in dataset(1):\n",
        "\n",
        "\n",
        "\n",
        "    print(type(data))\n",
        "    print(\"*\"*100)\n",
        "    print(data)\n",
        "    print(\"*\"*100)\n",
        "    print(len(data[0]))\n",
        "    print(\"*\"*100)\n",
        "    print(type(data[0]))\n",
        "    print(\"*\"*100)\n",
        "    image_raw=data[0][50].numpy()\n",
        "    # image_raw\n",
        "    plt.imshow(image_raw)\n",
        "    # display.display(display.Image(data=image_raw))\n",
        "    # arr_ = np.squeeze(data) # you can give axis attribute if you wanna squeeze in specific dimension\n",
        "    # image = Image.open(io.BytesIO(arr_))\n",
        "    # image.show()\n",
        "\n",
        "    # # plt.imshow(arr_.astype(np.uint8))\n",
        "    # # plt.show()\n",
        "    # print(\"*\"*100)\n",
        "\n",
        "    # print(\"Shape-\",data.shape)\n",
        "    # print(\"*\"*100)\n",
        "    # print(l)\n",
        "    # print(\"*\"*100)\n"
      ],
      "metadata": {
        "colab": {
          "base_uri": "https://localhost:8080/",
          "height": 236
        },
        "id": "SwuVgZOspdXM",
        "outputId": "48e87836-60e7-451f-ad33-c189ec7a1d26"
      },
      "execution_count": null,
      "outputs": [
        {
          "output_type": "error",
          "ename": "TypeError",
          "evalue": "ignored",
          "traceback": [
            "\u001b[0;31m---------------------------------------------------------------------------\u001b[0m",
            "\u001b[0;31mTypeError\u001b[0m                                 Traceback (most recent call last)",
            "\u001b[0;32m<ipython-input-17-18c2d630897d>\u001b[0m in \u001b[0;36m<module>\u001b[0;34m()\u001b[0m\n\u001b[1;32m     10\u001b[0m \u001b[0;34m\u001b[0m\u001b[0m\n\u001b[1;32m     11\u001b[0m \u001b[0;34m\u001b[0m\u001b[0m\n\u001b[0;32m---> 12\u001b[0;31m \u001b[0;32mfor\u001b[0m \u001b[0mdata\u001b[0m \u001b[0;32min\u001b[0m \u001b[0mdataset\u001b[0m\u001b[0;34m(\u001b[0m\u001b[0;36m1\u001b[0m\u001b[0;34m)\u001b[0m\u001b[0;34m:\u001b[0m\u001b[0;34m\u001b[0m\u001b[0;34m\u001b[0m\u001b[0m\n\u001b[0m\u001b[1;32m     13\u001b[0m \u001b[0;34m\u001b[0m\u001b[0m\n\u001b[1;32m     14\u001b[0m \u001b[0;34m\u001b[0m\u001b[0m\n",
            "\u001b[0;31mTypeError\u001b[0m: 'PrefetchDataset' object is not callable"
          ]
        }
      ]
    },
    {
      "cell_type": "code",
      "source": [
        "#Importing packages\n",
        "import tensorflow as tf\n",
        "from tensorflow.keras.models import Sequential\n",
        "from tensorflow.keras.layers import Dense, Conv2D, Flatten, Dropout, MaxPooling2D,BatchNormalization,Dense, GlobalAveragePooling2D\n",
        "\n",
        "num_classes = 5270"
      ],
      "metadata": {
        "id": "RFwbQXWrQSNY"
      },
      "execution_count": null,
      "outputs": []
    },
    {
      "cell_type": "code",
      "source": [
        "#-----------------------TRAINING------------------------------------------------#\n",
        "\n",
        "\n",
        "# Get helper_functions.py script from course GitHub\n",
        "!wget https://raw.githubusercontent.com/sarthakkaushik/Cdiscount-Image-Classification/main/helper.py\n",
        "\n",
        "# Import helper functions we're going to use\n",
        "from helper import create_tensorboard_callback, plot_loss_curves, unzip_data, walk_through_dir\n",
        "\n",
        "dir_name = '/gdrive/MyDrive/UOH Assignment Dataset/cdiscount/Tensorboard'\n",
        "def create_tensorboard_callback(experiment_name):\n",
        "  log_dir = dir_name + \"/\" + experiment_name + \"/\" + datetime.datetime.now().strftime(\"%Y%m%d-%H%M%S\")\n",
        "  tensorboard_callback = tf.keras.callbacks.TensorBoard(\n",
        "      log_dir=log_dir\n",
        "  )\n",
        "  print(f\"Saving TensorBoard log files to: {log_dir}\")\n",
        "  return tensorboard_callback\n",
        "\n",
        "# Setup checkpoint path\n",
        "checkpoint_path = '/gdrive/MyDrive/UOH Assignment Dataset/cdiscount/CheckPoints/EfficientNet/Efficient_Tfrecord_test.ckpt' # note: remember saving directly to Colab is temporary\n",
        "\n",
        "# Create a ModelCheckpoint callback that saves the model's weights only\n",
        "checkpoint_callback = tf.keras.callbacks.ModelCheckpoint(filepath=checkpoint_path,\n",
        "                                                         save_weights_only=True, # set to False to save the entire model\n",
        "                                                         save_best_only=False, # set to True to save only the best model instead of a model every epoch \n",
        "                                                         save_freq=\"epoch\", # save every epoch\n",
        "                                                         verbose=1)\n",
        "\n",
        "\n",
        "\n",
        "\n",
        "num_classes = 5270\n",
        "\n",
        "from tensorflow.keras import layers\n",
        "from tensorflow.keras.layers.experimental import preprocessing\n",
        "\n",
        "# Create base model\n",
        "input_shape = (180, 180, 3)\n",
        "base_model = tf.keras.applications.EfficientNetB7(include_top=False)\n",
        "base_model.trainable = False # freeze base model layers\n",
        "\n",
        "# Create Functional model \n",
        "inputs = layers.Input(shape=input_shape, name=\"input_layer\", dtype=tf.float16)\n",
        "# Note: EfficientNetBX models have rescaling built-in but if your model didn't you could have a layer like below\n",
        "# x = preprocessing.Rescaling(1./255)(x)\n",
        "x = base_model(inputs, training=False) # set base_model to inference mode only\n",
        "x = layers.GlobalAveragePooling2D(name=\"pooling_layer\")(x)\n",
        "x = layers.Dense(num_classes)(x) # want one output neuron per class \n",
        "# Separate activation of output layer so we can output float32 activations\n",
        "outputs = layers.Activation(\"softmax\", name=\"softmax_float32\")(x) \n",
        "model = tf.keras.Model(inputs, outputs)\n",
        "\n",
        "# Compile the model\n",
        "model.compile(loss=\"sparse_categorical_crossentropy\", # Use sparse_categorical_crossentropy when labels are *not* one-hot\n",
        "              optimizer=tf.keras.optimizers.Adam(),\n",
        "              metrics=[\"accuracy\"])"
      ],
      "metadata": {
        "id": "LnOq2b1iQG-m",
        "outputId": "5a6d0de7-4f5f-4afb-852b-a878d784eea1",
        "colab": {
          "base_uri": "https://localhost:8080/"
        }
      },
      "execution_count": null,
      "outputs": [
        {
          "output_type": "stream",
          "name": "stdout",
          "text": [
            "--2022-01-13 19:12:41--  https://raw.githubusercontent.com/sarthakkaushik/Cdiscount-Image-Classification/main/helper.py\n",
            "Resolving raw.githubusercontent.com (raw.githubusercontent.com)... 185.199.108.133, 185.199.109.133, 185.199.110.133, ...\n",
            "Connecting to raw.githubusercontent.com (raw.githubusercontent.com)|185.199.108.133|:443... connected.\n",
            "HTTP request sent, awaiting response... 200 OK\n",
            "Length: 10510 (10K) [text/plain]\n",
            "Saving to: ‘helper.py.7’\n",
            "\n",
            "helper.py.7         100%[===================>]  10.26K  --.-KB/s    in 0.002s  \n",
            "\n",
            "2022-01-13 19:12:42 (4.44 MB/s) - ‘helper.py.7’ saved [10510/10510]\n",
            "\n",
            "Downloading data from https://storage.googleapis.com/keras-applications/efficientnetb7_notop.h5\n",
            "258080768/258076736 [==============================] - 1s 0us/step\n",
            "258088960/258076736 [==============================] - 1s 0us/step\n"
          ]
        }
      ]
    },
    {
      "cell_type": "code",
      "source": [
        "# Fit the model with callbacks\n",
        "history = model.fit(dataset, \n",
        "                    epochs=3,\n",
        "                    validation_split=0.3,\n",
        "                    # validation_steps=int(0.15 * len(dataset)),\n",
        "                    # callbacks=[checkpoint_callback,create_tensorboard_callback(\"TranferLearning_EfficientNetB7_Tfrecord_Test\")]\n",
        ")"
      ],
      "metadata": {
        "id": "3jEF7FZn1rro",
        "outputId": "a0ceb176-ba31-4776-f500-86c99b1665d1",
        "colab": {
          "base_uri": "https://localhost:8080/",
          "height": 381
        }
      },
      "execution_count": null,
      "outputs": [
        {
          "output_type": "error",
          "ename": "ValueError",
          "evalue": "ignored",
          "traceback": [
            "\u001b[0;31m---------------------------------------------------------------------------\u001b[0m",
            "\u001b[0;31mValueError\u001b[0m                                Traceback (most recent call last)",
            "\u001b[0;32m<ipython-input-105-ef955d2b7aaa>\u001b[0m in \u001b[0;36m<module>\u001b[0;34m()\u001b[0m\n\u001b[1;32m      2\u001b[0m history = model.fit(dataset, \n\u001b[1;32m      3\u001b[0m                     \u001b[0mepochs\u001b[0m\u001b[0;34m=\u001b[0m\u001b[0;36m3\u001b[0m\u001b[0;34m,\u001b[0m\u001b[0;34m\u001b[0m\u001b[0;34m\u001b[0m\u001b[0m\n\u001b[0;32m----> 4\u001b[0;31m                     \u001b[0mvalidation_split\u001b[0m\u001b[0;34m=\u001b[0m\u001b[0;36m0.3\u001b[0m\u001b[0;34m,\u001b[0m\u001b[0;34m\u001b[0m\u001b[0;34m\u001b[0m\u001b[0m\n\u001b[0m\u001b[1;32m      5\u001b[0m                     \u001b[0;31m# validation_steps=int(0.15 * len(dataset)),\u001b[0m\u001b[0;34m\u001b[0m\u001b[0;34m\u001b[0m\u001b[0;34m\u001b[0m\u001b[0m\n\u001b[1;32m      6\u001b[0m                     \u001b[0;31m# callbacks=[checkpoint_callback,create_tensorboard_callback(\"TranferLearning_EfficientNetB7_Tfrecord_Test\")]\u001b[0m\u001b[0;34m\u001b[0m\u001b[0;34m\u001b[0m\u001b[0;34m\u001b[0m\u001b[0m\n",
            "\u001b[0;32m/usr/local/lib/python3.7/dist-packages/keras/utils/traceback_utils.py\u001b[0m in \u001b[0;36merror_handler\u001b[0;34m(*args, **kwargs)\u001b[0m\n\u001b[1;32m     65\u001b[0m     \u001b[0;32mexcept\u001b[0m \u001b[0mException\u001b[0m \u001b[0;32mas\u001b[0m \u001b[0me\u001b[0m\u001b[0;34m:\u001b[0m  \u001b[0;31m# pylint: disable=broad-except\u001b[0m\u001b[0;34m\u001b[0m\u001b[0;34m\u001b[0m\u001b[0m\n\u001b[1;32m     66\u001b[0m       \u001b[0mfiltered_tb\u001b[0m \u001b[0;34m=\u001b[0m \u001b[0m_process_traceback_frames\u001b[0m\u001b[0;34m(\u001b[0m\u001b[0me\u001b[0m\u001b[0;34m.\u001b[0m\u001b[0m__traceback__\u001b[0m\u001b[0;34m)\u001b[0m\u001b[0;34m\u001b[0m\u001b[0;34m\u001b[0m\u001b[0m\n\u001b[0;32m---> 67\u001b[0;31m       \u001b[0;32mraise\u001b[0m \u001b[0me\u001b[0m\u001b[0;34m.\u001b[0m\u001b[0mwith_traceback\u001b[0m\u001b[0;34m(\u001b[0m\u001b[0mfiltered_tb\u001b[0m\u001b[0;34m)\u001b[0m \u001b[0;32mfrom\u001b[0m \u001b[0;32mNone\u001b[0m\u001b[0;34m\u001b[0m\u001b[0;34m\u001b[0m\u001b[0m\n\u001b[0m\u001b[1;32m     68\u001b[0m     \u001b[0;32mfinally\u001b[0m\u001b[0;34m:\u001b[0m\u001b[0;34m\u001b[0m\u001b[0;34m\u001b[0m\u001b[0m\n\u001b[1;32m     69\u001b[0m       \u001b[0;32mdel\u001b[0m \u001b[0mfiltered_tb\u001b[0m\u001b[0;34m\u001b[0m\u001b[0;34m\u001b[0m\u001b[0m\n",
            "\u001b[0;32m/usr/local/lib/python3.7/dist-packages/keras/engine/data_adapter.py\u001b[0m in \u001b[0;36mtrain_validation_split\u001b[0;34m(arrays, validation_split)\u001b[0m\n\u001b[1;32m   1482\u001b[0m     raise ValueError(\n\u001b[1;32m   1483\u001b[0m         \u001b[0;34m\"`validation_split` is only supported for Tensors or NumPy \"\u001b[0m\u001b[0;34m\u001b[0m\u001b[0;34m\u001b[0m\u001b[0m\n\u001b[0;32m-> 1484\u001b[0;31m         \"arrays, found following types in the input: {}\".format(unsplitable))\n\u001b[0m\u001b[1;32m   1485\u001b[0m \u001b[0;34m\u001b[0m\u001b[0m\n\u001b[1;32m   1486\u001b[0m   \u001b[0;32mif\u001b[0m \u001b[0mall\u001b[0m\u001b[0;34m(\u001b[0m\u001b[0mt\u001b[0m \u001b[0;32mis\u001b[0m \u001b[0;32mNone\u001b[0m \u001b[0;32mfor\u001b[0m \u001b[0mt\u001b[0m \u001b[0;32min\u001b[0m \u001b[0mflat_arrays\u001b[0m\u001b[0;34m)\u001b[0m\u001b[0;34m:\u001b[0m\u001b[0;34m\u001b[0m\u001b[0;34m\u001b[0m\u001b[0m\n",
            "\u001b[0;31mValueError\u001b[0m: `validation_split` is only supported for Tensors or NumPy arrays, found following types in the input: [<class 'tensorflow.python.data.ops.dataset_ops.PrefetchDataset'>]"
          ]
        }
      ]
    },
    {
      "cell_type": "markdown",
      "source": [
        "FROM THE AUTHOR"
      ],
      "metadata": {
        "id": "YzmTLllcmwAF"
      }
    },
    {
      "cell_type": "code",
      "source": [
        ""
      ],
      "metadata": {
        "id": "_1H7wa_Z04f1"
      },
      "execution_count": null,
      "outputs": []
    }
  ]
}