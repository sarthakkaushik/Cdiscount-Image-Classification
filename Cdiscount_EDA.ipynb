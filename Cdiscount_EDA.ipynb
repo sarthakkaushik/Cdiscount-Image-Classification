{
  "nbformat": 4,
  "nbformat_minor": 0,
  "metadata": {
    "colab": {
      "name": "Cdiscount- EDA.ipynb",
      "provenance": [],
      "machine_shape": "hm",
      "authorship_tag": "ABX9TyNhJ57Uh/+jQyTMd/hwg2jM",
      "include_colab_link": true
    },
    "kernelspec": {
      "name": "python3",
      "display_name": "Python 3"
    },
    "language_info": {
      "name": "python"
    },
    "widgets": {
      "application/vnd.jupyter.widget-state+json": {
        "e8fd0aee77fc428e80b0572c3c394344": {
          "model_module": "@jupyter-widgets/controls",
          "model_name": "HBoxModel",
          "model_module_version": "1.5.0",
          "state": {
            "_view_name": "HBoxView",
            "_dom_classes": [],
            "_model_name": "HBoxModel",
            "_view_module": "@jupyter-widgets/controls",
            "_model_module_version": "1.5.0",
            "_view_count": null,
            "_view_module_version": "1.5.0",
            "box_style": "",
            "layout": "IPY_MODEL_0be78076c5a04bb9a57eb86b69840e3a",
            "_model_module": "@jupyter-widgets/controls",
            "children": [
              "IPY_MODEL_801144b6327847118207436d181f31a9",
              "IPY_MODEL_8d2667705cec47ff8cf1d88b66f292b7",
              "IPY_MODEL_b204ff6cd34a4ecba53ce72738c7ae74"
            ]
          }
        },
        "0be78076c5a04bb9a57eb86b69840e3a": {
          "model_module": "@jupyter-widgets/base",
          "model_name": "LayoutModel",
          "model_module_version": "1.2.0",
          "state": {
            "_view_name": "LayoutView",
            "grid_template_rows": null,
            "right": null,
            "justify_content": null,
            "_view_module": "@jupyter-widgets/base",
            "overflow": null,
            "_model_module_version": "1.2.0",
            "_view_count": null,
            "flex_flow": null,
            "width": null,
            "min_width": null,
            "border": null,
            "align_items": null,
            "bottom": null,
            "_model_module": "@jupyter-widgets/base",
            "top": null,
            "grid_column": null,
            "overflow_y": null,
            "overflow_x": null,
            "grid_auto_flow": null,
            "grid_area": null,
            "grid_template_columns": null,
            "flex": null,
            "_model_name": "LayoutModel",
            "justify_items": null,
            "grid_row": null,
            "max_height": null,
            "align_content": null,
            "visibility": null,
            "align_self": null,
            "height": null,
            "min_height": null,
            "padding": null,
            "grid_auto_rows": null,
            "grid_gap": null,
            "max_width": null,
            "order": null,
            "_view_module_version": "1.2.0",
            "grid_template_areas": null,
            "object_position": null,
            "object_fit": null,
            "grid_auto_columns": null,
            "margin": null,
            "display": null,
            "left": null
          }
        },
        "801144b6327847118207436d181f31a9": {
          "model_module": "@jupyter-widgets/controls",
          "model_name": "HTMLModel",
          "model_module_version": "1.5.0",
          "state": {
            "_view_name": "HTMLView",
            "style": "IPY_MODEL_f08c87faa0a847a9854c5b1365f53b03",
            "_dom_classes": [],
            "description": "",
            "_model_name": "HTMLModel",
            "placeholder": "​",
            "_view_module": "@jupyter-widgets/controls",
            "_model_module_version": "1.5.0",
            "value": " 30%",
            "_view_count": null,
            "_view_module_version": "1.5.0",
            "description_tooltip": null,
            "_model_module": "@jupyter-widgets/controls",
            "layout": "IPY_MODEL_9361d464c8cc4e9888491d9e4f447ed0"
          }
        },
        "8d2667705cec47ff8cf1d88b66f292b7": {
          "model_module": "@jupyter-widgets/controls",
          "model_name": "FloatProgressModel",
          "model_module_version": "1.5.0",
          "state": {
            "_view_name": "ProgressView",
            "style": "IPY_MODEL_c117cf3dc90e420590b4bd1ac1687d80",
            "_dom_classes": [],
            "description": "",
            "_model_name": "FloatProgressModel",
            "bar_style": "danger",
            "max": 7069896,
            "_view_module": "@jupyter-widgets/controls",
            "_model_module_version": "1.5.0",
            "value": 2123668,
            "_view_count": null,
            "_view_module_version": "1.5.0",
            "orientation": "horizontal",
            "min": 0,
            "description_tooltip": null,
            "_model_module": "@jupyter-widgets/controls",
            "layout": "IPY_MODEL_96ce8b2600034768af53af7d8de75823"
          }
        },
        "b204ff6cd34a4ecba53ce72738c7ae74": {
          "model_module": "@jupyter-widgets/controls",
          "model_name": "HTMLModel",
          "model_module_version": "1.5.0",
          "state": {
            "_view_name": "HTMLView",
            "style": "IPY_MODEL_87a850f785504dc0bdae4aa70bf18c9c",
            "_dom_classes": [],
            "description": "",
            "_model_name": "HTMLModel",
            "placeholder": "​",
            "_view_module": "@jupyter-widgets/controls",
            "_model_module_version": "1.5.0",
            "value": " 2123668/7069896 [02:27&lt;06:08, 13409.41it/s]",
            "_view_count": null,
            "_view_module_version": "1.5.0",
            "description_tooltip": null,
            "_model_module": "@jupyter-widgets/controls",
            "layout": "IPY_MODEL_f6479f934a25487e81ebcac560c80a67"
          }
        },
        "f08c87faa0a847a9854c5b1365f53b03": {
          "model_module": "@jupyter-widgets/controls",
          "model_name": "DescriptionStyleModel",
          "model_module_version": "1.5.0",
          "state": {
            "_view_name": "StyleView",
            "_model_name": "DescriptionStyleModel",
            "description_width": "",
            "_view_module": "@jupyter-widgets/base",
            "_model_module_version": "1.5.0",
            "_view_count": null,
            "_view_module_version": "1.2.0",
            "_model_module": "@jupyter-widgets/controls"
          }
        },
        "9361d464c8cc4e9888491d9e4f447ed0": {
          "model_module": "@jupyter-widgets/base",
          "model_name": "LayoutModel",
          "model_module_version": "1.2.0",
          "state": {
            "_view_name": "LayoutView",
            "grid_template_rows": null,
            "right": null,
            "justify_content": null,
            "_view_module": "@jupyter-widgets/base",
            "overflow": null,
            "_model_module_version": "1.2.0",
            "_view_count": null,
            "flex_flow": null,
            "width": null,
            "min_width": null,
            "border": null,
            "align_items": null,
            "bottom": null,
            "_model_module": "@jupyter-widgets/base",
            "top": null,
            "grid_column": null,
            "overflow_y": null,
            "overflow_x": null,
            "grid_auto_flow": null,
            "grid_area": null,
            "grid_template_columns": null,
            "flex": null,
            "_model_name": "LayoutModel",
            "justify_items": null,
            "grid_row": null,
            "max_height": null,
            "align_content": null,
            "visibility": null,
            "align_self": null,
            "height": null,
            "min_height": null,
            "padding": null,
            "grid_auto_rows": null,
            "grid_gap": null,
            "max_width": null,
            "order": null,
            "_view_module_version": "1.2.0",
            "grid_template_areas": null,
            "object_position": null,
            "object_fit": null,
            "grid_auto_columns": null,
            "margin": null,
            "display": null,
            "left": null
          }
        },
        "c117cf3dc90e420590b4bd1ac1687d80": {
          "model_module": "@jupyter-widgets/controls",
          "model_name": "ProgressStyleModel",
          "model_module_version": "1.5.0",
          "state": {
            "_view_name": "StyleView",
            "_model_name": "ProgressStyleModel",
            "description_width": "",
            "_view_module": "@jupyter-widgets/base",
            "_model_module_version": "1.5.0",
            "_view_count": null,
            "_view_module_version": "1.2.0",
            "bar_color": null,
            "_model_module": "@jupyter-widgets/controls"
          }
        },
        "96ce8b2600034768af53af7d8de75823": {
          "model_module": "@jupyter-widgets/base",
          "model_name": "LayoutModel",
          "model_module_version": "1.2.0",
          "state": {
            "_view_name": "LayoutView",
            "grid_template_rows": null,
            "right": null,
            "justify_content": null,
            "_view_module": "@jupyter-widgets/base",
            "overflow": null,
            "_model_module_version": "1.2.0",
            "_view_count": null,
            "flex_flow": null,
            "width": null,
            "min_width": null,
            "border": null,
            "align_items": null,
            "bottom": null,
            "_model_module": "@jupyter-widgets/base",
            "top": null,
            "grid_column": null,
            "overflow_y": null,
            "overflow_x": null,
            "grid_auto_flow": null,
            "grid_area": null,
            "grid_template_columns": null,
            "flex": null,
            "_model_name": "LayoutModel",
            "justify_items": null,
            "grid_row": null,
            "max_height": null,
            "align_content": null,
            "visibility": null,
            "align_self": null,
            "height": null,
            "min_height": null,
            "padding": null,
            "grid_auto_rows": null,
            "grid_gap": null,
            "max_width": null,
            "order": null,
            "_view_module_version": "1.2.0",
            "grid_template_areas": null,
            "object_position": null,
            "object_fit": null,
            "grid_auto_columns": null,
            "margin": null,
            "display": null,
            "left": null
          }
        },
        "87a850f785504dc0bdae4aa70bf18c9c": {
          "model_module": "@jupyter-widgets/controls",
          "model_name": "DescriptionStyleModel",
          "model_module_version": "1.5.0",
          "state": {
            "_view_name": "StyleView",
            "_model_name": "DescriptionStyleModel",
            "description_width": "",
            "_view_module": "@jupyter-widgets/base",
            "_model_module_version": "1.5.0",
            "_view_count": null,
            "_view_module_version": "1.2.0",
            "_model_module": "@jupyter-widgets/controls"
          }
        },
        "f6479f934a25487e81ebcac560c80a67": {
          "model_module": "@jupyter-widgets/base",
          "model_name": "LayoutModel",
          "model_module_version": "1.2.0",
          "state": {
            "_view_name": "LayoutView",
            "grid_template_rows": null,
            "right": null,
            "justify_content": null,
            "_view_module": "@jupyter-widgets/base",
            "overflow": null,
            "_model_module_version": "1.2.0",
            "_view_count": null,
            "flex_flow": null,
            "width": null,
            "min_width": null,
            "border": null,
            "align_items": null,
            "bottom": null,
            "_model_module": "@jupyter-widgets/base",
            "top": null,
            "grid_column": null,
            "overflow_y": null,
            "overflow_x": null,
            "grid_auto_flow": null,
            "grid_area": null,
            "grid_template_columns": null,
            "flex": null,
            "_model_name": "LayoutModel",
            "justify_items": null,
            "grid_row": null,
            "max_height": null,
            "align_content": null,
            "visibility": null,
            "align_self": null,
            "height": null,
            "min_height": null,
            "padding": null,
            "grid_auto_rows": null,
            "grid_gap": null,
            "max_width": null,
            "order": null,
            "_view_module_version": "1.2.0",
            "grid_template_areas": null,
            "object_position": null,
            "object_fit": null,
            "grid_auto_columns": null,
            "margin": null,
            "display": null,
            "left": null
          }
        }
      }
    }
  },
  "cells": [
    {
      "cell_type": "markdown",
      "metadata": {
        "id": "view-in-github",
        "colab_type": "text"
      },
      "source": [
        "<a href=\"https://colab.research.google.com/github/sarthakkaushik/Cdiscount-Image-Classification/blob/main/Cdiscount_EDA.ipynb\" target=\"_parent\"><img src=\"https://colab.research.google.com/assets/colab-badge.svg\" alt=\"Open In Colab\"/></a>"
      ]
    },
    {
      "cell_type": "markdown",
      "source": [
        "#Importing Data from Google Drive"
      ],
      "metadata": {
        "id": "vof_9sFfOMsP"
      }
    },
    {
      "cell_type": "code",
      "source": [
        "# Code to mount google drive in case you are loading the data from your google drive\n",
        "from google.colab import drive\n",
        "drive.mount('/gdrive')\n",
        "%cd /gdrive"
      ],
      "metadata": {
        "colab": {
          "base_uri": "https://localhost:8080/"
        },
        "id": "V1vzz0iu4ZMV",
        "outputId": "c9dac1af-b849-4f68-85b6-0c8b58bfc834"
      },
      "execution_count": 1,
      "outputs": [
        {
          "output_type": "stream",
          "name": "stdout",
          "text": [
            "Mounted at /gdrive\n",
            "/gdrive\n"
          ]
        }
      ]
    },
    {
      "cell_type": "code",
      "source": [
        "data_path = '/gdrive/MyDrive/UOH Assignment Dataset/cdiscount'"
      ],
      "metadata": {
        "id": "WCCLn9vz48sg"
      },
      "execution_count": 5,
      "outputs": []
    },
    {
      "cell_type": "code",
      "source": [
        "import os \n",
        "os.chdir(data_path)\n",
        "print(os.getcwd())"
      ],
      "metadata": {
        "colab": {
          "base_uri": "https://localhost:8080/"
        },
        "id": "5SNWr9f14-I2",
        "outputId": "275a72c0-497a-4fdd-cffe-c1e94ae467fa"
      },
      "execution_count": 6,
      "outputs": [
        {
          "output_type": "stream",
          "name": "stdout",
          "text": [
            "/gdrive/MyDrive/UOH Assignment Dataset/cdiscount\n"
          ]
        }
      ]
    },
    {
      "cell_type": "markdown",
      "source": [
        "Importing libraries"
      ],
      "metadata": {
        "id": "2w5pwXLuOXfO"
      }
    },
    {
      "cell_type": "code",
      "execution_count": 8,
      "metadata": {
        "id": "RtsvY9rq4GM1"
      },
      "outputs": [],
      "source": [
        "# !pip install Pillow\n",
        "import numpy as np\n",
        "import pandas as pd\n",
        "import io\n",
        "import bson\n",
        "import matplotlib.pyplot as plt\n",
        "from imageio import imread\n",
        "from tqdm import tqdm_notebook"
      ]
    },
    {
      "cell_type": "code",
      "source": [
        "import os, sys, math, io\n",
        "import numpy as np\n",
        "import pandas as pd\n",
        "import multiprocessing as mp\n",
        "import bson\n",
        "import struct\n",
        "\n",
        "%matplotlib inline\n",
        "import matplotlib.pyplot as plt\n",
        "\n",
        "import keras\n",
        "from keras.preprocessing.image import load_img, img_to_array\n",
        "import tensorflow as tf\n",
        "\n",
        "from collections import defaultdict\n",
        "from tqdm import *\n",
        "\n",
        "# Input data files are available in the \"../input/\" directory.\n",
        "# For example, running this (by clicking run or pressing Shift+Enter) will list the files in the input directory\n",
        "\n",
        "from subprocess import check_output\n",
        "print(check_output([\"ls\", \"../cdiscount\"]).decode(\"utf8\"))\n",
        "# Any results you write to the current directory are saved as output."
      ],
      "metadata": {
        "colab": {
          "base_uri": "https://localhost:8080/"
        },
        "id": "w58UWIOR4znT",
        "outputId": "137b46c6-79ce-4044-f3fa-53cd5601351b"
      },
      "execution_count": 7,
      "outputs": [
        {
          "output_type": "stream",
          "name": "stdout",
          "text": [
            "categories.csv\n",
            "category_names.csv\n",
            "file.h5\n",
            "sample_submission.csv\n",
            "test.bson\n",
            "train.bson\n",
            "train_example.bson\n",
            "train_images.csv\n",
            "train_offsets.csv\n",
            "val_images.csv\n",
            "\n"
          ]
        }
      ]
    },
    {
      "cell_type": "markdown",
      "source": [
        "#Exploring our category table"
      ],
      "metadata": {
        "id": "rEctAcXhOnum"
      }
    },
    {
      "cell_type": "code",
      "source": [
        "data_dir = \"../cdiscount/\"\n",
        "\n",
        "train_bson_path = os.path.join(data_dir, \"category_names.csv\")"
      ],
      "metadata": {
        "id": "ySxUy4xT5tu7"
      },
      "execution_count": 9,
      "outputs": []
    },
    {
      "cell_type": "code",
      "source": [
        "# categories_df = pd.read_csv(train_bson_path, index_col='category_id')\n",
        "categories_df = pd.read_csv(train_bson_path)"
      ],
      "metadata": {
        "id": "SbXWV-6w5dwT"
      },
      "execution_count": 15,
      "outputs": []
    },
    {
      "cell_type": "code",
      "source": [
        "categories_df.head()"
      ],
      "metadata": {
        "colab": {
          "base_uri": "https://localhost:8080/",
          "height": 206
        },
        "id": "zhfEsMFB_erL",
        "outputId": "668f9133-ceac-49ed-cb9e-ee53bf1a4fd8"
      },
      "execution_count": 16,
      "outputs": [
        {
          "output_type": "execute_result",
          "data": {
            "text/html": [
              "\n",
              "  <div id=\"df-58873700-9063-4b61-b104-81cb4703d54b\">\n",
              "    <div class=\"colab-df-container\">\n",
              "      <div>\n",
              "<style scoped>\n",
              "    .dataframe tbody tr th:only-of-type {\n",
              "        vertical-align: middle;\n",
              "    }\n",
              "\n",
              "    .dataframe tbody tr th {\n",
              "        vertical-align: top;\n",
              "    }\n",
              "\n",
              "    .dataframe thead th {\n",
              "        text-align: right;\n",
              "    }\n",
              "</style>\n",
              "<table border=\"1\" class=\"dataframe\">\n",
              "  <thead>\n",
              "    <tr style=\"text-align: right;\">\n",
              "      <th></th>\n",
              "      <th>category_id</th>\n",
              "      <th>category_level1</th>\n",
              "      <th>category_level2</th>\n",
              "      <th>category_level3</th>\n",
              "    </tr>\n",
              "  </thead>\n",
              "  <tbody>\n",
              "    <tr>\n",
              "      <th>0</th>\n",
              "      <td>1000021794</td>\n",
              "      <td>ABONNEMENT / SERVICES</td>\n",
              "      <td>CARTE PREPAYEE</td>\n",
              "      <td>CARTE PREPAYEE MULTIMEDIA</td>\n",
              "    </tr>\n",
              "    <tr>\n",
              "      <th>1</th>\n",
              "      <td>1000012764</td>\n",
              "      <td>AMENAGEMENT URBAIN - VOIRIE</td>\n",
              "      <td>AMENAGEMENT URBAIN</td>\n",
              "      <td>ABRI FUMEUR</td>\n",
              "    </tr>\n",
              "    <tr>\n",
              "      <th>2</th>\n",
              "      <td>1000012776</td>\n",
              "      <td>AMENAGEMENT URBAIN - VOIRIE</td>\n",
              "      <td>AMENAGEMENT URBAIN</td>\n",
              "      <td>ABRI VELO - ABRI MOTO</td>\n",
              "    </tr>\n",
              "    <tr>\n",
              "      <th>3</th>\n",
              "      <td>1000012768</td>\n",
              "      <td>AMENAGEMENT URBAIN - VOIRIE</td>\n",
              "      <td>AMENAGEMENT URBAIN</td>\n",
              "      <td>FONTAINE A EAU</td>\n",
              "    </tr>\n",
              "    <tr>\n",
              "      <th>4</th>\n",
              "      <td>1000012755</td>\n",
              "      <td>AMENAGEMENT URBAIN - VOIRIE</td>\n",
              "      <td>SIGNALETIQUE</td>\n",
              "      <td>PANNEAU D'INFORMATION EXTERIEUR</td>\n",
              "    </tr>\n",
              "  </tbody>\n",
              "</table>\n",
              "</div>\n",
              "      <button class=\"colab-df-convert\" onclick=\"convertToInteractive('df-58873700-9063-4b61-b104-81cb4703d54b')\"\n",
              "              title=\"Convert this dataframe to an interactive table.\"\n",
              "              style=\"display:none;\">\n",
              "        \n",
              "  <svg xmlns=\"http://www.w3.org/2000/svg\" height=\"24px\"viewBox=\"0 0 24 24\"\n",
              "       width=\"24px\">\n",
              "    <path d=\"M0 0h24v24H0V0z\" fill=\"none\"/>\n",
              "    <path d=\"M18.56 5.44l.94 2.06.94-2.06 2.06-.94-2.06-.94-.94-2.06-.94 2.06-2.06.94zm-11 1L8.5 8.5l.94-2.06 2.06-.94-2.06-.94L8.5 2.5l-.94 2.06-2.06.94zm10 10l.94 2.06.94-2.06 2.06-.94-2.06-.94-.94-2.06-.94 2.06-2.06.94z\"/><path d=\"M17.41 7.96l-1.37-1.37c-.4-.4-.92-.59-1.43-.59-.52 0-1.04.2-1.43.59L10.3 9.45l-7.72 7.72c-.78.78-.78 2.05 0 2.83L4 21.41c.39.39.9.59 1.41.59.51 0 1.02-.2 1.41-.59l7.78-7.78 2.81-2.81c.8-.78.8-2.07 0-2.86zM5.41 20L4 18.59l7.72-7.72 1.47 1.35L5.41 20z\"/>\n",
              "  </svg>\n",
              "      </button>\n",
              "      \n",
              "  <style>\n",
              "    .colab-df-container {\n",
              "      display:flex;\n",
              "      flex-wrap:wrap;\n",
              "      gap: 12px;\n",
              "    }\n",
              "\n",
              "    .colab-df-convert {\n",
              "      background-color: #E8F0FE;\n",
              "      border: none;\n",
              "      border-radius: 50%;\n",
              "      cursor: pointer;\n",
              "      display: none;\n",
              "      fill: #1967D2;\n",
              "      height: 32px;\n",
              "      padding: 0 0 0 0;\n",
              "      width: 32px;\n",
              "    }\n",
              "\n",
              "    .colab-df-convert:hover {\n",
              "      background-color: #E2EBFA;\n",
              "      box-shadow: 0px 1px 2px rgba(60, 64, 67, 0.3), 0px 1px 3px 1px rgba(60, 64, 67, 0.15);\n",
              "      fill: #174EA6;\n",
              "    }\n",
              "\n",
              "    [theme=dark] .colab-df-convert {\n",
              "      background-color: #3B4455;\n",
              "      fill: #D2E3FC;\n",
              "    }\n",
              "\n",
              "    [theme=dark] .colab-df-convert:hover {\n",
              "      background-color: #434B5C;\n",
              "      box-shadow: 0px 1px 3px 1px rgba(0, 0, 0, 0.15);\n",
              "      filter: drop-shadow(0px 1px 2px rgba(0, 0, 0, 0.3));\n",
              "      fill: #FFFFFF;\n",
              "    }\n",
              "  </style>\n",
              "\n",
              "      <script>\n",
              "        const buttonEl =\n",
              "          document.querySelector('#df-58873700-9063-4b61-b104-81cb4703d54b button.colab-df-convert');\n",
              "        buttonEl.style.display =\n",
              "          google.colab.kernel.accessAllowed ? 'block' : 'none';\n",
              "\n",
              "        async function convertToInteractive(key) {\n",
              "          const element = document.querySelector('#df-58873700-9063-4b61-b104-81cb4703d54b');\n",
              "          const dataTable =\n",
              "            await google.colab.kernel.invokeFunction('convertToInteractive',\n",
              "                                                     [key], {});\n",
              "          if (!dataTable) return;\n",
              "\n",
              "          const docLinkHtml = 'Like what you see? Visit the ' +\n",
              "            '<a target=\"_blank\" href=https://colab.research.google.com/notebooks/data_table.ipynb>data table notebook</a>'\n",
              "            + ' to learn more about interactive tables.';\n",
              "          element.innerHTML = '';\n",
              "          dataTable['output_type'] = 'display_data';\n",
              "          await google.colab.output.renderOutput(dataTable, element);\n",
              "          const docLink = document.createElement('div');\n",
              "          docLink.innerHTML = docLinkHtml;\n",
              "          element.appendChild(docLink);\n",
              "        }\n",
              "      </script>\n",
              "    </div>\n",
              "  </div>\n",
              "  "
            ],
            "text/plain": [
              "   category_id  ...                  category_level3\n",
              "0   1000021794  ...        CARTE PREPAYEE MULTIMEDIA\n",
              "1   1000012764  ...                      ABRI FUMEUR\n",
              "2   1000012776  ...            ABRI VELO - ABRI MOTO\n",
              "3   1000012768  ...                   FONTAINE A EAU\n",
              "4   1000012755  ...  PANNEAU D'INFORMATION EXTERIEUR\n",
              "\n",
              "[5 rows x 4 columns]"
            ]
          },
          "metadata": {},
          "execution_count": 16
        }
      ]
    },
    {
      "cell_type": "code",
      "source": [
        "\"\"\"\n",
        "Let's inspect categories and their relationship to images. We have\n",
        "\n",
        "5270 unique categories\n",
        "49 unique level 1 categories\n",
        "483 unique level 2 categories\n",
        "5263 unique level 3 categories\n",
        "\n",
        "\"\"\"\n",
        "\n",
        "print(\"Unique categories: \", len(categories_df['category_id'].unique()))\n",
        "print(\"Unique level 1 categories: \", len(categories_df['category_level1'].unique()))\n",
        "print(\"Unique level 2 categories: \", len(categories_df['category_level2'].unique()))\n",
        "print(\"Unique level 3 categories: \", len(categories_df['category_level3'].unique()))"
      ],
      "metadata": {
        "colab": {
          "base_uri": "https://localhost:8080/"
        },
        "id": "Rc0q1c0PO9ww",
        "outputId": "d8e9ca10-0742-4d9d-bbcd-ded06eaa1c3f"
      },
      "execution_count": 17,
      "outputs": [
        {
          "output_type": "stream",
          "name": "stdout",
          "text": [
            "Unique categories:  5270\n",
            "Unique level 1 categories:  49\n",
            "Unique level 2 categories:  483\n",
            "Unique level 3 categories:  5263\n"
          ]
        }
      ]
    },
    {
      "cell_type": "markdown",
      "source": [
        "Observation 1 :- category level3 has near about same uniuqe value as category id"
      ],
      "metadata": {
        "id": "lbe94G71QGFY"
      }
    },
    {
      "cell_type": "code",
      "source": [
        "#let's dig deep and see do we observe any observation between category id and category 3\n",
        "\n",
        "gb_obj = categories_df.groupby('category_level3')\n",
        "gb_cnt = gb_obj.count()\n",
        "# print(cnt)\n",
        "print('No of rows with one-one mapping between category_id and Category 3 - ',len(gb_cnt[gb_cnt['category_id'] ==1]))\n",
        "print('No of rows with more than one category_id for a given Category 3 - ',len(gb_cnt[gb_cnt['category_id'] >1]))\n",
        "print(gb_cnt[gb_cnt['category_id'] >1])"
      ],
      "metadata": {
        "colab": {
          "base_uri": "https://localhost:8080/"
        },
        "id": "E5nHUxVtQh0Q",
        "outputId": "48b4909b-9312-4adf-8951-7c8f08e8bb95"
      },
      "execution_count": 32,
      "outputs": [
        {
          "output_type": "stream",
          "name": "stdout",
          "text": [
            "No of rows with one-one mapping between category_id and Category 3 -  5256\n",
            "No of rows with more than one category_id for a given Category 3 -  7\n",
            "                                    category_id  ...  category_level2\n",
            "category_level3                                  ...                 \n",
            "CONFORT URINAIRE                              2  ...                2\n",
            "FONTAINE A EAU                                2  ...                2\n",
            "FUSIBLE                                       2  ...                2\n",
            "GUIDON                                        2  ...                2\n",
            "PELUCHE                                       2  ...                2\n",
            "PROTEGE ECRAN - FILM DE PROTECTION            2  ...                2\n",
            "VOITURE                                       2  ...                2\n",
            "\n",
            "[7 rows x 3 columns]\n"
          ]
        }
      ]
    },
    {
      "cell_type": "code",
      "source": [
        "#lets see one example of Category level 3 with more than 1 category_id\n",
        "gb_obj.get_group(gb_cnt[gb_cnt['category_id'] > 1].index.values[2])\n"
      ],
      "metadata": {
        "colab": {
          "base_uri": "https://localhost:8080/",
          "height": 112
        },
        "id": "1ogFA0UdiGMX",
        "outputId": "60b273e0-d7d1-4477-9767-cdefdabc9d10"
      },
      "execution_count": 56,
      "outputs": [
        {
          "output_type": "execute_result",
          "data": {
            "text/html": [
              "\n",
              "  <div id=\"df-9e7e5232-d478-460a-ba72-e48e149b3682\">\n",
              "    <div class=\"colab-df-container\">\n",
              "      <div>\n",
              "<style scoped>\n",
              "    .dataframe tbody tr th:only-of-type {\n",
              "        vertical-align: middle;\n",
              "    }\n",
              "\n",
              "    .dataframe tbody tr th {\n",
              "        vertical-align: top;\n",
              "    }\n",
              "\n",
              "    .dataframe thead th {\n",
              "        text-align: right;\n",
              "    }\n",
              "</style>\n",
              "<table border=\"1\" class=\"dataframe\">\n",
              "  <thead>\n",
              "    <tr style=\"text-align: right;\">\n",
              "      <th></th>\n",
              "      <th>category_id</th>\n",
              "      <th>category_level1</th>\n",
              "      <th>category_level2</th>\n",
              "      <th>category_level3</th>\n",
              "    </tr>\n",
              "  </thead>\n",
              "  <tbody>\n",
              "    <tr>\n",
              "      <th>1149</th>\n",
              "      <td>1000006131</td>\n",
              "      <td>BRICOLAGE - OUTILLAGE - QUINCAILLERIE</td>\n",
              "      <td>ELECTRICITE - DOMOTIQUE</td>\n",
              "      <td>FUSIBLE</td>\n",
              "    </tr>\n",
              "    <tr>\n",
              "      <th>2156</th>\n",
              "      <td>1000013353</td>\n",
              "      <td>ELECTRONIQUE</td>\n",
              "      <td>COMPOSANTS OPTOELECTRONIQUES</td>\n",
              "      <td>FUSIBLE</td>\n",
              "    </tr>\n",
              "  </tbody>\n",
              "</table>\n",
              "</div>\n",
              "      <button class=\"colab-df-convert\" onclick=\"convertToInteractive('df-9e7e5232-d478-460a-ba72-e48e149b3682')\"\n",
              "              title=\"Convert this dataframe to an interactive table.\"\n",
              "              style=\"display:none;\">\n",
              "        \n",
              "  <svg xmlns=\"http://www.w3.org/2000/svg\" height=\"24px\"viewBox=\"0 0 24 24\"\n",
              "       width=\"24px\">\n",
              "    <path d=\"M0 0h24v24H0V0z\" fill=\"none\"/>\n",
              "    <path d=\"M18.56 5.44l.94 2.06.94-2.06 2.06-.94-2.06-.94-.94-2.06-.94 2.06-2.06.94zm-11 1L8.5 8.5l.94-2.06 2.06-.94-2.06-.94L8.5 2.5l-.94 2.06-2.06.94zm10 10l.94 2.06.94-2.06 2.06-.94-2.06-.94-.94-2.06-.94 2.06-2.06.94z\"/><path d=\"M17.41 7.96l-1.37-1.37c-.4-.4-.92-.59-1.43-.59-.52 0-1.04.2-1.43.59L10.3 9.45l-7.72 7.72c-.78.78-.78 2.05 0 2.83L4 21.41c.39.39.9.59 1.41.59.51 0 1.02-.2 1.41-.59l7.78-7.78 2.81-2.81c.8-.78.8-2.07 0-2.86zM5.41 20L4 18.59l7.72-7.72 1.47 1.35L5.41 20z\"/>\n",
              "  </svg>\n",
              "      </button>\n",
              "      \n",
              "  <style>\n",
              "    .colab-df-container {\n",
              "      display:flex;\n",
              "      flex-wrap:wrap;\n",
              "      gap: 12px;\n",
              "    }\n",
              "\n",
              "    .colab-df-convert {\n",
              "      background-color: #E8F0FE;\n",
              "      border: none;\n",
              "      border-radius: 50%;\n",
              "      cursor: pointer;\n",
              "      display: none;\n",
              "      fill: #1967D2;\n",
              "      height: 32px;\n",
              "      padding: 0 0 0 0;\n",
              "      width: 32px;\n",
              "    }\n",
              "\n",
              "    .colab-df-convert:hover {\n",
              "      background-color: #E2EBFA;\n",
              "      box-shadow: 0px 1px 2px rgba(60, 64, 67, 0.3), 0px 1px 3px 1px rgba(60, 64, 67, 0.15);\n",
              "      fill: #174EA6;\n",
              "    }\n",
              "\n",
              "    [theme=dark] .colab-df-convert {\n",
              "      background-color: #3B4455;\n",
              "      fill: #D2E3FC;\n",
              "    }\n",
              "\n",
              "    [theme=dark] .colab-df-convert:hover {\n",
              "      background-color: #434B5C;\n",
              "      box-shadow: 0px 1px 3px 1px rgba(0, 0, 0, 0.15);\n",
              "      filter: drop-shadow(0px 1px 2px rgba(0, 0, 0, 0.3));\n",
              "      fill: #FFFFFF;\n",
              "    }\n",
              "  </style>\n",
              "\n",
              "      <script>\n",
              "        const buttonEl =\n",
              "          document.querySelector('#df-9e7e5232-d478-460a-ba72-e48e149b3682 button.colab-df-convert');\n",
              "        buttonEl.style.display =\n",
              "          google.colab.kernel.accessAllowed ? 'block' : 'none';\n",
              "\n",
              "        async function convertToInteractive(key) {\n",
              "          const element = document.querySelector('#df-9e7e5232-d478-460a-ba72-e48e149b3682');\n",
              "          const dataTable =\n",
              "            await google.colab.kernel.invokeFunction('convertToInteractive',\n",
              "                                                     [key], {});\n",
              "          if (!dataTable) return;\n",
              "\n",
              "          const docLinkHtml = 'Like what you see? Visit the ' +\n",
              "            '<a target=\"_blank\" href=https://colab.research.google.com/notebooks/data_table.ipynb>data table notebook</a>'\n",
              "            + ' to learn more about interactive tables.';\n",
              "          element.innerHTML = '';\n",
              "          dataTable['output_type'] = 'display_data';\n",
              "          await google.colab.output.renderOutput(dataTable, element);\n",
              "          const docLink = document.createElement('div');\n",
              "          docLink.innerHTML = docLinkHtml;\n",
              "          element.appendChild(docLink);\n",
              "        }\n",
              "      </script>\n",
              "    </div>\n",
              "  </div>\n",
              "  "
            ],
            "text/plain": [
              "      category_id  ... category_level3\n",
              "1149   1000006131  ...         FUSIBLE\n",
              "2156   1000013353  ...         FUSIBLE\n",
              "\n",
              "[2 rows x 4 columns]"
            ]
          },
          "metadata": {},
          "execution_count": 56
        }
      ]
    },
    {
      "cell_type": "markdown",
      "source": [
        "Observation 2 :- \n",
        "\n",
        "1.   Total Unique level 3 categories:  5263 \n",
        "2.   One-One mapping between category_id and level 3 categories : 5256\n",
        "3.   Category level 3 with more than 1 category_id : 7\n",
        "\n",
        "\n",
        "            "
      ],
      "metadata": {
        "id": "iAzNf4HeVZar"
      }
    },
    {
      "cell_type": "code",
      "source": [
        "#Visualizing Top 15 Categories of Catergories level1 and level2"
      ],
      "metadata": {
        "id": "l-4mJz1ZmQBV"
      },
      "execution_count": 165,
      "outputs": []
    },
    {
      "cell_type": "code",
      "source": [
        "col_name=['category_level1', 'category_level2']\n",
        "fig, ax = plt.subplots(1,2,figsize =(10, 10))\n",
        "ax = ax.flatten()\n",
        "ax[0].set_title('Top 15 category level 1')\n",
        "ax[1].set_title('Top 15 category level 2')\n",
        "\n",
        "\n",
        "\n",
        "\n",
        "for i, cat in enumerate(col_name):\n",
        "\n",
        "    print('index=', i, 'category=', cat)\n",
        "    cat1_count = categories_df[cat].value_counts().to_frame().reset_index()\n",
        "    name_cat1 = cat1_count['index'].head(15)\n",
        "    count_cat1 = cat1_count[cat].head(15)\n",
        "\n",
        "    # Figure Size\n",
        "    # fig, ax = plt.subplots(2,2,figsize =(16, 16))\n",
        "    # because ax will be a 2D array an we are converting into 1D array\n",
        "    # Add padding between axes and labels\n",
        "    ax[i].xaxis.set_tick_params(pad=5)\n",
        "    ax[i].yaxis.set_tick_params(pad=10)\n",
        "\n",
        "    # Horizontal Bar Plot\n",
        "    ax[i].barh(name_cat1, count_cat1)\n",
        "\n",
        "    # Remove axes splines\n",
        "    for s in ['top', 'bottom', 'left', 'right']:\n",
        "        ax[i].spines[s].set_visible(False)\n",
        "\n",
        "    # Add x, y gridlines\n",
        "    ax[i].grid(b=True, color='grey', linestyle='-.',\n",
        "                 linewidth=0.5, alpha=0.2)\n",
        "\n",
        "    # Show top values\n",
        "    ax[i].invert_yaxis()\n",
        "\n",
        "    # # # Add Text watermark\n",
        "    # # fig.text(0.9, 0.15, 'Sarthak Kaushik', fontsize = 12,\n",
        "    # #          color ='grey', ha ='right', va ='bottom',\n",
        "    # #          alpha = 0.7)\n",
        "\n",
        "    # #Add annotation to bars\n",
        "    # for i in ax[i].patches:\n",
        "    #     plt.text(i.get_width()+0.2, i.get_y()+0.5,\n",
        "    #              str(round((i.get_width()), 2)),\n",
        "    #              fontsize = 10, fontweight ='bold',\n",
        "    #              color ='grey')\n",
        "\n",
        "    # Add Plot Title\n",
        "    print(\"type-\",type(cat),cat)\n",
        "    # ax[i].set_title('Top 5 ',cat, loc='center', )\n",
        "\n",
        "    \n",
        " "
      ],
      "metadata": {
        "colab": {
          "base_uri": "https://localhost:8080/",
          "height": 682
        },
        "id": "TrXOH8zmBK8P",
        "outputId": "018edeae-56c2-45c0-d8c7-0e7cb4a4df48"
      },
      "execution_count": 173,
      "outputs": [
        {
          "output_type": "stream",
          "name": "stdout",
          "text": [
            "index= 0 category= category_level1\n",
            "type- <class 'str'> category_level1\n",
            "index= 1 category= category_level2\n",
            "type- <class 'str'> category_level2\n"
          ]
        },
        {
          "output_type": "display_data",
          "data": {
            "image/png": "[encoded data removed]",
            "text/plain": [
              "<Figure size 720x720 with 2 Axes>"
            ]
          },
          "metadata": {
            "needs_background": "light"
          }
        }
      ]
    },
    {
      "cell_type": "code",
      "source": [
        "train_bson_path = os.path.join(data_dir, \"train.bson\")\n",
        "test_bson_path = os.path.join(data_dir, \"test.bson\")\n"
      ],
      "metadata": {
        "id": "d3UUZsfx6f2Y"
      },
      "execution_count": 10,
      "outputs": []
    },
    {
      "cell_type": "code",
      "source": [
        "prod_id = []\n",
        "prod_category = []\n",
        "prod_num_imgs = []\n",
        "prod_img=[]\n",
        "\n",
        "num_dicts = 7069896 # according to data page\n",
        "\n",
        "# This will take few minutes to complete\n",
        "with open(train_bson_path, 'rb') as f, tqdm_notebook(total=num_dicts) as bar:\n",
        "        \n",
        "    data = bson.decode_file_iter(f)\n",
        "\n",
        "    for c, d in enumerate(data):\n",
        "        bar.update()\n",
        "        prod_id.append(d['_id'])\n",
        "        prod_category.append(d['category_id'])\n",
        "        prod_num_imgs.append(len(d['imgs']))\n",
        "        # prod_img.append(d['imgs'])"
      ],
      "metadata": {
        "colab": {
          "base_uri": "https://localhost:8080/",
          "height": 457,
          "referenced_widgets": [
            "e8fd0aee77fc428e80b0572c3c394344",
            "0be78076c5a04bb9a57eb86b69840e3a",
            "801144b6327847118207436d181f31a9",
            "8d2667705cec47ff8cf1d88b66f292b7",
            "b204ff6cd34a4ecba53ce72738c7ae74",
            "f08c87faa0a847a9854c5b1365f53b03",
            "9361d464c8cc4e9888491d9e4f447ed0",
            "c117cf3dc90e420590b4bd1ac1687d80",
            "96ce8b2600034768af53af7d8de75823",
            "87a850f785504dc0bdae4aa70bf18c9c",
            "f6479f934a25487e81ebcac560c80a67"
          ]
        },
        "id": "xV2Sc9926RIr",
        "outputId": "e224aa39-822b-4c88-8b06-1f1c9a6ffa2e"
      },
      "execution_count": 13,
      "outputs": [
        {
          "output_type": "stream",
          "name": "stderr",
          "text": [
            "/usr/local/lib/python3.7/dist-packages/ipykernel_launcher.py:9: TqdmDeprecationWarning: This function will be removed in tqdm==5.0.0\n",
            "Please use `tqdm.notebook.tqdm` instead of `tqdm.tqdm_notebook`\n",
            "  if __name__ == '__main__':\n"
          ]
        },
        {
          "output_type": "display_data",
          "data": {
            "application/vnd.jupyter.widget-view+json": {
              "model_id": "e8fd0aee77fc428e80b0572c3c394344",
              "version_minor": 0,
              "version_major": 2
            },
            "text/plain": [
              "  0%|          | 0/7069896 [00:00<?, ?it/s]"
            ]
          },
          "metadata": {}
        },
        {
          "output_type": "error",
          "ename": "KeyboardInterrupt",
          "evalue": "ignored",
          "traceback": [
            "\u001b[0;31m---------------------------------------------------------------------------\u001b[0m",
            "\u001b[0;31mKeyboardInterrupt\u001b[0m                         Traceback (most recent call last)",
            "\u001b[0;32m<ipython-input-13-212cbde26583>\u001b[0m in \u001b[0;36m<module>\u001b[0;34m()\u001b[0m\n\u001b[1;32m     11\u001b[0m     \u001b[0mdata\u001b[0m \u001b[0;34m=\u001b[0m \u001b[0mbson\u001b[0m\u001b[0;34m.\u001b[0m\u001b[0mdecode_file_iter\u001b[0m\u001b[0;34m(\u001b[0m\u001b[0mf\u001b[0m\u001b[0;34m)\u001b[0m\u001b[0;34m\u001b[0m\u001b[0;34m\u001b[0m\u001b[0m\n\u001b[1;32m     12\u001b[0m \u001b[0;34m\u001b[0m\u001b[0m\n\u001b[0;32m---> 13\u001b[0;31m     \u001b[0;32mfor\u001b[0m \u001b[0mc\u001b[0m\u001b[0;34m,\u001b[0m \u001b[0md\u001b[0m \u001b[0;32min\u001b[0m \u001b[0menumerate\u001b[0m\u001b[0;34m(\u001b[0m\u001b[0mdata\u001b[0m\u001b[0;34m)\u001b[0m\u001b[0;34m:\u001b[0m\u001b[0;34m\u001b[0m\u001b[0;34m\u001b[0m\u001b[0m\n\u001b[0m\u001b[1;32m     14\u001b[0m         \u001b[0mbar\u001b[0m\u001b[0;34m.\u001b[0m\u001b[0mupdate\u001b[0m\u001b[0;34m(\u001b[0m\u001b[0;34m)\u001b[0m\u001b[0;34m\u001b[0m\u001b[0;34m\u001b[0m\u001b[0m\n\u001b[1;32m     15\u001b[0m         \u001b[0mprod_id\u001b[0m\u001b[0;34m.\u001b[0m\u001b[0mappend\u001b[0m\u001b[0;34m(\u001b[0m\u001b[0md\u001b[0m\u001b[0;34m[\u001b[0m\u001b[0;34m'_id'\u001b[0m\u001b[0;34m]\u001b[0m\u001b[0;34m)\u001b[0m\u001b[0;34m\u001b[0m\u001b[0;34m\u001b[0m\u001b[0m\n",
            "\u001b[0;32m/usr/local/lib/python3.7/dist-packages/bson/__init__.py\u001b[0m in \u001b[0;36mdecode_file_iter\u001b[0;34m(file_obj, codec_options)\u001b[0m\n\u001b[1;32m   1168\u001b[0m             \u001b[0;32mraise\u001b[0m \u001b[0mInvalidBSON\u001b[0m\u001b[0;34m(\u001b[0m\u001b[0;34m\"cut off in middle of objsize\"\u001b[0m\u001b[0;34m)\u001b[0m\u001b[0;34m\u001b[0m\u001b[0;34m\u001b[0m\u001b[0m\n\u001b[1;32m   1169\u001b[0m         \u001b[0mobj_size\u001b[0m \u001b[0;34m=\u001b[0m \u001b[0m_UNPACK_INT_FROM\u001b[0m\u001b[0;34m(\u001b[0m\u001b[0msize_data\u001b[0m\u001b[0;34m,\u001b[0m \u001b[0;36m0\u001b[0m\u001b[0;34m)\u001b[0m\u001b[0;34m[\u001b[0m\u001b[0;36m0\u001b[0m\u001b[0;34m]\u001b[0m \u001b[0;34m-\u001b[0m \u001b[0;36m4\u001b[0m\u001b[0;34m\u001b[0m\u001b[0;34m\u001b[0m\u001b[0m\n\u001b[0;32m-> 1170\u001b[0;31m         \u001b[0melements\u001b[0m \u001b[0;34m=\u001b[0m \u001b[0msize_data\u001b[0m \u001b[0;34m+\u001b[0m \u001b[0mfile_obj\u001b[0m\u001b[0;34m.\u001b[0m\u001b[0mread\u001b[0m\u001b[0;34m(\u001b[0m\u001b[0mmax\u001b[0m\u001b[0;34m(\u001b[0m\u001b[0;36m0\u001b[0m\u001b[0;34m,\u001b[0m \u001b[0mobj_size\u001b[0m\u001b[0;34m)\u001b[0m\u001b[0;34m)\u001b[0m\u001b[0;34m\u001b[0m\u001b[0;34m\u001b[0m\u001b[0m\n\u001b[0m\u001b[1;32m   1171\u001b[0m         \u001b[0;32myield\u001b[0m \u001b[0m_bson_to_dict\u001b[0m\u001b[0;34m(\u001b[0m\u001b[0melements\u001b[0m\u001b[0;34m,\u001b[0m \u001b[0mcodec_options\u001b[0m\u001b[0;34m)\u001b[0m\u001b[0;34m\u001b[0m\u001b[0;34m\u001b[0m\u001b[0m\n\u001b[1;32m   1172\u001b[0m \u001b[0;34m\u001b[0m\u001b[0m\n",
            "\u001b[0;31mKeyboardInterrupt\u001b[0m: "
          ]
        }
      ]
    },
    {
      "cell_type": "code",
      "source": [
        "#Create the dataframe\n",
        "df_dict = {\n",
        "    'category': prod_category,\n",
        "    'num_imgs': prod_num_imgs\n",
        "}\n",
        "df = pd.DataFrame(df_dict, index=prod_id)\n",
        "del df_dict # Free memory"
      ],
      "metadata": {
        "id": "WkKgRHFb9OJK"
      },
      "execution_count": 13,
      "outputs": []
    },
    {
      "cell_type": "code",
      "source": [
        "df.head()"
      ],
      "metadata": {
        "colab": {
          "base_uri": "https://localhost:8080/",
          "height": 206
        },
        "id": "AUSyPMxI-ZoQ",
        "outputId": "8c7ce6a1-76db-40f0-b746-108032514efe"
      },
      "execution_count": 14,
      "outputs": [
        {
          "output_type": "execute_result",
          "data": {
            "text/html": [
              "\n",
              "  <div id=\"df-4348206d-6b2e-4f21-943b-9ece360a2078\">\n",
              "    <div class=\"colab-df-container\">\n",
              "      <div>\n",
              "<style scoped>\n",
              "    .dataframe tbody tr th:only-of-type {\n",
              "        vertical-align: middle;\n",
              "    }\n",
              "\n",
              "    .dataframe tbody tr th {\n",
              "        vertical-align: top;\n",
              "    }\n",
              "\n",
              "    .dataframe thead th {\n",
              "        text-align: right;\n",
              "    }\n",
              "</style>\n",
              "<table border=\"1\" class=\"dataframe\">\n",
              "  <thead>\n",
              "    <tr style=\"text-align: right;\">\n",
              "      <th></th>\n",
              "      <th>category</th>\n",
              "      <th>num_imgs</th>\n",
              "    </tr>\n",
              "  </thead>\n",
              "  <tbody>\n",
              "    <tr>\n",
              "      <th>0</th>\n",
              "      <td>1000010653</td>\n",
              "      <td>1</td>\n",
              "    </tr>\n",
              "    <tr>\n",
              "      <th>1</th>\n",
              "      <td>1000010653</td>\n",
              "      <td>1</td>\n",
              "    </tr>\n",
              "    <tr>\n",
              "      <th>2</th>\n",
              "      <td>1000004079</td>\n",
              "      <td>1</td>\n",
              "    </tr>\n",
              "    <tr>\n",
              "      <th>3</th>\n",
              "      <td>1000004141</td>\n",
              "      <td>1</td>\n",
              "    </tr>\n",
              "    <tr>\n",
              "      <th>4</th>\n",
              "      <td>1000015539</td>\n",
              "      <td>1</td>\n",
              "    </tr>\n",
              "  </tbody>\n",
              "</table>\n",
              "</div>\n",
              "      <button class=\"colab-df-convert\" onclick=\"convertToInteractive('df-4348206d-6b2e-4f21-943b-9ece360a2078')\"\n",
              "              title=\"Convert this dataframe to an interactive table.\"\n",
              "              style=\"display:none;\">\n",
              "        \n",
              "  <svg xmlns=\"http://www.w3.org/2000/svg\" height=\"24px\"viewBox=\"0 0 24 24\"\n",
              "       width=\"24px\">\n",
              "    <path d=\"M0 0h24v24H0V0z\" fill=\"none\"/>\n",
              "    <path d=\"M18.56 5.44l.94 2.06.94-2.06 2.06-.94-2.06-.94-.94-2.06-.94 2.06-2.06.94zm-11 1L8.5 8.5l.94-2.06 2.06-.94-2.06-.94L8.5 2.5l-.94 2.06-2.06.94zm10 10l.94 2.06.94-2.06 2.06-.94-2.06-.94-.94-2.06-.94 2.06-2.06.94z\"/><path d=\"M17.41 7.96l-1.37-1.37c-.4-.4-.92-.59-1.43-.59-.52 0-1.04.2-1.43.59L10.3 9.45l-7.72 7.72c-.78.78-.78 2.05 0 2.83L4 21.41c.39.39.9.59 1.41.59.51 0 1.02-.2 1.41-.59l7.78-7.78 2.81-2.81c.8-.78.8-2.07 0-2.86zM5.41 20L4 18.59l7.72-7.72 1.47 1.35L5.41 20z\"/>\n",
              "  </svg>\n",
              "      </button>\n",
              "      \n",
              "  <style>\n",
              "    .colab-df-container {\n",
              "      display:flex;\n",
              "      flex-wrap:wrap;\n",
              "      gap: 12px;\n",
              "    }\n",
              "\n",
              "    .colab-df-convert {\n",
              "      background-color: #E8F0FE;\n",
              "      border: none;\n",
              "      border-radius: 50%;\n",
              "      cursor: pointer;\n",
              "      display: none;\n",
              "      fill: #1967D2;\n",
              "      height: 32px;\n",
              "      padding: 0 0 0 0;\n",
              "      width: 32px;\n",
              "    }\n",
              "\n",
              "    .colab-df-convert:hover {\n",
              "      background-color: #E2EBFA;\n",
              "      box-shadow: 0px 1px 2px rgba(60, 64, 67, 0.3), 0px 1px 3px 1px rgba(60, 64, 67, 0.15);\n",
              "      fill: #174EA6;\n",
              "    }\n",
              "\n",
              "    [theme=dark] .colab-df-convert {\n",
              "      background-color: #3B4455;\n",
              "      fill: #D2E3FC;\n",
              "    }\n",
              "\n",
              "    [theme=dark] .colab-df-convert:hover {\n",
              "      background-color: #434B5C;\n",
              "      box-shadow: 0px 1px 3px 1px rgba(0, 0, 0, 0.15);\n",
              "      filter: drop-shadow(0px 1px 2px rgba(0, 0, 0, 0.3));\n",
              "      fill: #FFFFFF;\n",
              "    }\n",
              "  </style>\n",
              "\n",
              "      <script>\n",
              "        const buttonEl =\n",
              "          document.querySelector('#df-4348206d-6b2e-4f21-943b-9ece360a2078 button.colab-df-convert');\n",
              "        buttonEl.style.display =\n",
              "          google.colab.kernel.accessAllowed ? 'block' : 'none';\n",
              "\n",
              "        async function convertToInteractive(key) {\n",
              "          const element = document.querySelector('#df-4348206d-6b2e-4f21-943b-9ece360a2078');\n",
              "          const dataTable =\n",
              "            await google.colab.kernel.invokeFunction('convertToInteractive',\n",
              "                                                     [key], {});\n",
              "          if (!dataTable) return;\n",
              "\n",
              "          const docLinkHtml = 'Like what you see? Visit the ' +\n",
              "            '<a target=\"_blank\" href=https://colab.research.google.com/notebooks/data_table.ipynb>data table notebook</a>'\n",
              "            + ' to learn more about interactive tables.';\n",
              "          element.innerHTML = '';\n",
              "          dataTable['output_type'] = 'display_data';\n",
              "          await google.colab.output.renderOutput(dataTable, element);\n",
              "          const docLink = document.createElement('div');\n",
              "          docLink.innerHTML = docLinkHtml;\n",
              "          element.appendChild(docLink);\n",
              "        }\n",
              "      </script>\n",
              "    </div>\n",
              "  </div>\n",
              "  "
            ],
            "text/plain": [
              "     category  num_imgs\n",
              "0  1000010653         1\n",
              "1  1000010653         1\n",
              "2  1000004079         1\n",
              "3  1000004141         1\n",
              "4  1000015539         1"
            ]
          },
          "metadata": {},
          "execution_count": 14
        }
      ]
    },
    {
      "cell_type": "code",
      "source": [
        "df.columns"
      ],
      "metadata": {
        "colab": {
          "base_uri": "https://localhost:8080/"
        },
        "id": "quCURcNd-wOs",
        "outputId": "c5c390e0-6ce8-453b-869f-4fec6dae4d0c"
      },
      "execution_count": 15,
      "outputs": [
        {
          "output_type": "execute_result",
          "data": {
            "text/plain": [
              "Index(['category', 'num_imgs'], dtype='object')"
            ]
          },
          "metadata": {},
          "execution_count": 15
        }
      ]
    },
    {
      "cell_type": "code",
      "source": [
        ""
      ],
      "metadata": {
        "colab": {
          "base_uri": "https://localhost:8080/"
        },
        "id": "iFDwap6n_E6t",
        "outputId": "908a08ef-4afd-4611-a2a6-6044fdc439b1"
      },
      "execution_count": 30,
      "outputs": [
        {
          "output_type": "execute_result",
          "data": {
            "text/plain": [
              "1    4369441\n",
              "2    1128588\n",
              "4    1029075\n",
              "3     542792\n",
              "Name: num_imgs, dtype: int64"
            ]
          },
          "metadata": {},
          "execution_count": 30
        }
      ]
    },
    {
      "cell_type": "markdown",
      "source": [
        "#Number of Image Per Category"
      ],
      "metadata": {
        "id": "DDAuHKdh-SV9"
      }
    },
    {
      "cell_type": "code",
      "source": [
        "df['num_imgs'].value_counts()"
      ],
      "metadata": {
        "colab": {
          "base_uri": "https://localhost:8080/"
        },
        "id": "7zUrBMm__NjN",
        "outputId": "fd35abd7-8e53-4924-d644-3ae1e55f8054"
      },
      "execution_count": 31,
      "outputs": [
        {
          "output_type": "execute_result",
          "data": {
            "text/plain": [
              "1    4369441\n",
              "2    1128588\n",
              "4    1029075\n",
              "3     542792\n",
              "Name: num_imgs, dtype: int64"
            ]
          },
          "metadata": {},
          "execution_count": 31
        }
      ]
    },
    {
      "cell_type": "code",
      "source": [
        "df.num_imgs.value_counts().plot(kind='bar');"
      ],
      "metadata": {
        "colab": {
          "base_uri": "https://localhost:8080/",
          "height": 273
        },
        "id": "n5hUrAEE-Kpy",
        "outputId": "b275808f-c9a3-4403-ca8b-cb5d87a8f9a2"
      },
      "execution_count": 21,
      "outputs": [
        {
          "output_type": "display_data",
          "data": {
            "image/png": "[encoded data removed]",
            "text/plain": [
              "<Figure size 432x288 with 1 Axes>"
            ]
          },
          "metadata": {
            "needs_background": "light"
          }
        }
      ]
    },
    {
      "cell_type": "markdown",
      "source": [
        "# Let's see the top 10 most common category from the category table"
      ],
      "metadata": {
        "id": "GBrsWCHsAG_h"
      }
    },
    {
      "cell_type": "code",
      "source": [
        "df.category.value_counts().to_frame().head(10).join(categories)"
      ],
      "metadata": {
        "colab": {
          "base_uri": "https://localhost:8080/",
          "height": 363
        },
        "id": "tOmZd1MT-Rn0",
        "outputId": "c610285b-582d-446d-c1dd-a8bfacea727a"
      },
      "execution_count": 37,
      "outputs": [
        {
          "output_type": "execute_result",
          "data": {
            "text/html": [
              "\n",
              "  <div id=\"df-6ef31208-6fc3-4e58-8a29-1bfd81d6f46c\">\n",
              "    <div class=\"colab-df-container\">\n",
              "      <div>\n",
              "<style scoped>\n",
              "    .dataframe tbody tr th:only-of-type {\n",
              "        vertical-align: middle;\n",
              "    }\n",
              "\n",
              "    .dataframe tbody tr th {\n",
              "        vertical-align: top;\n",
              "    }\n",
              "\n",
              "    .dataframe thead th {\n",
              "        text-align: right;\n",
              "    }\n",
              "</style>\n",
              "<table border=\"1\" class=\"dataframe\">\n",
              "  <thead>\n",
              "    <tr style=\"text-align: right;\">\n",
              "      <th></th>\n",
              "      <th>category</th>\n",
              "      <th>category_level1</th>\n",
              "      <th>category_level2</th>\n",
              "      <th>category_level3</th>\n",
              "    </tr>\n",
              "  </thead>\n",
              "  <tbody>\n",
              "    <tr>\n",
              "      <th>1000018296</th>\n",
              "      <td>79640</td>\n",
              "      <td>MUSIQUE</td>\n",
              "      <td>CD</td>\n",
              "      <td>CD POP ROCK - CD ROCK INDE</td>\n",
              "    </tr>\n",
              "    <tr>\n",
              "      <th>1000011423</th>\n",
              "      <td>71116</td>\n",
              "      <td>INFORMATIQUE</td>\n",
              "      <td>IMPRESSION - SCANNER</td>\n",
              "      <td>TONER - RECUPERATEUR DE TONER</td>\n",
              "    </tr>\n",
              "    <tr>\n",
              "      <th>1000011427</th>\n",
              "      <td>69784</td>\n",
              "      <td>INFORMATIQUE</td>\n",
              "      <td>IMPRESSION - SCANNER</td>\n",
              "      <td>CARTOUCHE IMPRIMANTE</td>\n",
              "    </tr>\n",
              "    <tr>\n",
              "      <th>1000014202</th>\n",
              "      <td>65642</td>\n",
              "      <td>LIBRAIRIE</td>\n",
              "      <td>LITTERATURE</td>\n",
              "      <td>LITTERATURE FRANCAISE</td>\n",
              "    </tr>\n",
              "    <tr>\n",
              "      <th>1000015309</th>\n",
              "      <td>65435</td>\n",
              "      <td>LIBRAIRIE</td>\n",
              "      <td>AUTRES LIVRES</td>\n",
              "      <td>AUTRES LIVRES</td>\n",
              "    </tr>\n",
              "    <tr>\n",
              "      <th>1000004085</th>\n",
              "      <td>61942</td>\n",
              "      <td>INFORMATIQUE</td>\n",
              "      <td>CONNECTIQUE - ALIMENTATION</td>\n",
              "      <td>BATTERIE D'ALIMENTATION INFORMATIQUE</td>\n",
              "    </tr>\n",
              "    <tr>\n",
              "      <th>1000010653</th>\n",
              "      <td>61688</td>\n",
              "      <td>TELEPHONIE - GPS</td>\n",
              "      <td>ACCESSOIRE TELEPHONE</td>\n",
              "      <td>COQUE TELEPHONE - BUMPER TELEPHONE</td>\n",
              "    </tr>\n",
              "    <tr>\n",
              "      <th>1000018290</th>\n",
              "      <td>60332</td>\n",
              "      <td>MUSIQUE</td>\n",
              "      <td>CD</td>\n",
              "      <td>CD MUSIQUE CLASSIQUE</td>\n",
              "    </tr>\n",
              "    <tr>\n",
              "      <th>1000018294</th>\n",
              "      <td>57748</td>\n",
              "      <td>MUSIQUE</td>\n",
              "      <td>CD</td>\n",
              "      <td>CD MUSIQUE DU MONDE</td>\n",
              "    </tr>\n",
              "    <tr>\n",
              "      <th>1000008094</th>\n",
              "      <td>56192</td>\n",
              "      <td>INFORMATIQUE</td>\n",
              "      <td>COMPOSANT - PIECE DETACHEE</td>\n",
              "      <td>DALLE D'ECRAN</td>\n",
              "    </tr>\n",
              "  </tbody>\n",
              "</table>\n",
              "</div>\n",
              "      <button class=\"colab-df-convert\" onclick=\"convertToInteractive('df-6ef31208-6fc3-4e58-8a29-1bfd81d6f46c')\"\n",
              "              title=\"Convert this dataframe to an interactive table.\"\n",
              "              style=\"display:none;\">\n",
              "        \n",
              "  <svg xmlns=\"http://www.w3.org/2000/svg\" height=\"24px\"viewBox=\"0 0 24 24\"\n",
              "       width=\"24px\">\n",
              "    <path d=\"M0 0h24v24H0V0z\" fill=\"none\"/>\n",
              "    <path d=\"M18.56 5.44l.94 2.06.94-2.06 2.06-.94-2.06-.94-.94-2.06-.94 2.06-2.06.94zm-11 1L8.5 8.5l.94-2.06 2.06-.94-2.06-.94L8.5 2.5l-.94 2.06-2.06.94zm10 10l.94 2.06.94-2.06 2.06-.94-2.06-.94-.94-2.06-.94 2.06-2.06.94z\"/><path d=\"M17.41 7.96l-1.37-1.37c-.4-.4-.92-.59-1.43-.59-.52 0-1.04.2-1.43.59L10.3 9.45l-7.72 7.72c-.78.78-.78 2.05 0 2.83L4 21.41c.39.39.9.59 1.41.59.51 0 1.02-.2 1.41-.59l7.78-7.78 2.81-2.81c.8-.78.8-2.07 0-2.86zM5.41 20L4 18.59l7.72-7.72 1.47 1.35L5.41 20z\"/>\n",
              "  </svg>\n",
              "      </button>\n",
              "      \n",
              "  <style>\n",
              "    .colab-df-container {\n",
              "      display:flex;\n",
              "      flex-wrap:wrap;\n",
              "      gap: 12px;\n",
              "    }\n",
              "\n",
              "    .colab-df-convert {\n",
              "      background-color: #E8F0FE;\n",
              "      border: none;\n",
              "      border-radius: 50%;\n",
              "      cursor: pointer;\n",
              "      display: none;\n",
              "      fill: #1967D2;\n",
              "      height: 32px;\n",
              "      padding: 0 0 0 0;\n",
              "      width: 32px;\n",
              "    }\n",
              "\n",
              "    .colab-df-convert:hover {\n",
              "      background-color: #E2EBFA;\n",
              "      box-shadow: 0px 1px 2px rgba(60, 64, 67, 0.3), 0px 1px 3px 1px rgba(60, 64, 67, 0.15);\n",
              "      fill: #174EA6;\n",
              "    }\n",
              "\n",
              "    [theme=dark] .colab-df-convert {\n",
              "      background-color: #3B4455;\n",
              "      fill: #D2E3FC;\n",
              "    }\n",
              "\n",
              "    [theme=dark] .colab-df-convert:hover {\n",
              "      background-color: #434B5C;\n",
              "      box-shadow: 0px 1px 3px 1px rgba(0, 0, 0, 0.15);\n",
              "      filter: drop-shadow(0px 1px 2px rgba(0, 0, 0, 0.3));\n",
              "      fill: #FFFFFF;\n",
              "    }\n",
              "  </style>\n",
              "\n",
              "      <script>\n",
              "        const buttonEl =\n",
              "          document.querySelector('#df-6ef31208-6fc3-4e58-8a29-1bfd81d6f46c button.colab-df-convert');\n",
              "        buttonEl.style.display =\n",
              "          google.colab.kernel.accessAllowed ? 'block' : 'none';\n",
              "\n",
              "        async function convertToInteractive(key) {\n",
              "          const element = document.querySelector('#df-6ef31208-6fc3-4e58-8a29-1bfd81d6f46c');\n",
              "          const dataTable =\n",
              "            await google.colab.kernel.invokeFunction('convertToInteractive',\n",
              "                                                     [key], {});\n",
              "          if (!dataTable) return;\n",
              "\n",
              "          const docLinkHtml = 'Like what you see? Visit the ' +\n",
              "            '<a target=\"_blank\" href=https://colab.research.google.com/notebooks/data_table.ipynb>data table notebook</a>'\n",
              "            + ' to learn more about interactive tables.';\n",
              "          element.innerHTML = '';\n",
              "          dataTable['output_type'] = 'display_data';\n",
              "          await google.colab.output.renderOutput(dataTable, element);\n",
              "          const docLink = document.createElement('div');\n",
              "          docLink.innerHTML = docLinkHtml;\n",
              "          element.appendChild(docLink);\n",
              "        }\n",
              "      </script>\n",
              "    </div>\n",
              "  </div>\n",
              "  "
            ],
            "text/plain": [
              "            category  ...                       category_level3\n",
              "1000018296     79640  ...            CD POP ROCK - CD ROCK INDE\n",
              "1000011423     71116  ...         TONER - RECUPERATEUR DE TONER\n",
              "1000011427     69784  ...                  CARTOUCHE IMPRIMANTE\n",
              "1000014202     65642  ...                 LITTERATURE FRANCAISE\n",
              "1000015309     65435  ...                         AUTRES LIVRES\n",
              "1000004085     61942  ...  BATTERIE D'ALIMENTATION INFORMATIQUE\n",
              "1000010653     61688  ...    COQUE TELEPHONE - BUMPER TELEPHONE\n",
              "1000018290     60332  ...                  CD MUSIQUE CLASSIQUE\n",
              "1000018294     57748  ...                   CD MUSIQUE DU MONDE\n",
              "1000008094     56192  ...                         DALLE D'ECRAN\n",
              "\n",
              "[10 rows x 4 columns]"
            ]
          },
          "metadata": {},
          "execution_count": 37
        }
      ]
    },
    {
      "cell_type": "markdown",
      "source": [
        "# Let's see the top 10 least common category from the category table"
      ],
      "metadata": {
        "id": "J1qUYw8uAwX7"
      }
    },
    {
      "cell_type": "code",
      "source": [
        "df.category.value_counts().to_frame().tail(10).join(categories)"
      ],
      "metadata": {
        "colab": {
          "base_uri": "https://localhost:8080/",
          "height": 363
        },
        "id": "gd8iO6-aAyoh",
        "outputId": "b3dc9acd-46bc-4ad2-9122-7f4daed3d598"
      },
      "execution_count": 38,
      "outputs": [
        {
          "output_type": "execute_result",
          "data": {
            "text/html": [
              "\n",
              "  <div id=\"df-f934b265-f087-4b84-b6d7-3891c068512a\">\n",
              "    <div class=\"colab-df-container\">\n",
              "      <div>\n",
              "<style scoped>\n",
              "    .dataframe tbody tr th:only-of-type {\n",
              "        vertical-align: middle;\n",
              "    }\n",
              "\n",
              "    .dataframe tbody tr th {\n",
              "        vertical-align: top;\n",
              "    }\n",
              "\n",
              "    .dataframe thead th {\n",
              "        text-align: right;\n",
              "    }\n",
              "</style>\n",
              "<table border=\"1\" class=\"dataframe\">\n",
              "  <thead>\n",
              "    <tr style=\"text-align: right;\">\n",
              "      <th></th>\n",
              "      <th>category</th>\n",
              "      <th>category_level1</th>\n",
              "      <th>category_level2</th>\n",
              "      <th>category_level3</th>\n",
              "    </tr>\n",
              "  </thead>\n",
              "  <tbody>\n",
              "    <tr>\n",
              "      <th>1000000896</th>\n",
              "      <td>12</td>\n",
              "      <td>EPICERIE</td>\n",
              "      <td>CONSERVE DE LEGUME</td>\n",
              "      <td>POIVRON EN CONSERVE</td>\n",
              "    </tr>\n",
              "    <tr>\n",
              "      <th>1000015609</th>\n",
              "      <td>12</td>\n",
              "      <td>CHAUSSURES - ACCESSOIRES</td>\n",
              "      <td>ACCESSOIRES CHAUSSURES</td>\n",
              "      <td>ESSUIE-BOTTES - LAVE-BOTTES</td>\n",
              "    </tr>\n",
              "    <tr>\n",
              "      <th>1000019484</th>\n",
              "      <td>12</td>\n",
              "      <td>MEUBLE</td>\n",
              "      <td>ACCESSOIRE DE MEUBLE</td>\n",
              "      <td>COLONNE SUSPENDUE</td>\n",
              "    </tr>\n",
              "    <tr>\n",
              "      <th>1000019804</th>\n",
              "      <td>12</td>\n",
              "      <td>SPORT</td>\n",
              "      <td>BASEBALL</td>\n",
              "      <td>BLOUSON DE BASEBALL - VESTE DE BASEBALL</td>\n",
              "    </tr>\n",
              "    <tr>\n",
              "      <th>1000007168</th>\n",
              "      <td>12</td>\n",
              "      <td>SPORT</td>\n",
              "      <td>CYCLES</td>\n",
              "      <td>TRIPORTEUR</td>\n",
              "    </tr>\n",
              "    <tr>\n",
              "      <th>1000022325</th>\n",
              "      <td>12</td>\n",
              "      <td>TV - VIDEO - SON</td>\n",
              "      <td>LECTEUR MUSIQUE</td>\n",
              "      <td>LECTEUR MP4 RECONDITIONNE - LECTEUR NUMERIQUE ...</td>\n",
              "    </tr>\n",
              "    <tr>\n",
              "      <th>1000015046</th>\n",
              "      <td>12</td>\n",
              "      <td>MATERIEL DE BUREAU</td>\n",
              "      <td>MATERIEL PEDAGOGIQUE</td>\n",
              "      <td>REGISTRE D'APPEL - CAHIER DE CLASSE</td>\n",
              "    </tr>\n",
              "    <tr>\n",
              "      <th>1000011955</th>\n",
              "      <td>12</td>\n",
              "      <td>MATERIEL MEDICAL</td>\n",
              "      <td>SOIN</td>\n",
              "      <td>CATHETER - OBTURATEUR</td>\n",
              "    </tr>\n",
              "    <tr>\n",
              "      <th>1000007760</th>\n",
              "      <td>12</td>\n",
              "      <td>PUERICULTURE</td>\n",
              "      <td>TOILETTE BEBE</td>\n",
              "      <td>EXTENSION DE ROBINET</td>\n",
              "    </tr>\n",
              "    <tr>\n",
              "      <th>1000010893</th>\n",
              "      <td>12</td>\n",
              "      <td>PHOTO - OPTIQUE</td>\n",
              "      <td>VISIONNAGE PHOTO</td>\n",
              "      <td>SCANNER DE DIAPOSITIVE</td>\n",
              "    </tr>\n",
              "  </tbody>\n",
              "</table>\n",
              "</div>\n",
              "      <button class=\"colab-df-convert\" onclick=\"convertToInteractive('df-f934b265-f087-4b84-b6d7-3891c068512a')\"\n",
              "              title=\"Convert this dataframe to an interactive table.\"\n",
              "              style=\"display:none;\">\n",
              "        \n",
              "  <svg xmlns=\"http://www.w3.org/2000/svg\" height=\"24px\"viewBox=\"0 0 24 24\"\n",
              "       width=\"24px\">\n",
              "    <path d=\"M0 0h24v24H0V0z\" fill=\"none\"/>\n",
              "    <path d=\"M18.56 5.44l.94 2.06.94-2.06 2.06-.94-2.06-.94-.94-2.06-.94 2.06-2.06.94zm-11 1L8.5 8.5l.94-2.06 2.06-.94-2.06-.94L8.5 2.5l-.94 2.06-2.06.94zm10 10l.94 2.06.94-2.06 2.06-.94-2.06-.94-.94-2.06-.94 2.06-2.06.94z\"/><path d=\"M17.41 7.96l-1.37-1.37c-.4-.4-.92-.59-1.43-.59-.52 0-1.04.2-1.43.59L10.3 9.45l-7.72 7.72c-.78.78-.78 2.05 0 2.83L4 21.41c.39.39.9.59 1.41.59.51 0 1.02-.2 1.41-.59l7.78-7.78 2.81-2.81c.8-.78.8-2.07 0-2.86zM5.41 20L4 18.59l7.72-7.72 1.47 1.35L5.41 20z\"/>\n",
              "  </svg>\n",
              "      </button>\n",
              "      \n",
              "  <style>\n",
              "    .colab-df-container {\n",
              "      display:flex;\n",
              "      flex-wrap:wrap;\n",
              "      gap: 12px;\n",
              "    }\n",
              "\n",
              "    .colab-df-convert {\n",
              "      background-color: #E8F0FE;\n",
              "      border: none;\n",
              "      border-radius: 50%;\n",
              "      cursor: pointer;\n",
              "      display: none;\n",
              "      fill: #1967D2;\n",
              "      height: 32px;\n",
              "      padding: 0 0 0 0;\n",
              "      width: 32px;\n",
              "    }\n",
              "\n",
              "    .colab-df-convert:hover {\n",
              "      background-color: #E2EBFA;\n",
              "      box-shadow: 0px 1px 2px rgba(60, 64, 67, 0.3), 0px 1px 3px 1px rgba(60, 64, 67, 0.15);\n",
              "      fill: #174EA6;\n",
              "    }\n",
              "\n",
              "    [theme=dark] .colab-df-convert {\n",
              "      background-color: #3B4455;\n",
              "      fill: #D2E3FC;\n",
              "    }\n",
              "\n",
              "    [theme=dark] .colab-df-convert:hover {\n",
              "      background-color: #434B5C;\n",
              "      box-shadow: 0px 1px 3px 1px rgba(0, 0, 0, 0.15);\n",
              "      filter: drop-shadow(0px 1px 2px rgba(0, 0, 0, 0.3));\n",
              "      fill: #FFFFFF;\n",
              "    }\n",
              "  </style>\n",
              "\n",
              "      <script>\n",
              "        const buttonEl =\n",
              "          document.querySelector('#df-f934b265-f087-4b84-b6d7-3891c068512a button.colab-df-convert');\n",
              "        buttonEl.style.display =\n",
              "          google.colab.kernel.accessAllowed ? 'block' : 'none';\n",
              "\n",
              "        async function convertToInteractive(key) {\n",
              "          const element = document.querySelector('#df-f934b265-f087-4b84-b6d7-3891c068512a');\n",
              "          const dataTable =\n",
              "            await google.colab.kernel.invokeFunction('convertToInteractive',\n",
              "                                                     [key], {});\n",
              "          if (!dataTable) return;\n",
              "\n",
              "          const docLinkHtml = 'Like what you see? Visit the ' +\n",
              "            '<a target=\"_blank\" href=https://colab.research.google.com/notebooks/data_table.ipynb>data table notebook</a>'\n",
              "            + ' to learn more about interactive tables.';\n",
              "          element.innerHTML = '';\n",
              "          dataTable['output_type'] = 'display_data';\n",
              "          await google.colab.output.renderOutput(dataTable, element);\n",
              "          const docLink = document.createElement('div');\n",
              "          docLink.innerHTML = docLinkHtml;\n",
              "          element.appendChild(docLink);\n",
              "        }\n",
              "      </script>\n",
              "    </div>\n",
              "  </div>\n",
              "  "
            ],
            "text/plain": [
              "            category  ...                                    category_level3\n",
              "1000000896        12  ...                                POIVRON EN CONSERVE\n",
              "1000015609        12  ...                        ESSUIE-BOTTES - LAVE-BOTTES\n",
              "1000019484        12  ...                                  COLONNE SUSPENDUE\n",
              "1000019804        12  ...            BLOUSON DE BASEBALL - VESTE DE BASEBALL\n",
              "1000007168        12  ...                                         TRIPORTEUR\n",
              "1000022325        12  ...  LECTEUR MP4 RECONDITIONNE - LECTEUR NUMERIQUE ...\n",
              "1000015046        12  ...                REGISTRE D'APPEL - CAHIER DE CLASSE\n",
              "1000011955        12  ...                              CATHETER - OBTURATEUR\n",
              "1000007760        12  ...                               EXTENSION DE ROBINET\n",
              "1000010893        12  ...                             SCANNER DE DIAPOSITIVE\n",
              "\n",
              "[10 rows x 4 columns]"
            ]
          },
          "metadata": {},
          "execution_count": 38
        }
      ]
    },
    {
      "cell_type": "code",
      "source": [
        "CHUNK_SIZE = 100000\n",
        "\n",
        "def write_to_h5( lst ):\n",
        "    df = pd.DataFrame(lst)\n",
        "    try:\n",
        "        df.iloc[:,:-1].to_hdf('file.h5',\n",
        "                              key='train',\n",
        "                              format='table',\n",
        "                              append=True)\n",
        "    except Exception as e:\n",
        "        #catch disk full\n",
        "        print('error: ',e)\n",
        "\n",
        "with open('{}{}'.format(data_dir,'train.bson'),'rb',buffering=True) as b:\n",
        "    i=0\n",
        "    lst = []\n",
        "    for line in bson.decode_file_iter(b):\n",
        "        if i%CHUNK_SIZE == 0 and i !=0:\n",
        "            write_to_h5( lst )\n",
        "            lst=[]\n",
        "        lst.append(line)\n",
        "        i+=1\n",
        "    write_to_h5( lst )"
      ],
      "metadata": {
        "colab": {
          "base_uri": "https://localhost:8080/"
        },
        "id": "hoCz2jQXdfe9",
        "outputId": "166b33d1-1743-4a68-e04e-eb8aacdd419b"
      },
      "execution_count": 21,
      "outputs": [
        {
          "output_type": "stream",
          "name": "stdout",
          "text": [
            "error:  object of type 'int' has no len()\n",
            "error:  object of type 'int' has no len()\n",
            "error:  object of type 'int' has no len()\n",
            "error:  object of type 'int' has no len()\n",
            "error:  object of type 'int' has no len()\n",
            "error:  object of type 'int' has no len()\n",
            "error:  object of type 'int' has no len()\n",
            "error:  object of type 'int' has no len()\n",
            "error:  object of type 'int' has no len()\n",
            "error:  object of type 'int' has no len()\n",
            "error:  object of type 'int' has no len()\n",
            "error:  object of type 'int' has no len()\n",
            "error:  object of type 'int' has no len()\n",
            "error:  object of type 'int' has no len()\n",
            "error:  object of type 'int' has no len()\n",
            "error:  object of type 'int' has no len()\n",
            "error:  object of type 'int' has no len()\n",
            "error:  object of type 'int' has no len()\n",
            "error:  object of type 'int' has no len()\n",
            "error:  object of type 'int' has no len()\n",
            "error:  object of type 'int' has no len()\n",
            "error:  object of type 'int' has no len()\n",
            "error:  object of type 'int' has no len()\n",
            "error:  object of type 'int' has no len()\n",
            "error:  object of type 'int' has no len()\n",
            "error:  object of type 'int' has no len()\n",
            "error:  object of type 'int' has no len()\n",
            "error:  object of type 'int' has no len()\n",
            "error:  object of type 'int' has no len()\n",
            "error:  object of type 'int' has no len()\n",
            "error:  object of type 'int' has no len()\n",
            "error:  object of type 'int' has no len()\n",
            "error:  object of type 'int' has no len()\n",
            "error:  object of type 'int' has no len()\n",
            "error:  object of type 'int' has no len()\n",
            "error:  object of type 'int' has no len()\n",
            "error:  object of type 'int' has no len()\n",
            "error:  object of type 'int' has no len()\n",
            "error:  object of type 'int' has no len()\n"
          ]
        }
      ]
    },
    {
      "cell_type": "code",
      "source": [
        "train = pd.read_hdf('file.h5',key='train')\n",
        "#combine with categries\n",
        "train = pd.merge(categories,train,right_on='category_id',left_index=True)"
      ],
      "metadata": {
        "id": "uNwvoLmSgx8n"
      },
      "execution_count": 23,
      "outputs": []
    },
    {
      "cell_type": "code",
      "source": [
        "train.info()"
      ],
      "metadata": {
        "colab": {
          "base_uri": "https://localhost:8080/"
        },
        "id": "YmUqiLsSg6Bc",
        "outputId": "ca5dfd9b-0213-468c-92fe-5b24a317ddcd"
      },
      "execution_count": 24,
      "outputs": [
        {
          "output_type": "stream",
          "name": "stdout",
          "text": [
            "<class 'pandas.core.frame.DataFrame'>\n",
            "Int64Index: 3169896 entries, 31177 to 66217\n",
            "Data columns (total 5 columns):\n",
            " #   Column           Dtype \n",
            "---  ------           ----- \n",
            " 0   category_level1  object\n",
            " 1   category_level2  object\n",
            " 2   category_level3  object\n",
            " 3   _id              int64 \n",
            " 4   category_id      int64 \n",
            "dtypes: int64(2), object(3)\n",
            "memory usage: 145.1+ MB\n"
          ]
        }
      ]
    },
    {
      "cell_type": "code",
      "source": [
        "train.head()"
      ],
      "metadata": {
        "colab": {
          "base_uri": "https://localhost:8080/",
          "height": 206
        },
        "id": "IfHz0pfGg9Gh",
        "outputId": "07717d05-84d9-431c-e4a1-c799f8e620d3"
      },
      "execution_count": 25,
      "outputs": [
        {
          "output_type": "execute_result",
          "data": {
            "text/html": [
              "\n",
              "  <div id=\"df-c53c282e-78c0-4c73-a36c-b0d079080732\">\n",
              "    <div class=\"colab-df-container\">\n",
              "      <div>\n",
              "<style scoped>\n",
              "    .dataframe tbody tr th:only-of-type {\n",
              "        vertical-align: middle;\n",
              "    }\n",
              "\n",
              "    .dataframe tbody tr th {\n",
              "        vertical-align: top;\n",
              "    }\n",
              "\n",
              "    .dataframe thead th {\n",
              "        text-align: right;\n",
              "    }\n",
              "</style>\n",
              "<table border=\"1\" class=\"dataframe\">\n",
              "  <thead>\n",
              "    <tr style=\"text-align: right;\">\n",
              "      <th></th>\n",
              "      <th>category_level1</th>\n",
              "      <th>category_level2</th>\n",
              "      <th>category_level3</th>\n",
              "      <th>_id</th>\n",
              "      <th>category_id</th>\n",
              "    </tr>\n",
              "  </thead>\n",
              "  <tbody>\n",
              "    <tr>\n",
              "      <th>31177</th>\n",
              "      <td>ABONNEMENT / SERVICES</td>\n",
              "      <td>CARTE PREPAYEE</td>\n",
              "      <td>CARTE PREPAYEE MULTIMEDIA</td>\n",
              "      <td>13949623</td>\n",
              "      <td>1000021794</td>\n",
              "    </tr>\n",
              "    <tr>\n",
              "      <th>58678</th>\n",
              "      <td>ABONNEMENT / SERVICES</td>\n",
              "      <td>CARTE PREPAYEE</td>\n",
              "      <td>CARTE PREPAYEE MULTIMEDIA</td>\n",
              "      <td>14041540</td>\n",
              "      <td>1000021794</td>\n",
              "    </tr>\n",
              "    <tr>\n",
              "      <th>31768</th>\n",
              "      <td>ABONNEMENT / SERVICES</td>\n",
              "      <td>CARTE PREPAYEE</td>\n",
              "      <td>CARTE PREPAYEE MULTIMEDIA</td>\n",
              "      <td>16324224</td>\n",
              "      <td>1000021794</td>\n",
              "    </tr>\n",
              "    <tr>\n",
              "      <th>75721</th>\n",
              "      <td>ABONNEMENT / SERVICES</td>\n",
              "      <td>CARTE PREPAYEE</td>\n",
              "      <td>CARTE PREPAYEE MULTIMEDIA</td>\n",
              "      <td>18578863</td>\n",
              "      <td>1000021794</td>\n",
              "    </tr>\n",
              "    <tr>\n",
              "      <th>13502</th>\n",
              "      <td>ABONNEMENT / SERVICES</td>\n",
              "      <td>CARTE PREPAYEE</td>\n",
              "      <td>CARTE PREPAYEE MULTIMEDIA</td>\n",
              "      <td>19067770</td>\n",
              "      <td>1000021794</td>\n",
              "    </tr>\n",
              "  </tbody>\n",
              "</table>\n",
              "</div>\n",
              "      <button class=\"colab-df-convert\" onclick=\"convertToInteractive('df-c53c282e-78c0-4c73-a36c-b0d079080732')\"\n",
              "              title=\"Convert this dataframe to an interactive table.\"\n",
              "              style=\"display:none;\">\n",
              "        \n",
              "  <svg xmlns=\"http://www.w3.org/2000/svg\" height=\"24px\"viewBox=\"0 0 24 24\"\n",
              "       width=\"24px\">\n",
              "    <path d=\"M0 0h24v24H0V0z\" fill=\"none\"/>\n",
              "    <path d=\"M18.56 5.44l.94 2.06.94-2.06 2.06-.94-2.06-.94-.94-2.06-.94 2.06-2.06.94zm-11 1L8.5 8.5l.94-2.06 2.06-.94-2.06-.94L8.5 2.5l-.94 2.06-2.06.94zm10 10l.94 2.06.94-2.06 2.06-.94-2.06-.94-.94-2.06-.94 2.06-2.06.94z\"/><path d=\"M17.41 7.96l-1.37-1.37c-.4-.4-.92-.59-1.43-.59-.52 0-1.04.2-1.43.59L10.3 9.45l-7.72 7.72c-.78.78-.78 2.05 0 2.83L4 21.41c.39.39.9.59 1.41.59.51 0 1.02-.2 1.41-.59l7.78-7.78 2.81-2.81c.8-.78.8-2.07 0-2.86zM5.41 20L4 18.59l7.72-7.72 1.47 1.35L5.41 20z\"/>\n",
              "  </svg>\n",
              "      </button>\n",
              "      \n",
              "  <style>\n",
              "    .colab-df-container {\n",
              "      display:flex;\n",
              "      flex-wrap:wrap;\n",
              "      gap: 12px;\n",
              "    }\n",
              "\n",
              "    .colab-df-convert {\n",
              "      background-color: #E8F0FE;\n",
              "      border: none;\n",
              "      border-radius: 50%;\n",
              "      cursor: pointer;\n",
              "      display: none;\n",
              "      fill: #1967D2;\n",
              "      height: 32px;\n",
              "      padding: 0 0 0 0;\n",
              "      width: 32px;\n",
              "    }\n",
              "\n",
              "    .colab-df-convert:hover {\n",
              "      background-color: #E2EBFA;\n",
              "      box-shadow: 0px 1px 2px rgba(60, 64, 67, 0.3), 0px 1px 3px 1px rgba(60, 64, 67, 0.15);\n",
              "      fill: #174EA6;\n",
              "    }\n",
              "\n",
              "    [theme=dark] .colab-df-convert {\n",
              "      background-color: #3B4455;\n",
              "      fill: #D2E3FC;\n",
              "    }\n",
              "\n",
              "    [theme=dark] .colab-df-convert:hover {\n",
              "      background-color: #434B5C;\n",
              "      box-shadow: 0px 1px 3px 1px rgba(0, 0, 0, 0.15);\n",
              "      filter: drop-shadow(0px 1px 2px rgba(0, 0, 0, 0.3));\n",
              "      fill: #FFFFFF;\n",
              "    }\n",
              "  </style>\n",
              "\n",
              "      <script>\n",
              "        const buttonEl =\n",
              "          document.querySelector('#df-c53c282e-78c0-4c73-a36c-b0d079080732 button.colab-df-convert');\n",
              "        buttonEl.style.display =\n",
              "          google.colab.kernel.accessAllowed ? 'block' : 'none';\n",
              "\n",
              "        async function convertToInteractive(key) {\n",
              "          const element = document.querySelector('#df-c53c282e-78c0-4c73-a36c-b0d079080732');\n",
              "          const dataTable =\n",
              "            await google.colab.kernel.invokeFunction('convertToInteractive',\n",
              "                                                     [key], {});\n",
              "          if (!dataTable) return;\n",
              "\n",
              "          const docLinkHtml = 'Like what you see? Visit the ' +\n",
              "            '<a target=\"_blank\" href=https://colab.research.google.com/notebooks/data_table.ipynb>data table notebook</a>'\n",
              "            + ' to learn more about interactive tables.';\n",
              "          element.innerHTML = '';\n",
              "          dataTable['output_type'] = 'display_data';\n",
              "          await google.colab.output.renderOutput(dataTable, element);\n",
              "          const docLink = document.createElement('div');\n",
              "          docLink.innerHTML = docLinkHtml;\n",
              "          element.appendChild(docLink);\n",
              "        }\n",
              "      </script>\n",
              "    </div>\n",
              "  </div>\n",
              "  "
            ],
            "text/plain": [
              "             category_level1 category_level2  ...       _id  category_id\n",
              "31177  ABONNEMENT / SERVICES  CARTE PREPAYEE  ...  13949623   1000021794\n",
              "58678  ABONNEMENT / SERVICES  CARTE PREPAYEE  ...  14041540   1000021794\n",
              "31768  ABONNEMENT / SERVICES  CARTE PREPAYEE  ...  16324224   1000021794\n",
              "75721  ABONNEMENT / SERVICES  CARTE PREPAYEE  ...  18578863   1000021794\n",
              "13502  ABONNEMENT / SERVICES  CARTE PREPAYEE  ...  19067770   1000021794\n",
              "\n",
              "[5 rows x 5 columns]"
            ]
          },
          "metadata": {},
          "execution_count": 25
        }
      ]
    },
    {
      "cell_type": "code",
      "source": [
        "train.shape"
      ],
      "metadata": {
        "colab": {
          "base_uri": "https://localhost:8080/"
        },
        "id": "tu_dMXs_hA-B",
        "outputId": "bb177d5b-22f3-4034-cde7-ed005d25264a"
      },
      "execution_count": 26,
      "outputs": [
        {
          "output_type": "execute_result",
          "data": {
            "text/plain": [
              "(3169896, 5)"
            ]
          },
          "metadata": {},
          "execution_count": 26
        }
      ]
    },
    {
      "cell_type": "code",
      "source": [
        "print(type())"
      ],
      "metadata": {
        "colab": {
          "base_uri": "https://localhost:8080/"
        },
        "id": "R9KOtr6geGxV",
        "outputId": "762d4069-02dc-4112-ccf0-f3366820d978"
      },
      "execution_count": 17,
      "outputs": [
        {
          "output_type": "stream",
          "name": "stdout",
          "text": [
            "<class 'pandas.core.frame.DataFrame'>\n"
          ]
        }
      ]
    },
    {
      "cell_type": "code",
      "source": [
        "df.head()"
      ],
      "metadata": {
        "colab": {
          "base_uri": "https://localhost:8080/",
          "height": 206
        },
        "id": "mviLAP4-eMfN",
        "outputId": "b55e76cb-9f92-4b81-c721-9e8b824b4fa1"
      },
      "execution_count": 18,
      "outputs": [
        {
          "output_type": "execute_result",
          "data": {
            "text/html": [
              "\n",
              "  <div id=\"df-bb8a3cea-e3b2-4dc7-b01e-52d3daa248a9\">\n",
              "    <div class=\"colab-df-container\">\n",
              "      <div>\n",
              "<style scoped>\n",
              "    .dataframe tbody tr th:only-of-type {\n",
              "        vertical-align: middle;\n",
              "    }\n",
              "\n",
              "    .dataframe tbody tr th {\n",
              "        vertical-align: top;\n",
              "    }\n",
              "\n",
              "    .dataframe thead th {\n",
              "        text-align: right;\n",
              "    }\n",
              "</style>\n",
              "<table border=\"1\" class=\"dataframe\">\n",
              "  <thead>\n",
              "    <tr style=\"text-align: right;\">\n",
              "      <th></th>\n",
              "      <th>_id</th>\n",
              "      <th>imgs</th>\n",
              "      <th>category_id</th>\n",
              "    </tr>\n",
              "  </thead>\n",
              "  <tbody>\n",
              "    <tr>\n",
              "      <th>0</th>\n",
              "      <td>0</td>\n",
              "      <td>[{'picture': b'\\xff\\xd8\\xff\\xe0\\x00\\x10JFIF\\x0...</td>\n",
              "      <td>1000010653</td>\n",
              "    </tr>\n",
              "    <tr>\n",
              "      <th>1</th>\n",
              "      <td>1</td>\n",
              "      <td>[{'picture': b'\\xff\\xd8\\xff\\xe0\\x00\\x10JFIF\\x0...</td>\n",
              "      <td>1000010653</td>\n",
              "    </tr>\n",
              "    <tr>\n",
              "      <th>2</th>\n",
              "      <td>2</td>\n",
              "      <td>[{'picture': b'\\xff\\xd8\\xff\\xe0\\x00\\x10JFIF\\x0...</td>\n",
              "      <td>1000004079</td>\n",
              "    </tr>\n",
              "    <tr>\n",
              "      <th>3</th>\n",
              "      <td>3</td>\n",
              "      <td>[{'picture': b'\\xff\\xd8\\xff\\xe0\\x00\\x10JFIF\\x0...</td>\n",
              "      <td>1000004141</td>\n",
              "    </tr>\n",
              "    <tr>\n",
              "      <th>4</th>\n",
              "      <td>4</td>\n",
              "      <td>[{'picture': b'\\xff\\xd8\\xff\\xe0\\x00\\x10JFIF\\x0...</td>\n",
              "      <td>1000015539</td>\n",
              "    </tr>\n",
              "  </tbody>\n",
              "</table>\n",
              "</div>\n",
              "      <button class=\"colab-df-convert\" onclick=\"convertToInteractive('df-bb8a3cea-e3b2-4dc7-b01e-52d3daa248a9')\"\n",
              "              title=\"Convert this dataframe to an interactive table.\"\n",
              "              style=\"display:none;\">\n",
              "        \n",
              "  <svg xmlns=\"http://www.w3.org/2000/svg\" height=\"24px\"viewBox=\"0 0 24 24\"\n",
              "       width=\"24px\">\n",
              "    <path d=\"M0 0h24v24H0V0z\" fill=\"none\"/>\n",
              "    <path d=\"M18.56 5.44l.94 2.06.94-2.06 2.06-.94-2.06-.94-.94-2.06-.94 2.06-2.06.94zm-11 1L8.5 8.5l.94-2.06 2.06-.94-2.06-.94L8.5 2.5l-.94 2.06-2.06.94zm10 10l.94 2.06.94-2.06 2.06-.94-2.06-.94-.94-2.06-.94 2.06-2.06.94z\"/><path d=\"M17.41 7.96l-1.37-1.37c-.4-.4-.92-.59-1.43-.59-.52 0-1.04.2-1.43.59L10.3 9.45l-7.72 7.72c-.78.78-.78 2.05 0 2.83L4 21.41c.39.39.9.59 1.41.59.51 0 1.02-.2 1.41-.59l7.78-7.78 2.81-2.81c.8-.78.8-2.07 0-2.86zM5.41 20L4 18.59l7.72-7.72 1.47 1.35L5.41 20z\"/>\n",
              "  </svg>\n",
              "      </button>\n",
              "      \n",
              "  <style>\n",
              "    .colab-df-container {\n",
              "      display:flex;\n",
              "      flex-wrap:wrap;\n",
              "      gap: 12px;\n",
              "    }\n",
              "\n",
              "    .colab-df-convert {\n",
              "      background-color: #E8F0FE;\n",
              "      border: none;\n",
              "      border-radius: 50%;\n",
              "      cursor: pointer;\n",
              "      display: none;\n",
              "      fill: #1967D2;\n",
              "      height: 32px;\n",
              "      padding: 0 0 0 0;\n",
              "      width: 32px;\n",
              "    }\n",
              "\n",
              "    .colab-df-convert:hover {\n",
              "      background-color: #E2EBFA;\n",
              "      box-shadow: 0px 1px 2px rgba(60, 64, 67, 0.3), 0px 1px 3px 1px rgba(60, 64, 67, 0.15);\n",
              "      fill: #174EA6;\n",
              "    }\n",
              "\n",
              "    [theme=dark] .colab-df-convert {\n",
              "      background-color: #3B4455;\n",
              "      fill: #D2E3FC;\n",
              "    }\n",
              "\n",
              "    [theme=dark] .colab-df-convert:hover {\n",
              "      background-color: #434B5C;\n",
              "      box-shadow: 0px 1px 3px 1px rgba(0, 0, 0, 0.15);\n",
              "      filter: drop-shadow(0px 1px 2px rgba(0, 0, 0, 0.3));\n",
              "      fill: #FFFFFF;\n",
              "    }\n",
              "  </style>\n",
              "\n",
              "      <script>\n",
              "        const buttonEl =\n",
              "          document.querySelector('#df-bb8a3cea-e3b2-4dc7-b01e-52d3daa248a9 button.colab-df-convert');\n",
              "        buttonEl.style.display =\n",
              "          google.colab.kernel.accessAllowed ? 'block' : 'none';\n",
              "\n",
              "        async function convertToInteractive(key) {\n",
              "          const element = document.querySelector('#df-bb8a3cea-e3b2-4dc7-b01e-52d3daa248a9');\n",
              "          const dataTable =\n",
              "            await google.colab.kernel.invokeFunction('convertToInteractive',\n",
              "                                                     [key], {});\n",
              "          if (!dataTable) return;\n",
              "\n",
              "          const docLinkHtml = 'Like what you see? Visit the ' +\n",
              "            '<a target=\"_blank\" href=https://colab.research.google.com/notebooks/data_table.ipynb>data table notebook</a>'\n",
              "            + ' to learn more about interactive tables.';\n",
              "          element.innerHTML = '';\n",
              "          dataTable['output_type'] = 'display_data';\n",
              "          await google.colab.output.renderOutput(dataTable, element);\n",
              "          const docLink = document.createElement('div');\n",
              "          docLink.innerHTML = docLinkHtml;\n",
              "          element.appendChild(docLink);\n",
              "        }\n",
              "      </script>\n",
              "    </div>\n",
              "  </div>\n",
              "  "
            ],
            "text/plain": [
              "   _id                                               imgs  category_id\n",
              "0    0  [{'picture': b'\\xff\\xd8\\xff\\xe0\\x00\\x10JFIF\\x0...   1000010653\n",
              "1    1  [{'picture': b'\\xff\\xd8\\xff\\xe0\\x00\\x10JFIF\\x0...   1000010653\n",
              "2    2  [{'picture': b'\\xff\\xd8\\xff\\xe0\\x00\\x10JFIF\\x0...   1000004079\n",
              "3    3  [{'picture': b'\\xff\\xd8\\xff\\xe0\\x00\\x10JFIF\\x0...   1000004141\n",
              "4    4  [{'picture': b'\\xff\\xd8\\xff\\xe0\\x00\\x10JFIF\\x0...   1000015539"
            ]
          },
          "metadata": {},
          "execution_count": 18
        }
      ]
    },
    {
      "cell_type": "code",
      "source": [
        "df.shape"
      ],
      "metadata": {
        "colab": {
          "base_uri": "https://localhost:8080/"
        },
        "id": "A2yVHXUgeRXN",
        "outputId": "79c49bff-0009-4c4c-beb1-f03a746d9c86"
      },
      "execution_count": 19,
      "outputs": [
        {
          "output_type": "execute_result",
          "data": {
            "text/plain": [
              "(100000, 3)"
            ]
          },
          "metadata": {},
          "execution_count": 19
        }
      ]
    },
    {
      "cell_type": "code",
      "source": [
        "cats = train['category_level1'].value_counts()\n",
        "cats.head()"
      ],
      "metadata": {
        "colab": {
          "base_uri": "https://localhost:8080/"
        },
        "id": "lpLn_4Mgd9xA",
        "outputId": "c81deb36-2d3e-4f47-fd9e-ed42d97c9d12"
      },
      "execution_count": 27,
      "outputs": [
        {
          "output_type": "execute_result",
          "data": {
            "text/plain": [
              "AUTO - MOTO                 367260\n",
              "INFORMATIQUE                286613\n",
              "LIBRAIRIE                   282571\n",
              "DECO - LINGE - LUMINAIRE    261209\n",
              "TELEPHONIE - GPS            239102\n",
              "Name: category_level1, dtype: int64"
            ]
          },
          "metadata": {},
          "execution_count": 27
        }
      ]
    },
    {
      "cell_type": "code",
      "source": [
        "abbriv = cats.index.str.split('\\W').str[0].str.strip()\n",
        "abbriv"
      ],
      "metadata": {
        "colab": {
          "base_uri": "https://localhost:8080/"
        },
        "id": "ImnU488igTNw",
        "outputId": "de098cfa-3fa1-485a-8f49-4d719e37d192"
      },
      "execution_count": 28,
      "outputs": [
        {
          "output_type": "execute_result",
          "data": {
            "text/plain": [
              "Index(['AUTO', 'INFORMATIQUE', 'LIBRAIRIE', 'DECO', 'TELEPHONIE', 'BRICOLAGE',\n",
              "       'MUSIQUE', 'JEUX', 'BIJOUX', 'SPORT', 'ELECTROMENAGER', 'ART',\n",
              "       'HYGIENE', 'TV', 'BAGAGERIE', 'MEUBLE', 'LOISIRS', 'PHOTO',\n",
              "       'CHAUSSURES', 'JARDIN', 'ANIMALERIE', 'DVD', 'PUERICULTURE', 'JEUX',\n",
              "       'TATOUAGE', 'ARTICLES', 'LITERIE', 'INSTRUMENTS', 'PARAPHARMACIE',\n",
              "       'DROGUERIE', 'EPICERIE', 'MATERIEL', 'MERCERIE', 'ELECTRONIQUE', 'SONO',\n",
              "       'TENUE', 'VIN', 'MATERIEL', 'BATEAU', 'CONDITIONNEMENT', 'POINT',\n",
              "       'MANUTENTION', 'AMENAGEMENT', 'COFFRET', 'FUNERAIRE', 'PRODUITS',\n",
              "       'ABONNEMENT', 'PRODUITS', 'APICULTURE'],\n",
              "      dtype='object')"
            ]
          },
          "metadata": {},
          "execution_count": 28
        }
      ]
    },
    {
      "cell_type": "code",
      "source": [
        "import seaborn as sns\n",
        "import cv2 #opencv helpful for storing image as array\n",
        "\n",
        "from matplotlib.colors import ListedColormap\n",
        "from wordcloud import WordCloud\n",
        "\n",
        "sns.set_style('white')\n",
        "fig,ax = plt.subplots(1,figsize=(12,6))\n",
        "pal = ListedColormap(sns.color_palette('Paired').as_hex())\n",
        "colors = pal(np.interp(cats,[cats.min(),cats.max()],[0,1]))\n",
        "bars = ax.bar(range(1,len(cats)+1),cats,color=colors);\n",
        "ax.set_xticks([]);\n",
        "ax.set_xlim(0,len(cats))\n",
        "ax1 = plt.twiny(ax)\n",
        "ax1.set_xlim(0,len(cats))\n",
        "ax1.set_xticks(range(1,len(abbriv)+1,1));\n",
        "ax1.set_xticklabels(abbriv.values,rotation=90);\n",
        "# sns.despine();"
      ],
      "metadata": {
        "colab": {
          "base_uri": "https://localhost:8080/",
          "height": 469
        },
        "id": "WAAA9z-0garg",
        "outputId": "11486245-8ba3-4da1-e043-e78ef61504a9"
      },
      "execution_count": 31,
      "outputs": [
        {
          "output_type": "display_data",
          "data": {
            "image/png": "[encoded data removed]",
            "text/plain": [
              "<Figure size 864x432 with 2 Axes>"
            ]
          },
          "metadata": {}
        }
      ]
    },
    {
      "cell_type": "code",
      "source": [
        ""
      ],
      "metadata": {
        "id": "YuJYdHsCo2-z"
      },
      "execution_count": null,
      "outputs": []
    },
    {
      "cell_type": "code",
      "source": [
        ""
      ],
      "metadata": {
        "id": "hXHsKvH7-et8"
      },
      "execution_count": null,
      "outputs": []
    },
    {
      "cell_type": "code",
      "source": [
        "col_name=[ 'category_level1', 'category_level2', 'category_level3']\n",
        "for "
      ],
      "metadata": {
        "id": "vMWfh_SXDz85"
      },
      "execution_count": null,
      "outputs": []
    }
  ]
}