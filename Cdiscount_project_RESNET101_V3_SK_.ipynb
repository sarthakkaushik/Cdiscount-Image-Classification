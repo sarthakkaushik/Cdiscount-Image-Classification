{
  "cells": [
    {
      "cell_type": "markdown",
      "metadata": {
        "id": "view-in-github",
        "colab_type": "text"
      },
      "source": [
        "<a href=\"https://colab.research.google.com/github/sarthakkaushik/Cdiscount-Image-Classification/blob/main/Cdiscount_project_RESNET101_V3_SK_.ipynb\" target=\"_parent\"><img src=\"https://colab.research.google.com/assets/colab-badge.svg\" alt=\"Open In Colab\"/></a>"
      ]
    },
    {
      "cell_type": "markdown",
      "metadata": {
        "id": "PMmnAdZXHWrl"
      },
      "source": [
        "#Initial Setup"
      ]
    },
    {
      "cell_type": "code",
      "execution_count": null,
      "metadata": {
        "colab": {
          "base_uri": "https://localhost:8080/"
        },
        "id": "cUgxjaMV3_i2",
        "outputId": "bf2fbbac-d6c5-4f20-bf21-679d5607a8c7"
      },
      "outputs": [
        {
          "name": "stdout",
          "output_type": "stream",
          "text": [
            "Drive already mounted at /gdrive; to attempt to forcibly remount, call drive.mount(\"/gdrive\", force_remount=True).\n",
            "/gdrive\n"
          ]
        }
      ],
      "source": [
        "# Code to mount google drive in case you are loading the data from your google drive\n",
        "from google.colab import drive\n",
        "drive.mount('/gdrive')\n",
        "%cd /gdrive"
      ]
    },
    {
      "cell_type": "code",
      "execution_count": null,
      "metadata": {
        "colab": {
          "base_uri": "https://localhost:8080/"
        },
        "id": "VnpqLRJlorX2",
        "outputId": "48f25594-720b-4234-ffa4-ae2dbdfc5d1b"
      },
      "outputs": [
        {
          "name": "stdout",
          "output_type": "stream",
          "text": [
            "Wed Jan 26 18:50:20 2022       \n",
            "+-----------------------------------------------------------------------------+\n",
            "| NVIDIA-SMI 495.46       Driver Version: 460.32.03    CUDA Version: 11.2     |\n",
            "|-------------------------------+----------------------+----------------------+\n",
            "| GPU  Name        Persistence-M| Bus-Id        Disp.A | Volatile Uncorr. ECC |\n",
            "| Fan  Temp  Perf  Pwr:Usage/Cap|         Memory-Usage | GPU-Util  Compute M. |\n",
            "|                               |                      |               MIG M. |\n",
            "|===============================+======================+======================|\n",
            "|   0  Tesla V100-SXM2...  Off  | 00000000:00:04.0 Off |                    0 |\n",
            "| N/A   33C    P0    39W / 300W |   2517MiB / 16160MiB |      0%      Default |\n",
            "|                               |                      |                  N/A |\n",
            "+-------------------------------+----------------------+----------------------+\n",
            "                                                                               \n",
            "+-----------------------------------------------------------------------------+\n",
            "| Processes:                                                                  |\n",
            "|  GPU   GI   CI        PID   Type   Process name                  GPU Memory |\n",
            "|        ID   ID                                                   Usage      |\n",
            "|=============================================================================|\n",
            "|  No running processes found                                                 |\n",
            "+-----------------------------------------------------------------------------+\n"
          ]
        }
      ],
      "source": [
        "# Are we using a GPU? (if not & you're using Google Colab, go to Runtime -> Change Runtime Type -> Harware Accelerator: GPU )\n",
        "!nvidia-smi"
      ]
    },
    {
      "cell_type": "code",
      "execution_count": null,
      "metadata": {
        "id": "7mMwclxn4MgO"
      },
      "outputs": [],
      "source": [
        "data_path = '/gdrive/MyDrive/UOH Assignment Dataset/cdiscount'"
      ]
    },
    {
      "cell_type": "code",
      "execution_count": null,
      "metadata": {
        "colab": {
          "base_uri": "https://localhost:8080/"
        },
        "id": "zCeeEYNw4Pzs",
        "outputId": "de9e21c4-2438-48f6-84a7-d7db3b9c6bab"
      },
      "outputs": [
        {
          "name": "stdout",
          "output_type": "stream",
          "text": [
            "/gdrive/MyDrive/UOH Assignment Dataset/cdiscount\n"
          ]
        }
      ],
      "source": [
        "import os \n",
        "data_path = '/gdrive/MyDrive/UOH Assignment Dataset/cdiscount'\n",
        "os.chdir(data_path)\n",
        "print(os.getcwd())"
      ]
    },
    {
      "cell_type": "code",
      "execution_count": null,
      "metadata": {
        "colab": {
          "base_uri": "https://localhost:8080/"
        },
        "id": "W-G0-rP1USWi",
        "outputId": "065ac3a4-f375-4f23-c487-4488309aee77"
      },
      "outputs": [
        {
          "name": "stdout",
          "output_type": "stream",
          "text": [
            "categories.csv\n",
            "category_names.csv\n",
            "CheckPoints\n",
            "file.h5\n",
            "helper.py\n",
            "helper.py.1\n",
            "helper.py.10\n",
            "helper.py.11\n",
            "helper.py.2\n",
            "helper.py.3\n",
            "helper.py.4\n",
            "helper.py.5\n",
            "helper.py.6\n",
            "helper.py.7\n",
            "helper.py.8\n",
            "helper.py.9\n",
            "output_data\n",
            "__pycache__\n",
            "sample_submission.csv\n",
            "Tensorboard\n",
            "test.bson\n",
            "train.bson\n",
            "train_example.bson\n",
            "train_images.csv\n",
            "training_logs\n",
            "train_offsets.csv\n",
            "train_TFrecords_TEST.tfrecords\n",
            "train_TFrecords.tfrecords\n",
            "val_images.csv\n",
            "\n"
          ]
        }
      ],
      "source": [
        "import os, sys, math, io\n",
        "import numpy as np\n",
        "import pandas as pd\n",
        "import multiprocessing as mp\n",
        "import bson\n",
        "import struct\n",
        "import random\n",
        "\n",
        "%matplotlib inline\n",
        "import matplotlib.pyplot as plt\n",
        "\n",
        "import keras\n",
        "from keras.preprocessing.image import load_img, img_to_array\n",
        "import tensorflow as tf\n",
        "\n",
        "from collections import defaultdict\n",
        "from tqdm import *\n",
        "\n",
        "# Input data files are available in the \"../input/\" directory.\n",
        "# For example, running this (by clicking run or pressing Shift+Enter) will list the files in the input directory\n",
        "\n",
        "from subprocess import check_output\n",
        "print(check_output([\"ls\", \"../cdiscount\"]).decode(\"utf8\"))\n",
        "# Any results you write to the current directory are saved as output."
      ]
    },
    {
      "cell_type": "markdown",
      "metadata": {
        "id": "cljKqDaqnu0m"
      },
      "source": [
        "#Setup Weights and Biases"
      ]
    },
    {
      "cell_type": "code",
      "execution_count": null,
      "metadata": {
        "id": "GGVWyCZ3nxGS"
      },
      "outputs": [],
      "source": [
        "# Set the random seeds\n",
        "os.environ['TF_CUDNN_DETERMINISTIC'] = '1' \n",
        "random.seed(hash(\"setting random seeds\") % 2**32 - 1)\n",
        "np.random.seed(hash(\"improves reproducibility\") % 2**32 - 1)\n",
        "tf.random.set_seed(hash(\"by removing stochasticity\") % 2**32 - 1)"
      ]
    },
    {
      "cell_type": "code",
      "execution_count": null,
      "metadata": {
        "id": "zHf18xPrn74f"
      },
      "outputs": [],
      "source": [
        "%%capture\n",
        "!pip install wandb"
      ]
    },
    {
      "cell_type": "markdown",
      "metadata": {
        "id": "7Jx3PJ3JoCRK"
      },
      "source": [
        "Import W&b login"
      ]
    },
    {
      "cell_type": "code",
      "execution_count": null,
      "metadata": {
        "colab": {
          "base_uri": "https://localhost:8080/",
          "height": 104
        },
        "id": "KtZgMggkoDqk",
        "outputId": "69ac1d84-d226-451e-ef88-bb33c4b2e0f7"
      },
      "outputs": [
        {
          "data": {
            "application/javascript": [
              "\n",
              "        window._wandbApiKey = new Promise((resolve, reject) => {\n",
              "            function loadScript(url) {\n",
              "            return new Promise(function(resolve, reject) {\n",
              "                let newScript = document.createElement(\"script\");\n",
              "                newScript.onerror = reject;\n",
              "                newScript.onload = resolve;\n",
              "                document.body.appendChild(newScript);\n",
              "                newScript.src = url;\n",
              "            });\n",
              "            }\n",
              "            loadScript(\"https://cdn.jsdelivr.net/npm/postmate/build/postmate.min.js\").then(() => {\n",
              "            const iframe = document.createElement('iframe')\n",
              "            iframe.style.cssText = \"width:0;height:0;border:none\"\n",
              "            document.body.appendChild(iframe)\n",
              "            const handshake = new Postmate({\n",
              "                container: iframe,\n",
              "                url: 'https://wandb.ai/authorize'\n",
              "            });\n",
              "            const timeout = setTimeout(() => reject(\"Couldn't auto authenticate\"), 5000)\n",
              "            handshake.then(function(child) {\n",
              "                child.on('authorize', data => {\n",
              "                    clearTimeout(timeout)\n",
              "                    resolve(data)\n",
              "                });\n",
              "            });\n",
              "            })\n",
              "        });\n",
              "    "
            ],
            "text/plain": [
              "<IPython.core.display.Javascript object>"
            ]
          },
          "metadata": {},
          "output_type": "display_data"
        },
        {
          "name": "stderr",
          "output_type": "stream",
          "text": [
            "\u001b[34m\u001b[1mwandb\u001b[0m: You can find your API key in your browser here: https://wandb.ai/authorize\n"
          ]
        },
        {
          "name": "stdout",
          "output_type": "stream",
          "text": [
            "wandb: Paste an API key from your profile and hit enter, or press ctrl+c to quit: ··········\n"
          ]
        },
        {
          "name": "stderr",
          "output_type": "stream",
          "text": [
            "\u001b[34m\u001b[1mwandb\u001b[0m: Appending key for api.wandb.ai to your netrc file: /root/.netrc\n"
          ]
        },
        {
          "data": {
            "text/plain": [
              "True"
            ]
          },
          "execution_count": 41,
          "metadata": {},
          "output_type": "execute_result"
        }
      ],
      "source": [
        "import wandb\n",
        "from wandb.keras import WandbCallback\n",
        "\n",
        "wandb.login()"
      ]
    },
    {
      "cell_type": "markdown",
      "metadata": {
        "id": "ytq6PnWZoVfe"
      },
      "source": [
        "#Importing Data Goole Drive"
      ]
    },
    {
      "cell_type": "code",
      "execution_count": null,
      "metadata": {
        "id": "beOjLrdFU7hw"
      },
      "outputs": [],
      "source": [
        "data_dir = \"../cdiscount/\"\n",
        "\n",
        "train_bson_path = os.path.join(data_dir, \"train.bson\")\n",
        "num_train_products = 7069896\n",
        "\n",
        "# train_bson_path = os.path.join(data_dir, \"train_example.bson\")\n",
        "# num_train_products = 82\n",
        "\n",
        "test_bson_path = os.path.join(data_dir, \"test.bson\")\n",
        "num_test_products = 1768182"
      ]
    },
    {
      "cell_type": "markdown",
      "metadata": {
        "id": "6acWRPNzVOhI"
      },
      "source": [
        "# Create lookup tables"
      ]
    },
    {
      "cell_type": "code",
      "execution_count": null,
      "metadata": {
        "colab": {
          "base_uri": "https://localhost:8080/",
          "height": 238
        },
        "id": "m06dgAMhVSOl",
        "outputId": "5cc8d84c-1af5-43cd-8d67-2e2897614748"
      },
      "outputs": [
        {
          "data": {
            "text/html": [
              "\n",
              "  <div id=\"df-d3d55aba-7b81-4d73-b812-9d9287c4809c\">\n",
              "    <div class=\"colab-df-container\">\n",
              "      <div>\n",
              "<style scoped>\n",
              "    .dataframe tbody tr th:only-of-type {\n",
              "        vertical-align: middle;\n",
              "    }\n",
              "\n",
              "    .dataframe tbody tr th {\n",
              "        vertical-align: top;\n",
              "    }\n",
              "\n",
              "    .dataframe thead th {\n",
              "        text-align: right;\n",
              "    }\n",
              "</style>\n",
              "<table border=\"1\" class=\"dataframe\">\n",
              "  <thead>\n",
              "    <tr style=\"text-align: right;\">\n",
              "      <th></th>\n",
              "      <th>category_level1</th>\n",
              "      <th>category_level2</th>\n",
              "      <th>category_level3</th>\n",
              "      <th>category_idx</th>\n",
              "    </tr>\n",
              "    <tr>\n",
              "      <th>category_id</th>\n",
              "      <th></th>\n",
              "      <th></th>\n",
              "      <th></th>\n",
              "      <th></th>\n",
              "    </tr>\n",
              "  </thead>\n",
              "  <tbody>\n",
              "    <tr>\n",
              "      <th>1000021794</th>\n",
              "      <td>ABONNEMENT / SERVICES</td>\n",
              "      <td>CARTE PREPAYEE</td>\n",
              "      <td>CARTE PREPAYEE MULTIMEDIA</td>\n",
              "      <td>0</td>\n",
              "    </tr>\n",
              "    <tr>\n",
              "      <th>1000012764</th>\n",
              "      <td>AMENAGEMENT URBAIN - VOIRIE</td>\n",
              "      <td>AMENAGEMENT URBAIN</td>\n",
              "      <td>ABRI FUMEUR</td>\n",
              "      <td>1</td>\n",
              "    </tr>\n",
              "    <tr>\n",
              "      <th>1000012776</th>\n",
              "      <td>AMENAGEMENT URBAIN - VOIRIE</td>\n",
              "      <td>AMENAGEMENT URBAIN</td>\n",
              "      <td>ABRI VELO - ABRI MOTO</td>\n",
              "      <td>2</td>\n",
              "    </tr>\n",
              "    <tr>\n",
              "      <th>1000012768</th>\n",
              "      <td>AMENAGEMENT URBAIN - VOIRIE</td>\n",
              "      <td>AMENAGEMENT URBAIN</td>\n",
              "      <td>FONTAINE A EAU</td>\n",
              "      <td>3</td>\n",
              "    </tr>\n",
              "    <tr>\n",
              "      <th>1000012755</th>\n",
              "      <td>AMENAGEMENT URBAIN - VOIRIE</td>\n",
              "      <td>SIGNALETIQUE</td>\n",
              "      <td>PANNEAU D'INFORMATION EXTERIEUR</td>\n",
              "      <td>4</td>\n",
              "    </tr>\n",
              "  </tbody>\n",
              "</table>\n",
              "</div>\n",
              "      <button class=\"colab-df-convert\" onclick=\"convertToInteractive('df-d3d55aba-7b81-4d73-b812-9d9287c4809c')\"\n",
              "              title=\"Convert this dataframe to an interactive table.\"\n",
              "              style=\"display:none;\">\n",
              "        \n",
              "  <svg xmlns=\"http://www.w3.org/2000/svg\" height=\"24px\"viewBox=\"0 0 24 24\"\n",
              "       width=\"24px\">\n",
              "    <path d=\"M0 0h24v24H0V0z\" fill=\"none\"/>\n",
              "    <path d=\"M18.56 5.44l.94 2.06.94-2.06 2.06-.94-2.06-.94-.94-2.06-.94 2.06-2.06.94zm-11 1L8.5 8.5l.94-2.06 2.06-.94-2.06-.94L8.5 2.5l-.94 2.06-2.06.94zm10 10l.94 2.06.94-2.06 2.06-.94-2.06-.94-.94-2.06-.94 2.06-2.06.94z\"/><path d=\"M17.41 7.96l-1.37-1.37c-.4-.4-.92-.59-1.43-.59-.52 0-1.04.2-1.43.59L10.3 9.45l-7.72 7.72c-.78.78-.78 2.05 0 2.83L4 21.41c.39.39.9.59 1.41.59.51 0 1.02-.2 1.41-.59l7.78-7.78 2.81-2.81c.8-.78.8-2.07 0-2.86zM5.41 20L4 18.59l7.72-7.72 1.47 1.35L5.41 20z\"/>\n",
              "  </svg>\n",
              "      </button>\n",
              "      \n",
              "  <style>\n",
              "    .colab-df-container {\n",
              "      display:flex;\n",
              "      flex-wrap:wrap;\n",
              "      gap: 12px;\n",
              "    }\n",
              "\n",
              "    .colab-df-convert {\n",
              "      background-color: #E8F0FE;\n",
              "      border: none;\n",
              "      border-radius: 50%;\n",
              "      cursor: pointer;\n",
              "      display: none;\n",
              "      fill: #1967D2;\n",
              "      height: 32px;\n",
              "      padding: 0 0 0 0;\n",
              "      width: 32px;\n",
              "    }\n",
              "\n",
              "    .colab-df-convert:hover {\n",
              "      background-color: #E2EBFA;\n",
              "      box-shadow: 0px 1px 2px rgba(60, 64, 67, 0.3), 0px 1px 3px 1px rgba(60, 64, 67, 0.15);\n",
              "      fill: #174EA6;\n",
              "    }\n",
              "\n",
              "    [theme=dark] .colab-df-convert {\n",
              "      background-color: #3B4455;\n",
              "      fill: #D2E3FC;\n",
              "    }\n",
              "\n",
              "    [theme=dark] .colab-df-convert:hover {\n",
              "      background-color: #434B5C;\n",
              "      box-shadow: 0px 1px 3px 1px rgba(0, 0, 0, 0.15);\n",
              "      filter: drop-shadow(0px 1px 2px rgba(0, 0, 0, 0.3));\n",
              "      fill: #FFFFFF;\n",
              "    }\n",
              "  </style>\n",
              "\n",
              "      <script>\n",
              "        const buttonEl =\n",
              "          document.querySelector('#df-d3d55aba-7b81-4d73-b812-9d9287c4809c button.colab-df-convert');\n",
              "        buttonEl.style.display =\n",
              "          google.colab.kernel.accessAllowed ? 'block' : 'none';\n",
              "\n",
              "        async function convertToInteractive(key) {\n",
              "          const element = document.querySelector('#df-d3d55aba-7b81-4d73-b812-9d9287c4809c');\n",
              "          const dataTable =\n",
              "            await google.colab.kernel.invokeFunction('convertToInteractive',\n",
              "                                                     [key], {});\n",
              "          if (!dataTable) return;\n",
              "\n",
              "          const docLinkHtml = 'Like what you see? Visit the ' +\n",
              "            '<a target=\"_blank\" href=https://colab.research.google.com/notebooks/data_table.ipynb>data table notebook</a>'\n",
              "            + ' to learn more about interactive tables.';\n",
              "          element.innerHTML = '';\n",
              "          dataTable['output_type'] = 'display_data';\n",
              "          await google.colab.output.renderOutput(dataTable, element);\n",
              "          const docLink = document.createElement('div');\n",
              "          docLink.innerHTML = docLinkHtml;\n",
              "          element.appendChild(docLink);\n",
              "        }\n",
              "      </script>\n",
              "    </div>\n",
              "  </div>\n",
              "  "
            ],
            "text/plain": [
              "                         category_level1  ... category_idx\n",
              "category_id                               ...             \n",
              "1000021794         ABONNEMENT / SERVICES  ...            0\n",
              "1000012764   AMENAGEMENT URBAIN - VOIRIE  ...            1\n",
              "1000012776   AMENAGEMENT URBAIN - VOIRIE  ...            2\n",
              "1000012768   AMENAGEMENT URBAIN - VOIRIE  ...            3\n",
              "1000012755   AMENAGEMENT URBAIN - VOIRIE  ...            4\n",
              "\n",
              "[5 rows x 4 columns]"
            ]
          },
          "execution_count": 42,
          "metadata": {},
          "output_type": "execute_result"
        }
      ],
      "source": [
        "#The generator uses several lookup tables that describe the layout of the BSON file, which products and images are part of the training/validation sets, and so on.\n",
        "\n",
        "#You only need to generate these tables once, as they get saved to CSV files.\n",
        "\n",
        "#Lookup table for categories\n",
        "categories_path = os.path.join(data_dir, \"category_names.csv\")\n",
        "categories_df = pd.read_csv(categories_path, index_col=\"category_id\")\n",
        "\n",
        "# Maps the category_id to an integer index. This is what we'll use to\n",
        "# one-hot encode the labels.\n",
        "categories_df[\"category_idx\"] = pd.Series(range(len(categories_df)), index=categories_df.index)\n",
        "\n",
        "# categories_df.to_csv(\"categories.csv\")\n",
        "categories_df.head()"
      ]
    },
    {
      "cell_type": "code",
      "execution_count": null,
      "metadata": {
        "id": "UwiPdlqsVwcK"
      },
      "outputs": [],
      "source": [
        "#Create dictionaries for quick lookup of category_id to category_idx mapping.\n",
        "def make_category_tables():\n",
        "    cat2idx = {}\n",
        "    idx2cat = {}\n",
        "    i=0\n",
        "    for ir in categories_df.itertuples():\n",
        "            \n",
        "        category_id = ir[0]\n",
        "        category_idx = ir[4]\n",
        "        cat2idx[category_id] = category_idx\n",
        "        idx2cat[category_idx] = category_id\n",
        "      \n",
        "    return cat2idx, idx2cat"
      ]
    },
    {
      "cell_type": "code",
      "execution_count": null,
      "metadata": {
        "id": "H5NigDwAWJnb"
      },
      "outputs": [],
      "source": [
        "\n",
        "cat2idx, idx2cat = make_category_tables()"
      ]
    },
    {
      "cell_type": "code",
      "execution_count": null,
      "metadata": {
        "colab": {
          "base_uri": "https://localhost:8080/"
        },
        "id": "vHZQapeMWNa5",
        "outputId": "45f6af37-ce67-4295-b561-d89370b0098b"
      },
      "outputs": [
        {
          "data": {
            "text/plain": [
              "(4, 1000012755)"
            ]
          },
          "execution_count": 45,
          "metadata": {},
          "output_type": "execute_result"
        }
      ],
      "source": [
        "# Test if it works:\n",
        "cat2idx[1000012755], idx2cat[4]"
      ]
    },
    {
      "cell_type": "markdown",
      "metadata": {
        "id": "NmheDqasHiZ1"
      },
      "source": [
        "#One time File Creation"
      ]
    },
    {
      "cell_type": "code",
      "execution_count": null,
      "metadata": {
        "id": "cXUH3VXjWn4M"
      },
      "outputs": [],
      "source": [
        "#this takes a few minutes to execute, but we only have to do it once (we'll save the table to a CSV file afterwards).\n",
        "def read_bson(bson_path, num_records, with_categories):\n",
        "    rows = {}\n",
        "    with open(bson_path, \"rb\") as f, tqdm(total=num_records) as pbar:\n",
        "        offset = 0\n",
        "        while True:\n",
        "            item_length_bytes = f.read(4)\n",
        "            if len(item_length_bytes) == 0:\n",
        "                break\n",
        "\n",
        "            length = struct.unpack(\"<i\", item_length_bytes)[0]\n",
        "\n",
        "            f.seek(offset)\n",
        "            item_data = f.read(length)\n",
        "            assert len(item_data) == length\n",
        "\n",
        "            item = bson.BSON.decode(item_data)\n",
        "            product_id = item[\"_id\"]\n",
        "            num_imgs = len(item[\"imgs\"])\n",
        "\n",
        "            row = [num_imgs, offset, length]\n",
        "            if with_categories:\n",
        "                row += [item[\"category_id\"]]\n",
        "            rows[product_id] = row\n",
        "\n",
        "            offset += length\n",
        "            f.seek(offset)\n",
        "            pbar.update()\n",
        "\n",
        "    columns = [\"num_imgs\", \"offset\", \"length\"]\n",
        "    if with_categories:\n",
        "        columns += [\"category_id\"]\n",
        "\n",
        "    df = pd.DataFrame.from_dict(rows, orient=\"index\")\n",
        "    df.index.name = \"product_id\"\n",
        "    df.columns = columns\n",
        "    df.sort_index(inplace=True)\n",
        "    return df"
      ]
    },
    {
      "cell_type": "code",
      "execution_count": null,
      "metadata": {
        "id": "N7JP19l6W505"
      },
      "outputs": [],
      "source": [
        "%time train_offsets_df = read_bson(train_bson_path, num_records=num_train_products, with_categories=True)"
      ]
    },
    {
      "cell_type": "code",
      "execution_count": null,
      "metadata": {
        "id": "yzzV-XRibjqN"
      },
      "outputs": [],
      "source": [
        "train_offsets_df.columns"
      ]
    },
    {
      "cell_type": "code",
      "execution_count": null,
      "metadata": {
        "id": "yRDImQORb3_N"
      },
      "outputs": [],
      "source": [
        "train_offsets_df.head()"
      ]
    },
    {
      "cell_type": "code",
      "execution_count": null,
      "metadata": {
        "id": "KzqWjJx3bsB9"
      },
      "outputs": [],
      "source": [
        "train_offsets_df['category_id'].value_counts()"
      ]
    },
    {
      "cell_type": "code",
      "execution_count": null,
      "metadata": {
        "id": "_g7cnQaCcGoj"
      },
      "outputs": [],
      "source": [
        "train_offsets_df['num_imgs'].value_counts()"
      ]
    },
    {
      "cell_type": "code",
      "execution_count": null,
      "metadata": {
        "id": "g5a9QV8jdVMJ"
      },
      "outputs": [],
      "source": [
        "train_offsets_df.to_csv(\"train_offsets.csv\")"
      ]
    },
    {
      "cell_type": "markdown",
      "metadata": {
        "id": "RT-nR9sph9dq"
      },
      "source": [
        "##Create a random train/validation split\n",
        "We split on products, not on individual images. Since some of the categories only have a few products, we do the split separately for each category.\n",
        "\n",
        "This creates two new tables, one for the training images and one for the validation images. There is a row for every single image, so if a product has more than one image it occurs more than once in the table."
      ]
    },
    {
      "cell_type": "code",
      "execution_count": null,
      "metadata": {
        "id": "8TqA6V3Yh85A"
      },
      "outputs": [],
      "source": [
        "def make_val_set(df, split_percentage=0.2, drop_percentage=0.):\n",
        "    # Find the product_ids for each category.\n",
        "    category_dict = defaultdict(list)\n",
        "    for ir in tqdm(df.itertuples()):\n",
        "        category_dict[ir[4]].append(ir[0])\n",
        "\n",
        "    train_list = []\n",
        "    val_list = []\n",
        "    with tqdm(total=len(df)) as pbar:\n",
        "        for category_id, product_ids in category_dict.items():\n",
        "            category_idx = cat2idx[category_id]\n",
        "\n",
        "            # Randomly remove products to make the dataset smaller.\n",
        "            keep_size = int(len(product_ids) * (1. - drop_percentage))\n",
        "            if keep_size < len(product_ids):\n",
        "                product_ids = np.random.choice(product_ids, keep_size, replace=False)\n",
        "\n",
        "            # Randomly choose the products that become part of the validation set.\n",
        "            val_size = int(len(product_ids) * split_percentage)\n",
        "            if val_size > 0:\n",
        "                val_ids = np.random.choice(product_ids, val_size, replace=False)\n",
        "            else:\n",
        "                val_ids = []\n",
        "\n",
        "            # Create a new row for each image.\n",
        "            for product_id in product_ids:\n",
        "                row = [product_id, category_idx]\n",
        "                for img_idx in range(df.loc[product_id, \"num_imgs\"]):\n",
        "                    if product_id in val_ids:\n",
        "                        val_list.append(row + [img_idx])\n",
        "                    else:\n",
        "                        train_list.append(row + [img_idx])\n",
        "                pbar.update()\n",
        "                \n",
        "    columns = [\"product_id\", \"category_idx\", \"img_idx\"]\n",
        "    train_df = pd.DataFrame(train_list, columns=columns)\n",
        "    val_df = pd.DataFrame(val_list, columns=columns)   \n",
        "    return train_df, val_df"
      ]
    },
    {
      "cell_type": "code",
      "execution_count": null,
      "metadata": {
        "colab": {
          "base_uri": "https://localhost:8080/"
        },
        "id": "4yxrrJLxiI03",
        "outputId": "7742ae61-6e89-42f7-c903-e728f226f993"
      },
      "outputs": [
        {
          "name": "stderr",
          "output_type": "stream",
          "text": [
            "7069896it [00:09, 735466.32it/s]\n",
            "  0%|          | 5596/7069896 [00:01<28:04, 4194.67it/s]\n"
          ]
        },
        {
          "ename": "KeyboardInterrupt",
          "evalue": "ignored",
          "output_type": "error",
          "traceback": [
            "\u001b[0;31m---------------------------------------------------------------------------\u001b[0m",
            "\u001b[0;31mKeyboardInterrupt\u001b[0m                         Traceback (most recent call last)",
            "\u001b[0;32m<ipython-input-48-55e840b35e6b>\u001b[0m in \u001b[0;36m<module>\u001b[0;34m()\u001b[0m\n\u001b[1;32m      1\u001b[0m train_images_df, val_images_df = make_val_set(train_offsets_df, split_percentage=0.2, \n\u001b[0;32m----> 2\u001b[0;31m                                               drop_percentage=0.9)\n\u001b[0m",
            "\u001b[0;32m<ipython-input-47-f2dec860f214>\u001b[0m in \u001b[0;36mmake_val_set\u001b[0;34m(df, split_percentage, drop_percentage)\u001b[0m\n\u001b[1;32m     26\u001b[0m             \u001b[0;32mfor\u001b[0m \u001b[0mproduct_id\u001b[0m \u001b[0;32min\u001b[0m \u001b[0mproduct_ids\u001b[0m\u001b[0;34m:\u001b[0m\u001b[0;34m\u001b[0m\u001b[0;34m\u001b[0m\u001b[0m\n\u001b[1;32m     27\u001b[0m                 \u001b[0mrow\u001b[0m \u001b[0;34m=\u001b[0m \u001b[0;34m[\u001b[0m\u001b[0mproduct_id\u001b[0m\u001b[0;34m,\u001b[0m \u001b[0mcategory_idx\u001b[0m\u001b[0;34m]\u001b[0m\u001b[0;34m\u001b[0m\u001b[0;34m\u001b[0m\u001b[0m\n\u001b[0;32m---> 28\u001b[0;31m                 \u001b[0;32mfor\u001b[0m \u001b[0mimg_idx\u001b[0m \u001b[0;32min\u001b[0m \u001b[0mrange\u001b[0m\u001b[0;34m(\u001b[0m\u001b[0mdf\u001b[0m\u001b[0;34m.\u001b[0m\u001b[0mloc\u001b[0m\u001b[0;34m[\u001b[0m\u001b[0mproduct_id\u001b[0m\u001b[0;34m,\u001b[0m \u001b[0;34m\"num_imgs\"\u001b[0m\u001b[0;34m]\u001b[0m\u001b[0;34m)\u001b[0m\u001b[0;34m:\u001b[0m\u001b[0;34m\u001b[0m\u001b[0;34m\u001b[0m\u001b[0m\n\u001b[0m\u001b[1;32m     29\u001b[0m                     \u001b[0;32mif\u001b[0m \u001b[0mproduct_id\u001b[0m \u001b[0;32min\u001b[0m \u001b[0mval_ids\u001b[0m\u001b[0;34m:\u001b[0m\u001b[0;34m\u001b[0m\u001b[0;34m\u001b[0m\u001b[0m\n\u001b[1;32m     30\u001b[0m                         \u001b[0mval_list\u001b[0m\u001b[0;34m.\u001b[0m\u001b[0mappend\u001b[0m\u001b[0;34m(\u001b[0m\u001b[0mrow\u001b[0m \u001b[0;34m+\u001b[0m \u001b[0;34m[\u001b[0m\u001b[0mimg_idx\u001b[0m\u001b[0;34m]\u001b[0m\u001b[0;34m)\u001b[0m\u001b[0;34m\u001b[0m\u001b[0;34m\u001b[0m\u001b[0m\n",
            "\u001b[0;32m/usr/local/lib/python3.7/dist-packages/pandas/core/indexing.py\u001b[0m in \u001b[0;36m__getitem__\u001b[0;34m(self, key)\u001b[0m\n\u001b[1;32m    867\u001b[0m             \u001b[0;32mif\u001b[0m \u001b[0mself\u001b[0m\u001b[0;34m.\u001b[0m\u001b[0m_is_scalar_access\u001b[0m\u001b[0;34m(\u001b[0m\u001b[0mkey\u001b[0m\u001b[0;34m)\u001b[0m\u001b[0;34m:\u001b[0m\u001b[0;34m\u001b[0m\u001b[0;34m\u001b[0m\u001b[0m\n\u001b[1;32m    868\u001b[0m                 \u001b[0;32mtry\u001b[0m\u001b[0;34m:\u001b[0m\u001b[0;34m\u001b[0m\u001b[0;34m\u001b[0m\u001b[0m\n\u001b[0;32m--> 869\u001b[0;31m                     \u001b[0;32mreturn\u001b[0m \u001b[0mself\u001b[0m\u001b[0;34m.\u001b[0m\u001b[0mobj\u001b[0m\u001b[0;34m.\u001b[0m\u001b[0m_get_value\u001b[0m\u001b[0;34m(\u001b[0m\u001b[0;34m*\u001b[0m\u001b[0mkey\u001b[0m\u001b[0;34m,\u001b[0m \u001b[0mtakeable\u001b[0m\u001b[0;34m=\u001b[0m\u001b[0mself\u001b[0m\u001b[0;34m.\u001b[0m\u001b[0m_takeable\u001b[0m\u001b[0;34m)\u001b[0m\u001b[0;34m\u001b[0m\u001b[0;34m\u001b[0m\u001b[0m\n\u001b[0m\u001b[1;32m    870\u001b[0m                 \u001b[0;32mexcept\u001b[0m \u001b[0;34m(\u001b[0m\u001b[0mKeyError\u001b[0m\u001b[0;34m,\u001b[0m \u001b[0mIndexError\u001b[0m\u001b[0;34m,\u001b[0m \u001b[0mAttributeError\u001b[0m\u001b[0;34m)\u001b[0m\u001b[0;34m:\u001b[0m\u001b[0;34m\u001b[0m\u001b[0;34m\u001b[0m\u001b[0m\n\u001b[1;32m    871\u001b[0m                     \u001b[0;31m# AttributeError for IntervalTree get_value\u001b[0m\u001b[0;34m\u001b[0m\u001b[0;34m\u001b[0m\u001b[0;34m\u001b[0m\u001b[0m\n",
            "\u001b[0;32m/usr/local/lib/python3.7/dist-packages/pandas/core/frame.py\u001b[0m in \u001b[0;36m_get_value\u001b[0;34m(self, index, col, takeable)\u001b[0m\n\u001b[1;32m   3012\u001b[0m \u001b[0;34m\u001b[0m\u001b[0m\n\u001b[1;32m   3013\u001b[0m         \u001b[0;32mtry\u001b[0m\u001b[0;34m:\u001b[0m\u001b[0;34m\u001b[0m\u001b[0;34m\u001b[0m\u001b[0m\n\u001b[0;32m-> 3014\u001b[0;31m             \u001b[0mloc\u001b[0m \u001b[0;34m=\u001b[0m \u001b[0mengine\u001b[0m\u001b[0;34m.\u001b[0m\u001b[0mget_loc\u001b[0m\u001b[0;34m(\u001b[0m\u001b[0mindex\u001b[0m\u001b[0;34m)\u001b[0m\u001b[0;34m\u001b[0m\u001b[0;34m\u001b[0m\u001b[0m\n\u001b[0m\u001b[1;32m   3015\u001b[0m             \u001b[0;32mreturn\u001b[0m \u001b[0mseries\u001b[0m\u001b[0;34m.\u001b[0m\u001b[0m_values\u001b[0m\u001b[0;34m[\u001b[0m\u001b[0mloc\u001b[0m\u001b[0;34m]\u001b[0m\u001b[0;34m\u001b[0m\u001b[0;34m\u001b[0m\u001b[0m\n\u001b[1;32m   3016\u001b[0m         \u001b[0;32mexcept\u001b[0m \u001b[0mKeyError\u001b[0m\u001b[0;34m:\u001b[0m\u001b[0;34m\u001b[0m\u001b[0;34m\u001b[0m\u001b[0m\n",
            "\u001b[0;31mKeyboardInterrupt\u001b[0m: "
          ]
        }
      ],
      "source": [
        "train_images_df, val_images_df = make_val_set(train_offsets_df, split_percentage=0.2, \n",
        "                                              drop_percentage=0.9)"
      ]
    },
    {
      "cell_type": "code",
      "execution_count": null,
      "metadata": {
        "id": "kbNnWKYsiN4Q"
      },
      "outputs": [],
      "source": [
        "train_images_df.head()"
      ]
    },
    {
      "cell_type": "code",
      "execution_count": null,
      "metadata": {
        "id": "1Nkti314iPk9"
      },
      "outputs": [],
      "source": [
        "val_images_df.head()"
      ]
    },
    {
      "cell_type": "code",
      "execution_count": null,
      "metadata": {
        "id": "6J284w4qiRjD"
      },
      "outputs": [],
      "source": [
        "print(\"Number of training images:\", len(train_images_df))\n",
        "print(\"Number of validation images:\", len(val_images_df))\n",
        "print(\"Total images:\", len(train_images_df) + len(val_images_df))"
      ]
    },
    {
      "cell_type": "code",
      "execution_count": null,
      "metadata": {
        "id": "hPsENxNyiX8M"
      },
      "outputs": [],
      "source": [
        "len(train_images_df[\"category_idx\"].unique()), len(val_images_df[\"category_idx\"].unique())"
      ]
    },
    {
      "cell_type": "code",
      "execution_count": null,
      "metadata": {
        "id": "3KX3hEyYib_C"
      },
      "outputs": [],
      "source": [
        "train_images_df.to_csv(\"train_images.csv\")\n",
        "val_images_df.to_csv(\"val_images.csv\")"
      ]
    },
    {
      "cell_type": "markdown",
      "metadata": {
        "id": "prrddIqvifSA"
      },
      "source": [
        "##Part 2: The generator"
      ]
    },
    {
      "cell_type": "code",
      "execution_count": null,
      "metadata": {
        "colab": {
          "base_uri": "https://localhost:8080/"
        },
        "id": "U8TsWUl7igRB",
        "outputId": "6ea282f1-b22b-4393-aaff-4194aa8259e7"
      },
      "outputs": [
        {
          "name": "stderr",
          "output_type": "stream",
          "text": [
            "/usr/local/lib/python3.7/dist-packages/numpy/lib/arraysetops.py:580: FutureWarning: elementwise comparison failed; returning scalar instead, but in the future will perform elementwise comparison\n",
            "  mask |= (ar1 == a)\n"
          ]
        }
      ],
      "source": [
        "#First load the lookup tables from the CSV files (you don't need to do this if you just did all the steps from part 1).\n",
        "\n",
        "categories_df = pd.read_csv(\"categories.csv\", index_col=0)\n",
        "cat2idx, idx2cat = make_category_tables()\n",
        "\n",
        "train_offsets_df = pd.read_csv(\"train_offsets.csv\", index_col=0)\n",
        "train_images_df = pd.read_csv(\"train_images.csv\", index_col=0)\n",
        "val_images_df = pd.read_csv(\"val_images.csv\", index_col=0)\n"
      ]
    },
    {
      "cell_type": "code",
      "execution_count": null,
      "metadata": {
        "id": "kyvrVR_4gsw9"
      },
      "outputs": [],
      "source": [
        "from keras.preprocessing.image import Iterator\n",
        "from keras.preprocessing.image import ImageDataGenerator\n",
        "from keras import backend as K\n",
        "from PIL import Image\n",
        "\n",
        "class BSONIterator(Iterator):\n",
        "    def __init__(self, bson_file, images_df, offsets_df, num_class,\n",
        "                 image_data_generator, lock, target_size=(180, 180), \n",
        "                 with_labels=True, batch_size=32, shuffle=False, seed=None):\n",
        "\n",
        "        self.file = bson_file\n",
        "        self.images_df = images_df\n",
        "        self.offsets_df = offsets_df\n",
        "        self.with_labels = with_labels\n",
        "        self.samples = len(images_df)\n",
        "        self.num_class = num_class\n",
        "        self.image_data_generator = image_data_generator\n",
        "        self.target_size = tuple(target_size)\n",
        "        self.image_shape = self.target_size + (3,)\n",
        "\n",
        "        print(\"Found %d images belonging to %d classes.\" % (self.samples, self.num_class))\n",
        "\n",
        "        super(BSONIterator, self).__init__(self.samples, batch_size, shuffle, seed)\n",
        "        self.lock = lock\n",
        "\n",
        "    def _get_batches_of_transformed_samples(self, index_array):\n",
        "        batch_x = np.zeros((len(index_array),) + self.image_shape, dtype=K.floatx())\n",
        "        if self.with_labels:\n",
        "            batch_y = np.zeros((len(batch_x), self.num_class), dtype=K.floatx())\n",
        "\n",
        "        for i, j in enumerate(index_array):\n",
        "            # Protect file and dataframe access with a lock.\n",
        "            with self.lock:\n",
        "                image_row = self.images_df.iloc[j]\n",
        "                product_id = image_row[\"product_id\"]\n",
        "                offset_row = self.offsets_df.loc[product_id]\n",
        "\n",
        "                # Read this product's data from the BSON file.\n",
        "                self.file.seek(offset_row[\"offset\"])\n",
        "                item_data = self.file.read(offset_row[\"length\"])\n",
        "\n",
        "            # Grab the image from the product.\n",
        "            item = bson.BSON.decode(item_data)\n",
        "            img_idx = image_row[\"img_idx\"]\n",
        "            bson_img = item[\"imgs\"][img_idx][\"picture\"]\n",
        "\n",
        "            # Load the image.\n",
        "            #img = load_img(io.BytesIO(bson_img), target_size=self.target_size)\n",
        "            #print(type(bson_img))\n",
        "            #img  = load_img(bson_img, target_size =self.target_size)\n",
        "            # Converting Keras Preprocessing Image load to Pillow Based loading\n",
        "            # After loading convert to RGB optional as PIL loads in default RGGB\n",
        "            # And resize is a necessary operation - to self.target_size\n",
        "            \n",
        "            img = Image.open(io.BytesIO(bson_img))\n",
        "            img = img.convert('RGB')\n",
        "            img = img.resize(self.target_size, Image.NEAREST)\n",
        "            # Preprocess the image.\n",
        "            x = img_to_array(img)\n",
        "            x = self.image_data_generator.random_transform(x)\n",
        "            x = self.image_data_generator.standardize(x)\n",
        "\n",
        "            # Add the image and the label to the batch (one-hot encoded).\n",
        "            batch_x[i] = x\n",
        "            if self.with_labels:\n",
        "                batch_y[i, image_row[\"category_idx\"]] = 1\n",
        "\n",
        "        if self.with_labels:\n",
        "            return batch_x, batch_y\n",
        "        else:\n",
        "            return batch_x\n",
        "\n",
        "    def next(self):\n",
        "        with self.lock:\n",
        "            index_array = next(self.index_generator)\n",
        "        return self._get_batches_of_transformed_samples(index_array)"
      ]
    },
    {
      "cell_type": "code",
      "execution_count": null,
      "metadata": {
        "id": "fPloGSFwgwKu"
      },
      "outputs": [],
      "source": [
        "train_bson_file = open(train_bson_path, \"rb\")"
      ]
    },
    {
      "cell_type": "markdown",
      "metadata": {
        "id": "CCXpWrCvg23K"
      },
      "source": [
        "#Create a generator for training and a generator for validation."
      ]
    },
    {
      "cell_type": "code",
      "execution_count": null,
      "metadata": {
        "id": "Pce1ryXpg-Pi"
      },
      "outputs": [],
      "source": [
        "#Because the training and validation generators read from the same BSON file, they need to use the same lock to protect it.\n",
        "import threading\n",
        "lock = threading.Lock()"
      ]
    },
    {
      "cell_type": "code",
      "execution_count": null,
      "metadata": {
        "colab": {
          "base_uri": "https://localhost:8080/"
        },
        "id": "VjAHcuGRg0mu",
        "outputId": "fb6e1979-7363-405d-e7b5-aaf3ad708374"
      },
      "outputs": [
        {
          "name": "stdout",
          "output_type": "stream",
          "text": [
            "Found 989921 images belonging to 5270 classes.\n",
            "Found 242366 images belonging to 5270 classes.\n"
          ]
        }
      ],
      "source": [
        "num_classes = 5270\n",
        "num_train_images = len(train_images_df)\n",
        "num_val_images = len(val_images_df)\n",
        "batch_size = 128\n",
        "\n",
        "# Tip: use ImageDataGenerator for data augmentation and preprocessing.\n",
        "train_datagen = ImageDataGenerator()\n",
        "train_gen = BSONIterator(train_bson_file, train_images_df, train_offsets_df, \n",
        "                         num_classes, train_datagen, lock,\n",
        "                         batch_size=batch_size, shuffle=True)\n",
        "\n",
        "val_datagen = ImageDataGenerator()\n",
        "val_gen = BSONIterator(train_bson_file, val_images_df, train_offsets_df,\n",
        "                       num_classes, val_datagen, lock,\n",
        "                       batch_size=batch_size, shuffle=True)"
      ]
    },
    {
      "cell_type": "code",
      "execution_count": null,
      "metadata": {
        "colab": {
          "base_uri": "https://localhost:8080/"
        },
        "id": "2MlDyePshKlh",
        "outputId": "6e60efc0-c1c0-4cb3-f388-daeca9736e92"
      },
      "outputs": [
        {
          "name": "stdout",
          "output_type": "stream",
          "text": [
            "CPU times: user 861 ms, sys: 111 ms, total: 971 ms\n",
            "Wall time: 2min 29s\n"
          ]
        }
      ],
      "source": [
        "next(train_gen)  # warm-up\n",
        "\n",
        "%time bx, by = next(train_gen)"
      ]
    },
    {
      "cell_type": "code",
      "execution_count": null,
      "metadata": {
        "colab": {
          "base_uri": "https://localhost:8080/",
          "height": 286
        },
        "id": "V_0cRKzdoE2g",
        "outputId": "cfddb827-38dc-4099-8d62-af29ecb86797"
      },
      "outputs": [
        {
          "data": {
            "text/plain": [
              "<matplotlib.image.AxesImage at 0x7f03a0308610>"
            ]
          },
          "execution_count": 22,
          "metadata": {},
          "output_type": "execute_result"
        },
        {
          "data": {
            "image/png": "[encoded data removed]",
            "text/plain": [
              "<Figure size 432x288 with 1 Axes>"
            ]
          },
          "metadata": {},
          "output_type": "display_data"
        }
      ],
      "source": [
        "plt.imshow(bx[-1].astype(np.uint8))"
      ]
    },
    {
      "cell_type": "code",
      "execution_count": null,
      "metadata": {
        "colab": {
          "base_uri": "https://localhost:8080/",
          "height": 443
        },
        "id": "ZO0-HFplJBkF",
        "outputId": "45d05aae-cb5e-4a1b-88a0-37379b2dea3f"
      },
      "outputs": [
        {
          "name": "stdout",
          "output_type": "stream",
          "text": [
            "category_level1                            INFORMATIQUE\n",
            "category_level2              CONNECTIQUE - ALIMENTATION\n",
            "category_level3    BATTERIE D'ALIMENTATION INFORMATIQUE\n",
            "category_idx                                       2522\n",
            "Name: 1000004085, dtype: object\n",
            "category_level1              LIBRAIRIE\n",
            "category_level2               MEDECINE\n",
            "category_level3    OUVRAGE PATHOLOGIE \n",
            "category_idx                      3353\n",
            "Name: 1000014233, dtype: object\n"
          ]
        },
        {
          "data": {
            "image/png": "[encoded data removed]",
            "text/plain": [
              "<Figure size 432x288 with 1 Axes>"
            ]
          },
          "metadata": {},
          "output_type": "display_data"
        }
      ],
      "source": [
        "cat_idx = np.argmax(by[-1])\n",
        "cat_id = idx2cat[cat_idx]\n",
        "print(categories_df.loc[cat_id])\n",
        "\n",
        "bx, by = next(val_gen)\n",
        "\n",
        "plt.imshow(bx[-1].astype(np.uint8))\n",
        "\n",
        "cat_idx = np.argmax(by[-1])\n",
        "cat_id = idx2cat[cat_idx]\n",
        "print(categories_df.loc[cat_id])"
      ]
    },
    {
      "cell_type": "code",
      "execution_count": null,
      "metadata": {
        "id": "LOU3xDFMLd_m"
      },
      "outputs": [],
      "source": [
        "#Importing packages\n",
        "import tensorflow as tf\n",
        "from tensorflow.keras import layers\n",
        "from tensorflow.keras.models import Sequential\n",
        "from tensorflow.keras.layers import Dense, Conv2D, Flatten, Dropout, MaxPooling2D,BatchNormalization,Dense, GlobalAveragePooling2D\n",
        "from tensorflow.keras.layers.experimental import preprocessing"
      ]
    },
    {
      "cell_type": "code",
      "execution_count": null,
      "metadata": {
        "id": "3Wv3B04Rpygp"
      },
      "outputs": [],
      "source": [
        "# Get helper_functions.py script from course GitHub\n",
        "# !wget https://raw.githubusercontent.com/sarthakkaushik/Cdiscount-Image-Classification/main/helper.py\n",
        "\n",
        "# Import helper functions we're going to use\n",
        "from helper import create_tensorboard_callback, plot_loss_curves, unzip_data, walk_through_dir"
      ]
    },
    {
      "cell_type": "markdown",
      "metadata": {
        "id": "mBBK6TDRUCGR"
      },
      "source": [
        "#Turning On Mixed Precesion\n"
      ]
    },
    {
      "cell_type": "code",
      "execution_count": null,
      "metadata": {
        "colab": {
          "base_uri": "https://localhost:8080/"
        },
        "id": "TQsUh6-DUEaK",
        "outputId": "754c9c13-f365-49e8-c1b6-1442c0e9fee3"
      },
      "outputs": [
        {
          "data": {
            "text/plain": [
              "<Policy \"mixed_float16\">"
            ]
          },
          "execution_count": 74,
          "metadata": {},
          "output_type": "execute_result"
        }
      ],
      "source": [
        "# Turn on mixed precision training\n",
        "from tensorflow.keras import mixed_precision\n",
        "mixed_precision.set_global_policy(policy=\"mixed_float16\") # set global policy to mixed precision \n",
        "\n",
        "mixed_precision.global_policy() # should output \"mixed_float16\""
      ]
    },
    {
      "cell_type": "markdown",
      "metadata": {
        "id": "Jf2q4zXqCqaS"
      },
      "source": [
        "#Model-1-ResNet52"
      ]
    },
    {
      "cell_type": "markdown",
      "metadata": {
        "id": "r_EW0fQdb0IM"
      },
      "source": [
        "Callbacks"
      ]
    },
    {
      "cell_type": "code",
      "execution_count": null,
      "metadata": {
        "id": "wlMKKQquZa3e"
      },
      "outputs": [],
      "source": [
        "#Define callbacks\n",
        "\n",
        "import datetime\n",
        "\n",
        "\n",
        "dir_name = '/gdrive/MyDrive/UOH Assignment Dataset/cdiscount/Tensorboard'\n",
        "\n",
        "\n",
        "#Tensorboard Callback\n",
        "def create_tensorboard_callback(experiment_name):\n",
        "  log_dir = dir_name + \"/\" + experiment_name + \"/\" + datetime.datetime.now().strftime(\"%Y%m%d-%H%M%S\")\n",
        "  tensorboard_callback = tf.keras.callbacks.TensorBoard(\n",
        "      log_dir=log_dir\n",
        "  )\n",
        "  print(f\"Saving TensorBoard log files to: {log_dir}\")\n",
        "  return tensorboard_callback\n",
        "\n",
        "# Setup checkpoint path\n",
        "checkpoint_path = '/gdrive/MyDrive/UOH Assignment Dataset/cdiscount/CheckPoints/ResNet101/checkpoint.ckpt' # note: remember saving directly to Colab is temporary\n",
        "\n",
        "# Create a ModelCheckpoint callback that saves the model's weights only\n",
        "checkpoint_callback = tf.keras.callbacks.ModelCheckpoint(filepath=checkpoint_path,\n",
        "                                                         save_weights_only=True, # set to False to save the entire model\n",
        "                                                         save_best_only=False, # set to True to save only the best model instead of a model every epoch \n",
        "                                                         save_freq=\"epoch\",# save every epoch\n",
        "                                                         monitor=\"val_loss\", \n",
        "                                                         verbose=1)\n",
        "\n",
        "\n",
        "# Setup EarlyStopping callback to stop training if model's val_loss doesn't improve for 3 epochs\n",
        "early_stopping = tf.keras.callbacks.EarlyStopping(monitor=\"val_loss\", # watch the val loss metric\n",
        "                                                  patience=3) # if val loss decreases for 3 epochs in a row, stop training\n",
        "\n",
        "\n",
        "\n",
        "# Creating learning rate reduction callback\n",
        "reduce_lr = tf.keras.callbacks.ReduceLROnPlateau(monitor=\"val_loss\",  \n",
        "                                                 factor=0.2, # multiply the learning rate by 0.2 (reduce by 5x)\n",
        "                                                 patience=2,\n",
        "                                                 verbose=1, # print out when learning rate goes down \n",
        "                                                 min_lr=1e-7)\n",
        "\n",
        "\n",
        "#Step Decay\n",
        "\n",
        "def lr_step_decay(epoch, lr):\n",
        "    drop_rate = 0.5\n",
        "    epochs_drop = 10.0\n",
        "    return initial_learning_rate * math.pow(drop_rate, math.floor(epoch/epochs_drop))\n",
        "\n",
        "\n",
        "class StepDecay(tf.keras.optimizers.schedules.LearningRateSchedule):\n",
        "\n",
        "  def __init__(self, initAlpha=0.01, factor=0.25, dropEvery=2):\n",
        "      # store the base initial learning rate, drop factor, and\n",
        "      # epochs to drop every\n",
        "      self.initAlpha = initAlpha\n",
        "      self.factor = factor\n",
        "      self.dropEvery = dropEvery\n",
        "  def __call__(self, epoch):\n",
        "      # compute the learning rate for the current epoch\n",
        "      exp = np.floor((1 + epoch) / self.dropEvery)\n",
        "      alpha = self.initAlpha * (self.factor ** exp)\n",
        "      # return the learning rate\n",
        "      return float(alpha)\n",
        "\n",
        "optimizer = tf.keras.optimizers.Adam(learning_rate=StepDecay(initAlpha=1e-1, factor=0.25, dropEvery=2))\n",
        "\n",
        "\n",
        "\n",
        "\n"
      ]
    },
    {
      "cell_type": "markdown",
      "metadata": {
        "id": "Ddi6pZAQmZKK"
      },
      "source": [
        "Creating Weghts & Biases Logger"
      ]
    },
    {
      "cell_type": "code",
      "execution_count": null,
      "metadata": {
        "colab": {
          "base_uri": "https://localhost:8080/",
          "height": 176,
          "referenced_widgets": [
            "4baf6ec9ad9748799ebfead9640bdd96",
            "2d91756e41c8459286359c171a5e160b",
            "642da174990041d6be7062b7e2d6e5a6",
            "8347117c5f3d4983a4da9bf2a6adba3f",
            "719f4e698e5140418463fa2de520ad67",
            "4de959716089459aa9209c16712cd81a",
            "78ab9b4f0fe74f278dcf1a1413f8ae8c",
            "fb65488acd794ea890dc953698c99f30"
          ]
        },
        "id": "aHFQ284ZpOOp",
        "outputId": "ee47b517-0155-44e1-da28-013d0fe6bb1f"
      },
      "outputs": [
        {
          "data": {
            "text/html": [
              "Finishing last run (ID:19bbzlqe) before initializing another..."
            ],
            "text/plain": [
              "<IPython.core.display.HTML object>"
            ]
          },
          "metadata": {},
          "output_type": "display_data"
        },
        {
          "data": {
            "text/html": [
              "<br/>Waiting for W&B process to finish, PID 1376... <strong style=\"color:green\">(success).</strong>"
            ],
            "text/plain": [
              "<IPython.core.display.HTML object>"
            ]
          },
          "metadata": {},
          "output_type": "display_data"
        },
        {
          "data": {
            "application/vnd.jupyter.widget-view+json": {
              "model_id": "4baf6ec9ad9748799ebfead9640bdd96",
              "version_major": 2,
              "version_minor": 0
            },
            "text/plain": [
              "VBox(children=(Label(value=' 0.00MB of 0.00MB uploaded (0.00MB deduped)\\r'), FloatProgress(value=1.0, max=1.0)…"
            ]
          },
          "metadata": {},
          "output_type": "display_data"
        },
        {
          "data": {
            "text/html": [
              "<style>\n",
              "    table.wandb td:nth-child(1) { padding: 0 10px; text-align: right }\n",
              "    .wandb-row { display: flex; flex-direction: row; flex-wrap: wrap; width: 100% }\n",
              "    .wandb-col { display: flex; flex-direction: column; flex-basis: 100%; flex: 1; padding: 10px; }\n",
              "    </style>\n",
              "<div class=\"wandb-row\"><div class=\"wandb-col\">\n",
              "</div><div class=\"wandb-col\">\n",
              "</div></div>\n",
              "Synced 5 W&B file(s), 0 media file(s), 0 artifact file(s) and 0 other file(s)\n",
              "<br/>Synced <strong style=\"color:#cdcd00\">soft-universe-2</strong>: <a href=\"https://wandb.ai/sarthakkaushik/CDiscount-RESNET101/runs/19bbzlqe\" target=\"_blank\">https://wandb.ai/sarthakkaushik/CDiscount-RESNET101/runs/19bbzlqe</a><br/>\n",
              "Find logs at: <code>./wandb/run-20220126_184933-19bbzlqe/logs</code><br/>\n"
            ],
            "text/plain": [
              "<IPython.core.display.HTML object>"
            ]
          },
          "metadata": {},
          "output_type": "display_data"
        },
        {
          "data": {
            "text/html": [
              "Successfully finished last run (ID:19bbzlqe). Initializing new run:<br/>"
            ],
            "text/plain": [
              "<IPython.core.display.HTML object>"
            ]
          },
          "metadata": {},
          "output_type": "display_data"
        },
        {
          "data": {
            "text/html": [
              "\n",
              "                    Syncing run <strong><a href=\"https://wandb.ai/sarthakkaushik/CDiscount-RESNET101/runs/34as1ddi\" target=\"_blank\">denim-lion-3</a></strong> to <a href=\"https://wandb.ai/sarthakkaushik/CDiscount-RESNET101\" target=\"_blank\">Weights & Biases</a> (<a href=\"https://docs.wandb.com/integrations/jupyter.html\" target=\"_blank\">docs</a>).<br/>\n",
              "\n",
              "                "
            ],
            "text/plain": [
              "<IPython.core.display.HTML object>"
            ]
          },
          "metadata": {},
          "output_type": "display_data"
        }
      ],
      "source": [
        "# Initialize wandb with your project name\n",
        "run = wandb.init(project='CDiscount-RESNET101',\n",
        "                 config={  # and include hyperparameters and metadata\n",
        "                     \n",
        "                     \"epochs\": 8,\n",
        "                     \"batch_size\": 128,\n",
        "                     \"loss_function\": \"categorical_crossentropy\",\n",
        "                     \"architecture\": \"Resnet-101\",\n",
        "                     \"dataset\": \"Cdiscount\"\n",
        "                 })\n",
        "config = wandb.config  # We'll use this to configure our experiment"
      ]
    },
    {
      "cell_type": "code",
      "execution_count": null,
      "metadata": {
        "id": "Pb2EOMBEmcm1"
      },
      "outputs": [],
      "source": [
        "class LRLogger(tf.keras.callbacks.Callback):\n",
        "    def __init__(self, optimizer):\n",
        "      super(LRLogger, self).__init__()\n",
        "      self.optimizer = optimizer\n",
        "\n",
        "    def on_epoch_end(self, epoch, logs):\n",
        "      lr = self.optimizer.learning_rate(epoch)\n",
        "      wandb.log({\"lr\": lr}, commit=False)"
      ]
    },
    {
      "cell_type": "markdown",
      "metadata": {
        "id": "8nETy2r5b2l6"
      },
      "source": [
        "Modelling"
      ]
    },
    {
      "cell_type": "code",
      "execution_count": null,
      "metadata": {
        "colab": {
          "base_uri": "https://localhost:8080/"
        },
        "id": "905TNFmt1XQA",
        "outputId": "2eff9fec-7a47-4bc7-b0fe-49ffe3205860"
      },
      "outputs": [
        {
          "name": "stdout",
          "output_type": "stream",
          "text": [
            "Model: \"model\"\n",
            "_________________________________________________________________\n",
            " Layer (type)                Output Shape              Param #   \n",
            "=================================================================\n",
            " input_layers (InputLayer)   [(None, 180, 180, 3)]     0         \n",
            "                                                                 \n",
            " rescaling (Rescaling)       (None, 180, 180, 3)       0         \n",
            "                                                                 \n",
            " resnet101 (Functional)      (None, None, None, 2048)  42658176  \n",
            "                                                                 \n",
            " GlobalAveragePooling2D_laye  (None, 2048)             0         \n",
            " rs (GlobalAveragePooling2D)                                     \n",
            "                                                                 \n",
            " output_layers_float_32 (Den  (None, 5270)             10798230  \n",
            " se)                                                             \n",
            "                                                                 \n",
            "=================================================================\n",
            "Total params: 53,456,406\n",
            "Trainable params: 10,798,230\n",
            "Non-trainable params: 42,658,176\n",
            "_________________________________________________________________\n"
          ]
        }
      ],
      "source": [
        "\n",
        "\n",
        "tf.keras.backend.clear_session()\n",
        "\n",
        "###------------------------Base Model----------------------------------###\n",
        "\n",
        "base_model_RestNet101=tf.keras.applications.ResNet101(include_top=False,weights=\"imagenet\",input_shape=None,)\n",
        "base_model_RestNet101.trainable =False\n",
        "\n",
        "#Setup Model architecture\n",
        "\n",
        "inputs= layers.Input(shape=(180,180,3), name=\"input_layers\",dtype=tf.float16) # updating dtype to float16 to handle mixed precesion\n",
        "x = preprocessing.Rescaling(1./255)(inputs) # Resent do not scale the image hence need to do manually\n",
        "x=base_model_RestNet101(x,training=False)\n",
        "x=layers.GlobalAveragePooling2D(name=\"GlobalAveragePooling2D_layers\")(x)\n",
        "outputs=layers.Dense(num_classes, activation=\"softmax\", dtype=tf.float32,name=\"output_layers_float_32\")(x) # Converting back to float 32 from our mixed precesion\n",
        "model_1=tf.keras.Model(inputs,outputs)\n",
        "\n",
        "\n",
        "\n",
        "\n",
        "\n",
        "\n",
        "#Getting the summary of the model we created\n",
        "model_1.summary()\n",
        "\n",
        "\n",
        "#Defining f1 score\n",
        "\n",
        "from keras import backend as K\n",
        "\n",
        "def recall_m(y_true, y_pred):\n",
        "    true_positives = K.sum(K.round(K.clip(y_true * y_pred, 0, 1)))\n",
        "    possible_positives = K.sum(K.round(K.clip(y_true, 0, 1)))\n",
        "    recall = true_positives / (possible_positives + K.epsilon())\n",
        "    return recall\n",
        "\n",
        "def precision_m(y_true, y_pred):\n",
        "    true_positives = K.sum(K.round(K.clip(y_true * y_pred, 0, 1)))\n",
        "    predicted_positives = K.sum(K.round(K.clip(y_pred, 0, 1)))\n",
        "    precision = true_positives / (predicted_positives + K.epsilon())\n",
        "    return precision\n",
        "\n",
        "def f1_m(y_true, y_pred):\n",
        "    precision = precision_m(y_true, y_pred)\n",
        "    recall = recall_m(y_true, y_pred)\n",
        "    return 2*((precision*recall)/(precision+recall+K.epsilon()))\n",
        "\n",
        "\n",
        "\n",
        "\n",
        "\n",
        "#Compile the model\n",
        "model_1.compile(optimizer='Adam',  #optimizer we defined above \n",
        "                loss='categorical_crossentropy',  # optimizer=\"adam\",            \n",
        "              \n",
        "              metrics=['accuracy',precision_m,recall_m,f1_m]\n",
        "              )\n",
        "\n"
      ]
    },
    {
      "cell_type": "code",
      "execution_count": null,
      "metadata": {
        "colab": {
          "base_uri": "https://localhost:8080/"
        },
        "id": "E9G9v_J2Yp8S",
        "outputId": "653ea8c7-b109-4159-e5b3-1a257d96affc"
      },
      "outputs": [
        {
          "data": {
            "text/plain": [
              "<keras.layers.pooling.GlobalAveragePooling2D at 0x7fc9a0f3f5d0>"
            ]
          },
          "execution_count": 79,
          "metadata": {},
          "output_type": "execute_result"
        }
      ],
      "source": [
        "temp=model_1.layers[3]\n",
        "temp"
      ]
    },
    {
      "cell_type": "code",
      "execution_count": null,
      "metadata": {
        "colab": {
          "base_uri": "https://localhost:8080/"
        },
        "id": "8wVVDp4OVVda",
        "outputId": "a7eaa556-7049-4da0-d833-e922c6b878c0"
      },
      "outputs": [
        {
          "name": "stdout",
          "output_type": "stream",
          "text": [
            "input_layers True float16 <Policy \"float16\">\n",
            "rescaling True float32 <Policy \"mixed_float16\">\n",
            "resnet101 False float32 <Policy \"mixed_float16\">\n",
            "GlobalAveragePooling2D_layers True float32 <Policy \"mixed_float16\">\n",
            "output_layers_float_32 True float32 <Policy \"float32\">\n"
          ]
        }
      ],
      "source": [
        "#Checking layer dtype policies (are we using mixed precision?)\n",
        "\n",
        "# Check the dtype_policy attributes of layers in our model\n",
        "for layer in model_1.layers:\n",
        "  print(layer.name, layer.trainable, layer.dtype, layer.dtype_policy) # Check the dtype policy of layers"
      ]
    },
    {
      "cell_type": "code",
      "execution_count": null,
      "metadata": {
        "colab": {
          "base_uri": "https://localhost:8080/"
        },
        "id": "Dp1zHbqtV0Ur",
        "outputId": "a6ff8b6a-e9d3-4832-d7d5-28c462548417"
      },
      "outputs": [
        {
          "name": "stdout",
          "output_type": "stream",
          "text": [
            "input_1 False float32 <Policy \"float32\">\n",
            "conv1_pad False float32 <Policy \"mixed_float16\">\n",
            "conv1_conv False float32 <Policy \"mixed_float16\">\n",
            "conv1_bn False float32 <Policy \"mixed_float16\">\n",
            "conv1_relu False float32 <Policy \"mixed_float16\">\n",
            "pool1_pad False float32 <Policy \"mixed_float16\">\n",
            "pool1_pool False float32 <Policy \"mixed_float16\">\n",
            "conv2_block1_1_conv False float32 <Policy \"mixed_float16\">\n",
            "conv2_block1_1_bn False float32 <Policy \"mixed_float16\">\n",
            "conv2_block1_1_relu False float32 <Policy \"mixed_float16\">\n",
            "conv2_block1_2_conv False float32 <Policy \"mixed_float16\">\n",
            "conv2_block1_2_bn False float32 <Policy \"mixed_float16\">\n",
            "conv2_block1_2_relu False float32 <Policy \"mixed_float16\">\n",
            "conv2_block1_0_conv False float32 <Policy \"mixed_float16\">\n",
            "conv2_block1_3_conv False float32 <Policy \"mixed_float16\">\n",
            "conv2_block1_0_bn False float32 <Policy \"mixed_float16\">\n",
            "conv2_block1_3_bn False float32 <Policy \"mixed_float16\">\n",
            "conv2_block1_add False float32 <Policy \"mixed_float16\">\n",
            "conv2_block1_out False float32 <Policy \"mixed_float16\">\n",
            "conv2_block2_1_conv False float32 <Policy \"mixed_float16\">\n"
          ]
        }
      ],
      "source": [
        "# Check the layers in the base model and see what dtype policy they're using\n",
        "for layer in model_1.layers[2].layers[:20]: # only check the first 20 layers to save output space\n",
        "  print(layer.name, layer.trainable, layer.dtype, layer.dtype_policy)"
      ]
    },
    {
      "cell_type": "code",
      "execution_count": null,
      "metadata": {
        "colab": {
          "base_uri": "https://localhost:8080/",
          "height": 769,
          "referenced_widgets": [
            "506158e20f494489b31542fa5600e70e"
          ]
        },
        "id": "rLtz7Dt_VUi0",
        "outputId": "4dfb9a93-31ae-452c-f6d7-b037324328bb"
      },
      "outputs": [
        {
          "name": "stdout",
          "output_type": "stream",
          "text": [
            "Saving TensorBoard log files to: /gdrive/MyDrive/UOH Assignment Dataset/cdiscount/Tensorboard/RESNET101/20220126-193209\n"
          ]
        },
        {
          "name": "stderr",
          "output_type": "stream",
          "text": [
            "/usr/local/lib/python3.7/dist-packages/keras/engine/functional.py:1410: CustomMaskWarning: Custom mask layers require a config and must override get_config. When loading, the custom mask layer must be passed to the custom_objects argument.\n",
            "  layer_config = serialize_layer_fn(layer)\n"
          ]
        },
        {
          "name": "stdout",
          "output_type": "stream",
          "text": [
            "Epoch 1/8\n",
            "\n",
            "Epoch 00001: saving model to /gdrive/MyDrive/UOH Assignment Dataset/cdiscount/CheckPoints/ResNet101/checkpoint.ckpt\n",
            "7734/7734 - 4696s - loss: 6.2692 - accuracy: 0.1104 - precision_m: 0.6277 - recall_m: 0.0156 - f1_m: 0.0302 - val_loss: 5.8774 - val_accuracy: 0.1433 - val_precision_m: 0.8447 - val_recall_m: 0.0341 - val_f1_m: 0.0650 - lr: 0.0010 - 4696s/epoch - 607ms/step\n",
            "Epoch 2/8\n",
            "\n",
            "Epoch 00002: saving model to /gdrive/MyDrive/UOH Assignment Dataset/cdiscount/CheckPoints/ResNet101/checkpoint.ckpt\n",
            "7734/7734 - 3475s - loss: 5.7848 - accuracy: 0.1584 - precision_m: 0.8780 - recall_m: 0.0439 - f1_m: 0.0830 - val_loss: 5.6547 - val_accuracy: 0.1719 - val_precision_m: 0.8898 - val_recall_m: 0.0530 - val_f1_m: 0.0994 - lr: 0.0010 - 3475s/epoch - 449ms/step\n",
            "Epoch 3/8\n",
            "\n",
            "Epoch 00003: saving model to /gdrive/MyDrive/UOH Assignment Dataset/cdiscount/CheckPoints/ResNet101/checkpoint.ckpt\n",
            "7734/7734 - 3482s - loss: 5.5804 - accuracy: 0.1783 - precision_m: 0.8841 - recall_m: 0.0623 - f1_m: 0.1157 - val_loss: 5.5151 - val_accuracy: 0.1850 - val_precision_m: 0.8777 - val_recall_m: 0.0655 - val_f1_m: 0.1212 - lr: 0.0010 - 3482s/epoch - 450ms/step\n",
            "Epoch 4/8\n",
            "\n",
            "Epoch 00004: saving model to /gdrive/MyDrive/UOH Assignment Dataset/cdiscount/CheckPoints/ResNet101/checkpoint.ckpt\n",
            "7734/7734 - 3431s - loss: 5.4438 - accuracy: 0.1910 - precision_m: 0.8848 - recall_m: 0.0732 - f1_m: 0.1344 - val_loss: 5.4144 - val_accuracy: 0.1962 - val_precision_m: 0.8805 - val_recall_m: 0.0759 - val_f1_m: 0.1390 - lr: 0.0010 - 3431s/epoch - 444ms/step\n",
            "Epoch 5/8\n",
            "\n",
            "Epoch 00005: saving model to /gdrive/MyDrive/UOH Assignment Dataset/cdiscount/CheckPoints/ResNet101/checkpoint.ckpt\n",
            "7734/7734 - 3460s - loss: 5.3395 - accuracy: 0.2007 - precision_m: 0.8859 - recall_m: 0.0812 - f1_m: 0.1479 - val_loss: 5.3492 - val_accuracy: 0.2067 - val_precision_m: 0.8757 - val_recall_m: 0.0842 - val_f1_m: 0.1527 - lr: 0.0010 - 3460s/epoch - 447ms/step\n",
            "Epoch 6/8\n",
            "\n",
            "Epoch 00006: saving model to /gdrive/MyDrive/UOH Assignment Dataset/cdiscount/CheckPoints/ResNet101/checkpoint.ckpt\n",
            "7734/7734 - 3512s - loss: 5.2550 - accuracy: 0.2082 - precision_m: 0.8847 - recall_m: 0.0878 - f1_m: 0.1588 - val_loss: 5.2965 - val_accuracy: 0.2116 - val_precision_m: 0.8850 - val_recall_m: 0.0922 - val_f1_m: 0.1661 - lr: 0.0010 - 3512s/epoch - 454ms/step\n",
            "Epoch 7/8\n",
            "\n",
            "Epoch 00007: saving model to /gdrive/MyDrive/UOH Assignment Dataset/cdiscount/CheckPoints/ResNet101/checkpoint.ckpt\n",
            "7734/7734 - 3505s - loss: 5.1845 - accuracy: 0.2151 - precision_m: 0.8850 - recall_m: 0.0931 - f1_m: 0.1676 - val_loss: 5.2436 - val_accuracy: 0.2179 - val_precision_m: 0.8694 - val_recall_m: 0.0975 - val_f1_m: 0.1743 - lr: 0.0010 - 3505s/epoch - 453ms/step\n",
            "Epoch 8/8\n",
            "\n",
            "Epoch 00008: saving model to /gdrive/MyDrive/UOH Assignment Dataset/cdiscount/CheckPoints/ResNet101/checkpoint.ckpt\n",
            "7734/7734 - 3525s - loss: 5.1226 - accuracy: 0.2208 - precision_m: 0.8858 - recall_m: 0.0978 - f1_m: 0.1752 - val_loss: 5.2078 - val_accuracy: 0.2246 - val_precision_m: 0.8926 - val_recall_m: 0.0986 - val_f1_m: 0.1766 - lr: 0.0010 - 3525s/epoch - 456ms/step\n"
          ]
        },
        {
          "data": {
            "text/html": [
              "<br/>Waiting for W&B process to finish, PID 1620... <strong style=\"color:green\">(success).</strong>"
            ],
            "text/plain": [
              "<IPython.core.display.HTML object>"
            ]
          },
          "metadata": {},
          "output_type": "display_data"
        },
        {
          "data": {
            "application/vnd.jupyter.widget-view+json": {
              "model_id": "506158e20f494489b31542fa5600e70e",
              "version_major": 2,
              "version_minor": 0
            },
            "text/plain": [
              "VBox(children=(Label(value=' 0.00MB of 0.00MB uploaded (0.00MB deduped)\\r'), FloatProgress(value=1.0, max=1.0)…"
            ]
          },
          "metadata": {},
          "output_type": "display_data"
        },
        {
          "data": {
            "text/html": [
              "<style>\n",
              "    table.wandb td:nth-child(1) { padding: 0 10px; text-align: right }\n",
              "    .wandb-row { display: flex; flex-direction: row; flex-wrap: wrap; width: 100% }\n",
              "    .wandb-col { display: flex; flex-direction: column; flex-basis: 100%; flex: 1; padding: 10px; }\n",
              "    </style>\n",
              "<div class=\"wandb-row\"><div class=\"wandb-col\">\n",
              "</div><div class=\"wandb-col\">\n",
              "</div></div>\n",
              "Synced 5 W&B file(s), 0 media file(s), 0 artifact file(s) and 0 other file(s)\n",
              "<br/>Synced <strong style=\"color:#cdcd00\">denim-lion-3</strong>: <a href=\"https://wandb.ai/sarthakkaushik/CDiscount-RESNET101/runs/34as1ddi\" target=\"_blank\">https://wandb.ai/sarthakkaushik/CDiscount-RESNET101/runs/34as1ddi</a><br/>\n",
              "Find logs at: <code>./wandb/run-20220126_191842-34as1ddi/logs</code><br/>\n"
            ],
            "text/plain": [
              "<IPython.core.display.HTML object>"
            ]
          },
          "metadata": {},
          "output_type": "display_data"
        }
      ],
      "source": [
        "#Fit the model\n",
        "\n",
        "history_1=model_1.fit(\n",
        "    train_gen,\n",
        "    # steps_per_epoch=np.ceil(float(num_train_images) // float(batch_size)),   #num_train_images // batch_size,\n",
        "    epochs = 8,\n",
        "    validation_data = val_gen,\n",
        "    # validation_steps=np.ceil(0.25*(float(num_train_images) // float(batch_size))),  #25% of #num_val_images // batch_size,\n",
        "    # callbacks=[checkpoint_callback,\n",
        "    #            WandbCallback(),# using WandbCallback to log default metrics.\n",
        "    #           LRLogger(optimizer)], # using callback to log learning rate.\n",
        "    callbacks=[checkpoint_callback,create_tensorboard_callback(\"RESNET101\"),reduce_lr,early_stopping],\n",
        "               \n",
        "   verbose=2                \n",
        "    \n",
        "    )\n",
        "run.finish()"
      ]
    },
    {
      "cell_type": "code",
      "execution_count": null,
      "metadata": {
        "colab": {
          "base_uri": "https://localhost:8080/",
          "height": 573
        },
        "id": "GDThUla4boOI",
        "outputId": "5dd19919-0ecc-49ef-fe53-eb95421add29"
      },
      "outputs": [
        {
          "data": {
            "image/png": "[encoded data removed]",
            "text/plain": [
              "<Figure size 432x288 with 1 Axes>"
            ]
          },
          "metadata": {},
          "output_type": "display_data"
        },
        {
          "data": {
            "image/png": "[encoded data removed]",
            "text/plain": [
              "<Figure size 432x288 with 1 Axes>"
            ]
          },
          "metadata": {},
          "output_type": "display_data"
        }
      ],
      "source": [
        "# Plot model loss curves\n",
        "plot_loss_curves(history_1)"
      ]
    },
    {
      "cell_type": "markdown",
      "metadata": {
        "id": "JZo2xEBOCmsq"
      },
      "source": [
        "#Model-2"
      ]
    },
    {
      "cell_type": "code",
      "execution_count": null,
      "metadata": {
        "colab": {
          "base_uri": "https://localhost:8080/"
        },
        "id": "zWbs1-zcbyMa",
        "outputId": "c8f2c90e-bb1c-43b1-afa7-5ff7d8a7dab9"
      },
      "outputs": [
        {
          "name": "stdout",
          "output_type": "stream",
          "text": [
            "Model: \"model\"\n",
            "_________________________________________________________________\n",
            " Layer (type)                Output Shape              Param #   \n",
            "=================================================================\n",
            " input_layers (InputLayer)   [(None, 180, 180, 3)]     0         \n",
            "                                                                 \n",
            " tf.math.truediv (TFOpLambda  (None, 180, 180, 3)      0         \n",
            " )                                                               \n",
            "                                                                 \n",
            " tf.math.subtract (TFOpLambd  (None, 180, 180, 3)      0         \n",
            " a)                                                              \n",
            "                                                                 \n",
            " xception (Functional)       (None, None, None, 2048)  20861480  \n",
            "                                                                 \n",
            " GlobalAveragePooling2D_laye  (None, 2048)             0         \n",
            " rs (GlobalAveragePooling2D)                                     \n",
            "                                                                 \n",
            " output_layers_float_32 (Den  (None, 5270)             10798230  \n",
            " se)                                                             \n",
            "                                                                 \n",
            "=================================================================\n",
            "Total params: 31,659,710\n",
            "Trainable params: 10,798,230\n",
            "Non-trainable params: 20,861,480\n",
            "_________________________________________________________________\n"
          ]
        }
      ],
      "source": [
        "\n",
        "\n",
        "tf.keras.backend.clear_session()\n",
        "\n",
        "###------------------------Base Model----------------------------------###\n",
        "\n",
        "base_model_Xception=tf.keras.applications.Xception(include_top=False,weights=\"imagenet\",input_shape=None,)\n",
        "base_model_Xception.trainable =False\n",
        "\n",
        "#Setup Model architecture\n",
        "\n",
        "inputs= layers.Input(shape=(180,180,3), name=\"input_layers\",dtype=tf.float16) # updating dtype to float16 to handle mixed precesion\n",
        "x=tf.keras.applications.xception.preprocess_input(inputs, data_format=None)\n",
        "# x = preprocessing.Rescaling(1./255)(inputs) # Resent do not scale the image hence need to do manually\n",
        "x=base_model_Xception(x,training=False)\n",
        "x=layers.GlobalAveragePooling2D(name=\"GlobalAveragePooling2D_layers\")(x)\n",
        "outputs=layers.Dense(num_classes, activation=\"softmax\", dtype=tf.float32,name=\"output_layers_float_32\")(x) # Converting back to float 32 from our mixed precesion\n",
        "model_2=tf.keras.Model(inputs,outputs)\n",
        "\n",
        "\n",
        "\n",
        "\n",
        "\n",
        "\n",
        "#Getting the summary of the model we created\n",
        "model_2.summary()\n",
        "\n",
        "\n",
        "\n",
        "#Compile the model\n",
        "model_2.compile(optimizer='Adam',  #optimizer we defined above \n",
        "                loss='categorical_crossentropy',  # optimizer=\"adam\",            \n",
        "              \n",
        "              metrics=['accuracy',precision_m,recall_m,f1_m]\n",
        "              )\n",
        "\n"
      ]
    },
    {
      "cell_type": "code",
      "execution_count": null,
      "metadata": {
        "colab": {
          "background_save": true,
          "base_uri": "https://localhost:8080/"
        },
        "id": "IpdS_Cg5ck1L",
        "outputId": "1c5b14fd-ac93-4dad-d87a-400ed75c7c33"
      },
      "outputs": [
        {
          "name": "stdout",
          "output_type": "stream",
          "text": [
            "Saving TensorBoard log files to: /gdrive/MyDrive/UOH Assignment Dataset/cdiscount/Tensorboard/Xception/20220127-035021\n"
          ]
        },
        {
          "name": "stderr",
          "output_type": "stream",
          "text": [
            "/usr/local/lib/python3.7/dist-packages/keras/engine/functional.py:1410: CustomMaskWarning: Custom mask layers require a config and must override get_config. When loading, the custom mask layer must be passed to the custom_objects argument.\n",
            "  layer_config = serialize_layer_fn(layer)\n"
          ]
        },
        {
          "name": "stdout",
          "output_type": "stream",
          "text": [
            "Epoch 1/8\n",
            "\n",
            "Epoch 00001: saving model to /gdrive/MyDrive/UOH Assignment Dataset/cdiscount/CheckPoints/ResNet101/checkpoint.ckpt\n",
            "7734/7734 - 3531s - loss: 3.5419 - accuracy: 0.4071 - precision_m: 0.7627 - recall_m: 0.2806 - f1_m: 0.4059 - val_loss: 3.2879 - val_accuracy: 0.4430 - val_precision_m: 0.7632 - val_recall_m: 0.3291 - val_f1_m: 0.4590 - lr: 0.0010 - 3531s/epoch - 457ms/step\n",
            "Epoch 2/8\n",
            "\n",
            "Epoch 00002: saving model to /gdrive/MyDrive/UOH Assignment Dataset/cdiscount/CheckPoints/ResNet101/checkpoint.ckpt\n",
            "7734/7734 - 3472s - loss: 2.4765 - accuracy: 0.5032 - precision_m: 0.7952 - recall_m: 0.3814 - f1_m: 0.5146 - val_loss: 3.3215 - val_accuracy: 0.4550 - val_precision_m: 0.7413 - val_recall_m: 0.3582 - val_f1_m: 0.4821 - lr: 0.0010 - 3472s/epoch - 449ms/step\n",
            "Epoch 3/8\n",
            "\n",
            "Epoch 00003: saving model to /gdrive/MyDrive/UOH Assignment Dataset/cdiscount/CheckPoints/ResNet101/checkpoint.ckpt\n",
            "\n",
            "Epoch 00003: ReduceLROnPlateau reducing learning rate to 0.00020000000949949026.\n",
            "7734/7734 - 3509s - loss: 2.1060 - accuracy: 0.5510 - precision_m: 0.8116 - recall_m: 0.4311 - f1_m: 0.5622 - val_loss: 3.4106 - val_accuracy: 0.4609 - val_precision_m: 0.7322 - val_recall_m: 0.3723 - val_f1_m: 0.4928 - lr: 0.0010 - 3509s/epoch - 454ms/step\n",
            "Epoch 4/8\n",
            "\n",
            "Epoch 00004: saving model to /gdrive/MyDrive/UOH Assignment Dataset/cdiscount/CheckPoints/ResNet101/checkpoint.ckpt\n",
            "7734/7734 - 3477s - loss: 1.5473 - accuracy: 0.6490 - precision_m: 0.8899 - recall_m: 0.5086 - f1_m: 0.6463 - val_loss: 3.1749 - val_accuracy: 0.4868 - val_precision_m: 0.7798 - val_recall_m: 0.3863 - val_f1_m: 0.5157 - lr: 2.0000e-04 - 3477s/epoch - 450ms/step\n",
            "Epoch 5/8\n",
            "\n",
            "Epoch 00005: saving model to /gdrive/MyDrive/UOH Assignment Dataset/cdiscount/CheckPoints/ResNet101/checkpoint.ckpt\n",
            "7734/7734 - 3431s - loss: 1.4753 - accuracy: 0.6647 - precision_m: 0.9008 - recall_m: 0.5186 - f1_m: 0.6574 - val_loss: 3.1830 - val_accuracy: 0.4888 - val_precision_m: 0.7823 - val_recall_m: 0.3871 - val_f1_m: 0.5171 - lr: 2.0000e-04 - 3431s/epoch - 444ms/step\n",
            "Epoch 6/8\n",
            "\n",
            "Epoch 00006: saving model to /gdrive/MyDrive/UOH Assignment Dataset/cdiscount/CheckPoints/ResNet101/checkpoint.ckpt\n",
            "\n",
            "Epoch 00006: ReduceLROnPlateau reducing learning rate to 4.0000001899898055e-05.\n",
            "7734/7734 - 3456s - loss: 1.4334 - accuracy: 0.6736 - precision_m: 0.9045 - recall_m: 0.5261 - f1_m: 0.6644 - val_loss: 3.2036 - val_accuracy: 0.4881 - val_precision_m: 0.7786 - val_recall_m: 0.3891 - val_f1_m: 0.5180 - lr: 2.0000e-04 - 3456s/epoch - 447ms/step\n",
            "Epoch 7/8\n",
            "\n",
            "Epoch 00007: saving model to /gdrive/MyDrive/UOH Assignment Dataset/cdiscount/CheckPoints/ResNet101/checkpoint.ckpt\n",
            "7734/7734 - 3460s - loss: 1.3342 - accuracy: 0.6970 - precision_m: 0.9183 - recall_m: 0.5474 - f1_m: 0.6851 - val_loss: 3.1856 - val_accuracy: 0.4928 - val_precision_m: 0.7867 - val_recall_m: 0.3915 - val_f1_m: 0.5219 - lr: 4.0000e-05 - 3460s/epoch - 447ms/step\n"
          ]
        }
      ],
      "source": [
        "#Fit the model\n",
        "\n",
        "history_2=model_2.fit(\n",
        "    train_gen,\n",
        "    epochs = 8,\n",
        "    validation_data = val_gen,\n",
        "    callbacks=[checkpoint_callback,create_tensorboard_callback(\"Xception\"),reduce_lr,early_stopping],\n",
        "               \n",
        "   verbose=2                \n",
        "    \n",
        "    )\n",
        "run.finish()"
      ]
    },
    {
      "cell_type": "code",
      "execution_count": 108,
      "metadata": {
        "id": "bNVXWUhodDI_",
        "colab": {
          "base_uri": "https://localhost:8080/",
          "height": 573
        },
        "outputId": "fc499896-e0a6-4415-db37-eacf01153072"
      },
      "outputs": [
        {
          "output_type": "display_data",
          "data": {
            "image/png": "[encoded data removed]",
            "text/plain": [
              "<Figure size 432x288 with 1 Axes>"
            ]
          },
          "metadata": {
            "needs_background": "light"
          }
        },
        {
          "output_type": "display_data",
          "data": {
            "image/png": "[encoded data removed]",
            "text/plain": [
              "<Figure size 432x288 with 1 Axes>"
            ]
          },
          "metadata": {
            "needs_background": "light"
          }
        }
      ],
      "source": [
        "# Plot model loss curves\n",
        "plot_loss_curves(history_2)"
      ]
    },
    {
      "cell_type": "markdown",
      "metadata": {
        "id": "n6l3MUe1BfnI"
      },
      "source": [
        "#Model-3"
      ]
    },
    {
      "cell_type": "code",
      "execution_count": null,
      "metadata": {
        "colab": {
          "base_uri": "https://localhost:8080/"
        },
        "id": "NnxXM3UwBhBj",
        "outputId": "9ffb5335-7107-4543-f920-05b723a9b87c"
      },
      "outputs": [
        {
          "name": "stdout",
          "output_type": "stream",
          "text": [
            "Shape after base_model: (None, 5, 5, 2560)\n",
            "After GlobalAveragePooling2D(): (None, 2560)\n",
            "Model: \"model\"\n",
            "_________________________________________________________________\n",
            " Layer (type)                Output Shape              Param #   \n",
            "=================================================================\n",
            " input_layers (InputLayer)   [(None, 180, 180, 3)]     0         \n",
            "                                                                 \n",
            " efficientnetb7 (Functional)  (None, None, None, 2560)  64097687 \n",
            "                                                                 \n",
            " GlobalAveragePooling2D_laye  (None, 2560)             0         \n",
            " rs (GlobalAveragePooling2D)                                     \n",
            "                                                                 \n",
            " output_layers (Dense)       (None, 5270)              13496470  \n",
            "                                                                 \n",
            "=================================================================\n",
            "Total params: 77,594,157\n",
            "Trainable params: 13,496,470\n",
            "Non-trainable params: 64,097,687\n",
            "_________________________________________________________________\n",
            "Saving TensorBoard log files to: /gdrive/MyDrive/UOH Assignment Dataset/cdiscount/Tensorboard/TranferLearning_EfficientNetB7/20220112-004846\n"
          ]
        },
        {
          "name": "stderr",
          "output_type": "stream",
          "text": [
            "/usr/local/lib/python3.7/dist-packages/keras/engine/functional.py:1410: CustomMaskWarning: Custom mask layers require a config and must override get_config. When loading, the custom mask layer must be passed to the custom_objects argument.\n",
            "  layer_config = serialize_layer_fn(layer)\n"
          ]
        },
        {
          "name": "stdout",
          "output_type": "stream",
          "text": [
            "Epoch 1/3\n",
            "\n",
            "Epoch 00001: saving model to /gdrive/MyDrive/UOH Assignment Dataset/cdiscount/CheckPoints/EfficientNet/checkpoint.ckpt\n",
            "7734/7734 - 5758s - loss: 3.3011 - accuracy: 0.4234 - val_loss: 3.0107 - val_accuracy: 0.4606 - 5758s/epoch - 744ms/step\n",
            "Epoch 2/3\n",
            "\n",
            "Epoch 00002: saving model to /gdrive/MyDrive/UOH Assignment Dataset/cdiscount/CheckPoints/EfficientNet/checkpoint.ckpt\n",
            "7734/7734 - 4831s - loss: 2.4507 - accuracy: 0.5101 - val_loss: 2.9550 - val_accuracy: 0.4768 - 4831s/epoch - 625ms/step\n",
            "Epoch 3/3\n",
            "\n",
            "Epoch 00003: saving model to /gdrive/MyDrive/UOH Assignment Dataset/cdiscount/CheckPoints/EfficientNet/checkpoint.ckpt\n",
            "7734/7734 - 4832s - loss: 2.1231 - accuracy: 0.5532 - val_loss: 2.9524 - val_accuracy: 0.4858 - 4832s/epoch - 625ms/step\n"
          ]
        }
      ],
      "source": [
        "#Define callbacks\n",
        "\n",
        "import datetime\n",
        "\n",
        "\n",
        "dir_name = '/gdrive/MyDrive/UOH Assignment Dataset/cdiscount/Tensorboard'\n",
        "def create_tensorboard_callback(experiment_name):\n",
        "  log_dir = dir_name + \"/\" + experiment_name + \"/\" + datetime.datetime.now().strftime(\"%Y%m%d-%H%M%S\")\n",
        "  tensorboard_callback = tf.keras.callbacks.TensorBoard(\n",
        "      log_dir=log_dir\n",
        "  )\n",
        "  print(f\"Saving TensorBoard log files to: {log_dir}\")\n",
        "  return tensorboard_callback\n",
        "\n",
        "# Setup checkpoint path\n",
        "checkpoint_path = '/gdrive/MyDrive/UOH Assignment Dataset/cdiscount/CheckPoints/EfficientNet/checkpoint.ckpt' # note: remember saving directly to Colab is temporary\n",
        "\n",
        "# Create a ModelCheckpoint callback that saves the model's weights only\n",
        "checkpoint_callback = tf.keras.callbacks.ModelCheckpoint(filepath=checkpoint_path,\n",
        "                                                         save_weights_only=True, # set to False to save the entire model\n",
        "                                                         save_best_only=False, # set to True to save only the best model instead of a model every epoch \n",
        "                                                         save_freq=\"epoch\", # save every epoch\n",
        "                                                         verbose=1)\n",
        "\n",
        "\n",
        "\n",
        "\n",
        "###------------------------Base Model----------------------------------\n",
        "\n",
        "base_model=tf.keras.applications.EfficientNetB7(include_top=False)\n",
        "base_model.trainable =False\n",
        "\n",
        "#Setup Model architecture\n",
        "\n",
        "inputs= layers.Input(shape=(180,180,3), name=\"input_layers\")\n",
        "x=base_model(inputs,training=False)\n",
        "print(f\"Shape after base_model: {x.shape}\")\n",
        "x=layers.GlobalAveragePooling2D(name=\"GlobalAveragePooling2D_layers\")(x)\n",
        "print(f\"After GlobalAveragePooling2D(): {x.shape}\")\n",
        "outputs=layers.Dense(num_classes, activation=\"softmax\", name=\"output_layers\")(x)\n",
        "model=tf.keras.Model(inputs,outputs)\n",
        "\n",
        "\n",
        "#Getting the summary of the model we created\n",
        "model.summary()\n",
        "\n",
        "#Compile the model\n",
        "model.compile(loss='categorical_crossentropy',\n",
        "              optimizer=\"adam\",\n",
        "              metrics=['accuracy'])\n",
        "\n",
        "#Fit the model\n",
        "\n",
        "history_3=model.fit(\n",
        "    train_gen,\n",
        "    # steps_per_epoch=np.ceil(float(num_train_images) // float(batch_size)),   #num_train_images // batch_size,\n",
        "    epochs = 3,\n",
        "    validation_data = val_gen,\n",
        "    # validation_steps=np.ceil(0.25*(float(num_train_images) // float(batch_size))),  #25% of #num_val_images // batch_size,\n",
        "    callbacks=[checkpoint_callback,create_tensorboard_callback(\"TranferLearning_EfficientNetB7\")],    \n",
        "    verbose=2                \n",
        "    # workers = 4\n",
        "    )\n",
        "\n",
        "\n"
      ]
    },
    {
      "cell_type": "code",
      "execution_count": null,
      "metadata": {
        "colab": {
          "base_uri": "https://localhost:8080/"
        },
        "id": "lhvTghCrqkSX",
        "outputId": "1547f7cd-588f-429e-bbf9-ef5586ab3ed9"
      },
      "outputs": [
        {
          "name": "stdout",
          "output_type": "stream",
          "text": [
            "1894/1894 [==============================] - 958s 506ms/step - loss: 2.9524 - accuracy: 0.4858\n"
          ]
        },
        {
          "data": {
            "text/plain": [
              "[2.9524197578430176, 0.48579421639442444]"
            ]
          },
          "execution_count": 20,
          "metadata": {},
          "output_type": "execute_result"
        }
      ],
      "source": [
        "# Evaluate on the test data\n",
        "results_histor_3 = model.evaluate(val_gen)\n",
        "results_histor_3"
      ]
    },
    {
      "cell_type": "code",
      "execution_count": null,
      "metadata": {
        "colab": {
          "base_uri": "https://localhost:8080/"
        },
        "id": "B5YagPWIUi-p",
        "outputId": "6d10377d-2bfd-4d02-df7d-66c32281da09"
      },
      "outputs": [
        {
          "data": {
            "text/plain": [
              "[3.015165328979492, 0.496476411819458]"
            ]
          },
          "execution_count": 30,
          "metadata": {},
          "output_type": "execute_result"
        }
      ],
      "source": [
        "results_histor_3"
      ]
    },
    {
      "cell_type": "code",
      "execution_count": null,
      "metadata": {
        "colab": {
          "base_uri": "https://localhost:8080/",
          "height": 573
        },
        "id": "Emog67iEqYF6",
        "outputId": "3077ac2a-a9b3-469b-c000-c4a000e3c4f4"
      },
      "outputs": [
        {
          "data": {
            "image/png": "[encoded data removed]",
            "text/plain": [
              "<Figure size 432x288 with 1 Axes>"
            ]
          },
          "metadata": {},
          "output_type": "display_data"
        },
        {
          "data": {
            "image/png": "[encoded data removed]",
            "text/plain": [
              "<Figure size 432x288 with 1 Axes>"
            ]
          },
          "metadata": {},
          "output_type": "display_data"
        }
      ],
      "source": [
        "# Plot model loss curves\n",
        "plot_loss_curves(history_3)"
      ]
    },
    {
      "cell_type": "markdown",
      "metadata": {
        "id": "9eVYH43YiU6Z"
      },
      "source": [
        "#Model3- FIne Tuning "
      ]
    },
    {
      "cell_type": "code",
      "execution_count": null,
      "metadata": {
        "colab": {
          "base_uri": "https://localhost:8080/",
          "height": 201
        },
        "id": "pjYaqHm_iXid",
        "outputId": "4e4699e9-afca-4498-dc1f-be7d57fc489d"
      },
      "outputs": [
        {
          "ename": "NameError",
          "evalue": "ignored",
          "output_type": "error",
          "traceback": [
            "\u001b[0;31m---------------------------------------------------------------------------\u001b[0m",
            "\u001b[0;31mNameError\u001b[0m                                 Traceback (most recent call last)",
            "\u001b[0;32m<ipython-input-20-b7b6af51ffda>\u001b[0m in \u001b[0;36m<module>\u001b[0;34m()\u001b[0m\n\u001b[1;32m      1\u001b[0m \u001b[0;31m# Load in saved model weights and evaluate model\u001b[0m\u001b[0;34m\u001b[0m\u001b[0;34m\u001b[0m\u001b[0;34m\u001b[0m\u001b[0m\n\u001b[0;32m----> 2\u001b[0;31m \u001b[0mmodel\u001b[0m\u001b[0;34m.\u001b[0m\u001b[0mload_weights\u001b[0m\u001b[0;34m(\u001b[0m\u001b[0mcheckpoint_path\u001b[0m\u001b[0;34m)\u001b[0m\u001b[0;34m\u001b[0m\u001b[0;34m\u001b[0m\u001b[0m\n\u001b[0m\u001b[1;32m      3\u001b[0m \u001b[0;31m# loaded_weights_model_results = model.evaluate(val_gen)\u001b[0m\u001b[0;34m\u001b[0m\u001b[0;34m\u001b[0m\u001b[0;34m\u001b[0m\u001b[0m\n",
            "\u001b[0;31mNameError\u001b[0m: name 'model' is not defined"
          ]
        }
      ],
      "source": [
        "# Load in saved model weights and evaluate model\n",
        "model.load_weights(checkpoint_path)\n",
        "# loaded_weights_model_results = model.evaluate(val_gen)"
      ]
    },
    {
      "cell_type": "code",
      "execution_count": null,
      "metadata": {
        "colab": {
          "base_uri": "https://localhost:8080/"
        },
        "id": "G1msYUiLxCKx",
        "outputId": "ac1fa803-2c53-4bb1-e4ab-06631944ca01"
      },
      "outputs": [
        {
          "data": {
            "text/plain": [
              "array([ True,  True])"
            ]
          },
          "execution_count": 26,
          "metadata": {},
          "output_type": "execute_result"
        }
      ],
      "source": [
        "# Check to see if loaded model results are very close to native model results (should output True)\n",
        "np.isclose(np.array(results_histor_3), np.array(loaded_weights_model_results))"
      ]
    },
    {
      "cell_type": "code",
      "execution_count": null,
      "metadata": {
        "colab": {
          "base_uri": "https://localhost:8080/"
        },
        "id": "dZ_kpnn_itCI",
        "outputId": "fd2de612-78b6-4f2c-9cac-769479795431"
      },
      "outputs": [
        {
          "data": {
            "text/plain": [
              "[<keras.engine.input_layer.InputLayer at 0x7fa1d6829390>,\n",
              " <keras.engine.functional.Functional at 0x7fa1b7986d50>,\n",
              " <keras.layers.pooling.GlobalAveragePooling2D at 0x7fa1d68292d0>,\n",
              " <keras.layers.core.dense.Dense at 0x7fa1b7076f10>]"
            ]
          },
          "execution_count": 44,
          "metadata": {},
          "output_type": "execute_result"
        }
      ],
      "source": [
        "# Layers in loaded model\n",
        "model.layers"
      ]
    },
    {
      "cell_type": "code",
      "execution_count": null,
      "metadata": {
        "colab": {
          "base_uri": "https://localhost:8080/"
        },
        "id": "P5U3wjDHivzE",
        "outputId": "640a8e64-5d58-4de0-a828-1e465d22ad8f"
      },
      "outputs": [
        {
          "name": "stdout",
          "output_type": "stream",
          "text": [
            "True\n",
            "True\n",
            "True\n",
            "True\n"
          ]
        }
      ],
      "source": [
        "for layer in model.layers:\n",
        "  print(layer.trainable)"
      ]
    },
    {
      "cell_type": "code",
      "execution_count": null,
      "metadata": {
        "colab": {
          "base_uri": "https://localhost:8080/"
        },
        "id": "mMT_vfjqiyOV",
        "outputId": "b1f11b02-2a70-4ea4-d9c8-9910059a6f1a"
      },
      "outputs": [
        {
          "name": "stdout",
          "output_type": "stream",
          "text": [
            "Model: \"model\"\n",
            "_________________________________________________________________\n",
            " Layer (type)                Output Shape              Param #   \n",
            "=================================================================\n",
            " input_layers (InputLayer)   [(None, 180, 180, 3)]     0         \n",
            "                                                                 \n",
            " efficientnetb7 (Functional)  (None, None, None, 2560)  64097687 \n",
            "                                                                 \n",
            " GlobalAveragePooling2D_laye  (None, 2560)             0         \n",
            " rs (GlobalAveragePooling2D)                                     \n",
            "                                                                 \n",
            " output_layers (Dense)       (None, 5270)              13496470  \n",
            "                                                                 \n",
            "=================================================================\n",
            "Total params: 77,594,157\n",
            "Trainable params: 18,831,670\n",
            "Non-trainable params: 58,762,487\n",
            "_________________________________________________________________\n"
          ]
        }
      ],
      "source": [
        "model.summary()"
      ]
    },
    {
      "cell_type": "code",
      "execution_count": null,
      "metadata": {
        "colab": {
          "base_uri": "https://localhost:8080/"
        },
        "id": "2gjcfLa-2-9v",
        "outputId": "b6bcd3dd-b128-4846-f968-4b96fe34ff4b"
      },
      "outputs": [
        {
          "name": "stdout",
          "output_type": "stream",
          "text": [
            "10\n"
          ]
        }
      ],
      "source": [
        "print(len(model.layers[1].trainable_variables))"
      ]
    },
    {
      "cell_type": "code",
      "execution_count": null,
      "metadata": {
        "colab": {
          "base_uri": "https://localhost:8080/"
        },
        "id": "U-CfywYfi1Qw",
        "outputId": "3920dda2-f4de-4038-f879-7e5a261e4716"
      },
      "outputs": [
        {
          "name": "stdout",
          "output_type": "stream",
          "text": [
            "0\n",
            "0\n"
          ]
        }
      ],
      "source": [
        "# How many layers are trainable in our base model?\n",
        "print(len(model.layers[2].trainable_variables)) # layer at index 2 is the EfficientNetB7 layer (the base model)\n",
        "print(len(base_model.trainable_variables))"
      ]
    },
    {
      "cell_type": "code",
      "execution_count": null,
      "metadata": {
        "colab": {
          "base_uri": "https://localhost:8080/"
        },
        "id": "iRHaCe4wjBJ_",
        "outputId": "9858b955-1cb3-4829-ccbc-9c6f3cdd6329"
      },
      "outputs": [
        {
          "name": "stdout",
          "output_type": "stream",
          "text": [
            "0 input_2 False\n",
            "1 rescaling_1 False\n",
            "2 normalization_1 False\n",
            "3 stem_conv_pad False\n",
            "4 stem_conv False\n",
            "5 stem_bn False\n",
            "6 stem_activation False\n",
            "7 block1a_dwconv False\n",
            "8 block1a_bn False\n",
            "9 block1a_activation False\n",
            "10 block1a_se_squeeze False\n",
            "11 block1a_se_reshape False\n",
            "12 block1a_se_reduce False\n",
            "13 block1a_se_expand False\n",
            "14 block1a_se_excite False\n",
            "15 block1a_project_conv False\n",
            "16 block1a_project_bn False\n",
            "17 block1b_dwconv False\n",
            "18 block1b_bn False\n",
            "19 block1b_activation False\n",
            "20 block1b_se_squeeze False\n",
            "21 block1b_se_reshape False\n",
            "22 block1b_se_reduce False\n",
            "23 block1b_se_expand False\n",
            "24 block1b_se_excite False\n",
            "25 block1b_project_conv False\n",
            "26 block1b_project_bn False\n",
            "27 block1b_drop False\n",
            "28 block1b_add False\n",
            "29 block1c_dwconv False\n",
            "30 block1c_bn False\n",
            "31 block1c_activation False\n",
            "32 block1c_se_squeeze False\n",
            "33 block1c_se_reshape False\n",
            "34 block1c_se_reduce False\n",
            "35 block1c_se_expand False\n",
            "36 block1c_se_excite False\n",
            "37 block1c_project_conv False\n",
            "38 block1c_project_bn False\n",
            "39 block1c_drop False\n",
            "40 block1c_add False\n",
            "41 block1d_dwconv False\n",
            "42 block1d_bn False\n",
            "43 block1d_activation False\n",
            "44 block1d_se_squeeze False\n",
            "45 block1d_se_reshape False\n",
            "46 block1d_se_reduce False\n",
            "47 block1d_se_expand False\n",
            "48 block1d_se_excite False\n",
            "49 block1d_project_conv False\n",
            "50 block1d_project_bn False\n",
            "51 block1d_drop False\n",
            "52 block1d_add False\n",
            "53 block2a_expand_conv False\n",
            "54 block2a_expand_bn False\n",
            "55 block2a_expand_activation False\n",
            "56 block2a_dwconv_pad False\n",
            "57 block2a_dwconv False\n",
            "58 block2a_bn False\n",
            "59 block2a_activation False\n",
            "60 block2a_se_squeeze False\n",
            "61 block2a_se_reshape False\n",
            "62 block2a_se_reduce False\n",
            "63 block2a_se_expand False\n",
            "64 block2a_se_excite False\n",
            "65 block2a_project_conv False\n",
            "66 block2a_project_bn False\n",
            "67 block2b_expand_conv False\n",
            "68 block2b_expand_bn False\n",
            "69 block2b_expand_activation False\n",
            "70 block2b_dwconv False\n",
            "71 block2b_bn False\n",
            "72 block2b_activation False\n",
            "73 block2b_se_squeeze False\n",
            "74 block2b_se_reshape False\n",
            "75 block2b_se_reduce False\n",
            "76 block2b_se_expand False\n",
            "77 block2b_se_excite False\n",
            "78 block2b_project_conv False\n",
            "79 block2b_project_bn False\n",
            "80 block2b_drop False\n",
            "81 block2b_add False\n",
            "82 block2c_expand_conv False\n",
            "83 block2c_expand_bn False\n",
            "84 block2c_expand_activation False\n",
            "85 block2c_dwconv False\n",
            "86 block2c_bn False\n",
            "87 block2c_activation False\n",
            "88 block2c_se_squeeze False\n",
            "89 block2c_se_reshape False\n",
            "90 block2c_se_reduce False\n",
            "91 block2c_se_expand False\n",
            "92 block2c_se_excite False\n",
            "93 block2c_project_conv False\n",
            "94 block2c_project_bn False\n",
            "95 block2c_drop False\n",
            "96 block2c_add False\n",
            "97 block2d_expand_conv False\n",
            "98 block2d_expand_bn False\n",
            "99 block2d_expand_activation False\n",
            "100 block2d_dwconv False\n",
            "101 block2d_bn False\n",
            "102 block2d_activation False\n",
            "103 block2d_se_squeeze False\n",
            "104 block2d_se_reshape False\n",
            "105 block2d_se_reduce False\n",
            "106 block2d_se_expand False\n",
            "107 block2d_se_excite False\n",
            "108 block2d_project_conv False\n",
            "109 block2d_project_bn False\n",
            "110 block2d_drop False\n",
            "111 block2d_add False\n",
            "112 block2e_expand_conv False\n",
            "113 block2e_expand_bn False\n",
            "114 block2e_expand_activation False\n",
            "115 block2e_dwconv False\n",
            "116 block2e_bn False\n",
            "117 block2e_activation False\n",
            "118 block2e_se_squeeze False\n",
            "119 block2e_se_reshape False\n",
            "120 block2e_se_reduce False\n",
            "121 block2e_se_expand False\n",
            "122 block2e_se_excite False\n",
            "123 block2e_project_conv False\n",
            "124 block2e_project_bn False\n",
            "125 block2e_drop False\n",
            "126 block2e_add False\n",
            "127 block2f_expand_conv False\n",
            "128 block2f_expand_bn False\n",
            "129 block2f_expand_activation False\n",
            "130 block2f_dwconv False\n",
            "131 block2f_bn False\n",
            "132 block2f_activation False\n",
            "133 block2f_se_squeeze False\n",
            "134 block2f_se_reshape False\n",
            "135 block2f_se_reduce False\n",
            "136 block2f_se_expand False\n",
            "137 block2f_se_excite False\n",
            "138 block2f_project_conv False\n",
            "139 block2f_project_bn False\n",
            "140 block2f_drop False\n",
            "141 block2f_add False\n",
            "142 block2g_expand_conv False\n",
            "143 block2g_expand_bn False\n",
            "144 block2g_expand_activation False\n",
            "145 block2g_dwconv False\n",
            "146 block2g_bn False\n",
            "147 block2g_activation False\n",
            "148 block2g_se_squeeze False\n",
            "149 block2g_se_reshape False\n",
            "150 block2g_se_reduce False\n",
            "151 block2g_se_expand False\n",
            "152 block2g_se_excite False\n",
            "153 block2g_project_conv False\n",
            "154 block2g_project_bn False\n",
            "155 block2g_drop False\n",
            "156 block2g_add False\n",
            "157 block3a_expand_conv False\n",
            "158 block3a_expand_bn False\n",
            "159 block3a_expand_activation False\n",
            "160 block3a_dwconv_pad False\n",
            "161 block3a_dwconv False\n",
            "162 block3a_bn False\n",
            "163 block3a_activation False\n",
            "164 block3a_se_squeeze False\n",
            "165 block3a_se_reshape False\n",
            "166 block3a_se_reduce False\n",
            "167 block3a_se_expand False\n",
            "168 block3a_se_excite False\n",
            "169 block3a_project_conv False\n",
            "170 block3a_project_bn False\n",
            "171 block3b_expand_conv False\n",
            "172 block3b_expand_bn False\n",
            "173 block3b_expand_activation False\n",
            "174 block3b_dwconv False\n",
            "175 block3b_bn False\n",
            "176 block3b_activation False\n",
            "177 block3b_se_squeeze False\n",
            "178 block3b_se_reshape False\n",
            "179 block3b_se_reduce False\n",
            "180 block3b_se_expand False\n",
            "181 block3b_se_excite False\n",
            "182 block3b_project_conv False\n",
            "183 block3b_project_bn False\n",
            "184 block3b_drop False\n",
            "185 block3b_add False\n",
            "186 block3c_expand_conv False\n",
            "187 block3c_expand_bn False\n",
            "188 block3c_expand_activation False\n",
            "189 block3c_dwconv False\n",
            "190 block3c_bn False\n",
            "191 block3c_activation False\n",
            "192 block3c_se_squeeze False\n",
            "193 block3c_se_reshape False\n",
            "194 block3c_se_reduce False\n",
            "195 block3c_se_expand False\n",
            "196 block3c_se_excite False\n",
            "197 block3c_project_conv False\n",
            "198 block3c_project_bn False\n",
            "199 block3c_drop False\n",
            "200 block3c_add False\n",
            "201 block3d_expand_conv False\n",
            "202 block3d_expand_bn False\n",
            "203 block3d_expand_activation False\n",
            "204 block3d_dwconv False\n",
            "205 block3d_bn False\n",
            "206 block3d_activation False\n",
            "207 block3d_se_squeeze False\n",
            "208 block3d_se_reshape False\n",
            "209 block3d_se_reduce False\n",
            "210 block3d_se_expand False\n",
            "211 block3d_se_excite False\n",
            "212 block3d_project_conv False\n",
            "213 block3d_project_bn False\n",
            "214 block3d_drop False\n",
            "215 block3d_add False\n",
            "216 block3e_expand_conv False\n",
            "217 block3e_expand_bn False\n",
            "218 block3e_expand_activation False\n",
            "219 block3e_dwconv False\n",
            "220 block3e_bn False\n",
            "221 block3e_activation False\n",
            "222 block3e_se_squeeze False\n",
            "223 block3e_se_reshape False\n",
            "224 block3e_se_reduce False\n",
            "225 block3e_se_expand False\n",
            "226 block3e_se_excite False\n",
            "227 block3e_project_conv False\n",
            "228 block3e_project_bn False\n",
            "229 block3e_drop False\n",
            "230 block3e_add False\n",
            "231 block3f_expand_conv False\n",
            "232 block3f_expand_bn False\n",
            "233 block3f_expand_activation False\n",
            "234 block3f_dwconv False\n",
            "235 block3f_bn False\n",
            "236 block3f_activation False\n",
            "237 block3f_se_squeeze False\n",
            "238 block3f_se_reshape False\n",
            "239 block3f_se_reduce False\n",
            "240 block3f_se_expand False\n",
            "241 block3f_se_excite False\n",
            "242 block3f_project_conv False\n",
            "243 block3f_project_bn False\n",
            "244 block3f_drop False\n",
            "245 block3f_add False\n",
            "246 block3g_expand_conv False\n",
            "247 block3g_expand_bn False\n",
            "248 block3g_expand_activation False\n",
            "249 block3g_dwconv False\n",
            "250 block3g_bn False\n",
            "251 block3g_activation False\n",
            "252 block3g_se_squeeze False\n",
            "253 block3g_se_reshape False\n",
            "254 block3g_se_reduce False\n",
            "255 block3g_se_expand False\n",
            "256 block3g_se_excite False\n",
            "257 block3g_project_conv False\n",
            "258 block3g_project_bn False\n",
            "259 block3g_drop False\n",
            "260 block3g_add False\n",
            "261 block4a_expand_conv False\n",
            "262 block4a_expand_bn False\n",
            "263 block4a_expand_activation False\n",
            "264 block4a_dwconv_pad False\n",
            "265 block4a_dwconv False\n",
            "266 block4a_bn False\n",
            "267 block4a_activation False\n",
            "268 block4a_se_squeeze False\n",
            "269 block4a_se_reshape False\n",
            "270 block4a_se_reduce False\n",
            "271 block4a_se_expand False\n",
            "272 block4a_se_excite False\n",
            "273 block4a_project_conv False\n",
            "274 block4a_project_bn False\n",
            "275 block4b_expand_conv False\n",
            "276 block4b_expand_bn False\n",
            "277 block4b_expand_activation False\n",
            "278 block4b_dwconv False\n",
            "279 block4b_bn False\n",
            "280 block4b_activation False\n",
            "281 block4b_se_squeeze False\n",
            "282 block4b_se_reshape False\n",
            "283 block4b_se_reduce False\n",
            "284 block4b_se_expand False\n",
            "285 block4b_se_excite False\n",
            "286 block4b_project_conv False\n",
            "287 block4b_project_bn False\n",
            "288 block4b_drop False\n",
            "289 block4b_add False\n",
            "290 block4c_expand_conv False\n",
            "291 block4c_expand_bn False\n",
            "292 block4c_expand_activation False\n",
            "293 block4c_dwconv False\n",
            "294 block4c_bn False\n",
            "295 block4c_activation False\n",
            "296 block4c_se_squeeze False\n",
            "297 block4c_se_reshape False\n",
            "298 block4c_se_reduce False\n",
            "299 block4c_se_expand False\n",
            "300 block4c_se_excite False\n",
            "301 block4c_project_conv False\n",
            "302 block4c_project_bn False\n",
            "303 block4c_drop False\n",
            "304 block4c_add False\n",
            "305 block4d_expand_conv False\n",
            "306 block4d_expand_bn False\n",
            "307 block4d_expand_activation False\n",
            "308 block4d_dwconv False\n",
            "309 block4d_bn False\n",
            "310 block4d_activation False\n",
            "311 block4d_se_squeeze False\n",
            "312 block4d_se_reshape False\n",
            "313 block4d_se_reduce False\n",
            "314 block4d_se_expand False\n",
            "315 block4d_se_excite False\n",
            "316 block4d_project_conv False\n",
            "317 block4d_project_bn False\n",
            "318 block4d_drop False\n",
            "319 block4d_add False\n",
            "320 block4e_expand_conv False\n",
            "321 block4e_expand_bn False\n",
            "322 block4e_expand_activation False\n",
            "323 block4e_dwconv False\n",
            "324 block4e_bn False\n",
            "325 block4e_activation False\n",
            "326 block4e_se_squeeze False\n",
            "327 block4e_se_reshape False\n",
            "328 block4e_se_reduce False\n",
            "329 block4e_se_expand False\n",
            "330 block4e_se_excite False\n",
            "331 block4e_project_conv False\n",
            "332 block4e_project_bn False\n",
            "333 block4e_drop False\n",
            "334 block4e_add False\n",
            "335 block4f_expand_conv False\n",
            "336 block4f_expand_bn False\n",
            "337 block4f_expand_activation False\n",
            "338 block4f_dwconv False\n",
            "339 block4f_bn False\n",
            "340 block4f_activation False\n",
            "341 block4f_se_squeeze False\n",
            "342 block4f_se_reshape False\n",
            "343 block4f_se_reduce False\n",
            "344 block4f_se_expand False\n",
            "345 block4f_se_excite False\n",
            "346 block4f_project_conv False\n",
            "347 block4f_project_bn False\n",
            "348 block4f_drop False\n",
            "349 block4f_add False\n",
            "350 block4g_expand_conv False\n",
            "351 block4g_expand_bn False\n",
            "352 block4g_expand_activation False\n",
            "353 block4g_dwconv False\n",
            "354 block4g_bn False\n",
            "355 block4g_activation False\n",
            "356 block4g_se_squeeze False\n",
            "357 block4g_se_reshape False\n",
            "358 block4g_se_reduce False\n",
            "359 block4g_se_expand False\n",
            "360 block4g_se_excite False\n",
            "361 block4g_project_conv False\n",
            "362 block4g_project_bn False\n",
            "363 block4g_drop False\n",
            "364 block4g_add False\n",
            "365 block4h_expand_conv False\n",
            "366 block4h_expand_bn False\n",
            "367 block4h_expand_activation False\n",
            "368 block4h_dwconv False\n",
            "369 block4h_bn False\n",
            "370 block4h_activation False\n",
            "371 block4h_se_squeeze False\n",
            "372 block4h_se_reshape False\n",
            "373 block4h_se_reduce False\n",
            "374 block4h_se_expand False\n",
            "375 block4h_se_excite False\n",
            "376 block4h_project_conv False\n",
            "377 block4h_project_bn False\n",
            "378 block4h_drop False\n",
            "379 block4h_add False\n",
            "380 block4i_expand_conv False\n",
            "381 block4i_expand_bn False\n",
            "382 block4i_expand_activation False\n",
            "383 block4i_dwconv False\n",
            "384 block4i_bn False\n",
            "385 block4i_activation False\n",
            "386 block4i_se_squeeze False\n",
            "387 block4i_se_reshape False\n",
            "388 block4i_se_reduce False\n",
            "389 block4i_se_expand False\n",
            "390 block4i_se_excite False\n",
            "391 block4i_project_conv False\n",
            "392 block4i_project_bn False\n",
            "393 block4i_drop False\n",
            "394 block4i_add False\n",
            "395 block4j_expand_conv False\n",
            "396 block4j_expand_bn False\n",
            "397 block4j_expand_activation False\n",
            "398 block4j_dwconv False\n",
            "399 block4j_bn False\n",
            "400 block4j_activation False\n",
            "401 block4j_se_squeeze False\n",
            "402 block4j_se_reshape False\n",
            "403 block4j_se_reduce False\n",
            "404 block4j_se_expand False\n",
            "405 block4j_se_excite False\n",
            "406 block4j_project_conv False\n",
            "407 block4j_project_bn False\n",
            "408 block4j_drop False\n",
            "409 block4j_add False\n",
            "410 block5a_expand_conv False\n",
            "411 block5a_expand_bn False\n",
            "412 block5a_expand_activation False\n",
            "413 block5a_dwconv False\n",
            "414 block5a_bn False\n",
            "415 block5a_activation False\n",
            "416 block5a_se_squeeze False\n",
            "417 block5a_se_reshape False\n",
            "418 block5a_se_reduce False\n",
            "419 block5a_se_expand False\n",
            "420 block5a_se_excite False\n",
            "421 block5a_project_conv False\n",
            "422 block5a_project_bn False\n",
            "423 block5b_expand_conv False\n",
            "424 block5b_expand_bn False\n",
            "425 block5b_expand_activation False\n",
            "426 block5b_dwconv False\n",
            "427 block5b_bn False\n",
            "428 block5b_activation False\n",
            "429 block5b_se_squeeze False\n",
            "430 block5b_se_reshape False\n",
            "431 block5b_se_reduce False\n",
            "432 block5b_se_expand False\n",
            "433 block5b_se_excite False\n",
            "434 block5b_project_conv False\n",
            "435 block5b_project_bn False\n",
            "436 block5b_drop False\n",
            "437 block5b_add False\n",
            "438 block5c_expand_conv False\n",
            "439 block5c_expand_bn False\n",
            "440 block5c_expand_activation False\n",
            "441 block5c_dwconv False\n",
            "442 block5c_bn False\n",
            "443 block5c_activation False\n",
            "444 block5c_se_squeeze False\n",
            "445 block5c_se_reshape False\n",
            "446 block5c_se_reduce False\n",
            "447 block5c_se_expand False\n",
            "448 block5c_se_excite False\n",
            "449 block5c_project_conv False\n",
            "450 block5c_project_bn False\n",
            "451 block5c_drop False\n",
            "452 block5c_add False\n",
            "453 block5d_expand_conv False\n",
            "454 block5d_expand_bn False\n",
            "455 block5d_expand_activation False\n",
            "456 block5d_dwconv False\n",
            "457 block5d_bn False\n",
            "458 block5d_activation False\n",
            "459 block5d_se_squeeze False\n",
            "460 block5d_se_reshape False\n",
            "461 block5d_se_reduce False\n",
            "462 block5d_se_expand False\n",
            "463 block5d_se_excite False\n",
            "464 block5d_project_conv False\n",
            "465 block5d_project_bn False\n",
            "466 block5d_drop False\n",
            "467 block5d_add False\n",
            "468 block5e_expand_conv False\n",
            "469 block5e_expand_bn False\n",
            "470 block5e_expand_activation False\n",
            "471 block5e_dwconv False\n",
            "472 block5e_bn False\n",
            "473 block5e_activation False\n",
            "474 block5e_se_squeeze False\n",
            "475 block5e_se_reshape False\n",
            "476 block5e_se_reduce False\n",
            "477 block5e_se_expand False\n",
            "478 block5e_se_excite False\n",
            "479 block5e_project_conv False\n",
            "480 block5e_project_bn False\n",
            "481 block5e_drop False\n",
            "482 block5e_add False\n",
            "483 block5f_expand_conv False\n",
            "484 block5f_expand_bn False\n",
            "485 block5f_expand_activation False\n",
            "486 block5f_dwconv False\n",
            "487 block5f_bn False\n",
            "488 block5f_activation False\n",
            "489 block5f_se_squeeze False\n",
            "490 block5f_se_reshape False\n",
            "491 block5f_se_reduce False\n",
            "492 block5f_se_expand False\n",
            "493 block5f_se_excite False\n",
            "494 block5f_project_conv False\n",
            "495 block5f_project_bn False\n",
            "496 block5f_drop False\n",
            "497 block5f_add False\n",
            "498 block5g_expand_conv False\n",
            "499 block5g_expand_bn False\n",
            "500 block5g_expand_activation False\n",
            "501 block5g_dwconv False\n",
            "502 block5g_bn False\n",
            "503 block5g_activation False\n",
            "504 block5g_se_squeeze False\n",
            "505 block5g_se_reshape False\n",
            "506 block5g_se_reduce False\n",
            "507 block5g_se_expand False\n",
            "508 block5g_se_excite False\n",
            "509 block5g_project_conv False\n",
            "510 block5g_project_bn False\n",
            "511 block5g_drop False\n",
            "512 block5g_add False\n",
            "513 block5h_expand_conv False\n",
            "514 block5h_expand_bn False\n",
            "515 block5h_expand_activation False\n",
            "516 block5h_dwconv False\n",
            "517 block5h_bn False\n",
            "518 block5h_activation False\n",
            "519 block5h_se_squeeze False\n",
            "520 block5h_se_reshape False\n",
            "521 block5h_se_reduce False\n",
            "522 block5h_se_expand False\n",
            "523 block5h_se_excite False\n",
            "524 block5h_project_conv False\n",
            "525 block5h_project_bn False\n",
            "526 block5h_drop False\n",
            "527 block5h_add False\n",
            "528 block5i_expand_conv False\n",
            "529 block5i_expand_bn False\n",
            "530 block5i_expand_activation False\n",
            "531 block5i_dwconv False\n",
            "532 block5i_bn False\n",
            "533 block5i_activation False\n",
            "534 block5i_se_squeeze False\n",
            "535 block5i_se_reshape False\n",
            "536 block5i_se_reduce False\n",
            "537 block5i_se_expand False\n",
            "538 block5i_se_excite False\n",
            "539 block5i_project_conv False\n",
            "540 block5i_project_bn False\n",
            "541 block5i_drop False\n",
            "542 block5i_add False\n",
            "543 block5j_expand_conv False\n",
            "544 block5j_expand_bn False\n",
            "545 block5j_expand_activation False\n",
            "546 block5j_dwconv False\n",
            "547 block5j_bn False\n",
            "548 block5j_activation False\n",
            "549 block5j_se_squeeze False\n",
            "550 block5j_se_reshape False\n",
            "551 block5j_se_reduce False\n",
            "552 block5j_se_expand False\n",
            "553 block5j_se_excite False\n",
            "554 block5j_project_conv False\n",
            "555 block5j_project_bn False\n",
            "556 block5j_drop False\n",
            "557 block5j_add False\n",
            "558 block6a_expand_conv False\n",
            "559 block6a_expand_bn False\n",
            "560 block6a_expand_activation False\n",
            "561 block6a_dwconv_pad False\n",
            "562 block6a_dwconv False\n",
            "563 block6a_bn False\n",
            "564 block6a_activation False\n",
            "565 block6a_se_squeeze False\n",
            "566 block6a_se_reshape False\n",
            "567 block6a_se_reduce False\n",
            "568 block6a_se_expand False\n",
            "569 block6a_se_excite False\n",
            "570 block6a_project_conv False\n",
            "571 block6a_project_bn False\n",
            "572 block6b_expand_conv False\n",
            "573 block6b_expand_bn False\n",
            "574 block6b_expand_activation False\n",
            "575 block6b_dwconv False\n",
            "576 block6b_bn False\n",
            "577 block6b_activation False\n",
            "578 block6b_se_squeeze False\n",
            "579 block6b_se_reshape False\n",
            "580 block6b_se_reduce False\n",
            "581 block6b_se_expand False\n",
            "582 block6b_se_excite False\n",
            "583 block6b_project_conv False\n",
            "584 block6b_project_bn False\n",
            "585 block6b_drop False\n",
            "586 block6b_add False\n",
            "587 block6c_expand_conv False\n",
            "588 block6c_expand_bn False\n",
            "589 block6c_expand_activation False\n",
            "590 block6c_dwconv False\n",
            "591 block6c_bn False\n",
            "592 block6c_activation False\n",
            "593 block6c_se_squeeze False\n",
            "594 block6c_se_reshape False\n",
            "595 block6c_se_reduce False\n",
            "596 block6c_se_expand False\n",
            "597 block6c_se_excite False\n",
            "598 block6c_project_conv False\n",
            "599 block6c_project_bn False\n",
            "600 block6c_drop False\n",
            "601 block6c_add False\n",
            "602 block6d_expand_conv False\n",
            "603 block6d_expand_bn False\n",
            "604 block6d_expand_activation False\n",
            "605 block6d_dwconv False\n",
            "606 block6d_bn False\n",
            "607 block6d_activation False\n",
            "608 block6d_se_squeeze False\n",
            "609 block6d_se_reshape False\n",
            "610 block6d_se_reduce False\n",
            "611 block6d_se_expand False\n",
            "612 block6d_se_excite False\n",
            "613 block6d_project_conv False\n",
            "614 block6d_project_bn False\n",
            "615 block6d_drop False\n",
            "616 block6d_add False\n",
            "617 block6e_expand_conv False\n",
            "618 block6e_expand_bn False\n",
            "619 block6e_expand_activation False\n",
            "620 block6e_dwconv False\n",
            "621 block6e_bn False\n",
            "622 block6e_activation False\n",
            "623 block6e_se_squeeze False\n",
            "624 block6e_se_reshape False\n",
            "625 block6e_se_reduce False\n",
            "626 block6e_se_expand False\n",
            "627 block6e_se_excite False\n",
            "628 block6e_project_conv False\n",
            "629 block6e_project_bn False\n",
            "630 block6e_drop False\n",
            "631 block6e_add False\n",
            "632 block6f_expand_conv False\n",
            "633 block6f_expand_bn False\n",
            "634 block6f_expand_activation False\n",
            "635 block6f_dwconv False\n",
            "636 block6f_bn False\n",
            "637 block6f_activation False\n",
            "638 block6f_se_squeeze False\n",
            "639 block6f_se_reshape False\n",
            "640 block6f_se_reduce False\n",
            "641 block6f_se_expand False\n",
            "642 block6f_se_excite False\n",
            "643 block6f_project_conv False\n",
            "644 block6f_project_bn False\n",
            "645 block6f_drop False\n",
            "646 block6f_add False\n",
            "647 block6g_expand_conv False\n",
            "648 block6g_expand_bn False\n",
            "649 block6g_expand_activation False\n",
            "650 block6g_dwconv False\n",
            "651 block6g_bn False\n",
            "652 block6g_activation False\n",
            "653 block6g_se_squeeze False\n",
            "654 block6g_se_reshape False\n",
            "655 block6g_se_reduce False\n",
            "656 block6g_se_expand False\n",
            "657 block6g_se_excite False\n",
            "658 block6g_project_conv False\n",
            "659 block6g_project_bn False\n",
            "660 block6g_drop False\n",
            "661 block6g_add False\n",
            "662 block6h_expand_conv False\n",
            "663 block6h_expand_bn False\n",
            "664 block6h_expand_activation False\n",
            "665 block6h_dwconv False\n",
            "666 block6h_bn False\n",
            "667 block6h_activation False\n",
            "668 block6h_se_squeeze False\n",
            "669 block6h_se_reshape False\n",
            "670 block6h_se_reduce False\n",
            "671 block6h_se_expand False\n",
            "672 block6h_se_excite False\n",
            "673 block6h_project_conv False\n",
            "674 block6h_project_bn False\n",
            "675 block6h_drop False\n",
            "676 block6h_add False\n",
            "677 block6i_expand_conv False\n",
            "678 block6i_expand_bn False\n",
            "679 block6i_expand_activation False\n",
            "680 block6i_dwconv False\n",
            "681 block6i_bn False\n",
            "682 block6i_activation False\n",
            "683 block6i_se_squeeze False\n",
            "684 block6i_se_reshape False\n",
            "685 block6i_se_reduce False\n",
            "686 block6i_se_expand False\n",
            "687 block6i_se_excite False\n",
            "688 block6i_project_conv False\n",
            "689 block6i_project_bn False\n",
            "690 block6i_drop False\n",
            "691 block6i_add False\n",
            "692 block6j_expand_conv False\n",
            "693 block6j_expand_bn False\n",
            "694 block6j_expand_activation False\n",
            "695 block6j_dwconv False\n",
            "696 block6j_bn False\n",
            "697 block6j_activation False\n",
            "698 block6j_se_squeeze False\n",
            "699 block6j_se_reshape False\n",
            "700 block6j_se_reduce False\n",
            "701 block6j_se_expand False\n",
            "702 block6j_se_excite False\n",
            "703 block6j_project_conv False\n",
            "704 block6j_project_bn False\n",
            "705 block6j_drop False\n",
            "706 block6j_add False\n",
            "707 block6k_expand_conv False\n",
            "708 block6k_expand_bn False\n",
            "709 block6k_expand_activation False\n",
            "710 block6k_dwconv False\n",
            "711 block6k_bn False\n",
            "712 block6k_activation False\n",
            "713 block6k_se_squeeze False\n",
            "714 block6k_se_reshape False\n",
            "715 block6k_se_reduce False\n",
            "716 block6k_se_expand False\n",
            "717 block6k_se_excite False\n",
            "718 block6k_project_conv False\n",
            "719 block6k_project_bn False\n",
            "720 block6k_drop False\n",
            "721 block6k_add False\n",
            "722 block6l_expand_conv False\n",
            "723 block6l_expand_bn False\n",
            "724 block6l_expand_activation False\n",
            "725 block6l_dwconv False\n",
            "726 block6l_bn False\n",
            "727 block6l_activation False\n",
            "728 block6l_se_squeeze False\n",
            "729 block6l_se_reshape False\n",
            "730 block6l_se_reduce False\n",
            "731 block6l_se_expand False\n",
            "732 block6l_se_excite False\n",
            "733 block6l_project_conv False\n",
            "734 block6l_project_bn False\n",
            "735 block6l_drop False\n",
            "736 block6l_add False\n",
            "737 block6m_expand_conv False\n",
            "738 block6m_expand_bn False\n",
            "739 block6m_expand_activation False\n",
            "740 block6m_dwconv False\n",
            "741 block6m_bn False\n",
            "742 block6m_activation False\n",
            "743 block6m_se_squeeze False\n",
            "744 block6m_se_reshape False\n",
            "745 block6m_se_reduce False\n",
            "746 block6m_se_expand False\n",
            "747 block6m_se_excite False\n",
            "748 block6m_project_conv False\n",
            "749 block6m_project_bn False\n",
            "750 block6m_drop False\n",
            "751 block6m_add False\n",
            "752 block7a_expand_conv False\n",
            "753 block7a_expand_bn False\n",
            "754 block7a_expand_activation False\n",
            "755 block7a_dwconv False\n",
            "756 block7a_bn False\n",
            "757 block7a_activation False\n",
            "758 block7a_se_squeeze False\n",
            "759 block7a_se_reshape False\n",
            "760 block7a_se_reduce False\n",
            "761 block7a_se_expand False\n",
            "762 block7a_se_excite False\n",
            "763 block7a_project_conv False\n",
            "764 block7a_project_bn False\n",
            "765 block7b_expand_conv False\n",
            "766 block7b_expand_bn False\n",
            "767 block7b_expand_activation False\n",
            "768 block7b_dwconv False\n",
            "769 block7b_bn False\n",
            "770 block7b_activation False\n",
            "771 block7b_se_squeeze False\n",
            "772 block7b_se_reshape False\n",
            "773 block7b_se_reduce False\n",
            "774 block7b_se_expand False\n",
            "775 block7b_se_excite False\n",
            "776 block7b_project_conv False\n",
            "777 block7b_project_bn False\n",
            "778 block7b_drop False\n",
            "779 block7b_add False\n",
            "780 block7c_expand_conv False\n",
            "781 block7c_expand_bn False\n",
            "782 block7c_expand_activation False\n",
            "783 block7c_dwconv False\n",
            "784 block7c_bn False\n",
            "785 block7c_activation False\n",
            "786 block7c_se_squeeze False\n",
            "787 block7c_se_reshape False\n",
            "788 block7c_se_reduce False\n",
            "789 block7c_se_expand False\n",
            "790 block7c_se_excite False\n",
            "791 block7c_project_conv False\n",
            "792 block7c_project_bn False\n",
            "793 block7c_drop False\n",
            "794 block7c_add False\n",
            "795 block7d_expand_conv False\n",
            "796 block7d_expand_bn False\n",
            "797 block7d_expand_activation False\n",
            "798 block7d_dwconv False\n",
            "799 block7d_bn False\n",
            "800 block7d_activation False\n",
            "801 block7d_se_squeeze True\n",
            "802 block7d_se_reshape True\n",
            "803 block7d_se_reduce True\n",
            "804 block7d_se_expand True\n",
            "805 block7d_se_excite True\n",
            "806 block7d_project_conv True\n",
            "807 block7d_project_bn True\n",
            "808 block7d_drop True\n",
            "809 block7d_add True\n",
            "810 top_conv True\n",
            "811 top_bn True\n",
            "812 top_activation True\n"
          ]
        }
      ],
      "source": [
        "# Check which layers are tuneable (trainable)\n",
        "for layer_number, layer in enumerate(base_model.layers):\n",
        "  print(layer_number, layer.name, layer.trainable)"
      ]
    },
    {
      "cell_type": "code",
      "execution_count": null,
      "metadata": {
        "id": "4PgykqBnjdfB"
      },
      "outputs": [],
      "source": [
        "base_model.trainable = True\n",
        "\n",
        "# Freeze all layers except for the last 12\n",
        "for layer in base_model.layers[:-12]:\n",
        "  layer.trainable = False\n",
        "\n",
        "# Recompile the model (always recompile after any adjustments to a model)\n",
        "model.compile(loss=\"categorical_crossentropy\",\n",
        "              optimizer=tf.keras.optimizers.Adam(learning_rate=0.0001), # lr is 10x lower than before for fine-tuning\n",
        "              metrics=[\"accuracy\"])"
      ]
    },
    {
      "cell_type": "code",
      "execution_count": null,
      "metadata": {
        "colab": {
          "base_uri": "https://localhost:8080/"
        },
        "id": "3j0m3AL2jn83",
        "outputId": "1febf920-409d-4e3f-8f2b-035a2b534421"
      },
      "outputs": [
        {
          "name": "stdout",
          "output_type": "stream",
          "text": [
            "0 input_2 False\n",
            "1 rescaling_1 False\n",
            "2 normalization_1 False\n",
            "3 stem_conv_pad False\n",
            "4 stem_conv False\n",
            "5 stem_bn False\n",
            "6 stem_activation False\n",
            "7 block1a_dwconv False\n",
            "8 block1a_bn False\n",
            "9 block1a_activation False\n",
            "10 block1a_se_squeeze False\n",
            "11 block1a_se_reshape False\n",
            "12 block1a_se_reduce False\n",
            "13 block1a_se_expand False\n",
            "14 block1a_se_excite False\n",
            "15 block1a_project_conv False\n",
            "16 block1a_project_bn False\n",
            "17 block1b_dwconv False\n",
            "18 block1b_bn False\n",
            "19 block1b_activation False\n",
            "20 block1b_se_squeeze False\n",
            "21 block1b_se_reshape False\n",
            "22 block1b_se_reduce False\n",
            "23 block1b_se_expand False\n",
            "24 block1b_se_excite False\n",
            "25 block1b_project_conv False\n",
            "26 block1b_project_bn False\n",
            "27 block1b_drop False\n",
            "28 block1b_add False\n",
            "29 block1c_dwconv False\n",
            "30 block1c_bn False\n",
            "31 block1c_activation False\n",
            "32 block1c_se_squeeze False\n",
            "33 block1c_se_reshape False\n",
            "34 block1c_se_reduce False\n",
            "35 block1c_se_expand False\n",
            "36 block1c_se_excite False\n",
            "37 block1c_project_conv False\n",
            "38 block1c_project_bn False\n",
            "39 block1c_drop False\n",
            "40 block1c_add False\n",
            "41 block1d_dwconv False\n",
            "42 block1d_bn False\n",
            "43 block1d_activation False\n",
            "44 block1d_se_squeeze False\n",
            "45 block1d_se_reshape False\n",
            "46 block1d_se_reduce False\n",
            "47 block1d_se_expand False\n",
            "48 block1d_se_excite False\n",
            "49 block1d_project_conv False\n",
            "50 block1d_project_bn False\n",
            "51 block1d_drop False\n",
            "52 block1d_add False\n",
            "53 block2a_expand_conv False\n",
            "54 block2a_expand_bn False\n",
            "55 block2a_expand_activation False\n",
            "56 block2a_dwconv_pad False\n",
            "57 block2a_dwconv False\n",
            "58 block2a_bn False\n",
            "59 block2a_activation False\n",
            "60 block2a_se_squeeze False\n",
            "61 block2a_se_reshape False\n",
            "62 block2a_se_reduce False\n",
            "63 block2a_se_expand False\n",
            "64 block2a_se_excite False\n",
            "65 block2a_project_conv False\n",
            "66 block2a_project_bn False\n",
            "67 block2b_expand_conv False\n",
            "68 block2b_expand_bn False\n",
            "69 block2b_expand_activation False\n",
            "70 block2b_dwconv False\n",
            "71 block2b_bn False\n",
            "72 block2b_activation False\n",
            "73 block2b_se_squeeze False\n",
            "74 block2b_se_reshape False\n",
            "75 block2b_se_reduce False\n",
            "76 block2b_se_expand False\n",
            "77 block2b_se_excite False\n",
            "78 block2b_project_conv False\n",
            "79 block2b_project_bn False\n",
            "80 block2b_drop False\n",
            "81 block2b_add False\n",
            "82 block2c_expand_conv False\n",
            "83 block2c_expand_bn False\n",
            "84 block2c_expand_activation False\n",
            "85 block2c_dwconv False\n",
            "86 block2c_bn False\n",
            "87 block2c_activation False\n",
            "88 block2c_se_squeeze False\n",
            "89 block2c_se_reshape False\n",
            "90 block2c_se_reduce False\n",
            "91 block2c_se_expand False\n",
            "92 block2c_se_excite False\n",
            "93 block2c_project_conv False\n",
            "94 block2c_project_bn False\n",
            "95 block2c_drop False\n",
            "96 block2c_add False\n",
            "97 block2d_expand_conv False\n",
            "98 block2d_expand_bn False\n",
            "99 block2d_expand_activation False\n",
            "100 block2d_dwconv False\n",
            "101 block2d_bn False\n",
            "102 block2d_activation False\n",
            "103 block2d_se_squeeze False\n",
            "104 block2d_se_reshape False\n",
            "105 block2d_se_reduce False\n",
            "106 block2d_se_expand False\n",
            "107 block2d_se_excite False\n",
            "108 block2d_project_conv False\n",
            "109 block2d_project_bn False\n",
            "110 block2d_drop False\n",
            "111 block2d_add False\n",
            "112 block2e_expand_conv False\n",
            "113 block2e_expand_bn False\n",
            "114 block2e_expand_activation False\n",
            "115 block2e_dwconv False\n",
            "116 block2e_bn False\n",
            "117 block2e_activation False\n",
            "118 block2e_se_squeeze False\n",
            "119 block2e_se_reshape False\n",
            "120 block2e_se_reduce False\n",
            "121 block2e_se_expand False\n",
            "122 block2e_se_excite False\n",
            "123 block2e_project_conv False\n",
            "124 block2e_project_bn False\n",
            "125 block2e_drop False\n",
            "126 block2e_add False\n",
            "127 block2f_expand_conv False\n",
            "128 block2f_expand_bn False\n",
            "129 block2f_expand_activation False\n",
            "130 block2f_dwconv False\n",
            "131 block2f_bn False\n",
            "132 block2f_activation False\n",
            "133 block2f_se_squeeze False\n",
            "134 block2f_se_reshape False\n",
            "135 block2f_se_reduce False\n",
            "136 block2f_se_expand False\n",
            "137 block2f_se_excite False\n",
            "138 block2f_project_conv False\n",
            "139 block2f_project_bn False\n",
            "140 block2f_drop False\n",
            "141 block2f_add False\n",
            "142 block2g_expand_conv False\n",
            "143 block2g_expand_bn False\n",
            "144 block2g_expand_activation False\n",
            "145 block2g_dwconv False\n",
            "146 block2g_bn False\n",
            "147 block2g_activation False\n",
            "148 block2g_se_squeeze False\n",
            "149 block2g_se_reshape False\n",
            "150 block2g_se_reduce False\n",
            "151 block2g_se_expand False\n",
            "152 block2g_se_excite False\n",
            "153 block2g_project_conv False\n",
            "154 block2g_project_bn False\n",
            "155 block2g_drop False\n",
            "156 block2g_add False\n",
            "157 block3a_expand_conv False\n",
            "158 block3a_expand_bn False\n",
            "159 block3a_expand_activation False\n",
            "160 block3a_dwconv_pad False\n",
            "161 block3a_dwconv False\n",
            "162 block3a_bn False\n",
            "163 block3a_activation False\n",
            "164 block3a_se_squeeze False\n",
            "165 block3a_se_reshape False\n",
            "166 block3a_se_reduce False\n",
            "167 block3a_se_expand False\n",
            "168 block3a_se_excite False\n",
            "169 block3a_project_conv False\n",
            "170 block3a_project_bn False\n",
            "171 block3b_expand_conv False\n",
            "172 block3b_expand_bn False\n",
            "173 block3b_expand_activation False\n",
            "174 block3b_dwconv False\n",
            "175 block3b_bn False\n",
            "176 block3b_activation False\n",
            "177 block3b_se_squeeze False\n",
            "178 block3b_se_reshape False\n",
            "179 block3b_se_reduce False\n",
            "180 block3b_se_expand False\n",
            "181 block3b_se_excite False\n",
            "182 block3b_project_conv False\n",
            "183 block3b_project_bn False\n",
            "184 block3b_drop False\n",
            "185 block3b_add False\n",
            "186 block3c_expand_conv False\n",
            "187 block3c_expand_bn False\n",
            "188 block3c_expand_activation False\n",
            "189 block3c_dwconv False\n",
            "190 block3c_bn False\n",
            "191 block3c_activation False\n",
            "192 block3c_se_squeeze False\n",
            "193 block3c_se_reshape False\n",
            "194 block3c_se_reduce False\n",
            "195 block3c_se_expand False\n",
            "196 block3c_se_excite False\n",
            "197 block3c_project_conv False\n",
            "198 block3c_project_bn False\n",
            "199 block3c_drop False\n",
            "200 block3c_add False\n",
            "201 block3d_expand_conv False\n",
            "202 block3d_expand_bn False\n",
            "203 block3d_expand_activation False\n",
            "204 block3d_dwconv False\n",
            "205 block3d_bn False\n",
            "206 block3d_activation False\n",
            "207 block3d_se_squeeze False\n",
            "208 block3d_se_reshape False\n",
            "209 block3d_se_reduce False\n",
            "210 block3d_se_expand False\n",
            "211 block3d_se_excite False\n",
            "212 block3d_project_conv False\n",
            "213 block3d_project_bn False\n",
            "214 block3d_drop False\n",
            "215 block3d_add False\n",
            "216 block3e_expand_conv False\n",
            "217 block3e_expand_bn False\n",
            "218 block3e_expand_activation False\n",
            "219 block3e_dwconv False\n",
            "220 block3e_bn False\n",
            "221 block3e_activation False\n",
            "222 block3e_se_squeeze False\n",
            "223 block3e_se_reshape False\n",
            "224 block3e_se_reduce False\n",
            "225 block3e_se_expand False\n",
            "226 block3e_se_excite False\n",
            "227 block3e_project_conv False\n",
            "228 block3e_project_bn False\n",
            "229 block3e_drop False\n",
            "230 block3e_add False\n",
            "231 block3f_expand_conv False\n",
            "232 block3f_expand_bn False\n",
            "233 block3f_expand_activation False\n",
            "234 block3f_dwconv False\n",
            "235 block3f_bn False\n",
            "236 block3f_activation False\n",
            "237 block3f_se_squeeze False\n",
            "238 block3f_se_reshape False\n",
            "239 block3f_se_reduce False\n",
            "240 block3f_se_expand False\n",
            "241 block3f_se_excite False\n",
            "242 block3f_project_conv False\n",
            "243 block3f_project_bn False\n",
            "244 block3f_drop False\n",
            "245 block3f_add False\n",
            "246 block3g_expand_conv False\n",
            "247 block3g_expand_bn False\n",
            "248 block3g_expand_activation False\n",
            "249 block3g_dwconv False\n",
            "250 block3g_bn False\n",
            "251 block3g_activation False\n",
            "252 block3g_se_squeeze False\n",
            "253 block3g_se_reshape False\n",
            "254 block3g_se_reduce False\n",
            "255 block3g_se_expand False\n",
            "256 block3g_se_excite False\n",
            "257 block3g_project_conv False\n",
            "258 block3g_project_bn False\n",
            "259 block3g_drop False\n",
            "260 block3g_add False\n",
            "261 block4a_expand_conv False\n",
            "262 block4a_expand_bn False\n",
            "263 block4a_expand_activation False\n",
            "264 block4a_dwconv_pad False\n",
            "265 block4a_dwconv False\n",
            "266 block4a_bn False\n",
            "267 block4a_activation False\n",
            "268 block4a_se_squeeze False\n",
            "269 block4a_se_reshape False\n",
            "270 block4a_se_reduce False\n",
            "271 block4a_se_expand False\n",
            "272 block4a_se_excite False\n",
            "273 block4a_project_conv False\n",
            "274 block4a_project_bn False\n",
            "275 block4b_expand_conv False\n",
            "276 block4b_expand_bn False\n",
            "277 block4b_expand_activation False\n",
            "278 block4b_dwconv False\n",
            "279 block4b_bn False\n",
            "280 block4b_activation False\n",
            "281 block4b_se_squeeze False\n",
            "282 block4b_se_reshape False\n",
            "283 block4b_se_reduce False\n",
            "284 block4b_se_expand False\n",
            "285 block4b_se_excite False\n",
            "286 block4b_project_conv False\n",
            "287 block4b_project_bn False\n",
            "288 block4b_drop False\n",
            "289 block4b_add False\n",
            "290 block4c_expand_conv False\n",
            "291 block4c_expand_bn False\n",
            "292 block4c_expand_activation False\n",
            "293 block4c_dwconv False\n",
            "294 block4c_bn False\n",
            "295 block4c_activation False\n",
            "296 block4c_se_squeeze False\n",
            "297 block4c_se_reshape False\n",
            "298 block4c_se_reduce False\n",
            "299 block4c_se_expand False\n",
            "300 block4c_se_excite False\n",
            "301 block4c_project_conv False\n",
            "302 block4c_project_bn False\n",
            "303 block4c_drop False\n",
            "304 block4c_add False\n",
            "305 block4d_expand_conv False\n",
            "306 block4d_expand_bn False\n",
            "307 block4d_expand_activation False\n",
            "308 block4d_dwconv False\n",
            "309 block4d_bn False\n",
            "310 block4d_activation False\n",
            "311 block4d_se_squeeze False\n",
            "312 block4d_se_reshape False\n",
            "313 block4d_se_reduce False\n",
            "314 block4d_se_expand False\n",
            "315 block4d_se_excite False\n",
            "316 block4d_project_conv False\n",
            "317 block4d_project_bn False\n",
            "318 block4d_drop False\n",
            "319 block4d_add False\n",
            "320 block4e_expand_conv False\n",
            "321 block4e_expand_bn False\n",
            "322 block4e_expand_activation False\n",
            "323 block4e_dwconv False\n",
            "324 block4e_bn False\n",
            "325 block4e_activation False\n",
            "326 block4e_se_squeeze False\n",
            "327 block4e_se_reshape False\n",
            "328 block4e_se_reduce False\n",
            "329 block4e_se_expand False\n",
            "330 block4e_se_excite False\n",
            "331 block4e_project_conv False\n",
            "332 block4e_project_bn False\n",
            "333 block4e_drop False\n",
            "334 block4e_add False\n",
            "335 block4f_expand_conv False\n",
            "336 block4f_expand_bn False\n",
            "337 block4f_expand_activation False\n",
            "338 block4f_dwconv False\n",
            "339 block4f_bn False\n",
            "340 block4f_activation False\n",
            "341 block4f_se_squeeze False\n",
            "342 block4f_se_reshape False\n",
            "343 block4f_se_reduce False\n",
            "344 block4f_se_expand False\n",
            "345 block4f_se_excite False\n",
            "346 block4f_project_conv False\n",
            "347 block4f_project_bn False\n",
            "348 block4f_drop False\n",
            "349 block4f_add False\n",
            "350 block4g_expand_conv False\n",
            "351 block4g_expand_bn False\n",
            "352 block4g_expand_activation False\n",
            "353 block4g_dwconv False\n",
            "354 block4g_bn False\n",
            "355 block4g_activation False\n",
            "356 block4g_se_squeeze False\n",
            "357 block4g_se_reshape False\n",
            "358 block4g_se_reduce False\n",
            "359 block4g_se_expand False\n",
            "360 block4g_se_excite False\n",
            "361 block4g_project_conv False\n",
            "362 block4g_project_bn False\n",
            "363 block4g_drop False\n",
            "364 block4g_add False\n",
            "365 block4h_expand_conv False\n",
            "366 block4h_expand_bn False\n",
            "367 block4h_expand_activation False\n",
            "368 block4h_dwconv False\n",
            "369 block4h_bn False\n",
            "370 block4h_activation False\n",
            "371 block4h_se_squeeze False\n",
            "372 block4h_se_reshape False\n",
            "373 block4h_se_reduce False\n",
            "374 block4h_se_expand False\n",
            "375 block4h_se_excite False\n",
            "376 block4h_project_conv False\n",
            "377 block4h_project_bn False\n",
            "378 block4h_drop False\n",
            "379 block4h_add False\n",
            "380 block4i_expand_conv False\n",
            "381 block4i_expand_bn False\n",
            "382 block4i_expand_activation False\n",
            "383 block4i_dwconv False\n",
            "384 block4i_bn False\n",
            "385 block4i_activation False\n",
            "386 block4i_se_squeeze False\n",
            "387 block4i_se_reshape False\n",
            "388 block4i_se_reduce False\n",
            "389 block4i_se_expand False\n",
            "390 block4i_se_excite False\n",
            "391 block4i_project_conv False\n",
            "392 block4i_project_bn False\n",
            "393 block4i_drop False\n",
            "394 block4i_add False\n",
            "395 block4j_expand_conv False\n",
            "396 block4j_expand_bn False\n",
            "397 block4j_expand_activation False\n",
            "398 block4j_dwconv False\n",
            "399 block4j_bn False\n",
            "400 block4j_activation False\n",
            "401 block4j_se_squeeze False\n",
            "402 block4j_se_reshape False\n",
            "403 block4j_se_reduce False\n",
            "404 block4j_se_expand False\n",
            "405 block4j_se_excite False\n",
            "406 block4j_project_conv False\n",
            "407 block4j_project_bn False\n",
            "408 block4j_drop False\n",
            "409 block4j_add False\n",
            "410 block5a_expand_conv False\n",
            "411 block5a_expand_bn False\n",
            "412 block5a_expand_activation False\n",
            "413 block5a_dwconv False\n",
            "414 block5a_bn False\n",
            "415 block5a_activation False\n",
            "416 block5a_se_squeeze False\n",
            "417 block5a_se_reshape False\n",
            "418 block5a_se_reduce False\n",
            "419 block5a_se_expand False\n",
            "420 block5a_se_excite False\n",
            "421 block5a_project_conv False\n",
            "422 block5a_project_bn False\n",
            "423 block5b_expand_conv False\n",
            "424 block5b_expand_bn False\n",
            "425 block5b_expand_activation False\n",
            "426 block5b_dwconv False\n",
            "427 block5b_bn False\n",
            "428 block5b_activation False\n",
            "429 block5b_se_squeeze False\n",
            "430 block5b_se_reshape False\n",
            "431 block5b_se_reduce False\n",
            "432 block5b_se_expand False\n",
            "433 block5b_se_excite False\n",
            "434 block5b_project_conv False\n",
            "435 block5b_project_bn False\n",
            "436 block5b_drop False\n",
            "437 block5b_add False\n",
            "438 block5c_expand_conv False\n",
            "439 block5c_expand_bn False\n",
            "440 block5c_expand_activation False\n",
            "441 block5c_dwconv False\n",
            "442 block5c_bn False\n",
            "443 block5c_activation False\n",
            "444 block5c_se_squeeze False\n",
            "445 block5c_se_reshape False\n",
            "446 block5c_se_reduce False\n",
            "447 block5c_se_expand False\n",
            "448 block5c_se_excite False\n",
            "449 block5c_project_conv False\n",
            "450 block5c_project_bn False\n",
            "451 block5c_drop False\n",
            "452 block5c_add False\n",
            "453 block5d_expand_conv False\n",
            "454 block5d_expand_bn False\n",
            "455 block5d_expand_activation False\n",
            "456 block5d_dwconv False\n",
            "457 block5d_bn False\n",
            "458 block5d_activation False\n",
            "459 block5d_se_squeeze False\n",
            "460 block5d_se_reshape False\n",
            "461 block5d_se_reduce False\n",
            "462 block5d_se_expand False\n",
            "463 block5d_se_excite False\n",
            "464 block5d_project_conv False\n",
            "465 block5d_project_bn False\n",
            "466 block5d_drop False\n",
            "467 block5d_add False\n",
            "468 block5e_expand_conv False\n",
            "469 block5e_expand_bn False\n",
            "470 block5e_expand_activation False\n",
            "471 block5e_dwconv False\n",
            "472 block5e_bn False\n",
            "473 block5e_activation False\n",
            "474 block5e_se_squeeze False\n",
            "475 block5e_se_reshape False\n",
            "476 block5e_se_reduce False\n",
            "477 block5e_se_expand False\n",
            "478 block5e_se_excite False\n",
            "479 block5e_project_conv False\n",
            "480 block5e_project_bn False\n",
            "481 block5e_drop False\n",
            "482 block5e_add False\n",
            "483 block5f_expand_conv False\n",
            "484 block5f_expand_bn False\n",
            "485 block5f_expand_activation False\n",
            "486 block5f_dwconv False\n",
            "487 block5f_bn False\n",
            "488 block5f_activation False\n",
            "489 block5f_se_squeeze False\n",
            "490 block5f_se_reshape False\n",
            "491 block5f_se_reduce False\n",
            "492 block5f_se_expand False\n",
            "493 block5f_se_excite False\n",
            "494 block5f_project_conv False\n",
            "495 block5f_project_bn False\n",
            "496 block5f_drop False\n",
            "497 block5f_add False\n",
            "498 block5g_expand_conv False\n",
            "499 block5g_expand_bn False\n",
            "500 block5g_expand_activation False\n",
            "501 block5g_dwconv False\n",
            "502 block5g_bn False\n",
            "503 block5g_activation False\n",
            "504 block5g_se_squeeze False\n",
            "505 block5g_se_reshape False\n",
            "506 block5g_se_reduce False\n",
            "507 block5g_se_expand False\n",
            "508 block5g_se_excite False\n",
            "509 block5g_project_conv False\n",
            "510 block5g_project_bn False\n",
            "511 block5g_drop False\n",
            "512 block5g_add False\n",
            "513 block5h_expand_conv False\n",
            "514 block5h_expand_bn False\n",
            "515 block5h_expand_activation False\n",
            "516 block5h_dwconv False\n",
            "517 block5h_bn False\n",
            "518 block5h_activation False\n",
            "519 block5h_se_squeeze False\n",
            "520 block5h_se_reshape False\n",
            "521 block5h_se_reduce False\n",
            "522 block5h_se_expand False\n",
            "523 block5h_se_excite False\n",
            "524 block5h_project_conv False\n",
            "525 block5h_project_bn False\n",
            "526 block5h_drop False\n",
            "527 block5h_add False\n",
            "528 block5i_expand_conv False\n",
            "529 block5i_expand_bn False\n",
            "530 block5i_expand_activation False\n",
            "531 block5i_dwconv False\n",
            "532 block5i_bn False\n",
            "533 block5i_activation False\n",
            "534 block5i_se_squeeze False\n",
            "535 block5i_se_reshape False\n",
            "536 block5i_se_reduce False\n",
            "537 block5i_se_expand False\n",
            "538 block5i_se_excite False\n",
            "539 block5i_project_conv False\n",
            "540 block5i_project_bn False\n",
            "541 block5i_drop False\n",
            "542 block5i_add False\n",
            "543 block5j_expand_conv False\n",
            "544 block5j_expand_bn False\n",
            "545 block5j_expand_activation False\n",
            "546 block5j_dwconv False\n",
            "547 block5j_bn False\n",
            "548 block5j_activation False\n",
            "549 block5j_se_squeeze False\n",
            "550 block5j_se_reshape False\n",
            "551 block5j_se_reduce False\n",
            "552 block5j_se_expand False\n",
            "553 block5j_se_excite False\n",
            "554 block5j_project_conv False\n",
            "555 block5j_project_bn False\n",
            "556 block5j_drop False\n",
            "557 block5j_add False\n",
            "558 block6a_expand_conv False\n",
            "559 block6a_expand_bn False\n",
            "560 block6a_expand_activation False\n",
            "561 block6a_dwconv_pad False\n",
            "562 block6a_dwconv False\n",
            "563 block6a_bn False\n",
            "564 block6a_activation False\n",
            "565 block6a_se_squeeze False\n",
            "566 block6a_se_reshape False\n",
            "567 block6a_se_reduce False\n",
            "568 block6a_se_expand False\n",
            "569 block6a_se_excite False\n",
            "570 block6a_project_conv False\n",
            "571 block6a_project_bn False\n",
            "572 block6b_expand_conv False\n",
            "573 block6b_expand_bn False\n",
            "574 block6b_expand_activation False\n",
            "575 block6b_dwconv False\n",
            "576 block6b_bn False\n",
            "577 block6b_activation False\n",
            "578 block6b_se_squeeze False\n",
            "579 block6b_se_reshape False\n",
            "580 block6b_se_reduce False\n",
            "581 block6b_se_expand False\n",
            "582 block6b_se_excite False\n",
            "583 block6b_project_conv False\n",
            "584 block6b_project_bn False\n",
            "585 block6b_drop False\n",
            "586 block6b_add False\n",
            "587 block6c_expand_conv False\n",
            "588 block6c_expand_bn False\n",
            "589 block6c_expand_activation False\n",
            "590 block6c_dwconv False\n",
            "591 block6c_bn False\n",
            "592 block6c_activation False\n",
            "593 block6c_se_squeeze False\n",
            "594 block6c_se_reshape False\n",
            "595 block6c_se_reduce False\n",
            "596 block6c_se_expand False\n",
            "597 block6c_se_excite False\n",
            "598 block6c_project_conv False\n",
            "599 block6c_project_bn False\n",
            "600 block6c_drop False\n",
            "601 block6c_add False\n",
            "602 block6d_expand_conv False\n",
            "603 block6d_expand_bn False\n",
            "604 block6d_expand_activation False\n",
            "605 block6d_dwconv False\n",
            "606 block6d_bn False\n",
            "607 block6d_activation False\n",
            "608 block6d_se_squeeze False\n",
            "609 block6d_se_reshape False\n",
            "610 block6d_se_reduce False\n",
            "611 block6d_se_expand False\n",
            "612 block6d_se_excite False\n",
            "613 block6d_project_conv False\n",
            "614 block6d_project_bn False\n",
            "615 block6d_drop False\n",
            "616 block6d_add False\n",
            "617 block6e_expand_conv False\n",
            "618 block6e_expand_bn False\n",
            "619 block6e_expand_activation False\n",
            "620 block6e_dwconv False\n",
            "621 block6e_bn False\n",
            "622 block6e_activation False\n",
            "623 block6e_se_squeeze False\n",
            "624 block6e_se_reshape False\n",
            "625 block6e_se_reduce False\n",
            "626 block6e_se_expand False\n",
            "627 block6e_se_excite False\n",
            "628 block6e_project_conv False\n",
            "629 block6e_project_bn False\n",
            "630 block6e_drop False\n",
            "631 block6e_add False\n",
            "632 block6f_expand_conv False\n",
            "633 block6f_expand_bn False\n",
            "634 block6f_expand_activation False\n",
            "635 block6f_dwconv False\n",
            "636 block6f_bn False\n",
            "637 block6f_activation False\n",
            "638 block6f_se_squeeze False\n",
            "639 block6f_se_reshape False\n",
            "640 block6f_se_reduce False\n",
            "641 block6f_se_expand False\n",
            "642 block6f_se_excite False\n",
            "643 block6f_project_conv False\n",
            "644 block6f_project_bn False\n",
            "645 block6f_drop False\n",
            "646 block6f_add False\n",
            "647 block6g_expand_conv False\n",
            "648 block6g_expand_bn False\n",
            "649 block6g_expand_activation False\n",
            "650 block6g_dwconv False\n",
            "651 block6g_bn False\n",
            "652 block6g_activation False\n",
            "653 block6g_se_squeeze False\n",
            "654 block6g_se_reshape False\n",
            "655 block6g_se_reduce False\n",
            "656 block6g_se_expand False\n",
            "657 block6g_se_excite False\n",
            "658 block6g_project_conv False\n",
            "659 block6g_project_bn False\n",
            "660 block6g_drop False\n",
            "661 block6g_add False\n",
            "662 block6h_expand_conv False\n",
            "663 block6h_expand_bn False\n",
            "664 block6h_expand_activation False\n",
            "665 block6h_dwconv False\n",
            "666 block6h_bn False\n",
            "667 block6h_activation False\n",
            "668 block6h_se_squeeze False\n",
            "669 block6h_se_reshape False\n",
            "670 block6h_se_reduce False\n",
            "671 block6h_se_expand False\n",
            "672 block6h_se_excite False\n",
            "673 block6h_project_conv False\n",
            "674 block6h_project_bn False\n",
            "675 block6h_drop False\n",
            "676 block6h_add False\n",
            "677 block6i_expand_conv False\n",
            "678 block6i_expand_bn False\n",
            "679 block6i_expand_activation False\n",
            "680 block6i_dwconv False\n",
            "681 block6i_bn False\n",
            "682 block6i_activation False\n",
            "683 block6i_se_squeeze False\n",
            "684 block6i_se_reshape False\n",
            "685 block6i_se_reduce False\n",
            "686 block6i_se_expand False\n",
            "687 block6i_se_excite False\n",
            "688 block6i_project_conv False\n",
            "689 block6i_project_bn False\n",
            "690 block6i_drop False\n",
            "691 block6i_add False\n",
            "692 block6j_expand_conv False\n",
            "693 block6j_expand_bn False\n",
            "694 block6j_expand_activation False\n",
            "695 block6j_dwconv False\n",
            "696 block6j_bn False\n",
            "697 block6j_activation False\n",
            "698 block6j_se_squeeze False\n",
            "699 block6j_se_reshape False\n",
            "700 block6j_se_reduce False\n",
            "701 block6j_se_expand False\n",
            "702 block6j_se_excite False\n",
            "703 block6j_project_conv False\n",
            "704 block6j_project_bn False\n",
            "705 block6j_drop False\n",
            "706 block6j_add False\n",
            "707 block6k_expand_conv False\n",
            "708 block6k_expand_bn False\n",
            "709 block6k_expand_activation False\n",
            "710 block6k_dwconv False\n",
            "711 block6k_bn False\n",
            "712 block6k_activation False\n",
            "713 block6k_se_squeeze False\n",
            "714 block6k_se_reshape False\n",
            "715 block6k_se_reduce False\n",
            "716 block6k_se_expand False\n",
            "717 block6k_se_excite False\n",
            "718 block6k_project_conv False\n",
            "719 block6k_project_bn False\n",
            "720 block6k_drop False\n",
            "721 block6k_add False\n",
            "722 block6l_expand_conv False\n",
            "723 block6l_expand_bn False\n",
            "724 block6l_expand_activation False\n",
            "725 block6l_dwconv False\n",
            "726 block6l_bn False\n",
            "727 block6l_activation False\n",
            "728 block6l_se_squeeze False\n",
            "729 block6l_se_reshape False\n",
            "730 block6l_se_reduce False\n",
            "731 block6l_se_expand False\n",
            "732 block6l_se_excite False\n",
            "733 block6l_project_conv False\n",
            "734 block6l_project_bn False\n",
            "735 block6l_drop False\n",
            "736 block6l_add False\n",
            "737 block6m_expand_conv False\n",
            "738 block6m_expand_bn False\n",
            "739 block6m_expand_activation False\n",
            "740 block6m_dwconv False\n",
            "741 block6m_bn False\n",
            "742 block6m_activation False\n",
            "743 block6m_se_squeeze False\n",
            "744 block6m_se_reshape False\n",
            "745 block6m_se_reduce False\n",
            "746 block6m_se_expand False\n",
            "747 block6m_se_excite False\n",
            "748 block6m_project_conv False\n",
            "749 block6m_project_bn False\n",
            "750 block6m_drop False\n",
            "751 block6m_add False\n",
            "752 block7a_expand_conv False\n",
            "753 block7a_expand_bn False\n",
            "754 block7a_expand_activation False\n",
            "755 block7a_dwconv False\n",
            "756 block7a_bn False\n",
            "757 block7a_activation False\n",
            "758 block7a_se_squeeze False\n",
            "759 block7a_se_reshape False\n",
            "760 block7a_se_reduce False\n",
            "761 block7a_se_expand False\n",
            "762 block7a_se_excite False\n",
            "763 block7a_project_conv False\n",
            "764 block7a_project_bn False\n",
            "765 block7b_expand_conv False\n",
            "766 block7b_expand_bn False\n",
            "767 block7b_expand_activation False\n",
            "768 block7b_dwconv False\n",
            "769 block7b_bn False\n",
            "770 block7b_activation False\n",
            "771 block7b_se_squeeze False\n",
            "772 block7b_se_reshape False\n",
            "773 block7b_se_reduce False\n",
            "774 block7b_se_expand False\n",
            "775 block7b_se_excite False\n",
            "776 block7b_project_conv False\n",
            "777 block7b_project_bn False\n",
            "778 block7b_drop False\n",
            "779 block7b_add False\n",
            "780 block7c_expand_conv False\n",
            "781 block7c_expand_bn False\n",
            "782 block7c_expand_activation False\n",
            "783 block7c_dwconv False\n",
            "784 block7c_bn False\n",
            "785 block7c_activation False\n",
            "786 block7c_se_squeeze False\n",
            "787 block7c_se_reshape False\n",
            "788 block7c_se_reduce False\n",
            "789 block7c_se_expand False\n",
            "790 block7c_se_excite False\n",
            "791 block7c_project_conv False\n",
            "792 block7c_project_bn False\n",
            "793 block7c_drop False\n",
            "794 block7c_add False\n",
            "795 block7d_expand_conv False\n",
            "796 block7d_expand_bn False\n",
            "797 block7d_expand_activation False\n",
            "798 block7d_dwconv False\n",
            "799 block7d_bn False\n",
            "800 block7d_activation False\n",
            "801 block7d_se_squeeze True\n",
            "802 block7d_se_reshape True\n",
            "803 block7d_se_reduce True\n",
            "804 block7d_se_expand True\n",
            "805 block7d_se_excite True\n",
            "806 block7d_project_conv True\n",
            "807 block7d_project_bn True\n",
            "808 block7d_drop True\n",
            "809 block7d_add True\n",
            "810 top_conv True\n",
            "811 top_bn True\n",
            "812 top_activation True\n"
          ]
        }
      ],
      "source": [
        "# Check which layers are tuneable (trainable)\n",
        "for layer_number, layer in enumerate(base_model.layers):\n",
        "  print(layer_number, layer.name, layer.trainable)"
      ]
    },
    {
      "cell_type": "code",
      "execution_count": null,
      "metadata": {
        "colab": {
          "base_uri": "https://localhost:8080/"
        },
        "id": "0Tzd19pwj0gy",
        "outputId": "7593d0f9-a38f-426f-f89a-5d5a4c920d97"
      },
      "outputs": [
        {
          "name": "stdout",
          "output_type": "stream",
          "text": [
            "12\n"
          ]
        }
      ],
      "source": [
        "#No of trainable layers\n",
        "print(len(model.trainable_variables))"
      ]
    },
    {
      "cell_type": "code",
      "execution_count": null,
      "metadata": {
        "colab": {
          "base_uri": "https://localhost:8080/"
        },
        "id": "8d9gbLBVj78j",
        "outputId": "30e90aee-180d-4f45-954a-f0b64f022644"
      },
      "outputs": [
        {
          "name": "stdout",
          "output_type": "stream",
          "text": [
            "Saving TensorBoard log files to: /gdrive/MyDrive/UOH Assignment Dataset/cdiscount/Tensorboard/TranferLearning_EfficientNetB7_FineTune_10/20220112-060224\n"
          ]
        },
        {
          "name": "stderr",
          "output_type": "stream",
          "text": [
            "/usr/local/lib/python3.7/dist-packages/keras/engine/functional.py:1410: CustomMaskWarning: Custom mask layers require a config and must override get_config. When loading, the custom mask layer must be passed to the custom_objects argument.\n",
            "  layer_config = serialize_layer_fn(layer)\n"
          ]
        },
        {
          "name": "stdout",
          "output_type": "stream",
          "text": [
            "Epoch 3/6\n",
            "\n",
            "Epoch 00003: saving model to /gdrive/MyDrive/UOH Assignment Dataset/cdiscount/CheckPoints/EfficientNet_FineTune/checkpoint.ckpt\n",
            "7734/7734 - 4955s - loss: 2.1587 - accuracy: 0.5444 - val_loss: 2.8086 - val_accuracy: 0.5052 - 4955s/epoch - 641ms/step\n",
            "Epoch 4/6\n",
            "\n",
            "Epoch 00004: saving model to /gdrive/MyDrive/UOH Assignment Dataset/cdiscount/CheckPoints/EfficientNet_FineTune/checkpoint.ckpt\n",
            "7734/7734 - 4930s - loss: 1.5383 - accuracy: 0.6463 - val_loss: 2.8833 - val_accuracy: 0.5138 - 4930s/epoch - 637ms/step\n",
            "Epoch 5/6\n",
            "\n",
            "Epoch 00005: saving model to /gdrive/MyDrive/UOH Assignment Dataset/cdiscount/CheckPoints/EfficientNet_FineTune/checkpoint.ckpt\n",
            "7734/7734 - 4930s - loss: 1.1832 - accuracy: 0.7106 - val_loss: 3.0557 - val_accuracy: 0.5193 - 4930s/epoch - 637ms/step\n",
            "Epoch 6/6\n",
            "\n",
            "Epoch 00006: saving model to /gdrive/MyDrive/UOH Assignment Dataset/cdiscount/CheckPoints/EfficientNet_FineTune/checkpoint.ckpt\n",
            "7734/7734 - 4929s - loss: 0.9424 - accuracy: 0.7594 - val_loss: 3.2505 - val_accuracy: 0.5199 - 4929s/epoch - 637ms/step\n"
          ]
        }
      ],
      "source": [
        "#Define callbacks\n",
        "\n",
        "import datetime\n",
        "\n",
        "\n",
        "dir_name = '/gdrive/MyDrive/UOH Assignment Dataset/cdiscount/Tensorboard'\n",
        "def create_tensorboard_callback(experiment_name):\n",
        "  log_dir = dir_name + \"/\" + experiment_name + \"/\" + datetime.datetime.now().strftime(\"%Y%m%d-%H%M%S\")\n",
        "  tensorboard_callback = tf.keras.callbacks.TensorBoard(\n",
        "      log_dir=log_dir\n",
        "  )\n",
        "  print(f\"Saving TensorBoard log files to: {log_dir}\")\n",
        "  return tensorboard_callback\n",
        "\n",
        "# Setup checkpoint path\n",
        "checkpoint_path = '/gdrive/MyDrive/UOH Assignment Dataset/cdiscount/CheckPoints/EfficientNet_FineTune/checkpoint.ckpt' # note: remember saving directly to Colab is temporary\n",
        "\n",
        "# Create a ModelCheckpoint callback that saves the model's weights only\n",
        "checkpoint_callback = tf.keras.callbacks.ModelCheckpoint(filepath=checkpoint_path,\n",
        "                                                         save_weights_only=True, # set to False to save the entire model\n",
        "                                                         save_best_only=False, # set to True to save only the best model instead of a model every epoch \n",
        "                                                         save_freq=\"epoch\", # save every epoch\n",
        "                                                         verbose=1)\n",
        "\n",
        "\n",
        "# Fine tune for another 5 epochs\n",
        "initial_epochs=3\n",
        "fine_tune_epochs = initial_epochs + 3\n",
        "\n",
        "# Refit the model (same as 'model' except with more trainable layers)\n",
        "history_fine_10_model_3 = model.fit(train_gen,\n",
        "                                               epochs=fine_tune_epochs,\n",
        "                                               validation_data=val_gen,\n",
        "                                               initial_epoch=history_3.epoch[-1], # start from previous last epoch\n",
        "                                               \n",
        "                                               callbacks=[checkpoint_callback,create_tensorboard_callback(\"TranferLearning_EfficientNetB7_FineTune_10\")], # name experim\n",
        "                                              verbose=2 \n",
        ")\n",
        "\n",
        "\n",
        "\n"
      ]
    },
    {
      "cell_type": "code",
      "execution_count": null,
      "metadata": {
        "id": "I8BB8KFJnX3P"
      },
      "outputs": [],
      "source": [
        "def compare_historys(original_history, new_history, initial_epochs=5):\n",
        "    \"\"\"\n",
        "    Compares two model history objects.\n",
        "    \"\"\"\n",
        "    # Get original history measurements\n",
        "    acc = original_history.history[\"accuracy\"]\n",
        "    loss = original_history.history[\"loss\"]\n",
        "\n",
        "    print(len(acc))\n",
        "\n",
        "    val_acc = original_history.history[\"val_accuracy\"]\n",
        "    val_loss = original_history.history[\"val_loss\"]\n",
        "\n",
        "    # Combine original history with new history\n",
        "    total_acc = acc + new_history.history[\"accuracy\"]\n",
        "    total_loss = loss + new_history.history[\"loss\"]\n",
        "\n",
        "    total_val_acc = val_acc + new_history.history[\"val_accuracy\"]\n",
        "    total_val_loss = val_loss + new_history.history[\"val_loss\"]\n",
        "\n",
        "    print(len(total_acc))\n",
        "    print(total_acc)\n",
        "\n",
        "    # Make plots\n",
        "    plt.figure(figsize=(8, 8))\n",
        "    plt.subplot(2, 1, 1)\n",
        "    plt.plot(total_acc, label='Training Accuracy')\n",
        "    plt.plot(total_val_acc, label='Validation Accuracy')\n",
        "    plt.plot([initial_epochs-1, initial_epochs-1],\n",
        "              plt.ylim(), label='Start Fine Tuning') # reshift plot around epochs\n",
        "    plt.legend(loc='lower right')\n",
        "    plt.title('Training and Validation Accuracy')\n",
        "\n",
        "    plt.subplot(2, 1, 2)\n",
        "    plt.plot(total_loss, label='Training Loss')\n",
        "    plt.plot(total_val_loss, label='Validation Loss')\n",
        "    plt.plot([initial_epochs-1, initial_epochs-1],\n",
        "              plt.ylim(), label='Start Fine Tuning') # reshift plot around epochs\n",
        "    plt.legend(loc='upper right')\n",
        "    plt.title('Training and Validation Loss')\n",
        "    plt.xlabel('epoch')\n",
        "    plt.show()"
      ]
    },
    {
      "cell_type": "code",
      "execution_count": null,
      "metadata": {
        "colab": {
          "base_uri": "https://localhost:8080/",
          "height": 565
        },
        "id": "6ASkS1uUndrQ",
        "outputId": "032cd258-0749-440d-b0e6-3be94d2c467f"
      },
      "outputs": [
        {
          "name": "stdout",
          "output_type": "stream",
          "text": [
            "3\n",
            "7\n",
            "[0.42338934540748596, 0.510116457939148, 0.5532461404800415, 0.5443747639656067, 0.6462798714637756, 0.7106122374534607, 0.7593989968299866]\n"
          ]
        },
        {
          "data": {
            "image/png": "[encoded data removed]",
            "text/plain": [
              "<Figure size 576x576 with 2 Axes>"
            ]
          },
          "metadata": {},
          "output_type": "display_data"
        }
      ],
      "source": [
        "compare_historys(original_history=history_3, \n",
        "                 new_history=history_fine_10_model_3, \n",
        "                 initial_epochs=3)"
      ]
    }
  ],
  "metadata": {
    "accelerator": "GPU",
    "colab": {
      "background_execution": "on",
      "collapsed_sections": [],
      "machine_shape": "hm",
      "name": "Cdiscount_project-RESNET101_V3_SK .ipynb",
      "provenance": [],
      "include_colab_link": true
    },
    "kernelspec": {
      "display_name": "Python 3",
      "name": "python3"
    },
    "language_info": {
      "name": "python"
    },
    "widgets": {
      "application/vnd.jupyter.widget-state+json": {
        "2d91756e41c8459286359c171a5e160b": {
          "model_module": "@jupyter-widgets/controls",
          "model_module_version": "1.5.0",
          "model_name": "LabelModel",
          "state": {
            "_dom_classes": [],
            "_model_module": "@jupyter-widgets/controls",
            "_model_module_version": "1.5.0",
            "_model_name": "LabelModel",
            "_view_count": null,
            "_view_module": "@jupyter-widgets/controls",
            "_view_module_version": "1.5.0",
            "_view_name": "LabelView",
            "description": "",
            "description_tooltip": null,
            "layout": "IPY_MODEL_719f4e698e5140418463fa2de520ad67",
            "placeholder": "​",
            "style": "IPY_MODEL_4de959716089459aa9209c16712cd81a",
            "value": " 0.01MB of 0.01MB uploaded (0.00MB deduped)\r"
          }
        },
        "4baf6ec9ad9748799ebfead9640bdd96": {
          "model_module": "@jupyter-widgets/controls",
          "model_module_version": "1.5.0",
          "model_name": "VBoxModel",
          "state": {
            "_dom_classes": [],
            "_model_module": "@jupyter-widgets/controls",
            "_model_module_version": "1.5.0",
            "_model_name": "VBoxModel",
            "_view_count": null,
            "_view_module": "@jupyter-widgets/controls",
            "_view_module_version": "1.5.0",
            "_view_name": "VBoxView",
            "box_style": "",
            "children": [
              "IPY_MODEL_2d91756e41c8459286359c171a5e160b",
              "IPY_MODEL_642da174990041d6be7062b7e2d6e5a6"
            ],
            "layout": "IPY_MODEL_8347117c5f3d4983a4da9bf2a6adba3f"
          }
        },
        "4de959716089459aa9209c16712cd81a": {
          "model_module": "@jupyter-widgets/controls",
          "model_module_version": "1.5.0",
          "model_name": "DescriptionStyleModel",
          "state": {
            "_model_module": "@jupyter-widgets/controls",
            "_model_module_version": "1.5.0",
            "_model_name": "DescriptionStyleModel",
            "_view_count": null,
            "_view_module": "@jupyter-widgets/base",
            "_view_module_version": "1.2.0",
            "_view_name": "StyleView",
            "description_width": ""
          }
        },
        "642da174990041d6be7062b7e2d6e5a6": {
          "model_module": "@jupyter-widgets/controls",
          "model_module_version": "1.5.0",
          "model_name": "FloatProgressModel",
          "state": {
            "_dom_classes": [],
            "_model_module": "@jupyter-widgets/controls",
            "_model_module_version": "1.5.0",
            "_model_name": "FloatProgressModel",
            "_view_count": null,
            "_view_module": "@jupyter-widgets/controls",
            "_view_module_version": "1.5.0",
            "_view_name": "ProgressView",
            "bar_style": "",
            "description": "",
            "description_tooltip": null,
            "layout": "IPY_MODEL_78ab9b4f0fe74f278dcf1a1413f8ae8c",
            "max": 1,
            "min": 0,
            "orientation": "horizontal",
            "style": "IPY_MODEL_fb65488acd794ea890dc953698c99f30",
            "value": 1
          }
        },
        "719f4e698e5140418463fa2de520ad67": {
          "model_module": "@jupyter-widgets/base",
          "model_module_version": "1.2.0",
          "model_name": "LayoutModel",
          "state": {
            "_model_module": "@jupyter-widgets/base",
            "_model_module_version": "1.2.0",
            "_model_name": "LayoutModel",
            "_view_count": null,
            "_view_module": "@jupyter-widgets/base",
            "_view_module_version": "1.2.0",
            "_view_name": "LayoutView",
            "align_content": null,
            "align_items": null,
            "align_self": null,
            "border": null,
            "bottom": null,
            "display": null,
            "flex": null,
            "flex_flow": null,
            "grid_area": null,
            "grid_auto_columns": null,
            "grid_auto_flow": null,
            "grid_auto_rows": null,
            "grid_column": null,
            "grid_gap": null,
            "grid_row": null,
            "grid_template_areas": null,
            "grid_template_columns": null,
            "grid_template_rows": null,
            "height": null,
            "justify_content": null,
            "justify_items": null,
            "left": null,
            "margin": null,
            "max_height": null,
            "max_width": null,
            "min_height": null,
            "min_width": null,
            "object_fit": null,
            "object_position": null,
            "order": null,
            "overflow": null,
            "overflow_x": null,
            "overflow_y": null,
            "padding": null,
            "right": null,
            "top": null,
            "visibility": null,
            "width": null
          }
        },
        "78ab9b4f0fe74f278dcf1a1413f8ae8c": {
          "model_module": "@jupyter-widgets/base",
          "model_module_version": "1.2.0",
          "model_name": "LayoutModel",
          "state": {
            "_model_module": "@jupyter-widgets/base",
            "_model_module_version": "1.2.0",
            "_model_name": "LayoutModel",
            "_view_count": null,
            "_view_module": "@jupyter-widgets/base",
            "_view_module_version": "1.2.0",
            "_view_name": "LayoutView",
            "align_content": null,
            "align_items": null,
            "align_self": null,
            "border": null,
            "bottom": null,
            "display": null,
            "flex": null,
            "flex_flow": null,
            "grid_area": null,
            "grid_auto_columns": null,
            "grid_auto_flow": null,
            "grid_auto_rows": null,
            "grid_column": null,
            "grid_gap": null,
            "grid_row": null,
            "grid_template_areas": null,
            "grid_template_columns": null,
            "grid_template_rows": null,
            "height": null,
            "justify_content": null,
            "justify_items": null,
            "left": null,
            "margin": null,
            "max_height": null,
            "max_width": null,
            "min_height": null,
            "min_width": null,
            "object_fit": null,
            "object_position": null,
            "order": null,
            "overflow": null,
            "overflow_x": null,
            "overflow_y": null,
            "padding": null,
            "right": null,
            "top": null,
            "visibility": null,
            "width": null
          }
        },
        "8347117c5f3d4983a4da9bf2a6adba3f": {
          "model_module": "@jupyter-widgets/base",
          "model_module_version": "1.2.0",
          "model_name": "LayoutModel",
          "state": {
            "_model_module": "@jupyter-widgets/base",
            "_model_module_version": "1.2.0",
            "_model_name": "LayoutModel",
            "_view_count": null,
            "_view_module": "@jupyter-widgets/base",
            "_view_module_version": "1.2.0",
            "_view_name": "LayoutView",
            "align_content": null,
            "align_items": null,
            "align_self": null,
            "border": null,
            "bottom": null,
            "display": null,
            "flex": null,
            "flex_flow": null,
            "grid_area": null,
            "grid_auto_columns": null,
            "grid_auto_flow": null,
            "grid_auto_rows": null,
            "grid_column": null,
            "grid_gap": null,
            "grid_row": null,
            "grid_template_areas": null,
            "grid_template_columns": null,
            "grid_template_rows": null,
            "height": null,
            "justify_content": null,
            "justify_items": null,
            "left": null,
            "margin": null,
            "max_height": null,
            "max_width": null,
            "min_height": null,
            "min_width": null,
            "object_fit": null,
            "object_position": null,
            "order": null,
            "overflow": null,
            "overflow_x": null,
            "overflow_y": null,
            "padding": null,
            "right": null,
            "top": null,
            "visibility": null,
            "width": null
          }
        },
        "fb65488acd794ea890dc953698c99f30": {
          "model_module": "@jupyter-widgets/controls",
          "model_module_version": "1.5.0",
          "model_name": "ProgressStyleModel",
          "state": {
            "_model_module": "@jupyter-widgets/controls",
            "_model_module_version": "1.5.0",
            "_model_name": "ProgressStyleModel",
            "_view_count": null,
            "_view_module": "@jupyter-widgets/base",
            "_view_module_version": "1.2.0",
            "_view_name": "StyleView",
            "bar_color": null,
            "description_width": ""
          }
        }
      }
    }
  },
  "nbformat": 4,
  "nbformat_minor": 0
}