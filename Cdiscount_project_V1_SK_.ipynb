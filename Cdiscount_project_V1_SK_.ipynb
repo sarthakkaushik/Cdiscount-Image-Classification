{
  "nbformat": 4,
  "nbformat_minor": 0,
  "metadata": {
    "colab": {
      "name": "Cdiscount_project_V1_SK .ipynb",
      "provenance": [],
      "machine_shape": "hm",
      "include_colab_link": true
    },
    "kernelspec": {
      "name": "python3",
      "display_name": "Python 3"
    },
    "language_info": {
      "name": "python"
    },
    "accelerator": "GPU"
  },
  "cells": [
    {
      "cell_type": "markdown",
      "metadata": {
        "id": "view-in-github",
        "colab_type": "text"
      },
      "source": [
        "<a href=\"https://colab.research.google.com/github/sarthakkaushik/Cdiscount-Image-Classification/blob/main/Cdiscount_project_V1_SK_.ipynb\" target=\"_parent\"><img src=\"https://colab.research.google.com/assets/colab-badge.svg\" alt=\"Open In Colab\"/></a>"
      ]
    },
    {
      "cell_type": "markdown",
      "source": [
        "#Initial Setup"
      ],
      "metadata": {
        "id": "PMmnAdZXHWrl"
      }
    },
    {
      "cell_type": "code",
      "metadata": {
        "colab": {
          "base_uri": "https://localhost:8080/"
        },
        "id": "cUgxjaMV3_i2",
        "outputId": "ae6e06ee-a036-41ea-9dfc-8b8e24675455"
      },
      "source": [
        "# Code to mount google drive in case you are loading the data from your google drive\n",
        "from google.colab import drive\n",
        "drive.mount('/gdrive')\n",
        "%cd /gdrive"
      ],
      "execution_count": 1,
      "outputs": [
        {
          "output_type": "stream",
          "name": "stdout",
          "text": [
            "Mounted at /gdrive\n",
            "/gdrive\n"
          ]
        }
      ]
    },
    {
      "cell_type": "code",
      "source": [
        "# Are we using a GPU? (if not & you're using Google Colab, go to Runtime -> Change Runtime Type -> Harware Accelerator: GPU )\n",
        "!nvidia-smi"
      ],
      "metadata": {
        "colab": {
          "base_uri": "https://localhost:8080/"
        },
        "id": "VnpqLRJlorX2",
        "outputId": "5d1317bd-69fe-43af-e482-2c3760500edd"
      },
      "execution_count": 2,
      "outputs": [
        {
          "output_type": "stream",
          "name": "stdout",
          "text": [
            "Wed Jan 12 00:46:22 2022       \n",
            "+-----------------------------------------------------------------------------+\n",
            "| NVIDIA-SMI 495.46       Driver Version: 460.32.03    CUDA Version: 11.2     |\n",
            "|-------------------------------+----------------------+----------------------+\n",
            "| GPU  Name        Persistence-M| Bus-Id        Disp.A | Volatile Uncorr. ECC |\n",
            "| Fan  Temp  Perf  Pwr:Usage/Cap|         Memory-Usage | GPU-Util  Compute M. |\n",
            "|                               |                      |               MIG M. |\n",
            "|===============================+======================+======================|\n",
            "|   0  Tesla P100-PCIE...  Off  | 00000000:00:04.0 Off |                    0 |\n",
            "| N/A   33C    P0    27W / 250W |      0MiB / 16280MiB |      0%      Default |\n",
            "|                               |                      |                  N/A |\n",
            "+-------------------------------+----------------------+----------------------+\n",
            "                                                                               \n",
            "+-----------------------------------------------------------------------------+\n",
            "| Processes:                                                                  |\n",
            "|  GPU   GI   CI        PID   Type   Process name                  GPU Memory |\n",
            "|        ID   ID                                                   Usage      |\n",
            "|=============================================================================|\n",
            "|  No running processes found                                                 |\n",
            "+-----------------------------------------------------------------------------+\n"
          ]
        }
      ]
    },
    {
      "cell_type": "code",
      "metadata": {
        "id": "7mMwclxn4MgO"
      },
      "source": [
        "data_path = '/gdrive/MyDrive/UOH Assignment Dataset/cdiscount'"
      ],
      "execution_count": 3,
      "outputs": []
    },
    {
      "cell_type": "code",
      "metadata": {
        "colab": {
          "base_uri": "https://localhost:8080/"
        },
        "id": "zCeeEYNw4Pzs",
        "outputId": "ce252916-41ae-4ccf-9266-2d865321922f"
      },
      "source": [
        "import os \n",
        "data_path = '/gdrive/MyDrive/UOH Assignment Dataset/cdiscount'\n",
        "os.chdir(data_path)\n",
        "print(os.getcwd())"
      ],
      "execution_count": 4,
      "outputs": [
        {
          "output_type": "stream",
          "name": "stdout",
          "text": [
            "/gdrive/MyDrive/UOH Assignment Dataset/cdiscount\n"
          ]
        }
      ]
    },
    {
      "cell_type": "code",
      "metadata": {
        "colab": {
          "base_uri": "https://localhost:8080/"
        },
        "id": "W-G0-rP1USWi",
        "outputId": "f80230cd-0354-48df-c205-21e79f33b67d"
      },
      "source": [
        "import os, sys, math, io\n",
        "import numpy as np\n",
        "import pandas as pd\n",
        "import multiprocessing as mp\n",
        "import bson\n",
        "import struct\n",
        "\n",
        "%matplotlib inline\n",
        "import matplotlib.pyplot as plt\n",
        "\n",
        "import keras\n",
        "from keras.preprocessing.image import load_img, img_to_array\n",
        "import tensorflow as tf\n",
        "\n",
        "from collections import defaultdict\n",
        "from tqdm import *\n",
        "\n",
        "# Input data files are available in the \"../input/\" directory.\n",
        "# For example, running this (by clicking run or pressing Shift+Enter) will list the files in the input directory\n",
        "\n",
        "from subprocess import check_output\n",
        "print(check_output([\"ls\", \"../cdiscount\"]).decode(\"utf8\"))\n",
        "# Any results you write to the current directory are saved as output."
      ],
      "execution_count": 5,
      "outputs": [
        {
          "output_type": "stream",
          "name": "stdout",
          "text": [
            "categories.csv\n",
            "category_names.csv\n",
            "CheckPoints\n",
            "file.h5\n",
            "helper.py\n",
            "helper.py.1\n",
            "helper.py.2\n",
            "helper.py.3\n",
            "__pycache__\n",
            "sample_submission.csv\n",
            "Tensorboard\n",
            "test.bson\n",
            "train.bson\n",
            "train_example.bson\n",
            "train_images.csv\n",
            "train_offsets.csv\n",
            "train_TFrecords.tfrecords\n",
            "val_images.csv\n",
            "\n"
          ]
        }
      ]
    },
    {
      "cell_type": "code",
      "metadata": {
        "id": "beOjLrdFU7hw"
      },
      "source": [
        "data_dir = \"../cdiscount/\"\n",
        "\n",
        "train_bson_path = os.path.join(data_dir, \"train.bson\")\n",
        "num_train_products = 7069896\n",
        "\n",
        "# train_bson_path = os.path.join(data_dir, \"train_example.bson\")\n",
        "# num_train_products = 82\n",
        "\n",
        "test_bson_path = os.path.join(data_dir, \"test.bson\")\n",
        "num_test_products = 1768182"
      ],
      "execution_count": 6,
      "outputs": []
    },
    {
      "cell_type": "markdown",
      "metadata": {
        "id": "6acWRPNzVOhI"
      },
      "source": [
        "# Create lookup tables"
      ]
    },
    {
      "cell_type": "code",
      "metadata": {
        "colab": {
          "base_uri": "https://localhost:8080/",
          "height": 238
        },
        "id": "m06dgAMhVSOl",
        "outputId": "da32b9b0-7fc1-4351-95d7-fbe4b8547e44"
      },
      "source": [
        "#The generator uses several lookup tables that describe the layout of the BSON file, which products and images are part of the training/validation sets, and so on.\n",
        "\n",
        "#You only need to generate these tables once, as they get saved to CSV files.\n",
        "\n",
        "#Lookup table for categories\n",
        "categories_path = os.path.join(data_dir, \"category_names.csv\")\n",
        "categories_df = pd.read_csv(categories_path, index_col=\"category_id\")\n",
        "\n",
        "# Maps the category_id to an integer index. This is what we'll use to\n",
        "# one-hot encode the labels.\n",
        "categories_df[\"category_idx\"] = pd.Series(range(len(categories_df)), index=categories_df.index)\n",
        "\n",
        "# categories_df.to_csv(\"categories.csv\")\n",
        "categories_df.head()"
      ],
      "execution_count": 7,
      "outputs": [
        {
          "output_type": "execute_result",
          "data": {
            "text/html": [
              "\n",
              "  <div id=\"df-8567b708-9f87-44b8-adea-21a0714f5fc5\">\n",
              "    <div class=\"colab-df-container\">\n",
              "      <div>\n",
              "<style scoped>\n",
              "    .dataframe tbody tr th:only-of-type {\n",
              "        vertical-align: middle;\n",
              "    }\n",
              "\n",
              "    .dataframe tbody tr th {\n",
              "        vertical-align: top;\n",
              "    }\n",
              "\n",
              "    .dataframe thead th {\n",
              "        text-align: right;\n",
              "    }\n",
              "</style>\n",
              "<table border=\"1\" class=\"dataframe\">\n",
              "  <thead>\n",
              "    <tr style=\"text-align: right;\">\n",
              "      <th></th>\n",
              "      <th>category_level1</th>\n",
              "      <th>category_level2</th>\n",
              "      <th>category_level3</th>\n",
              "      <th>category_idx</th>\n",
              "    </tr>\n",
              "    <tr>\n",
              "      <th>category_id</th>\n",
              "      <th></th>\n",
              "      <th></th>\n",
              "      <th></th>\n",
              "      <th></th>\n",
              "    </tr>\n",
              "  </thead>\n",
              "  <tbody>\n",
              "    <tr>\n",
              "      <th>1000021794</th>\n",
              "      <td>ABONNEMENT / SERVICES</td>\n",
              "      <td>CARTE PREPAYEE</td>\n",
              "      <td>CARTE PREPAYEE MULTIMEDIA</td>\n",
              "      <td>0</td>\n",
              "    </tr>\n",
              "    <tr>\n",
              "      <th>1000012764</th>\n",
              "      <td>AMENAGEMENT URBAIN - VOIRIE</td>\n",
              "      <td>AMENAGEMENT URBAIN</td>\n",
              "      <td>ABRI FUMEUR</td>\n",
              "      <td>1</td>\n",
              "    </tr>\n",
              "    <tr>\n",
              "      <th>1000012776</th>\n",
              "      <td>AMENAGEMENT URBAIN - VOIRIE</td>\n",
              "      <td>AMENAGEMENT URBAIN</td>\n",
              "      <td>ABRI VELO - ABRI MOTO</td>\n",
              "      <td>2</td>\n",
              "    </tr>\n",
              "    <tr>\n",
              "      <th>1000012768</th>\n",
              "      <td>AMENAGEMENT URBAIN - VOIRIE</td>\n",
              "      <td>AMENAGEMENT URBAIN</td>\n",
              "      <td>FONTAINE A EAU</td>\n",
              "      <td>3</td>\n",
              "    </tr>\n",
              "    <tr>\n",
              "      <th>1000012755</th>\n",
              "      <td>AMENAGEMENT URBAIN - VOIRIE</td>\n",
              "      <td>SIGNALETIQUE</td>\n",
              "      <td>PANNEAU D'INFORMATION EXTERIEUR</td>\n",
              "      <td>4</td>\n",
              "    </tr>\n",
              "  </tbody>\n",
              "</table>\n",
              "</div>\n",
              "      <button class=\"colab-df-convert\" onclick=\"convertToInteractive('df-8567b708-9f87-44b8-adea-21a0714f5fc5')\"\n",
              "              title=\"Convert this dataframe to an interactive table.\"\n",
              "              style=\"display:none;\">\n",
              "        \n",
              "  <svg xmlns=\"http://www.w3.org/2000/svg\" height=\"24px\"viewBox=\"0 0 24 24\"\n",
              "       width=\"24px\">\n",
              "    <path d=\"M0 0h24v24H0V0z\" fill=\"none\"/>\n",
              "    <path d=\"M18.56 5.44l.94 2.06.94-2.06 2.06-.94-2.06-.94-.94-2.06-.94 2.06-2.06.94zm-11 1L8.5 8.5l.94-2.06 2.06-.94-2.06-.94L8.5 2.5l-.94 2.06-2.06.94zm10 10l.94 2.06.94-2.06 2.06-.94-2.06-.94-.94-2.06-.94 2.06-2.06.94z\"/><path d=\"M17.41 7.96l-1.37-1.37c-.4-.4-.92-.59-1.43-.59-.52 0-1.04.2-1.43.59L10.3 9.45l-7.72 7.72c-.78.78-.78 2.05 0 2.83L4 21.41c.39.39.9.59 1.41.59.51 0 1.02-.2 1.41-.59l7.78-7.78 2.81-2.81c.8-.78.8-2.07 0-2.86zM5.41 20L4 18.59l7.72-7.72 1.47 1.35L5.41 20z\"/>\n",
              "  </svg>\n",
              "      </button>\n",
              "      \n",
              "  <style>\n",
              "    .colab-df-container {\n",
              "      display:flex;\n",
              "      flex-wrap:wrap;\n",
              "      gap: 12px;\n",
              "    }\n",
              "\n",
              "    .colab-df-convert {\n",
              "      background-color: #E8F0FE;\n",
              "      border: none;\n",
              "      border-radius: 50%;\n",
              "      cursor: pointer;\n",
              "      display: none;\n",
              "      fill: #1967D2;\n",
              "      height: 32px;\n",
              "      padding: 0 0 0 0;\n",
              "      width: 32px;\n",
              "    }\n",
              "\n",
              "    .colab-df-convert:hover {\n",
              "      background-color: #E2EBFA;\n",
              "      box-shadow: 0px 1px 2px rgba(60, 64, 67, 0.3), 0px 1px 3px 1px rgba(60, 64, 67, 0.15);\n",
              "      fill: #174EA6;\n",
              "    }\n",
              "\n",
              "    [theme=dark] .colab-df-convert {\n",
              "      background-color: #3B4455;\n",
              "      fill: #D2E3FC;\n",
              "    }\n",
              "\n",
              "    [theme=dark] .colab-df-convert:hover {\n",
              "      background-color: #434B5C;\n",
              "      box-shadow: 0px 1px 3px 1px rgba(0, 0, 0, 0.15);\n",
              "      filter: drop-shadow(0px 1px 2px rgba(0, 0, 0, 0.3));\n",
              "      fill: #FFFFFF;\n",
              "    }\n",
              "  </style>\n",
              "\n",
              "      <script>\n",
              "        const buttonEl =\n",
              "          document.querySelector('#df-8567b708-9f87-44b8-adea-21a0714f5fc5 button.colab-df-convert');\n",
              "        buttonEl.style.display =\n",
              "          google.colab.kernel.accessAllowed ? 'block' : 'none';\n",
              "\n",
              "        async function convertToInteractive(key) {\n",
              "          const element = document.querySelector('#df-8567b708-9f87-44b8-adea-21a0714f5fc5');\n",
              "          const dataTable =\n",
              "            await google.colab.kernel.invokeFunction('convertToInteractive',\n",
              "                                                     [key], {});\n",
              "          if (!dataTable) return;\n",
              "\n",
              "          const docLinkHtml = 'Like what you see? Visit the ' +\n",
              "            '<a target=\"_blank\" href=https://colab.research.google.com/notebooks/data_table.ipynb>data table notebook</a>'\n",
              "            + ' to learn more about interactive tables.';\n",
              "          element.innerHTML = '';\n",
              "          dataTable['output_type'] = 'display_data';\n",
              "          await google.colab.output.renderOutput(dataTable, element);\n",
              "          const docLink = document.createElement('div');\n",
              "          docLink.innerHTML = docLinkHtml;\n",
              "          element.appendChild(docLink);\n",
              "        }\n",
              "      </script>\n",
              "    </div>\n",
              "  </div>\n",
              "  "
            ],
            "text/plain": [
              "                         category_level1  ... category_idx\n",
              "category_id                               ...             \n",
              "1000021794         ABONNEMENT / SERVICES  ...            0\n",
              "1000012764   AMENAGEMENT URBAIN - VOIRIE  ...            1\n",
              "1000012776   AMENAGEMENT URBAIN - VOIRIE  ...            2\n",
              "1000012768   AMENAGEMENT URBAIN - VOIRIE  ...            3\n",
              "1000012755   AMENAGEMENT URBAIN - VOIRIE  ...            4\n",
              "\n",
              "[5 rows x 4 columns]"
            ]
          },
          "metadata": {},
          "execution_count": 7
        }
      ]
    },
    {
      "cell_type": "code",
      "metadata": {
        "id": "UwiPdlqsVwcK"
      },
      "source": [
        "#Create dictionaries for quick lookup of category_id to category_idx mapping.\n",
        "def make_category_tables():\n",
        "    cat2idx = {}\n",
        "    idx2cat = {}\n",
        "    i=0\n",
        "    for ir in categories_df.itertuples():\n",
        "            \n",
        "        category_id = ir[0]\n",
        "        category_idx = ir[4]\n",
        "        cat2idx[category_id] = category_idx\n",
        "        idx2cat[category_idx] = category_id\n",
        "      \n",
        "    return cat2idx, idx2cat"
      ],
      "execution_count": 8,
      "outputs": []
    },
    {
      "cell_type": "code",
      "metadata": {
        "id": "H5NigDwAWJnb"
      },
      "source": [
        "\n",
        "cat2idx, idx2cat = make_category_tables()"
      ],
      "execution_count": 9,
      "outputs": []
    },
    {
      "cell_type": "code",
      "metadata": {
        "colab": {
          "base_uri": "https://localhost:8080/"
        },
        "id": "vHZQapeMWNa5",
        "outputId": "36a2f74d-0d8e-440e-db62-b9ca2845f5d0"
      },
      "source": [
        "# Test if it works:\n",
        "cat2idx[1000012755], idx2cat[4]"
      ],
      "execution_count": 10,
      "outputs": [
        {
          "output_type": "execute_result",
          "data": {
            "text/plain": [
              "(4, 1000012755)"
            ]
          },
          "metadata": {},
          "execution_count": 10
        }
      ]
    },
    {
      "cell_type": "markdown",
      "source": [
        "#One time File Creation"
      ],
      "metadata": {
        "id": "NmheDqasHiZ1"
      }
    },
    {
      "cell_type": "code",
      "metadata": {
        "id": "cXUH3VXjWn4M"
      },
      "source": [
        "#this takes a few minutes to execute, but we only have to do it once (we'll save the table to a CSV file afterwards).\n",
        "def read_bson(bson_path, num_records, with_categories):\n",
        "    rows = {}\n",
        "    with open(bson_path, \"rb\") as f, tqdm(total=num_records) as pbar:\n",
        "        offset = 0\n",
        "        while True:\n",
        "            item_length_bytes = f.read(4)\n",
        "            if len(item_length_bytes) == 0:\n",
        "                break\n",
        "\n",
        "            length = struct.unpack(\"<i\", item_length_bytes)[0]\n",
        "\n",
        "            f.seek(offset)\n",
        "            item_data = f.read(length)\n",
        "            assert len(item_data) == length\n",
        "\n",
        "            item = bson.BSON.decode(item_data)\n",
        "            product_id = item[\"_id\"]\n",
        "            num_imgs = len(item[\"imgs\"])\n",
        "\n",
        "            row = [num_imgs, offset, length]\n",
        "            if with_categories:\n",
        "                row += [item[\"category_id\"]]\n",
        "            rows[product_id] = row\n",
        "\n",
        "            offset += length\n",
        "            f.seek(offset)\n",
        "            pbar.update()\n",
        "\n",
        "    columns = [\"num_imgs\", \"offset\", \"length\"]\n",
        "    if with_categories:\n",
        "        columns += [\"category_id\"]\n",
        "\n",
        "    df = pd.DataFrame.from_dict(rows, orient=\"index\")\n",
        "    df.index.name = \"product_id\"\n",
        "    df.columns = columns\n",
        "    df.sort_index(inplace=True)\n",
        "    return df"
      ],
      "execution_count": 12,
      "outputs": []
    },
    {
      "cell_type": "code",
      "metadata": {
        "id": "N7JP19l6W505"
      },
      "source": [
        "%time train_offsets_df = read_bson(train_bson_path, num_records=num_train_products, with_categories=True)"
      ],
      "execution_count": null,
      "outputs": []
    },
    {
      "cell_type": "code",
      "metadata": {
        "id": "yzzV-XRibjqN"
      },
      "source": [
        "train_offsets_df.columns"
      ],
      "execution_count": null,
      "outputs": []
    },
    {
      "cell_type": "code",
      "metadata": {
        "id": "yRDImQORb3_N"
      },
      "source": [
        "train_offsets_df.head()"
      ],
      "execution_count": null,
      "outputs": []
    },
    {
      "cell_type": "code",
      "metadata": {
        "id": "KzqWjJx3bsB9"
      },
      "source": [
        "train_offsets_df['category_id'].value_counts()"
      ],
      "execution_count": null,
      "outputs": []
    },
    {
      "cell_type": "code",
      "metadata": {
        "id": "_g7cnQaCcGoj"
      },
      "source": [
        "train_offsets_df['num_imgs'].value_counts()"
      ],
      "execution_count": null,
      "outputs": []
    },
    {
      "cell_type": "code",
      "metadata": {
        "id": "g5a9QV8jdVMJ"
      },
      "source": [
        "train_offsets_df.to_csv(\"train_offsets.csv\")"
      ],
      "execution_count": null,
      "outputs": []
    },
    {
      "cell_type": "markdown",
      "metadata": {
        "id": "RT-nR9sph9dq"
      },
      "source": [
        "##Create a random train/validation split\n",
        "We split on products, not on individual images. Since some of the categories only have a few products, we do the split separately for each category.\n",
        "\n",
        "This creates two new tables, one for the training images and one for the validation images. There is a row for every single image, so if a product has more than one image it occurs more than once in the table."
      ]
    },
    {
      "cell_type": "code",
      "metadata": {
        "id": "8TqA6V3Yh85A"
      },
      "source": [
        "def make_val_set(df, split_percentage=0.2, drop_percentage=0.):\n",
        "    # Find the product_ids for each category.\n",
        "    category_dict = defaultdict(list)\n",
        "    for ir in tqdm(df.itertuples()):\n",
        "        category_dict[ir[4]].append(ir[0])\n",
        "\n",
        "    train_list = []\n",
        "    val_list = []\n",
        "    with tqdm(total=len(df)) as pbar:\n",
        "        for category_id, product_ids in category_dict.items():\n",
        "            category_idx = cat2idx[category_id]\n",
        "\n",
        "            # Randomly remove products to make the dataset smaller.\n",
        "            keep_size = int(len(product_ids) * (1. - drop_percentage))\n",
        "            if keep_size < len(product_ids):\n",
        "                product_ids = np.random.choice(product_ids, keep_size, replace=False)\n",
        "\n",
        "            # Randomly choose the products that become part of the validation set.\n",
        "            val_size = int(len(product_ids) * split_percentage)\n",
        "            if val_size > 0:\n",
        "                val_ids = np.random.choice(product_ids, val_size, replace=False)\n",
        "            else:\n",
        "                val_ids = []\n",
        "\n",
        "            # Create a new row for each image.\n",
        "            for product_id in product_ids:\n",
        "                row = [product_id, category_idx]\n",
        "                for img_idx in range(df.loc[product_id, \"num_imgs\"]):\n",
        "                    if product_id in val_ids:\n",
        "                        val_list.append(row + [img_idx])\n",
        "                    else:\n",
        "                        train_list.append(row + [img_idx])\n",
        "                pbar.update()\n",
        "                \n",
        "    columns = [\"product_id\", \"category_idx\", \"img_idx\"]\n",
        "    train_df = pd.DataFrame(train_list, columns=columns)\n",
        "    val_df = pd.DataFrame(val_list, columns=columns)   \n",
        "    return train_df, val_df"
      ],
      "execution_count": 11,
      "outputs": []
    },
    {
      "cell_type": "code",
      "metadata": {
        "id": "4yxrrJLxiI03"
      },
      "source": [
        "train_images_df, val_images_df = make_val_set(train_offsets_df, split_percentage=0.2, \n",
        "                                              drop_percentage=0.9)"
      ],
      "execution_count": null,
      "outputs": []
    },
    {
      "cell_type": "code",
      "metadata": {
        "id": "kbNnWKYsiN4Q"
      },
      "source": [
        "train_images_df.head()"
      ],
      "execution_count": null,
      "outputs": []
    },
    {
      "cell_type": "code",
      "metadata": {
        "id": "1Nkti314iPk9"
      },
      "source": [
        "val_images_df.head()"
      ],
      "execution_count": null,
      "outputs": []
    },
    {
      "cell_type": "code",
      "metadata": {
        "id": "6J284w4qiRjD"
      },
      "source": [
        "print(\"Number of training images:\", len(train_images_df))\n",
        "print(\"Number of validation images:\", len(val_images_df))\n",
        "print(\"Total images:\", len(train_images_df) + len(val_images_df))"
      ],
      "execution_count": null,
      "outputs": []
    },
    {
      "cell_type": "code",
      "metadata": {
        "id": "hPsENxNyiX8M"
      },
      "source": [
        "len(train_images_df[\"category_idx\"].unique()), len(val_images_df[\"category_idx\"].unique())"
      ],
      "execution_count": null,
      "outputs": []
    },
    {
      "cell_type": "code",
      "metadata": {
        "id": "3KX3hEyYib_C"
      },
      "source": [
        "train_images_df.to_csv(\"train_images.csv\")\n",
        "val_images_df.to_csv(\"val_images.csv\")"
      ],
      "execution_count": null,
      "outputs": []
    },
    {
      "cell_type": "markdown",
      "metadata": {
        "id": "prrddIqvifSA"
      },
      "source": [
        "##Part 2: The generator"
      ]
    },
    {
      "cell_type": "code",
      "metadata": {
        "colab": {
          "base_uri": "https://localhost:8080/"
        },
        "id": "U8TsWUl7igRB",
        "outputId": "fef38b46-31de-412d-cdc5-9d517793cbcf"
      },
      "source": [
        "#First load the lookup tables from the CSV files (you don't need to do this if you just did all the steps from part 1).\n",
        "\n",
        "categories_df = pd.read_csv(\"categories.csv\", index_col=0)\n",
        "cat2idx, idx2cat = make_category_tables()\n",
        "\n",
        "train_offsets_df = pd.read_csv(\"train_offsets.csv\", index_col=0)\n",
        "train_images_df = pd.read_csv(\"train_images.csv\", index_col=0)\n",
        "val_images_df = pd.read_csv(\"val_images.csv\", index_col=0)\n"
      ],
      "execution_count": 11,
      "outputs": [
        {
          "output_type": "stream",
          "name": "stderr",
          "text": [
            "/usr/local/lib/python3.7/dist-packages/numpy/lib/arraysetops.py:580: FutureWarning: elementwise comparison failed; returning scalar instead, but in the future will perform elementwise comparison\n",
            "  mask |= (ar1 == a)\n"
          ]
        }
      ]
    },
    {
      "cell_type": "code",
      "source": [
        "from keras.preprocessing.image import Iterator\n",
        "from keras.preprocessing.image import ImageDataGenerator\n",
        "from keras import backend as K\n",
        "from PIL import Image\n",
        "\n",
        "class BSONIterator(Iterator):\n",
        "    def __init__(self, bson_file, images_df, offsets_df, num_class,\n",
        "                 image_data_generator, lock, target_size=(180, 180), \n",
        "                 with_labels=True, batch_size=32, shuffle=False, seed=None):\n",
        "\n",
        "        self.file = bson_file\n",
        "        self.images_df = images_df\n",
        "        self.offsets_df = offsets_df\n",
        "        self.with_labels = with_labels\n",
        "        self.samples = len(images_df)\n",
        "        self.num_class = num_class\n",
        "        self.image_data_generator = image_data_generator\n",
        "        self.target_size = tuple(target_size)\n",
        "        self.image_shape = self.target_size + (3,)\n",
        "\n",
        "        print(\"Found %d images belonging to %d classes.\" % (self.samples, self.num_class))\n",
        "\n",
        "        super(BSONIterator, self).__init__(self.samples, batch_size, shuffle, seed)\n",
        "        self.lock = lock\n",
        "\n",
        "    def _get_batches_of_transformed_samples(self, index_array):\n",
        "        batch_x = np.zeros((len(index_array),) + self.image_shape, dtype=K.floatx())\n",
        "        if self.with_labels:\n",
        "            batch_y = np.zeros((len(batch_x), self.num_class), dtype=K.floatx())\n",
        "\n",
        "        for i, j in enumerate(index_array):\n",
        "            # Protect file and dataframe access with a lock.\n",
        "            with self.lock:\n",
        "                image_row = self.images_df.iloc[j]\n",
        "                product_id = image_row[\"product_id\"]\n",
        "                offset_row = self.offsets_df.loc[product_id]\n",
        "\n",
        "                # Read this product's data from the BSON file.\n",
        "                self.file.seek(offset_row[\"offset\"])\n",
        "                item_data = self.file.read(offset_row[\"length\"])\n",
        "\n",
        "            # Grab the image from the product.\n",
        "            item = bson.BSON.decode(item_data)\n",
        "            img_idx = image_row[\"img_idx\"]\n",
        "            bson_img = item[\"imgs\"][img_idx][\"picture\"]\n",
        "\n",
        "            # Load the image.\n",
        "            #img = load_img(io.BytesIO(bson_img), target_size=self.target_size)\n",
        "            #print(type(bson_img))\n",
        "            #img  = load_img(bson_img, target_size =self.target_size)\n",
        "            # Converting Keras Preprocessing Image load to Pillow Based loading\n",
        "            # After loading convert to RGB optional as PIL loads in default RGGB\n",
        "            # And resize is a necessary operation - to self.target_size\n",
        "            \n",
        "            img = Image.open(io.BytesIO(bson_img))\n",
        "            img = img.convert('RGB')\n",
        "            img = img.resize(self.target_size, Image.NEAREST)\n",
        "            # Preprocess the image.\n",
        "            x = img_to_array(img)\n",
        "            x = self.image_data_generator.random_transform(x)\n",
        "            x = self.image_data_generator.standardize(x)\n",
        "\n",
        "            # Add the image and the label to the batch (one-hot encoded).\n",
        "            batch_x[i] = x\n",
        "            if self.with_labels:\n",
        "                batch_y[i, image_row[\"category_idx\"]] = 1\n",
        "\n",
        "        if self.with_labels:\n",
        "            return batch_x, batch_y\n",
        "        else:\n",
        "            return batch_x\n",
        "\n",
        "    def next(self):\n",
        "        with self.lock:\n",
        "            index_array = next(self.index_generator)\n",
        "        return self._get_batches_of_transformed_samples(index_array)"
      ],
      "metadata": {
        "id": "kyvrVR_4gsw9"
      },
      "execution_count": 12,
      "outputs": []
    },
    {
      "cell_type": "code",
      "source": [
        "train_bson_file = open(train_bson_path, \"rb\")"
      ],
      "metadata": {
        "id": "fPloGSFwgwKu"
      },
      "execution_count": 13,
      "outputs": []
    },
    {
      "cell_type": "markdown",
      "source": [
        "#Create a generator for training and a generator for validation."
      ],
      "metadata": {
        "id": "CCXpWrCvg23K"
      }
    },
    {
      "cell_type": "code",
      "source": [
        "#Because the training and validation generators read from the same BSON file, they need to use the same lock to protect it.\n",
        "import threading\n",
        "lock = threading.Lock()"
      ],
      "metadata": {
        "id": "Pce1ryXpg-Pi"
      },
      "execution_count": 14,
      "outputs": []
    },
    {
      "cell_type": "code",
      "source": [
        "num_classes = 5270\n",
        "num_train_images = len(train_images_df)\n",
        "num_val_images = len(val_images_df)\n",
        "batch_size = 128\n",
        "\n",
        "# Tip: use ImageDataGenerator for data augmentation and preprocessing.\n",
        "train_datagen = ImageDataGenerator()\n",
        "train_gen = BSONIterator(train_bson_file, train_images_df, train_offsets_df, \n",
        "                         num_classes, train_datagen, lock,\n",
        "                         batch_size=batch_size, shuffle=True)\n",
        "\n",
        "val_datagen = ImageDataGenerator()\n",
        "val_gen = BSONIterator(train_bson_file, val_images_df, train_offsets_df,\n",
        "                       num_classes, val_datagen, lock,\n",
        "                       batch_size=batch_size, shuffle=True)"
      ],
      "metadata": {
        "colab": {
          "base_uri": "https://localhost:8080/"
        },
        "id": "VjAHcuGRg0mu",
        "outputId": "5fc7570a-d68f-461a-fc36-d0a192e98f01"
      },
      "execution_count": 15,
      "outputs": [
        {
          "output_type": "stream",
          "name": "stdout",
          "text": [
            "Found 989921 images belonging to 5270 classes.\n",
            "Found 242366 images belonging to 5270 classes.\n"
          ]
        }
      ]
    },
    {
      "cell_type": "code",
      "source": [
        "next(train_gen)  # warm-up\n",
        "\n",
        "%time bx, by = next(train_gen)"
      ],
      "metadata": {
        "colab": {
          "base_uri": "https://localhost:8080/"
        },
        "id": "2MlDyePshKlh",
        "outputId": "6e60efc0-c1c0-4cb3-f388-daeca9736e92"
      },
      "execution_count": 21,
      "outputs": [
        {
          "output_type": "stream",
          "name": "stdout",
          "text": [
            "CPU times: user 861 ms, sys: 111 ms, total: 971 ms\n",
            "Wall time: 2min 29s\n"
          ]
        }
      ]
    },
    {
      "cell_type": "code",
      "source": [
        "plt.imshow(bx[-1].astype(np.uint8))"
      ],
      "metadata": {
        "id": "V_0cRKzdoE2g",
        "colab": {
          "base_uri": "https://localhost:8080/",
          "height": 286
        },
        "outputId": "cfddb827-38dc-4099-8d62-af29ecb86797"
      },
      "execution_count": 22,
      "outputs": [
        {
          "output_type": "execute_result",
          "data": {
            "text/plain": [
              "<matplotlib.image.AxesImage at 0x7f03a0308610>"
            ]
          },
          "metadata": {},
          "execution_count": 22
        },
        {
          "output_type": "display_data",
          "data": {
            "image/png": "[encoded data removed]",
            "text/plain": [
              "<Figure size 432x288 with 1 Axes>"
            ]
          },
          "metadata": {
            "needs_background": "light"
          }
        }
      ]
    },
    {
      "cell_type": "code",
      "source": [
        "cat_idx = np.argmax(by[-1])\n",
        "cat_id = idx2cat[cat_idx]\n",
        "print(categories_df.loc[cat_id])\n",
        "\n",
        "bx, by = next(val_gen)\n",
        "\n",
        "plt.imshow(bx[-1].astype(np.uint8))\n",
        "\n",
        "cat_idx = np.argmax(by[-1])\n",
        "cat_id = idx2cat[cat_idx]\n",
        "print(categories_df.loc[cat_id])"
      ],
      "metadata": {
        "id": "ZO0-HFplJBkF",
        "outputId": "45d05aae-cb5e-4a1b-88a0-37379b2dea3f",
        "colab": {
          "base_uri": "https://localhost:8080/",
          "height": 443
        }
      },
      "execution_count": 23,
      "outputs": [
        {
          "output_type": "stream",
          "name": "stdout",
          "text": [
            "category_level1                            INFORMATIQUE\n",
            "category_level2              CONNECTIQUE - ALIMENTATION\n",
            "category_level3    BATTERIE D'ALIMENTATION INFORMATIQUE\n",
            "category_idx                                       2522\n",
            "Name: 1000004085, dtype: object\n",
            "category_level1              LIBRAIRIE\n",
            "category_level2               MEDECINE\n",
            "category_level3    OUVRAGE PATHOLOGIE \n",
            "category_idx                      3353\n",
            "Name: 1000014233, dtype: object\n"
          ]
        },
        {
          "output_type": "display_data",
          "data": {
            "image/png": "[encoded data removed]",
            "text/plain": [
              "<Figure size 432x288 with 1 Axes>"
            ]
          },
          "metadata": {
            "needs_background": "light"
          }
        }
      ]
    },
    {
      "cell_type": "code",
      "source": [
        "#Importing packages\n",
        "import tensorflow as tf\n",
        "from tensorflow.keras import layers\n",
        "from tensorflow.keras.models import Sequential\n",
        "from tensorflow.keras.layers import Dense, Conv2D, Flatten, Dropout, MaxPooling2D,BatchNormalization,Dense, GlobalAveragePooling2D\n",
        "from tensorflow.keras.layers.experimental import preprocessing"
      ],
      "metadata": {
        "id": "LOU3xDFMLd_m"
      },
      "execution_count": 17,
      "outputs": []
    },
    {
      "cell_type": "code",
      "source": [
        "# Get helper_functions.py script from course GitHub\n",
        "!wget https://raw.githubusercontent.com/sarthakkaushik/Cdiscount-Image-Classification/main/helper.py\n",
        "\n",
        "# Import helper functions we're going to use\n",
        "from helper import create_tensorboard_callback, plot_loss_curves, unzip_data, walk_through_dir"
      ],
      "metadata": {
        "colab": {
          "base_uri": "https://localhost:8080/"
        },
        "id": "3Wv3B04Rpygp",
        "outputId": "97ddb1aa-09f3-4573-9b91-a3cb01e5b2a1"
      },
      "execution_count": 18,
      "outputs": [
        {
          "output_type": "stream",
          "name": "stdout",
          "text": [
            "--2022-01-12 00:48:03--  https://raw.githubusercontent.com/sarthakkaushik/Cdiscount-Image-Classification/main/helper.py\n",
            "Resolving raw.githubusercontent.com (raw.githubusercontent.com)... 185.199.111.133, 185.199.109.133, 185.199.108.133, ...\n",
            "Connecting to raw.githubusercontent.com (raw.githubusercontent.com)|185.199.111.133|:443... connected.\n",
            "HTTP request sent, awaiting response... 200 OK\n",
            "Length: 10510 (10K) [text/plain]\n",
            "Saving to: ‘helper.py.4’\n",
            "\n",
            "helper.py.4         100%[===================>]  10.26K  --.-KB/s    in 0.001s  \n",
            "\n",
            "2022-01-12 00:48:28 (7.47 MB/s) - ‘helper.py.4’ saved [10510/10510]\n",
            "\n"
          ]
        }
      ]
    },
    {
      "cell_type": "markdown",
      "source": [
        "#Model-1-Xception"
      ],
      "metadata": {
        "id": "Jf2q4zXqCqaS"
      }
    },
    {
      "cell_type": "code",
      "source": [
        "#Define callbacks\n",
        "\n",
        "import datetime\n",
        "\n",
        "\n",
        "dir_name = '/gdrive/MyDrive/UOH Assignment Dataset/cdiscount/Tensorboard'\n",
        "def create_tensorboard_callback(experiment_name):\n",
        "  log_dir = dir_name + \"/\" + experiment_name + \"/\" + datetime.datetime.now().strftime(\"%Y%m%d-%H%M%S\")\n",
        "  tensorboard_callback = tf.keras.callbacks.TensorBoard(\n",
        "      log_dir=log_dir\n",
        "  )\n",
        "  print(f\"Saving TensorBoard log files to: {log_dir}\")\n",
        "  return tensorboard_callback\n",
        "\n",
        "# Setup checkpoint path\n",
        "checkpoint_path = '/gdrive/MyDrive/UOH Assignment Dataset/cdiscount/CheckPoints/Xception/checkpoint.ckpt' # note: remember saving directly to Colab is temporary\n",
        "\n",
        "# Create a ModelCheckpoint callback that saves the model's weights only\n",
        "checkpoint_callback = tf.keras.callbacks.ModelCheckpoint(filepath=checkpoint_path,\n",
        "                                                         save_weights_only=True, # set to False to save the entire model\n",
        "                                                         save_best_only=False, # set to True to save only the best model instead of a model every epoch \n",
        "                                                         save_freq=\"epoch\", # save every epoch\n",
        "                                                         verbose=1)\n",
        "\n",
        "\n",
        "\n",
        "###------------------------Base Model----------------------------------###\n",
        "\n",
        "base_model_XCP=tf.keras.applications.xception.Xception(include_top=False)\n",
        "base_model_XCP.trainable =False\n",
        "\n",
        "#Setup Model architecture\n",
        "\n",
        "inputs= layers.Input(shape=(180,180,3), name=\"input_layers\")\n",
        "x=base_model_XCP(inputs,training=False)\n",
        "x=layers.GlobalAveragePooling2D(name=\"GlobalAveragePooling2D_layers\")(x)\n",
        "outputs=layers.Dense(num_classes, activation=\"softmax\", name=\"output_layers\")(x)\n",
        "model_1=tf.keras.Model(inputs,outputs)\n",
        "\n",
        "\n",
        "\n",
        "\n",
        "\n",
        "\n",
        "#Getting the summary of the model we created\n",
        "model_1.summary()\n",
        "\n",
        "\n",
        "#Defining f1 score\n",
        "\n",
        "from keras import backend as K\n",
        "\n",
        "def recall_m(y_true, y_pred):\n",
        "    true_positives = K.sum(K.round(K.clip(y_true * y_pred, 0, 1)))\n",
        "    possible_positives = K.sum(K.round(K.clip(y_true, 0, 1)))\n",
        "    recall = true_positives / (possible_positives + K.epsilon())\n",
        "    return recall\n",
        "\n",
        "def precision_m(y_true, y_pred):\n",
        "    true_positives = K.sum(K.round(K.clip(y_true * y_pred, 0, 1)))\n",
        "    predicted_positives = K.sum(K.round(K.clip(y_pred, 0, 1)))\n",
        "    precision = true_positives / (predicted_positives + K.epsilon())\n",
        "    return precision\n",
        "\n",
        "def f1_m(y_true, y_pred):\n",
        "    precision = precision_m(y_true, y_pred)\n",
        "    recall = recall_m(y_true, y_pred)\n",
        "    return 2*((precision*recall)/(precision+recall+K.epsilon()))\n",
        "\n",
        "\n",
        "\n",
        "\n",
        "\n",
        "#Compile the model\n",
        "model_1.compile(loss='categorical_crossentropy',\n",
        "              optimizer=\"adam\",\n",
        "              metrics=['accuracy',f1_m])\n",
        "\n",
        "#Fit the model\n",
        "\n",
        "history_1=model_1.fit(\n",
        "    train_gen,\n",
        "    # steps_per_epoch=np.ceil(float(num_train_images) // float(batch_size)),   #num_train_images // batch_size,\n",
        "    epochs = 3,\n",
        "    validation_data = val_gen,\n",
        "    # validation_steps=np.ceil(0.25*(float(num_train_images) // float(batch_size))),  #25% of #num_val_images // batch_size,\n",
        "    callbacks=[checkpoint_callback,create_tensorboard_callback(\"TranferLearning_XceptionNet\")],    \n",
        "    verbose=2                \n",
        "    # workers = 4\n",
        "    )"
      ],
      "metadata": {
        "id": "905TNFmt1XQA",
        "colab": {
          "base_uri": "https://localhost:8080/"
        },
        "outputId": "a37662cb-1f6f-4b4c-f9ee-f3b04f5b5ae0"
      },
      "execution_count": null,
      "outputs": [
        {
          "output_type": "stream",
          "name": "stdout",
          "text": [
            "Downloading data from https://storage.googleapis.com/tensorflow/keras-applications/xception/xception_weights_tf_dim_ordering_tf_kernels_notop.h5\n",
            "83689472/83683744 [==============================] - 1s 0us/step\n",
            "83697664/83683744 [==============================] - 1s 0us/step\n",
            "Model: \"model\"\n",
            "_________________________________________________________________\n",
            " Layer (type)                Output Shape              Param #   \n",
            "=================================================================\n",
            " input_layers (InputLayer)   [(None, 180, 180, 3)]     0         \n",
            "                                                                 \n",
            " xception (Functional)       (None, None, None, 2048)  20861480  \n",
            "                                                                 \n",
            " GlobalAveragePooling2D_laye  (None, 2048)             0         \n",
            " rs (GlobalAveragePooling2D)                                     \n",
            "                                                                 \n",
            " output_layers (Dense)       (None, 5270)              10798230  \n",
            "                                                                 \n",
            "=================================================================\n",
            "Total params: 31,659,710\n",
            "Trainable params: 10,798,230\n",
            "Non-trainable params: 20,861,480\n",
            "_________________________________________________________________\n",
            "Saving TensorBoard log files to: /gdrive/MyDrive/UOH Assignment Dataset/cdiscount/Tensorboard/TranferLearning_XceptionNet/20220111-173608\n"
          ]
        },
        {
          "output_type": "stream",
          "name": "stderr",
          "text": [
            "/usr/local/lib/python3.7/dist-packages/keras/engine/functional.py:1410: CustomMaskWarning: Custom mask layers require a config and must override get_config. When loading, the custom mask layer must be passed to the custom_objects argument.\n",
            "  layer_config = serialize_layer_fn(layer)\n"
          ]
        },
        {
          "output_type": "stream",
          "name": "stdout",
          "text": [
            "Epoch 1/3\n",
            "\n",
            "Epoch 00001: saving model to /gdrive/MyDrive/UOH Assignment Dataset/cdiscount/CheckPoints/Xception/checkpoint.ckpt\n",
            "7734/7734 - 4981s - loss: 40.7634 - accuracy: 0.1212 - f1_m: 0.1299 - val_loss: 35.1418 - val_accuracy: 0.1455 - val_f1_m: 0.1554 - 4981s/epoch - 644ms/step\n",
            "Epoch 2/3\n",
            "\n",
            "Epoch 00002: saving model to /gdrive/MyDrive/UOH Assignment Dataset/cdiscount/CheckPoints/Xception/checkpoint.ckpt\n",
            "7734/7734 - 4039s - loss: 37.3173 - accuracy: 0.1593 - f1_m: 0.1699 - val_loss: 36.2342 - val_accuracy: 0.1658 - val_f1_m: 0.1750 - 4039s/epoch - 522ms/step\n",
            "Epoch 3/3\n"
          ]
        }
      ]
    },
    {
      "cell_type": "code",
      "source": [
        "# evaluate the model\n",
        "loss, accuracy, f1_score = model_2.evaluate(val_gen, verbose=0)\n",
        "loss, accuracy, f1_score"
      ],
      "metadata": {
        "id": "5KPH7FI-5rp4",
        "outputId": "fbcfce00-50aa-410c-efff-f9d51a3e2353",
        "colab": {
          "base_uri": "https://localhost:8080/"
        }
      },
      "execution_count": 47,
      "outputs": [
        {
          "output_type": "stream",
          "name": "stdout",
          "text": [
            "Model: \"model\"\n",
            "_________________________________________________________________\n",
            " Layer (type)                Output Shape              Param #   \n",
            "=================================================================\n",
            " input_layers (InputLayer)   [(None, 180, 180, 3)]     0         \n",
            "                                                                 \n",
            " efficientnetb7 (Functional)  (None, None, None, 2560)  64097687 \n",
            "                                                                 \n",
            " GlobalAveragePooling2D_laye  (None, 2560)             0         \n",
            " rs (GlobalAveragePooling2D)                                     \n",
            "                                                                 \n",
            " output_layers (Dense)       (None, 5270)              13496470  \n",
            "                                                                 \n",
            "=================================================================\n",
            "Total params: 77,594,157\n",
            "Trainable params: 13,496,470\n",
            "Non-trainable params: 64,097,687\n",
            "_________________________________________________________________\n"
          ]
        }
      ]
    },
    {
      "cell_type": "code",
      "source": [
        ""
      ],
      "metadata": {
        "id": "nfDGjs3n6Drl",
        "outputId": "6bd5d870-ab33-42f0-aa79-ca4bafd1a13d",
        "colab": {
          "base_uri": "https://localhost:8080/"
        }
      },
      "execution_count": null,
      "outputs": [
        {
          "output_type": "stream",
          "name": "stdout",
          "text": [
            "Epoch 1/3\n",
            "10/10 [==============================] - 628s 19s/step - loss: 8.2958 - accuracy: 0.0258 - val_loss: 7.9056 - val_accuracy: 0.0758\n",
            "Epoch 2/3\n",
            "10/10 [==============================] - 70s 4s/step - loss: 7.5471 - accuracy: 0.1156 - val_loss: 7.1722 - val_accuracy: 0.1211\n",
            "Epoch 3/3\n",
            "10/10 [==============================] - 51s 4s/step - loss: 6.9738 - accuracy: 0.1375 - val_loss: 6.7788 - val_accuracy: 0.1500\n"
          ]
        },
        {
          "output_type": "execute_result",
          "data": {
            "text/plain": [
              "<keras.callbacks.History at 0x7f8bc8f2e550>"
            ]
          },
          "metadata": {},
          "execution_count": 22
        }
      ]
    },
    {
      "cell_type": "markdown",
      "source": [
        "#Model-2"
      ],
      "metadata": {
        "id": "JZo2xEBOCmsq"
      }
    },
    {
      "cell_type": "code",
      "source": [
        "###------------------------Model-2----------------------------------###\n",
        "checkpoint_path = '/gdrive/MyDrive/UOH Assignment Dataset/cdiscount/CheckPoints/checkpoint_ResNet50.ckpt'\n",
        "\n",
        "\n",
        "tf.keras.applications.resnet50.ResNet50(\n",
        "    include_top=False)\n",
        "\n",
        "base_model_res20=tf.keras.applications.resnet50.ResNet50(include_top=False)\n",
        "base_model_res20.trainable =False\n",
        "\n",
        "#Setup Model architecture\n",
        "\n",
        "inputs= layers.Input(shape=(180,180,3), name=\"input_layers\")\n",
        "x=base_model_res20(inputs,training=False)\n",
        "x=layers.GlobalAveragePooling2D(name=\"GlobalAveragePooling2D_layers\")(x)\n",
        "outputs=layers.Dense(num_classes, activation=\"softmax\", name=\"output_layers\")(x)\n",
        "model_2=tf.keras.Model(inputs,outputs)\n"
      ],
      "metadata": {
        "id": "yBX55G0c_dNE"
      },
      "execution_count": 40,
      "outputs": []
    },
    {
      "cell_type": "code",
      "source": [
        "#Getting the summary of the model we created\n",
        "model_2.summary()"
      ],
      "metadata": {
        "id": "ZygA_pC7_03C",
        "outputId": "0ab90543-d309-40c2-de02-d0bc9810e6e5",
        "colab": {
          "base_uri": "https://localhost:8080/"
        }
      },
      "execution_count": 41,
      "outputs": [
        {
          "output_type": "stream",
          "name": "stdout",
          "text": [
            "Model: \"model_2\"\n",
            "_________________________________________________________________\n",
            " Layer (type)                Output Shape              Param #   \n",
            "=================================================================\n",
            " input_layers (InputLayer)   [(None, 180, 180, 3)]     0         \n",
            "                                                                 \n",
            " resnet50 (Functional)       (None, None, None, 2048)  23587712  \n",
            "                                                                 \n",
            " GlobalAveragePooling2D_laye  (None, 2048)             0         \n",
            " rs (GlobalAveragePooling2D)                                     \n",
            "                                                                 \n",
            " output_layers (Dense)       (None, 5270)              10798230  \n",
            "                                                                 \n",
            "=================================================================\n",
            "Total params: 34,385,942\n",
            "Trainable params: 10,798,230\n",
            "Non-trainable params: 23,587,712\n",
            "_________________________________________________________________\n"
          ]
        }
      ]
    },
    {
      "cell_type": "code",
      "source": [
        "#Compile the model\n",
        "model_2.compile(loss='categorical_crossentropy',\n",
        "              optimizer=\"adam\",\n",
        "              metrics=['accuracy'])\n",
        "\n",
        "#Fit the model\n",
        "\n",
        "history_2=model_2.fit(\n",
        "    train_gen,\n",
        "    steps_per_epoch=np.ceil(float(num_train_images) // float(batch_size)),   #num_train_images // batch_size,\n",
        "    epochs = 3,\n",
        "    validation_data = val_gen,\n",
        "    validation_steps=np.ceil(0.25*(float(num_train_images) // float(batch_size))),  #25% of #num_val_images // batch_size,\n",
        "    callbacks=[checkpoint_callback,create_tensorboard_callback(\"TranferLearning_ResNet50\")],    \n",
        "    verbose=2                \n",
        "    # workers = 4\n",
        "    )"
      ],
      "metadata": {
        "id": "ImGGm5vRACCQ",
        "outputId": "5aa63259-de60-4074-9d93-13fed92b3dc1",
        "colab": {
          "base_uri": "https://localhost:8080/"
        }
      },
      "execution_count": 43,
      "outputs": [
        {
          "output_type": "stream",
          "name": "stdout",
          "text": [
            "Saving TensorBoard log files to: /gdrive/MyDrive/UOH Assignment Dataset/cdiscount/Tensorboard/TranferLearning_ResNet50/20220111-133822\n"
          ]
        },
        {
          "output_type": "stream",
          "name": "stderr",
          "text": [
            "/usr/local/lib/python3.7/dist-packages/keras/engine/functional.py:1410: CustomMaskWarning: Custom mask layers require a config and must override get_config. When loading, the custom mask layer must be passed to the custom_objects argument.\n",
            "  layer_config = serialize_layer_fn(layer)\n"
          ]
        },
        {
          "output_type": "stream",
          "name": "stdout",
          "text": [
            "Epoch 1/3\n",
            "WARNING:tensorflow:Your input ran out of data; interrupting training. Make sure that your dataset or generator can generate at least `steps_per_epoch * epochs` batches (in this case, 1934.0 batches). You may need to use the repeat() function when building your dataset.\n",
            "\n",
            "Epoch 00001: saving model to /gdrive/MyDrive/UOH Assignment Dataset/cdiscount/CheckPoints/checkpoint.ckpt\n",
            "7733/7733 - 3931s - loss: 4.0268 - accuracy: 0.3882 - val_loss: 3.8485 - val_accuracy: 0.4231 - 3931s/epoch - 508ms/step\n",
            "Epoch 2/3\n",
            "\n",
            "Epoch 00002: saving model to /gdrive/MyDrive/UOH Assignment Dataset/cdiscount/CheckPoints/checkpoint.ckpt\n",
            "7733/7733 - 3261s - loss: 2.9469 - accuracy: 0.4755 - 3261s/epoch - 422ms/step\n",
            "Epoch 3/3\n",
            "\n",
            "Epoch 00003: saving model to /gdrive/MyDrive/UOH Assignment Dataset/cdiscount/CheckPoints/checkpoint.ckpt\n",
            "7733/7733 - 3222s - loss: 2.5416 - accuracy: 0.5175 - 3222s/epoch - 417ms/step\n"
          ]
        }
      ]
    },
    {
      "cell_type": "code",
      "source": [
        "# Evaluate on the test data\n",
        "results_histor_2 = model_2.evaluate(val_gen)\n",
        "results_histor_2"
      ],
      "metadata": {
        "colab": {
          "base_uri": "https://localhost:8080/"
        },
        "id": "3oe-FUh6_n_E",
        "outputId": "42beaf1d-71e8-4186-92ad-68be444b2355"
      },
      "execution_count": 46,
      "outputs": [
        {
          "output_type": "stream",
          "name": "stdout",
          "text": [
            "1894/1894 [==============================] - 679s 359ms/step - loss: 4.0856 - accuracy: 0.4414\n"
          ]
        },
        {
          "output_type": "execute_result",
          "data": {
            "text/plain": [
              "[4.085598945617676, 0.4413779079914093]"
            ]
          },
          "metadata": {},
          "execution_count": 46
        }
      ]
    },
    {
      "cell_type": "markdown",
      "source": [
        "#Model-3"
      ],
      "metadata": {
        "id": "n6l3MUe1BfnI"
      }
    },
    {
      "cell_type": "code",
      "source": [
        "#Define callbacks\n",
        "\n",
        "import datetime\n",
        "\n",
        "\n",
        "dir_name = '/gdrive/MyDrive/UOH Assignment Dataset/cdiscount/Tensorboard'\n",
        "def create_tensorboard_callback(experiment_name):\n",
        "  log_dir = dir_name + \"/\" + experiment_name + \"/\" + datetime.datetime.now().strftime(\"%Y%m%d-%H%M%S\")\n",
        "  tensorboard_callback = tf.keras.callbacks.TensorBoard(\n",
        "      log_dir=log_dir\n",
        "  )\n",
        "  print(f\"Saving TensorBoard log files to: {log_dir}\")\n",
        "  return tensorboard_callback\n",
        "\n",
        "# Setup checkpoint path\n",
        "checkpoint_path = '/gdrive/MyDrive/UOH Assignment Dataset/cdiscount/CheckPoints/EfficientNet/checkpoint.ckpt' # note: remember saving directly to Colab is temporary\n",
        "\n",
        "# Create a ModelCheckpoint callback that saves the model's weights only\n",
        "checkpoint_callback = tf.keras.callbacks.ModelCheckpoint(filepath=checkpoint_path,\n",
        "                                                         save_weights_only=True, # set to False to save the entire model\n",
        "                                                         save_best_only=False, # set to True to save only the best model instead of a model every epoch \n",
        "                                                         save_freq=\"epoch\", # save every epoch\n",
        "                                                         verbose=1)\n",
        "\n",
        "\n",
        "\n",
        "\n",
        "###------------------------Base Model----------------------------------\n",
        "\n",
        "base_model=tf.keras.applications.EfficientNetB7(include_top=False)\n",
        "base_model.trainable =False\n",
        "\n",
        "#Setup Model architecture\n",
        "\n",
        "inputs= layers.Input(shape=(180,180,3), name=\"input_layers\")\n",
        "x=base_model(inputs,training=False)\n",
        "print(f\"Shape after base_model: {x.shape}\")\n",
        "x=layers.GlobalAveragePooling2D(name=\"GlobalAveragePooling2D_layers\")(x)\n",
        "print(f\"After GlobalAveragePooling2D(): {x.shape}\")\n",
        "outputs=layers.Dense(num_classes, activation=\"softmax\", name=\"output_layers\")(x)\n",
        "model=tf.keras.Model(inputs,outputs)\n",
        "\n",
        "\n",
        "#Getting the summary of the model we created\n",
        "model.summary()\n",
        "\n",
        "#Compile the model\n",
        "model.compile(loss='categorical_crossentropy',\n",
        "              optimizer=\"adam\",\n",
        "              metrics=['accuracy'])\n",
        "\n",
        "#Fit the model\n",
        "\n",
        "history_3=model.fit(\n",
        "    train_gen,\n",
        "    # steps_per_epoch=np.ceil(float(num_train_images) // float(batch_size)),   #num_train_images // batch_size,\n",
        "    epochs = 3,\n",
        "    validation_data = val_gen,\n",
        "    # validation_steps=np.ceil(0.25*(float(num_train_images) // float(batch_size))),  #25% of #num_val_images // batch_size,\n",
        "    callbacks=[checkpoint_callback,create_tensorboard_callback(\"TranferLearning_EfficientNetB7\")],    \n",
        "    verbose=2                \n",
        "    # workers = 4\n",
        "    )\n",
        "\n",
        "\n"
      ],
      "metadata": {
        "id": "NnxXM3UwBhBj",
        "outputId": "9ffb5335-7107-4543-f920-05b723a9b87c",
        "colab": {
          "base_uri": "https://localhost:8080/"
        }
      },
      "execution_count": null,
      "outputs": [
        {
          "output_type": "stream",
          "name": "stdout",
          "text": [
            "Shape after base_model: (None, 5, 5, 2560)\n",
            "After GlobalAveragePooling2D(): (None, 2560)\n",
            "Model: \"model\"\n",
            "_________________________________________________________________\n",
            " Layer (type)                Output Shape              Param #   \n",
            "=================================================================\n",
            " input_layers (InputLayer)   [(None, 180, 180, 3)]     0         \n",
            "                                                                 \n",
            " efficientnetb7 (Functional)  (None, None, None, 2560)  64097687 \n",
            "                                                                 \n",
            " GlobalAveragePooling2D_laye  (None, 2560)             0         \n",
            " rs (GlobalAveragePooling2D)                                     \n",
            "                                                                 \n",
            " output_layers (Dense)       (None, 5270)              13496470  \n",
            "                                                                 \n",
            "=================================================================\n",
            "Total params: 77,594,157\n",
            "Trainable params: 13,496,470\n",
            "Non-trainable params: 64,097,687\n",
            "_________________________________________________________________\n",
            "Saving TensorBoard log files to: /gdrive/MyDrive/UOH Assignment Dataset/cdiscount/Tensorboard/TranferLearning_EfficientNetB7/20220112-004846\n"
          ]
        },
        {
          "output_type": "stream",
          "name": "stderr",
          "text": [
            "/usr/local/lib/python3.7/dist-packages/keras/engine/functional.py:1410: CustomMaskWarning: Custom mask layers require a config and must override get_config. When loading, the custom mask layer must be passed to the custom_objects argument.\n",
            "  layer_config = serialize_layer_fn(layer)\n"
          ]
        },
        {
          "output_type": "stream",
          "name": "stdout",
          "text": [
            "Epoch 1/3\n",
            "\n",
            "Epoch 00001: saving model to /gdrive/MyDrive/UOH Assignment Dataset/cdiscount/CheckPoints/EfficientNet/checkpoint.ckpt\n",
            "7734/7734 - 5758s - loss: 3.3011 - accuracy: 0.4234 - val_loss: 3.0107 - val_accuracy: 0.4606 - 5758s/epoch - 744ms/step\n",
            "Epoch 2/3\n",
            "\n",
            "Epoch 00002: saving model to /gdrive/MyDrive/UOH Assignment Dataset/cdiscount/CheckPoints/EfficientNet/checkpoint.ckpt\n",
            "7734/7734 - 4831s - loss: 2.4507 - accuracy: 0.5101 - val_loss: 2.9550 - val_accuracy: 0.4768 - 4831s/epoch - 625ms/step\n",
            "Epoch 3/3\n"
          ]
        }
      ]
    },
    {
      "cell_type": "code",
      "source": [
        "# Evaluate on the test data\n",
        "results_histor_3 = model.evaluate(val_gen)\n",
        "results_histor_3"
      ],
      "metadata": {
        "id": "lhvTghCrqkSX"
      },
      "execution_count": null,
      "outputs": []
    },
    {
      "cell_type": "code",
      "source": [
        "results_histor_3"
      ],
      "metadata": {
        "colab": {
          "base_uri": "https://localhost:8080/"
        },
        "id": "B5YagPWIUi-p",
        "outputId": "6d10377d-2bfd-4d02-df7d-66c32281da09"
      },
      "execution_count": 30,
      "outputs": [
        {
          "output_type": "execute_result",
          "data": {
            "text/plain": [
              "[3.015165328979492, 0.496476411819458]"
            ]
          },
          "metadata": {},
          "execution_count": 30
        }
      ]
    },
    {
      "cell_type": "code",
      "source": [
        "# Plot model loss curves\n",
        "plot_loss_curves(history_3)"
      ],
      "metadata": {
        "id": "Emog67iEqYF6"
      },
      "execution_count": null,
      "outputs": []
    },
    {
      "cell_type": "markdown",
      "source": [
        "#Model3- FIne Tuning "
      ],
      "metadata": {
        "id": "9eVYH43YiU6Z"
      }
    },
    {
      "cell_type": "code",
      "source": [
        "# Load in saved model weights and evaluate model\n",
        "model.load_weights(checkpoint_path)\n",
        "loaded_weights_model_results = model_2.evaluate(test_data)"
      ],
      "metadata": {
        "id": "pjYaqHm_iXid"
      },
      "execution_count": null,
      "outputs": []
    },
    {
      "cell_type": "code",
      "source": [
        "# Layers in loaded model\n",
        "model.layers"
      ],
      "metadata": {
        "id": "dZ_kpnn_itCI"
      },
      "execution_count": null,
      "outputs": []
    },
    {
      "cell_type": "code",
      "source": [
        "for layer in model.layers:\n",
        "  print(layer.trainable)"
      ],
      "metadata": {
        "id": "P5U3wjDHivzE"
      },
      "execution_count": null,
      "outputs": []
    },
    {
      "cell_type": "code",
      "source": [
        "model.summary()"
      ],
      "metadata": {
        "id": "mMT_vfjqiyOV"
      },
      "execution_count": null,
      "outputs": []
    },
    {
      "cell_type": "code",
      "source": [
        "# How many layers are trainable in our base model?\n",
        "print(len(model.layers[2].trainable_variables)) # layer at index 2 is the EfficientNetB0 layer (the base model)\n",
        "print(len(base_model.trainable_variables))"
      ],
      "metadata": {
        "id": "U-CfywYfi1Qw"
      },
      "execution_count": null,
      "outputs": []
    },
    {
      "cell_type": "code",
      "source": [
        "# Check which layers are tuneable (trainable)\n",
        "for layer_number, layer in enumerate(base_model.layers):\n",
        "  print(layer_number, layer.name, layer.trainable)"
      ],
      "metadata": {
        "id": "iRHaCe4wjBJ_"
      },
      "execution_count": null,
      "outputs": []
    },
    {
      "cell_type": "code",
      "source": [
        "base_model.trainable = True\n",
        "\n",
        "# Freeze all layers except for the last 10\n",
        "for layer in base_model.layers[:-10]:\n",
        "  layer.trainable = False\n",
        "\n",
        "# Recompile the model (always recompile after any adjustments to a model)\n",
        "model.compile(loss=\"categorical_crossentropy\",\n",
        "              optimizer=tf.keras.optimizers.Adam(lr=0.0001), # lr is 10x lower than before for fine-tuning\n",
        "              metrics=[\"accuracy\"])"
      ],
      "metadata": {
        "id": "4PgykqBnjdfB"
      },
      "execution_count": null,
      "outputs": []
    },
    {
      "cell_type": "code",
      "source": [
        "# Check which layers are tuneable (trainable)\n",
        "for layer_number, layer in enumerate(base_model.layers):\n",
        "  print(layer_number, layer.name, layer.trainable)"
      ],
      "metadata": {
        "id": "3j0m3AL2jn83"
      },
      "execution_count": null,
      "outputs": []
    },
    {
      "cell_type": "code",
      "source": [
        "#No of trainable layers\n",
        "print(len(model.trainable_variables))"
      ],
      "metadata": {
        "id": "0Tzd19pwj0gy"
      },
      "execution_count": null,
      "outputs": []
    },
    {
      "cell_type": "code",
      "source": [
        "# Fine tune for another 5 epochs\n",
        "initial_epochs=3\n",
        "fine_tune_epochs = initial_epochs + 3\n",
        "\n",
        "# Refit the model (same as 'model' except with more trainable layers)\n",
        "history_fine_10_model_3 = model.fit(train_gen,\n",
        "                                               epochs=fine_tune_epochs,\n",
        "                                               validation_data=val_gen,\n",
        "                                               initial_epoch=history_3.epoch[-1], # start from previous last epoch\n",
        "                                               \n",
        "                                               callbacks=[checkpoint_callback,create_tensorboard_callback(\"TranferLearning_EfficientNetB7_FineTune_10\")], # name experim\n",
        "                                              verbose=2 \n",
        ")\n",
        "\n",
        "\n",
        "\n"
      ],
      "metadata": {
        "id": "8d9gbLBVj78j"
      },
      "execution_count": null,
      "outputs": []
    },
    {
      "cell_type": "code",
      "source": [
        "def compare_historys(original_history, new_history, initial_epochs=5):\n",
        "    \"\"\"\n",
        "    Compares two model history objects.\n",
        "    \"\"\"\n",
        "    # Get original history measurements\n",
        "    acc = original_history.history[\"accuracy\"]\n",
        "    loss = original_history.history[\"loss\"]\n",
        "\n",
        "    print(len(acc))\n",
        "\n",
        "    val_acc = original_history.history[\"val_accuracy\"]\n",
        "    val_loss = original_history.history[\"val_loss\"]\n",
        "\n",
        "    # Combine original history with new history\n",
        "    total_acc = acc + new_history.history[\"accuracy\"]\n",
        "    total_loss = loss + new_history.history[\"loss\"]\n",
        "\n",
        "    total_val_acc = val_acc + new_history.history[\"val_accuracy\"]\n",
        "    total_val_loss = val_loss + new_history.history[\"val_loss\"]\n",
        "\n",
        "    print(len(total_acc))\n",
        "    print(total_acc)\n",
        "\n",
        "    # Make plots\n",
        "    plt.figure(figsize=(8, 8))\n",
        "    plt.subplot(2, 1, 1)\n",
        "    plt.plot(total_acc, label='Training Accuracy')\n",
        "    plt.plot(total_val_acc, label='Validation Accuracy')\n",
        "    plt.plot([initial_epochs-1, initial_epochs-1],\n",
        "              plt.ylim(), label='Start Fine Tuning') # reshift plot around epochs\n",
        "    plt.legend(loc='lower right')\n",
        "    plt.title('Training and Validation Accuracy')\n",
        "\n",
        "    plt.subplot(2, 1, 2)\n",
        "    plt.plot(total_loss, label='Training Loss')\n",
        "    plt.plot(total_val_loss, label='Validation Loss')\n",
        "    plt.plot([initial_epochs-1, initial_epochs-1],\n",
        "              plt.ylim(), label='Start Fine Tuning') # reshift plot around epochs\n",
        "    plt.legend(loc='upper right')\n",
        "    plt.title('Training and Validation Loss')\n",
        "    plt.xlabel('epoch')\n",
        "    plt.show()"
      ],
      "metadata": {
        "id": "I8BB8KFJnX3P"
      },
      "execution_count": null,
      "outputs": []
    },
    {
      "cell_type": "code",
      "source": [
        "compare_historys(original_history=history_3, \n",
        "                 new_history=history_fine_10_model_3, \n",
        "                 initial_epochs=3)"
      ],
      "metadata": {
        "id": "6ASkS1uUndrQ"
      },
      "execution_count": null,
      "outputs": []
    }
  ]
}